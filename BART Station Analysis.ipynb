{
 "cells": [
  {
   "cell_type": "markdown",
   "id": "23c1a06c-d390-450d-b0f1-07d08075ac2a",
   "metadata": {},
   "source": [
    "## BART Comparative Station Analysis"
   ]
  },
  {
   "cell_type": "code",
   "execution_count": 681,
   "id": "360c280c-f27e-4af3-bb31-85404625e719",
   "metadata": {},
   "outputs": [],
   "source": [
    "import pandas as pd\n",
    "import numpy as np\n",
    "import datetime as dt\n",
    "import plotly.express as px\n",
    "import plotly.graph_objects as go\n",
    "import seaborn as sns\n",
    "import matplotlib\n",
    "import matplotlib.pyplot as plt\n",
    "import os\n",
    "if not os.path.exists(\"images\"): \n",
    "    os.mkdir(\"images\")"
   ]
  },
  {
   "cell_type": "code",
   "execution_count": 682,
   "id": "e482ed4f-6d39-4a13-b7c5-ea325ead9d9a",
   "metadata": {},
   "outputs": [
    {
     "data": {
      "text/html": [
       "<div>\n",
       "<style scoped>\n",
       "    .dataframe tbody tr th:only-of-type {\n",
       "        vertical-align: middle;\n",
       "    }\n",
       "\n",
       "    .dataframe tbody tr th {\n",
       "        vertical-align: top;\n",
       "    }\n",
       "\n",
       "    .dataframe thead th {\n",
       "        text-align: right;\n",
       "    }\n",
       "</style>\n",
       "<table border=\"1\" class=\"dataframe\">\n",
       "  <thead>\n",
       "    <tr style=\"text-align: right;\">\n",
       "      <th></th>\n",
       "      <th>Month Name</th>\n",
       "      <th>Month</th>\n",
       "      <th>Station</th>\n",
       "      <th>2019</th>\n",
       "    </tr>\n",
       "  </thead>\n",
       "  <tbody>\n",
       "    <tr>\n",
       "      <th>0</th>\n",
       "      <td>January</td>\n",
       "      <td>1</td>\n",
       "      <td>CONC</td>\n",
       "      <td>131512</td>\n",
       "    </tr>\n",
       "    <tr>\n",
       "      <th>1</th>\n",
       "      <td>January</td>\n",
       "      <td>1</td>\n",
       "      <td>LAFY</td>\n",
       "      <td>83214</td>\n",
       "    </tr>\n",
       "  </tbody>\n",
       "</table>\n",
       "</div>"
      ],
      "text/plain": [
       "  Month Name  Month Station    2019\n",
       "0    January      1    CONC  131512\n",
       "1    January      1    LAFY   83214"
      ]
     },
     "execution_count": 682,
     "metadata": {},
     "output_type": "execute_result"
    }
   ],
   "source": [
    "#Import 2019 Preprocessing Destination Data. \n",
    "\n",
    "df = pd.read_csv('date-hour-soo-dest-2019.csv')\n",
    "df['Date'] = pd.to_datetime(df['Date'], format = '%Y-%m-%d')\n",
    "df['Month'] = df['Date'].dt.month\n",
    "df['Month Name'] = df['Date'].dt.month_name()\n",
    "destination2019 = df.groupby(['Month Name','Month','Destination Station'])['Trip Count'].sum(\n",
    ").reset_index().sort_values(by=['Month']).reset_index().drop(columns = ['index']).rename(columns = {'Destination Station':'Station',\n",
    "                                                                                                          'Trip Count':'2019'})\n",
    "destination2019.head(2)"
   ]
  },
  {
   "cell_type": "code",
   "execution_count": 657,
   "id": "f08d75ec-33f2-4b19-9abf-3c00f7a701b3",
   "metadata": {},
   "outputs": [
    {
     "data": {
      "text/html": [
       "<div>\n",
       "<style scoped>\n",
       "    .dataframe tbody tr th:only-of-type {\n",
       "        vertical-align: middle;\n",
       "    }\n",
       "\n",
       "    .dataframe tbody tr th {\n",
       "        vertical-align: top;\n",
       "    }\n",
       "\n",
       "    .dataframe thead th {\n",
       "        text-align: right;\n",
       "    }\n",
       "</style>\n",
       "<table border=\"1\" class=\"dataframe\">\n",
       "  <thead>\n",
       "    <tr style=\"text-align: right;\">\n",
       "      <th></th>\n",
       "      <th>Month Name</th>\n",
       "      <th>Month</th>\n",
       "      <th>Station</th>\n",
       "      <th>2019</th>\n",
       "    </tr>\n",
       "  </thead>\n",
       "  <tbody>\n",
       "    <tr>\n",
       "      <th>0</th>\n",
       "      <td>January</td>\n",
       "      <td>1</td>\n",
       "      <td>CONC</td>\n",
       "      <td>131502</td>\n",
       "    </tr>\n",
       "    <tr>\n",
       "      <th>1</th>\n",
       "      <td>January</td>\n",
       "      <td>1</td>\n",
       "      <td>LAFY</td>\n",
       "      <td>81229</td>\n",
       "    </tr>\n",
       "  </tbody>\n",
       "</table>\n",
       "</div>"
      ],
      "text/plain": [
       "  Month Name  Month Station    2019\n",
       "0    January      1    CONC  131502\n",
       "1    January      1    LAFY   81229"
      ]
     },
     "execution_count": 657,
     "metadata": {},
     "output_type": "execute_result"
    }
   ],
   "source": [
    "#Import 2019 Preprocessing Origin Data. \n",
    "df = pd.read_csv('date-hour-soo-dest-2019.csv')\n",
    "df['Date'] = pd.to_datetime(df['Date'], format = '%Y-%m-%d')\n",
    "df['Month'] = df['Date'].dt.month\n",
    "df['Month Name'] = df['Date'].dt.month_name()\n",
    "# df['Year'] = df['Date'].dt.year\n",
    "origin2019 = df.groupby(['Month Name','Month','Origin Station'])['Trip Count'].sum(\n",
    ").reset_index().sort_values(by=['Month']).reset_index().drop(columns = ['index']).rename(columns = \n",
    "                                                                                         {'Origin Station':'Station','Trip Count':'2019'})\n",
    "origin2019.head(2)"
   ]
  },
  {
   "cell_type": "code",
   "execution_count": 658,
   "id": "d0828a28-08c2-4d0c-97c5-0cc08cc676a3",
   "metadata": {},
   "outputs": [
    {
     "data": {
      "text/html": [
       "<div>\n",
       "<style scoped>\n",
       "    .dataframe tbody tr th:only-of-type {\n",
       "        vertical-align: middle;\n",
       "    }\n",
       "\n",
       "    .dataframe tbody tr th {\n",
       "        vertical-align: top;\n",
       "    }\n",
       "\n",
       "    .dataframe thead th {\n",
       "        text-align: right;\n",
       "    }\n",
       "</style>\n",
       "<table border=\"1\" class=\"dataframe\">\n",
       "  <thead>\n",
       "    <tr style=\"text-align: right;\">\n",
       "      <th></th>\n",
       "      <th>Month Name</th>\n",
       "      <th>Month</th>\n",
       "      <th>Station</th>\n",
       "      <th>2019</th>\n",
       "    </tr>\n",
       "  </thead>\n",
       "  <tbody>\n",
       "    <tr>\n",
       "      <th>0</th>\n",
       "      <td>April</td>\n",
       "      <td>4</td>\n",
       "      <td>12TH</td>\n",
       "      <td>666117</td>\n",
       "    </tr>\n",
       "    <tr>\n",
       "      <th>1</th>\n",
       "      <td>April</td>\n",
       "      <td>4</td>\n",
       "      <td>16TH</td>\n",
       "      <td>665159</td>\n",
       "    </tr>\n",
       "  </tbody>\n",
       "</table>\n",
       "</div>"
      ],
      "text/plain": [
       "  Month Name  Month Station    2019\n",
       "0      April      4    12TH  666117\n",
       "1      April      4    16TH  665159"
      ]
     },
     "execution_count": 658,
     "metadata": {},
     "output_type": "execute_result"
    }
   ],
   "source": [
    "#2019 concatenation and output\n",
    "station_19 = pd.concat([destination2019,origin2019])\n",
    "station_19 = station_19.groupby(['Month Name','Month','Station'])[['2019']].sum().reset_index()\n",
    "station_19.head(2)"
   ]
  },
  {
   "cell_type": "code",
   "execution_count": 659,
   "id": "39981213-41ae-439c-9f33-328ad3fbda20",
   "metadata": {},
   "outputs": [],
   "source": [
    "#2023 Import\n",
    "station_23_stitch = []\n",
    "for k,v in {'May':'202305','June':'202306','July':'202307','August':'202308','September':'202309','October':'202310','November':'202311','December':'202312'}.items():\n",
    "    tdf = pd.pandas.read_excel('ridership_2023/Ridership_' + v + '.xlsx', header = 1, index_col=0, sheet_name = 'Total Trips OD')\n",
    "    tdf = pd.concat([tdf.T[['Entries']].reset_index().drop([tdf.T[['Entries']].shape[0]-1]),\n",
    "           tdf[['Exits']].reset_index().drop([tdf[['Exits']].shape[0]-1]).rename(columns = {'Exits':'Entries'})]\n",
    "         ).groupby('index').sum().reset_index().rename(columns = {'index':'Station','Entries':'Trip Count'})\n",
    "    tdf['Month Name'] = k\n",
    "    tdf['Month'] = dt.datetime.strptime(v, \"%Y%m\").month\n",
    "    tdf['Station'] = tdf['Station'].astype(str)\n",
    "    tdf = tdf.merge(station_abr_merge, how = 'left', left_on = 'Station',right_on = 'Two-Letter Station Code')\n",
    "    tdf = tdf[['Month Name','Month','Abbr','Trip Count']].rename(columns = {'Abbr': 'Station','Trip Count':'2023'})\n",
    "    station_23_stitch.append(tdf)"
   ]
  },
  {
   "cell_type": "code",
   "execution_count": 660,
   "id": "f7bb5dc0-c851-4aee-b604-fef36d0404f4",
   "metadata": {},
   "outputs": [],
   "source": [
    "#2024 Import\n",
    "for k,v in {'January':'202401','February':'202402','March':'202403','April':'202404'}.items():\n",
    "    ddf = pd.pandas.read_excel('ridership_2023/Ridership_' + v + '.xlsx', header = 1, index_col=0, sheet_name = 'Total Trips',skiprows=3)\n",
    "    GT = ddf.T[['Grand Total']].drop(['Unnamed: 51'])\n",
    "    Un51 = ddf[['Unnamed: 51']].drop(['Grand Total']).rename(columns = {'Unnamed: 51':'Grand Total'})\n",
    "    tdf = pd.concat([GT,Un51]).reset_index().groupby('index')[['Grand Total']].sum().reset_index().rename(columns= {'index':'Station','Grand Total':'Trip Count'})\n",
    "    tdf['Month Name'] = k\n",
    "    tdf['Month'] = dt.datetime.strptime(v, \"%Y%m\").month\n",
    "    tdf['Station'] = tdf['Station'].astype(str)\n",
    "    tdf = tdf.merge(station_abr_merge, how = 'left', left_on = 'Station',right_on = 'Two-Letter Station Code')\n",
    "    tdf = tdf[['Month Name','Month','Abbr','Trip Count']].rename(columns = {'Abbr': 'Station','Trip Count':'2023'})\n",
    "    tdf[['2023']].convert_dtypes()\n",
    "    station_23_stitch.append(tdf)"
   ]
  },
  {
   "cell_type": "code",
   "execution_count": 661,
   "id": "c7a95f34-c4f0-4947-8743-65683bd81af3",
   "metadata": {},
   "outputs": [
    {
     "data": {
      "text/html": [
       "<div>\n",
       "<style scoped>\n",
       "    .dataframe tbody tr th:only-of-type {\n",
       "        vertical-align: middle;\n",
       "    }\n",
       "\n",
       "    .dataframe tbody tr th {\n",
       "        vertical-align: top;\n",
       "    }\n",
       "\n",
       "    .dataframe thead th {\n",
       "        text-align: right;\n",
       "    }\n",
       "</style>\n",
       "<table border=\"1\" class=\"dataframe\">\n",
       "  <thead>\n",
       "    <tr style=\"text-align: right;\">\n",
       "      <th></th>\n",
       "      <th>Month Name</th>\n",
       "      <th>Month</th>\n",
       "      <th>Station</th>\n",
       "      <th>2023</th>\n",
       "    </tr>\n",
       "  </thead>\n",
       "  <tbody>\n",
       "    <tr>\n",
       "      <th>0</th>\n",
       "      <td>May</td>\n",
       "      <td>5</td>\n",
       "      <td>12TH</td>\n",
       "      <td>234249.0</td>\n",
       "    </tr>\n",
       "    <tr>\n",
       "      <th>1</th>\n",
       "      <td>May</td>\n",
       "      <td>5</td>\n",
       "      <td>16TH</td>\n",
       "      <td>301411.0</td>\n",
       "    </tr>\n",
       "  </tbody>\n",
       "</table>\n",
       "</div>"
      ],
      "text/plain": [
       "  Month Name  Month Station      2023\n",
       "0        May      5    12TH  234249.0\n",
       "1        May      5    16TH  301411.0"
      ]
     },
     "execution_count": 661,
     "metadata": {},
     "output_type": "execute_result"
    }
   ],
   "source": [
    "#2023 + 2024\n",
    "station_stitch = pd.concat(station_23_stitch)\n",
    "station_stitch.head(2)"
   ]
  },
  {
   "cell_type": "code",
   "execution_count": 663,
   "id": "1a0727bd-65e4-412a-be37-21f74bd0c726",
   "metadata": {},
   "outputs": [
    {
     "data": {
      "text/html": [
       "<div>\n",
       "<style scoped>\n",
       "    .dataframe tbody tr th:only-of-type {\n",
       "        vertical-align: middle;\n",
       "    }\n",
       "\n",
       "    .dataframe tbody tr th {\n",
       "        vertical-align: top;\n",
       "    }\n",
       "\n",
       "    .dataframe thead th {\n",
       "        text-align: right;\n",
       "    }\n",
       "</style>\n",
       "<table border=\"1\" class=\"dataframe\">\n",
       "  <thead>\n",
       "    <tr style=\"text-align: right;\">\n",
       "      <th></th>\n",
       "      <th>Station</th>\n",
       "      <th>2019</th>\n",
       "      <th>2023</th>\n",
       "      <th>Type</th>\n",
       "    </tr>\n",
       "  </thead>\n",
       "  <tbody>\n",
       "    <tr>\n",
       "      <th>0</th>\n",
       "      <td>12TH</td>\n",
       "      <td>7759318</td>\n",
       "      <td>2839602.0</td>\n",
       "      <td>Other Stations</td>\n",
       "    </tr>\n",
       "    <tr>\n",
       "      <th>1</th>\n",
       "      <td>16TH</td>\n",
       "      <td>7739460</td>\n",
       "      <td>3501328.0</td>\n",
       "      <td>Other Stations</td>\n",
       "    </tr>\n",
       "  </tbody>\n",
       "</table>\n",
       "</div>"
      ],
      "text/plain": [
       "  Station     2019       2023            Type\n",
       "0    12TH  7759318  2839602.0  Other Stations\n",
       "1    16TH  7739460  3501328.0  Other Stations"
      ]
     },
     "execution_count": 663,
     "metadata": {},
     "output_type": "execute_result"
    }
   ],
   "source": [
    "#2019 + 2023 + 2024\n",
    "final_st_merge = station_19.merge(station_stitch, how = 'left', \n",
    "                                  left_on = ['Month Name','Month','Station'], \n",
    "                                  right_on=['Month Name','Month','Station'])\n",
    "station_19v23 = final_st_merge.groupby('Station')[['2019','2023']].sum().reset_index()\n",
    "station_19v23['Type'] = 'Other Stations'\n",
    "station_19v23.loc[station_19v23['Station'].isin(['SFIA','OAKL']),'Type'] = 'Airport'\n",
    "station_19v23.loc[station_19v23['Station'].isin(['EMBR','POWL','CIVC','MONT']),'Type'] = 'SF Downtown' \n",
    "station_19v23.head(2)"
   ]
  },
  {
   "cell_type": "code",
   "execution_count": 684,
   "id": "2bd23ad8-5a2b-4271-aaf8-19b32c2e16e9",
   "metadata": {},
   "outputs": [
    {
     "data": {
      "application/vnd.plotly.v1+json": {
       "config": {
        "plotlyServerURL": "https://plot.ly"
       },
       "data": [
        {
         "customdata": [
          [
           "12TH"
          ],
          [
           "16TH"
          ],
          [
           "19TH"
          ],
          [
           "24TH"
          ],
          [
           "ANTC"
          ],
          [
           "ASHB"
          ],
          [
           "BALB"
          ],
          [
           "BAYF"
          ],
          [
           "BERY"
          ],
          [
           "CAST"
          ],
          [
           "COLM"
          ],
          [
           "COLS"
          ],
          [
           "CONC"
          ],
          [
           "DALY"
          ],
          [
           "DBRK"
          ],
          [
           "DELN"
          ],
          [
           "DUBL"
          ],
          [
           "FRMT"
          ],
          [
           "FTVL"
          ],
          [
           "GLEN"
          ],
          [
           "HAYW"
          ],
          [
           "LAFY"
          ],
          [
           "LAKE"
          ],
          [
           "MCAR"
          ],
          [
           "MLBR"
          ],
          [
           "MLPT"
          ],
          [
           "NBRK"
          ],
          [
           "NCON"
          ],
          [
           "ORIN"
          ],
          [
           "PCTR"
          ],
          [
           "PHIL"
          ],
          [
           "PITT"
          ],
          [
           "PLZA"
          ],
          [
           "RICH"
          ],
          [
           "ROCK"
          ],
          [
           "SANL"
          ],
          [
           "SBRN"
          ],
          [
           "SHAY"
          ],
          [
           "SSAN"
          ],
          [
           "UCTY"
          ],
          [
           "WARM"
          ],
          [
           "WCRK"
          ],
          [
           "WDUB"
          ],
          [
           "WOAK"
          ]
         ],
         "hovertemplate": "Type=Other Stations<br>2019=%{x}<br>2023=%{marker.size}<br>text=%{text}<br>Station=%{customdata[0]}<extra></extra>",
         "legendgroup": "Other Stations",
         "marker": {
          "color": "#636efa",
          "size": [
           2839602,
           3501328,
           2686565,
           3356178,
           983724,
           1199094,
           2369604,
           1490488,
           427782,
           688980,
           867783,
           1506734,
           1442668,
           2609817,
           3189055,
           2153018,
           1729608,
           1154192,
           2279959,
           1897011,
           1257286,
           883371,
           1718201,
           2209772,
           1214494,
           372883,
           1070227,
           347048,
           692368,
           295314,
           1327773,
           1070684,
           1217179,
           1371611,
           1427004,
           1852649,
           850107,
           805226,
           777141,
           1042721,
           702996,
           1554723,
           714662,
           2081240
          ],
          "sizemode": "area",
          "sizeref": 22530.9675,
          "symbol": "circle"
         },
         "mode": "markers+text",
         "name": "Other Stations",
         "orientation": "v",
         "showlegend": true,
         "text": [
          "",
          "",
          "",
          "",
          "",
          "",
          "",
          "",
          "",
          "",
          "",
          "",
          "",
          "",
          "",
          "",
          "",
          "",
          "",
          "",
          "",
          "",
          "",
          "",
          "",
          "",
          "",
          "",
          "",
          "",
          "",
          "",
          "",
          "",
          "",
          "",
          "",
          "",
          "",
          "",
          "",
          "",
          "",
          ""
         ],
         "type": "scatter",
         "x": [
          7759318,
          7739460,
          7657299,
          7334171,
          1704347,
          2934899,
          6163353,
          3130709,
          563,
          1633460,
          2441543,
          3867701,
          3192749,
          5496463,
          6745753,
          4521546,
          4754857,
          3278463,
          4599795,
          4321846,
          2663387,
          1986769,
          4187419,
          5062431,
          3574762,
          661,
          2489377,
          1131763,
          1737152,
          688842,
          4184540,
          2223593,
          2790361,
          2574283,
          3199428,
          3568152,
          2102336,
          1720143,
          1918994,
          2661559,
          2524326,
          3695903,
          2013573,
          4551175
         ],
         "xaxis": "x",
         "y": [
          2839602,
          3501328,
          2686565,
          3356178,
          983724,
          1199094,
          2369604,
          1490488,
          427782,
          688980,
          867783,
          1506734,
          1442668,
          2609817,
          3189055,
          2153018,
          1729608,
          1154192,
          2279959,
          1897011,
          1257286,
          883371,
          1718201,
          2209772,
          1214494,
          372883,
          1070227,
          347048,
          692368,
          295314,
          1327773,
          1070684,
          1217179,
          1371611,
          1427004,
          1852649,
          850107,
          805226,
          777141,
          1042721,
          702996,
          1554723,
          714662,
          2081240
         ],
         "yaxis": "y"
        },
        {
         "customdata": [
          [
           "CIVC"
          ],
          [
           "EMBR"
          ],
          [
           "MONT"
          ],
          [
           "POWL"
          ]
         ],
         "hovertemplate": "Type=SF Downtown<br>2019=%{x}<br>2023=%{marker.size}<br>text=%{text}<br>Station=%{customdata[0]}<extra></extra>",
         "legendgroup": "SF Downtown",
         "marker": {
          "color": "#EF553B",
          "size": [
           5417672,
           9012387,
           7371293,
           7507818
          ],
          "sizemode": "area",
          "sizeref": 22530.9675,
          "symbol": "circle"
         },
         "mode": "markers+text",
         "name": "SF Downtown",
         "orientation": "v",
         "showlegend": true,
         "text": [
          "CIVC",
          "EMBR",
          "MONT",
          "POWL"
         ],
         "type": "scatter",
         "x": [
          13792756,
          24836028,
          23767969,
          17355760
         ],
         "xaxis": "x",
         "y": [
          5417672,
          9012387,
          7371293,
          7507818
         ],
         "yaxis": "y"
        },
        {
         "customdata": [
          [
           "OAKL"
          ],
          [
           "SFIA"
          ]
         ],
         "hovertemplate": "Type=Airport<br>2019=%{x}<br>2023=%{marker.size}<br>text=%{text}<br>Station=%{customdata[0]}<extra></extra>",
         "legendgroup": "Airport",
         "marker": {
          "color": "#00cc96",
          "size": [
           423856,
           2436481
          ],
          "sizemode": "area",
          "sizeref": 22530.9675,
          "symbol": "circle"
         },
         "mode": "markers+text",
         "name": "Airport",
         "orientation": "v",
         "showlegend": true,
         "text": [
          "OAK Air",
          "SF Air"
         ],
         "type": "scatter",
         "x": [
          851983,
          4085490
         ],
         "xaxis": "x",
         "y": [
          423856,
          2436481
         ],
         "yaxis": "y"
        },
        {
         "hovertemplate": "<b>OLS trendline</b><br>2023 = 0.353111 * 2019 + 272695<br>R<sup>2</sup>=0.962107<br><br>2019=%{x}<br>2023=%{y} <b>(trend)</b><extra></extra>",
         "legendgroup": "Overall Trendline",
         "line": {
          "color": "#ab63fa"
         },
         "mode": "lines",
         "name": "Overall Trendline",
         "showlegend": true,
         "type": "scatter",
         "x": [
          563,
          661,
          688842,
          851983,
          1131763,
          1633460,
          1704347,
          1720143,
          1737152,
          1918994,
          1986769,
          2013573,
          2102336,
          2223593,
          2441543,
          2489377,
          2524326,
          2574283,
          2661559,
          2663387,
          2790361,
          2934899,
          3130709,
          3192749,
          3199428,
          3278463,
          3568152,
          3574762,
          3695903,
          3867701,
          4085490,
          4184540,
          4187419,
          4321846,
          4521546,
          4551175,
          4599795,
          4754857,
          5062431,
          5496463,
          6163353,
          6745753,
          7334171,
          7657299,
          7739460,
          7759318,
          13792756,
          17355760,
          23767969,
          24836028
         ],
         "xaxis": "x",
         "y": [
          272894.1895127276,
          272928.79434740136,
          515932.7711903063,
          573539.5807158938,
          672332.8526038243,
          849487.3601681932,
          874518.3082857132,
          880096.0426582263,
          886102.1001374666,
          950312.430206253,
          974244.498267603,
          983709.273661427,
          1015052.4261118823,
          1057869.5530305854,
          1134829.9991238534,
          1151720.6895502144,
          1164061.5504380951,
          1181701.8945788676,
          1212519.9716297328,
          1213165.4577295652,
          1258001.3177077556,
          1309039.211524818,
          1378181.7898662852,
          1400088.7688781058,
          1402447.1942942883,
          1430355.2872375385,
          1532647.531643653,
          1534981.5924313406,
          1577757.758525328,
          1638421.4461506146,
          1715325.0414440613,
          1750300.642203585,
          1751317.2474997654,
          1798784.840465949,
          1869301.0188776287,
          1879763.3315975068,
          1896931.5669223734,
          1951685.5962507252,
          2060293.2229847962,
          2213554.5046491837,
          2449040.4046039404,
          2654691.993522129,
          2862468.6017777314,
          2976568.5101293046,
          3005580.426676536,
          3012592.496135219,
          5143063.154341567,
          6401197.484564544,
          8665416.18189543,
          9042559.091250462
         ],
         "yaxis": "y"
        }
       ],
       "layout": {
        "autosize": true,
        "hovermode": "x",
        "legend": {
         "itemsizing": "constant",
         "title": {
          "text": "Type"
         },
         "tracegroupgap": 0
        },
        "template": {
         "data": {
          "bar": [
           {
            "error_x": {
             "color": "#2a3f5f"
            },
            "error_y": {
             "color": "#2a3f5f"
            },
            "marker": {
             "line": {
              "color": "#E5ECF6",
              "width": 0.5
             },
             "pattern": {
              "fillmode": "overlay",
              "size": 10,
              "solidity": 0.2
             }
            },
            "type": "bar"
           }
          ],
          "barpolar": [
           {
            "marker": {
             "line": {
              "color": "#E5ECF6",
              "width": 0.5
             },
             "pattern": {
              "fillmode": "overlay",
              "size": 10,
              "solidity": 0.2
             }
            },
            "type": "barpolar"
           }
          ],
          "carpet": [
           {
            "aaxis": {
             "endlinecolor": "#2a3f5f",
             "gridcolor": "white",
             "linecolor": "white",
             "minorgridcolor": "white",
             "startlinecolor": "#2a3f5f"
            },
            "baxis": {
             "endlinecolor": "#2a3f5f",
             "gridcolor": "white",
             "linecolor": "white",
             "minorgridcolor": "white",
             "startlinecolor": "#2a3f5f"
            },
            "type": "carpet"
           }
          ],
          "choropleth": [
           {
            "colorbar": {
             "outlinewidth": 0,
             "ticks": ""
            },
            "type": "choropleth"
           }
          ],
          "contour": [
           {
            "colorbar": {
             "outlinewidth": 0,
             "ticks": ""
            },
            "colorscale": [
             [
              0,
              "#0d0887"
             ],
             [
              0.1111111111111111,
              "#46039f"
             ],
             [
              0.2222222222222222,
              "#7201a8"
             ],
             [
              0.3333333333333333,
              "#9c179e"
             ],
             [
              0.4444444444444444,
              "#bd3786"
             ],
             [
              0.5555555555555556,
              "#d8576b"
             ],
             [
              0.6666666666666666,
              "#ed7953"
             ],
             [
              0.7777777777777778,
              "#fb9f3a"
             ],
             [
              0.8888888888888888,
              "#fdca26"
             ],
             [
              1,
              "#f0f921"
             ]
            ],
            "type": "contour"
           }
          ],
          "contourcarpet": [
           {
            "colorbar": {
             "outlinewidth": 0,
             "ticks": ""
            },
            "type": "contourcarpet"
           }
          ],
          "heatmap": [
           {
            "colorbar": {
             "outlinewidth": 0,
             "ticks": ""
            },
            "colorscale": [
             [
              0,
              "#0d0887"
             ],
             [
              0.1111111111111111,
              "#46039f"
             ],
             [
              0.2222222222222222,
              "#7201a8"
             ],
             [
              0.3333333333333333,
              "#9c179e"
             ],
             [
              0.4444444444444444,
              "#bd3786"
             ],
             [
              0.5555555555555556,
              "#d8576b"
             ],
             [
              0.6666666666666666,
              "#ed7953"
             ],
             [
              0.7777777777777778,
              "#fb9f3a"
             ],
             [
              0.8888888888888888,
              "#fdca26"
             ],
             [
              1,
              "#f0f921"
             ]
            ],
            "type": "heatmap"
           }
          ],
          "heatmapgl": [
           {
            "colorbar": {
             "outlinewidth": 0,
             "ticks": ""
            },
            "colorscale": [
             [
              0,
              "#0d0887"
             ],
             [
              0.1111111111111111,
              "#46039f"
             ],
             [
              0.2222222222222222,
              "#7201a8"
             ],
             [
              0.3333333333333333,
              "#9c179e"
             ],
             [
              0.4444444444444444,
              "#bd3786"
             ],
             [
              0.5555555555555556,
              "#d8576b"
             ],
             [
              0.6666666666666666,
              "#ed7953"
             ],
             [
              0.7777777777777778,
              "#fb9f3a"
             ],
             [
              0.8888888888888888,
              "#fdca26"
             ],
             [
              1,
              "#f0f921"
             ]
            ],
            "type": "heatmapgl"
           }
          ],
          "histogram": [
           {
            "marker": {
             "pattern": {
              "fillmode": "overlay",
              "size": 10,
              "solidity": 0.2
             }
            },
            "type": "histogram"
           }
          ],
          "histogram2d": [
           {
            "colorbar": {
             "outlinewidth": 0,
             "ticks": ""
            },
            "colorscale": [
             [
              0,
              "#0d0887"
             ],
             [
              0.1111111111111111,
              "#46039f"
             ],
             [
              0.2222222222222222,
              "#7201a8"
             ],
             [
              0.3333333333333333,
              "#9c179e"
             ],
             [
              0.4444444444444444,
              "#bd3786"
             ],
             [
              0.5555555555555556,
              "#d8576b"
             ],
             [
              0.6666666666666666,
              "#ed7953"
             ],
             [
              0.7777777777777778,
              "#fb9f3a"
             ],
             [
              0.8888888888888888,
              "#fdca26"
             ],
             [
              1,
              "#f0f921"
             ]
            ],
            "type": "histogram2d"
           }
          ],
          "histogram2dcontour": [
           {
            "colorbar": {
             "outlinewidth": 0,
             "ticks": ""
            },
            "colorscale": [
             [
              0,
              "#0d0887"
             ],
             [
              0.1111111111111111,
              "#46039f"
             ],
             [
              0.2222222222222222,
              "#7201a8"
             ],
             [
              0.3333333333333333,
              "#9c179e"
             ],
             [
              0.4444444444444444,
              "#bd3786"
             ],
             [
              0.5555555555555556,
              "#d8576b"
             ],
             [
              0.6666666666666666,
              "#ed7953"
             ],
             [
              0.7777777777777778,
              "#fb9f3a"
             ],
             [
              0.8888888888888888,
              "#fdca26"
             ],
             [
              1,
              "#f0f921"
             ]
            ],
            "type": "histogram2dcontour"
           }
          ],
          "mesh3d": [
           {
            "colorbar": {
             "outlinewidth": 0,
             "ticks": ""
            },
            "type": "mesh3d"
           }
          ],
          "parcoords": [
           {
            "line": {
             "colorbar": {
              "outlinewidth": 0,
              "ticks": ""
             }
            },
            "type": "parcoords"
           }
          ],
          "pie": [
           {
            "automargin": true,
            "type": "pie"
           }
          ],
          "scatter": [
           {
            "fillpattern": {
             "fillmode": "overlay",
             "size": 10,
             "solidity": 0.2
            },
            "type": "scatter"
           }
          ],
          "scatter3d": [
           {
            "line": {
             "colorbar": {
              "outlinewidth": 0,
              "ticks": ""
             }
            },
            "marker": {
             "colorbar": {
              "outlinewidth": 0,
              "ticks": ""
             }
            },
            "type": "scatter3d"
           }
          ],
          "scattercarpet": [
           {
            "marker": {
             "colorbar": {
              "outlinewidth": 0,
              "ticks": ""
             }
            },
            "type": "scattercarpet"
           }
          ],
          "scattergeo": [
           {
            "marker": {
             "colorbar": {
              "outlinewidth": 0,
              "ticks": ""
             }
            },
            "type": "scattergeo"
           }
          ],
          "scattergl": [
           {
            "marker": {
             "colorbar": {
              "outlinewidth": 0,
              "ticks": ""
             }
            },
            "type": "scattergl"
           }
          ],
          "scattermapbox": [
           {
            "marker": {
             "colorbar": {
              "outlinewidth": 0,
              "ticks": ""
             }
            },
            "type": "scattermapbox"
           }
          ],
          "scatterpolar": [
           {
            "marker": {
             "colorbar": {
              "outlinewidth": 0,
              "ticks": ""
             }
            },
            "type": "scatterpolar"
           }
          ],
          "scatterpolargl": [
           {
            "marker": {
             "colorbar": {
              "outlinewidth": 0,
              "ticks": ""
             }
            },
            "type": "scatterpolargl"
           }
          ],
          "scatterternary": [
           {
            "marker": {
             "colorbar": {
              "outlinewidth": 0,
              "ticks": ""
             }
            },
            "type": "scatterternary"
           }
          ],
          "surface": [
           {
            "colorbar": {
             "outlinewidth": 0,
             "ticks": ""
            },
            "colorscale": [
             [
              0,
              "#0d0887"
             ],
             [
              0.1111111111111111,
              "#46039f"
             ],
             [
              0.2222222222222222,
              "#7201a8"
             ],
             [
              0.3333333333333333,
              "#9c179e"
             ],
             [
              0.4444444444444444,
              "#bd3786"
             ],
             [
              0.5555555555555556,
              "#d8576b"
             ],
             [
              0.6666666666666666,
              "#ed7953"
             ],
             [
              0.7777777777777778,
              "#fb9f3a"
             ],
             [
              0.8888888888888888,
              "#fdca26"
             ],
             [
              1,
              "#f0f921"
             ]
            ],
            "type": "surface"
           }
          ],
          "table": [
           {
            "cells": {
             "fill": {
              "color": "#EBF0F8"
             },
             "line": {
              "color": "white"
             }
            },
            "header": {
             "fill": {
              "color": "#C8D4E3"
             },
             "line": {
              "color": "white"
             }
            },
            "type": "table"
           }
          ]
         },
         "layout": {
          "annotationdefaults": {
           "arrowcolor": "#2a3f5f",
           "arrowhead": 0,
           "arrowwidth": 1
          },
          "autotypenumbers": "strict",
          "coloraxis": {
           "colorbar": {
            "outlinewidth": 0,
            "ticks": ""
           }
          },
          "colorscale": {
           "diverging": [
            [
             0,
             "#8e0152"
            ],
            [
             0.1,
             "#c51b7d"
            ],
            [
             0.2,
             "#de77ae"
            ],
            [
             0.3,
             "#f1b6da"
            ],
            [
             0.4,
             "#fde0ef"
            ],
            [
             0.5,
             "#f7f7f7"
            ],
            [
             0.6,
             "#e6f5d0"
            ],
            [
             0.7,
             "#b8e186"
            ],
            [
             0.8,
             "#7fbc41"
            ],
            [
             0.9,
             "#4d9221"
            ],
            [
             1,
             "#276419"
            ]
           ],
           "sequential": [
            [
             0,
             "#0d0887"
            ],
            [
             0.1111111111111111,
             "#46039f"
            ],
            [
             0.2222222222222222,
             "#7201a8"
            ],
            [
             0.3333333333333333,
             "#9c179e"
            ],
            [
             0.4444444444444444,
             "#bd3786"
            ],
            [
             0.5555555555555556,
             "#d8576b"
            ],
            [
             0.6666666666666666,
             "#ed7953"
            ],
            [
             0.7777777777777778,
             "#fb9f3a"
            ],
            [
             0.8888888888888888,
             "#fdca26"
            ],
            [
             1,
             "#f0f921"
            ]
           ],
           "sequentialminus": [
            [
             0,
             "#0d0887"
            ],
            [
             0.1111111111111111,
             "#46039f"
            ],
            [
             0.2222222222222222,
             "#7201a8"
            ],
            [
             0.3333333333333333,
             "#9c179e"
            ],
            [
             0.4444444444444444,
             "#bd3786"
            ],
            [
             0.5555555555555556,
             "#d8576b"
            ],
            [
             0.6666666666666666,
             "#ed7953"
            ],
            [
             0.7777777777777778,
             "#fb9f3a"
            ],
            [
             0.8888888888888888,
             "#fdca26"
            ],
            [
             1,
             "#f0f921"
            ]
           ]
          },
          "colorway": [
           "#636efa",
           "#EF553B",
           "#00cc96",
           "#ab63fa",
           "#FFA15A",
           "#19d3f3",
           "#FF6692",
           "#B6E880",
           "#FF97FF",
           "#FECB52"
          ],
          "font": {
           "color": "#2a3f5f"
          },
          "geo": {
           "bgcolor": "white",
           "lakecolor": "white",
           "landcolor": "#E5ECF6",
           "showlakes": true,
           "showland": true,
           "subunitcolor": "white"
          },
          "hoverlabel": {
           "align": "left"
          },
          "hovermode": "closest",
          "mapbox": {
           "style": "light"
          },
          "paper_bgcolor": "white",
          "plot_bgcolor": "#E5ECF6",
          "polar": {
           "angularaxis": {
            "gridcolor": "white",
            "linecolor": "white",
            "ticks": ""
           },
           "bgcolor": "#E5ECF6",
           "radialaxis": {
            "gridcolor": "white",
            "linecolor": "white",
            "ticks": ""
           }
          },
          "scene": {
           "xaxis": {
            "backgroundcolor": "#E5ECF6",
            "gridcolor": "white",
            "gridwidth": 2,
            "linecolor": "white",
            "showbackground": true,
            "ticks": "",
            "zerolinecolor": "white"
           },
           "yaxis": {
            "backgroundcolor": "#E5ECF6",
            "gridcolor": "white",
            "gridwidth": 2,
            "linecolor": "white",
            "showbackground": true,
            "ticks": "",
            "zerolinecolor": "white"
           },
           "zaxis": {
            "backgroundcolor": "#E5ECF6",
            "gridcolor": "white",
            "gridwidth": 2,
            "linecolor": "white",
            "showbackground": true,
            "ticks": "",
            "zerolinecolor": "white"
           }
          },
          "shapedefaults": {
           "line": {
            "color": "#2a3f5f"
           }
          },
          "ternary": {
           "aaxis": {
            "gridcolor": "white",
            "linecolor": "white",
            "ticks": ""
           },
           "baxis": {
            "gridcolor": "white",
            "linecolor": "white",
            "ticks": ""
           },
           "bgcolor": "#E5ECF6",
           "caxis": {
            "gridcolor": "white",
            "linecolor": "white",
            "ticks": ""
           }
          },
          "title": {
           "x": 0.05
          },
          "xaxis": {
           "automargin": true,
           "gridcolor": "white",
           "linecolor": "white",
           "ticks": "",
           "title": {
            "standoff": 15
           },
           "zerolinecolor": "white",
           "zerolinewidth": 2
          },
          "yaxis": {
           "automargin": true,
           "gridcolor": "white",
           "linecolor": "white",
           "ticks": "",
           "title": {
            "standoff": 15
           },
           "zerolinecolor": "white",
           "zerolinewidth": 2
          }
         }
        },
        "title": {
         "text": "2022 vs 2019 Ridership by Station"
        },
        "xaxis": {
         "anchor": "y",
         "autorange": true,
         "domain": [
          0,
          1
         ],
         "range": [
          -1527563.6142141595,
          26770603.3718574
         ],
         "title": {
          "text": "2019"
         },
         "type": "linear"
        },
        "yaxis": {
         "anchor": "x",
         "autorange": true,
         "domain": [
          0,
          1
         ],
         "range": [
          -435225.0754103877,
          10522861.05574543
         ],
         "title": {
          "text": "2023"
         },
         "type": "linear"
        }
       }
      },
      "image/png": "[encoded data removed]",
      "text/html": [
       "<div>                            <div id=\"c74b2cb6-44bb-4e2e-84c2-6ca124d3f226\" class=\"plotly-graph-div\" style=\"height:525px; width:100%;\"></div>            <script type=\"text/javascript\">                require([\"plotly\"], function(Plotly) {                    window.PLOTLYENV=window.PLOTLYENV || {};                                    if (document.getElementById(\"c74b2cb6-44bb-4e2e-84c2-6ca124d3f226\")) {                    Plotly.newPlot(                        \"c74b2cb6-44bb-4e2e-84c2-6ca124d3f226\",                        [{\"customdata\":[[\"12TH\"],[\"16TH\"],[\"19TH\"],[\"24TH\"],[\"ANTC\"],[\"ASHB\"],[\"BALB\"],[\"BAYF\"],[\"BERY\"],[\"CAST\"],[\"COLM\"],[\"COLS\"],[\"CONC\"],[\"DALY\"],[\"DBRK\"],[\"DELN\"],[\"DUBL\"],[\"FRMT\"],[\"FTVL\"],[\"GLEN\"],[\"HAYW\"],[\"LAFY\"],[\"LAKE\"],[\"MCAR\"],[\"MLBR\"],[\"MLPT\"],[\"NBRK\"],[\"NCON\"],[\"ORIN\"],[\"PCTR\"],[\"PHIL\"],[\"PITT\"],[\"PLZA\"],[\"RICH\"],[\"ROCK\"],[\"SANL\"],[\"SBRN\"],[\"SHAY\"],[\"SSAN\"],[\"UCTY\"],[\"WARM\"],[\"WCRK\"],[\"WDUB\"],[\"WOAK\"]],\"hovertemplate\":\"Type=Other Stations\\u003cbr\\u003e2019=%{x}\\u003cbr\\u003e2023=%{marker.size}\\u003cbr\\u003etext=%{text}\\u003cbr\\u003eStation=%{customdata[0]}\\u003cextra\\u003e\\u003c\\u002fextra\\u003e\",\"legendgroup\":\"Other Stations\",\"marker\":{\"color\":\"#636efa\",\"size\":[2839602.0,3501328.0,2686565.0,3356178.0,983724.0,1199094.0,2369604.0,1490488.0,427782.0,688980.0,867783.0,1506734.0,1442668.0,2609817.0,3189055.0,2153018.0,1729608.0,1154192.0,2279959.0,1897011.0,1257286.0,883371.0,1718201.0,2209772.0,1214494.0,372883.0,1070227.0,347048.0,692368.0,295314.0,1327773.0,1070684.0,1217179.0,1371611.0,1427004.0,1852649.0,850107.0,805226.0,777141.0,1042721.0,702996.0,1554723.0,714662.0,2081240.0],\"sizemode\":\"area\",\"sizeref\":22530.9675,\"symbol\":\"circle\"},\"mode\":\"markers+text\",\"name\":\"Other Stations\",\"orientation\":\"v\",\"showlegend\":true,\"text\":[\"\",\"\",\"\",\"\",\"\",\"\",\"\",\"\",\"\",\"\",\"\",\"\",\"\",\"\",\"\",\"\",\"\",\"\",\"\",\"\",\"\",\"\",\"\",\"\",\"\",\"\",\"\",\"\",\"\",\"\",\"\",\"\",\"\",\"\",\"\",\"\",\"\",\"\",\"\",\"\",\"\",\"\",\"\",\"\"],\"x\":[7759318,7739460,7657299,7334171,1704347,2934899,6163353,3130709,563,1633460,2441543,3867701,3192749,5496463,6745753,4521546,4754857,3278463,4599795,4321846,2663387,1986769,4187419,5062431,3574762,661,2489377,1131763,1737152,688842,4184540,2223593,2790361,2574283,3199428,3568152,2102336,1720143,1918994,2661559,2524326,3695903,2013573,4551175],\"xaxis\":\"x\",\"y\":[2839602.0,3501328.0,2686565.0,3356178.0,983724.0,1199094.0,2369604.0,1490488.0,427782.0,688980.0,867783.0,1506734.0,1442668.0,2609817.0,3189055.0,2153018.0,1729608.0,1154192.0,2279959.0,1897011.0,1257286.0,883371.0,1718201.0,2209772.0,1214494.0,372883.0,1070227.0,347048.0,692368.0,295314.0,1327773.0,1070684.0,1217179.0,1371611.0,1427004.0,1852649.0,850107.0,805226.0,777141.0,1042721.0,702996.0,1554723.0,714662.0,2081240.0],\"yaxis\":\"y\",\"type\":\"scatter\"},{\"customdata\":[[\"CIVC\"],[\"EMBR\"],[\"MONT\"],[\"POWL\"]],\"hovertemplate\":\"Type=SF Downtown\\u003cbr\\u003e2019=%{x}\\u003cbr\\u003e2023=%{marker.size}\\u003cbr\\u003etext=%{text}\\u003cbr\\u003eStation=%{customdata[0]}\\u003cextra\\u003e\\u003c\\u002fextra\\u003e\",\"legendgroup\":\"SF Downtown\",\"marker\":{\"color\":\"#EF553B\",\"size\":[5417672.0,9012387.0,7371293.0,7507818.0],\"sizemode\":\"area\",\"sizeref\":22530.9675,\"symbol\":\"circle\"},\"mode\":\"markers+text\",\"name\":\"SF Downtown\",\"orientation\":\"v\",\"showlegend\":true,\"text\":[\"CIVC\",\"EMBR\",\"MONT\",\"POWL\"],\"x\":[13792756,24836028,23767969,17355760],\"xaxis\":\"x\",\"y\":[5417672.0,9012387.0,7371293.0,7507818.0],\"yaxis\":\"y\",\"type\":\"scatter\"},{\"customdata\":[[\"OAKL\"],[\"SFIA\"]],\"hovertemplate\":\"Type=Airport\\u003cbr\\u003e2019=%{x}\\u003cbr\\u003e2023=%{marker.size}\\u003cbr\\u003etext=%{text}\\u003cbr\\u003eStation=%{customdata[0]}\\u003cextra\\u003e\\u003c\\u002fextra\\u003e\",\"legendgroup\":\"Airport\",\"marker\":{\"color\":\"#00cc96\",\"size\":[423856.0,2436481.0],\"sizemode\":\"area\",\"sizeref\":22530.9675,\"symbol\":\"circle\"},\"mode\":\"markers+text\",\"name\":\"Airport\",\"orientation\":\"v\",\"showlegend\":true,\"text\":[\"OAK Air\",\"SF Air\"],\"x\":[851983,4085490],\"xaxis\":\"x\",\"y\":[423856.0,2436481.0],\"yaxis\":\"y\",\"type\":\"scatter\"},{\"hovertemplate\":\"\\u003cb\\u003eOLS trendline\\u003c\\u002fb\\u003e\\u003cbr\\u003e2023 = 0.353111 * 2019 + 272695\\u003cbr\\u003eR\\u003csup\\u003e2\\u003c\\u002fsup\\u003e=0.962107\\u003cbr\\u003e\\u003cbr\\u003e2019=%{x}\\u003cbr\\u003e2023=%{y} \\u003cb\\u003e(trend)\\u003c\\u002fb\\u003e\\u003cextra\\u003e\\u003c\\u002fextra\\u003e\",\"legendgroup\":\"Overall Trendline\",\"line\":{\"color\":\"#ab63fa\"},\"mode\":\"lines\",\"name\":\"Overall Trendline\",\"showlegend\":true,\"x\":[563,661,688842,851983,1131763,1633460,1704347,1720143,1737152,1918994,1986769,2013573,2102336,2223593,2441543,2489377,2524326,2574283,2661559,2663387,2790361,2934899,3130709,3192749,3199428,3278463,3568152,3574762,3695903,3867701,4085490,4184540,4187419,4321846,4521546,4551175,4599795,4754857,5062431,5496463,6163353,6745753,7334171,7657299,7739460,7759318,13792756,17355760,23767969,24836028],\"y\":[272894.1895127276,272928.79434740136,515932.7711903063,573539.5807158938,672332.8526038243,849487.3601681932,874518.3082857132,880096.0426582263,886102.1001374666,950312.430206253,974244.498267603,983709.273661427,1015052.4261118823,1057869.5530305854,1134829.9991238534,1151720.6895502144,1164061.5504380951,1181701.8945788676,1212519.9716297328,1213165.4577295652,1258001.3177077556,1309039.211524818,1378181.7898662852,1400088.7688781058,1402447.1942942883,1430355.2872375385,1532647.531643653,1534981.5924313406,1577757.758525328,1638421.4461506146,1715325.0414440613,1750300.642203585,1751317.2474997654,1798784.840465949,1869301.0188776287,1879763.3315975068,1896931.5669223734,1951685.5962507252,2060293.2229847962,2213554.5046491837,2449040.4046039404,2654691.993522129,2862468.6017777314,2976568.5101293046,3005580.426676536,3012592.496135219,5143063.154341567,6401197.484564544,8665416.18189543,9042559.091250462],\"type\":\"scatter\",\"xaxis\":\"x\",\"yaxis\":\"y\"}],                        {\"template\":{\"data\":{\"histogram2dcontour\":[{\"type\":\"histogram2dcontour\",\"colorbar\":{\"outlinewidth\":0,\"ticks\":\"\"},\"colorscale\":[[0.0,\"#0d0887\"],[0.1111111111111111,\"#46039f\"],[0.2222222222222222,\"#7201a8\"],[0.3333333333333333,\"#9c179e\"],[0.4444444444444444,\"#bd3786\"],[0.5555555555555556,\"#d8576b\"],[0.6666666666666666,\"#ed7953\"],[0.7777777777777778,\"#fb9f3a\"],[0.8888888888888888,\"#fdca26\"],[1.0,\"#f0f921\"]]}],\"choropleth\":[{\"type\":\"choropleth\",\"colorbar\":{\"outlinewidth\":0,\"ticks\":\"\"}}],\"histogram2d\":[{\"type\":\"histogram2d\",\"colorbar\":{\"outlinewidth\":0,\"ticks\":\"\"},\"colorscale\":[[0.0,\"#0d0887\"],[0.1111111111111111,\"#46039f\"],[0.2222222222222222,\"#7201a8\"],[0.3333333333333333,\"#9c179e\"],[0.4444444444444444,\"#bd3786\"],[0.5555555555555556,\"#d8576b\"],[0.6666666666666666,\"#ed7953\"],[0.7777777777777778,\"#fb9f3a\"],[0.8888888888888888,\"#fdca26\"],[1.0,\"#f0f921\"]]}],\"heatmap\":[{\"type\":\"heatmap\",\"colorbar\":{\"outlinewidth\":0,\"ticks\":\"\"},\"colorscale\":[[0.0,\"#0d0887\"],[0.1111111111111111,\"#46039f\"],[0.2222222222222222,\"#7201a8\"],[0.3333333333333333,\"#9c179e\"],[0.4444444444444444,\"#bd3786\"],[0.5555555555555556,\"#d8576b\"],[0.6666666666666666,\"#ed7953\"],[0.7777777777777778,\"#fb9f3a\"],[0.8888888888888888,\"#fdca26\"],[1.0,\"#f0f921\"]]}],\"heatmapgl\":[{\"type\":\"heatmapgl\",\"colorbar\":{\"outlinewidth\":0,\"ticks\":\"\"},\"colorscale\":[[0.0,\"#0d0887\"],[0.1111111111111111,\"#46039f\"],[0.2222222222222222,\"#7201a8\"],[0.3333333333333333,\"#9c179e\"],[0.4444444444444444,\"#bd3786\"],[0.5555555555555556,\"#d8576b\"],[0.6666666666666666,\"#ed7953\"],[0.7777777777777778,\"#fb9f3a\"],[0.8888888888888888,\"#fdca26\"],[1.0,\"#f0f921\"]]}],\"contourcarpet\":[{\"type\":\"contourcarpet\",\"colorbar\":{\"outlinewidth\":0,\"ticks\":\"\"}}],\"contour\":[{\"type\":\"contour\",\"colorbar\":{\"outlinewidth\":0,\"ticks\":\"\"},\"colorscale\":[[0.0,\"#0d0887\"],[0.1111111111111111,\"#46039f\"],[0.2222222222222222,\"#7201a8\"],[0.3333333333333333,\"#9c179e\"],[0.4444444444444444,\"#bd3786\"],[0.5555555555555556,\"#d8576b\"],[0.6666666666666666,\"#ed7953\"],[0.7777777777777778,\"#fb9f3a\"],[0.8888888888888888,\"#fdca26\"],[1.0,\"#f0f921\"]]}],\"surface\":[{\"type\":\"surface\",\"colorbar\":{\"outlinewidth\":0,\"ticks\":\"\"},\"colorscale\":[[0.0,\"#0d0887\"],[0.1111111111111111,\"#46039f\"],[0.2222222222222222,\"#7201a8\"],[0.3333333333333333,\"#9c179e\"],[0.4444444444444444,\"#bd3786\"],[0.5555555555555556,\"#d8576b\"],[0.6666666666666666,\"#ed7953\"],[0.7777777777777778,\"#fb9f3a\"],[0.8888888888888888,\"#fdca26\"],[1.0,\"#f0f921\"]]}],\"mesh3d\":[{\"type\":\"mesh3d\",\"colorbar\":{\"outlinewidth\":0,\"ticks\":\"\"}}],\"scatter\":[{\"fillpattern\":{\"fillmode\":\"overlay\",\"size\":10,\"solidity\":0.2},\"type\":\"scatter\"}],\"parcoords\":[{\"type\":\"parcoords\",\"line\":{\"colorbar\":{\"outlinewidth\":0,\"ticks\":\"\"}}}],\"scatterpolargl\":[{\"type\":\"scatterpolargl\",\"marker\":{\"colorbar\":{\"outlinewidth\":0,\"ticks\":\"\"}}}],\"bar\":[{\"error_x\":{\"color\":\"#2a3f5f\"},\"error_y\":{\"color\":\"#2a3f5f\"},\"marker\":{\"line\":{\"color\":\"#E5ECF6\",\"width\":0.5},\"pattern\":{\"fillmode\":\"overlay\",\"size\":10,\"solidity\":0.2}},\"type\":\"bar\"}],\"scattergeo\":[{\"type\":\"scattergeo\",\"marker\":{\"colorbar\":{\"outlinewidth\":0,\"ticks\":\"\"}}}],\"scatterpolar\":[{\"type\":\"scatterpolar\",\"marker\":{\"colorbar\":{\"outlinewidth\":0,\"ticks\":\"\"}}}],\"histogram\":[{\"marker\":{\"pattern\":{\"fillmode\":\"overlay\",\"size\":10,\"solidity\":0.2}},\"type\":\"histogram\"}],\"scattergl\":[{\"type\":\"scattergl\",\"marker\":{\"colorbar\":{\"outlinewidth\":0,\"ticks\":\"\"}}}],\"scatter3d\":[{\"type\":\"scatter3d\",\"line\":{\"colorbar\":{\"outlinewidth\":0,\"ticks\":\"\"}},\"marker\":{\"colorbar\":{\"outlinewidth\":0,\"ticks\":\"\"}}}],\"scattermapbox\":[{\"type\":\"scattermapbox\",\"marker\":{\"colorbar\":{\"outlinewidth\":0,\"ticks\":\"\"}}}],\"scatterternary\":[{\"type\":\"scatterternary\",\"marker\":{\"colorbar\":{\"outlinewidth\":0,\"ticks\":\"\"}}}],\"scattercarpet\":[{\"type\":\"scattercarpet\",\"marker\":{\"colorbar\":{\"outlinewidth\":0,\"ticks\":\"\"}}}],\"carpet\":[{\"aaxis\":{\"endlinecolor\":\"#2a3f5f\",\"gridcolor\":\"white\",\"linecolor\":\"white\",\"minorgridcolor\":\"white\",\"startlinecolor\":\"#2a3f5f\"},\"baxis\":{\"endlinecolor\":\"#2a3f5f\",\"gridcolor\":\"white\",\"linecolor\":\"white\",\"minorgridcolor\":\"white\",\"startlinecolor\":\"#2a3f5f\"},\"type\":\"carpet\"}],\"table\":[{\"cells\":{\"fill\":{\"color\":\"#EBF0F8\"},\"line\":{\"color\":\"white\"}},\"header\":{\"fill\":{\"color\":\"#C8D4E3\"},\"line\":{\"color\":\"white\"}},\"type\":\"table\"}],\"barpolar\":[{\"marker\":{\"line\":{\"color\":\"#E5ECF6\",\"width\":0.5},\"pattern\":{\"fillmode\":\"overlay\",\"size\":10,\"solidity\":0.2}},\"type\":\"barpolar\"}],\"pie\":[{\"automargin\":true,\"type\":\"pie\"}]},\"layout\":{\"autotypenumbers\":\"strict\",\"colorway\":[\"#636efa\",\"#EF553B\",\"#00cc96\",\"#ab63fa\",\"#FFA15A\",\"#19d3f3\",\"#FF6692\",\"#B6E880\",\"#FF97FF\",\"#FECB52\"],\"font\":{\"color\":\"#2a3f5f\"},\"hovermode\":\"closest\",\"hoverlabel\":{\"align\":\"left\"},\"paper_bgcolor\":\"white\",\"plot_bgcolor\":\"#E5ECF6\",\"polar\":{\"bgcolor\":\"#E5ECF6\",\"angularaxis\":{\"gridcolor\":\"white\",\"linecolor\":\"white\",\"ticks\":\"\"},\"radialaxis\":{\"gridcolor\":\"white\",\"linecolor\":\"white\",\"ticks\":\"\"}},\"ternary\":{\"bgcolor\":\"#E5ECF6\",\"aaxis\":{\"gridcolor\":\"white\",\"linecolor\":\"white\",\"ticks\":\"\"},\"baxis\":{\"gridcolor\":\"white\",\"linecolor\":\"white\",\"ticks\":\"\"},\"caxis\":{\"gridcolor\":\"white\",\"linecolor\":\"white\",\"ticks\":\"\"}},\"coloraxis\":{\"colorbar\":{\"outlinewidth\":0,\"ticks\":\"\"}},\"colorscale\":{\"sequential\":[[0.0,\"#0d0887\"],[0.1111111111111111,\"#46039f\"],[0.2222222222222222,\"#7201a8\"],[0.3333333333333333,\"#9c179e\"],[0.4444444444444444,\"#bd3786\"],[0.5555555555555556,\"#d8576b\"],[0.6666666666666666,\"#ed7953\"],[0.7777777777777778,\"#fb9f3a\"],[0.8888888888888888,\"#fdca26\"],[1.0,\"#f0f921\"]],\"sequentialminus\":[[0.0,\"#0d0887\"],[0.1111111111111111,\"#46039f\"],[0.2222222222222222,\"#7201a8\"],[0.3333333333333333,\"#9c179e\"],[0.4444444444444444,\"#bd3786\"],[0.5555555555555556,\"#d8576b\"],[0.6666666666666666,\"#ed7953\"],[0.7777777777777778,\"#fb9f3a\"],[0.8888888888888888,\"#fdca26\"],[1.0,\"#f0f921\"]],\"diverging\":[[0,\"#8e0152\"],[0.1,\"#c51b7d\"],[0.2,\"#de77ae\"],[0.3,\"#f1b6da\"],[0.4,\"#fde0ef\"],[0.5,\"#f7f7f7\"],[0.6,\"#e6f5d0\"],[0.7,\"#b8e186\"],[0.8,\"#7fbc41\"],[0.9,\"#4d9221\"],[1,\"#276419\"]]},\"xaxis\":{\"gridcolor\":\"white\",\"linecolor\":\"white\",\"ticks\":\"\",\"title\":{\"standoff\":15},\"zerolinecolor\":\"white\",\"automargin\":true,\"zerolinewidth\":2},\"yaxis\":{\"gridcolor\":\"white\",\"linecolor\":\"white\",\"ticks\":\"\",\"title\":{\"standoff\":15},\"zerolinecolor\":\"white\",\"automargin\":true,\"zerolinewidth\":2},\"scene\":{\"xaxis\":{\"backgroundcolor\":\"#E5ECF6\",\"gridcolor\":\"white\",\"linecolor\":\"white\",\"showbackground\":true,\"ticks\":\"\",\"zerolinecolor\":\"white\",\"gridwidth\":2},\"yaxis\":{\"backgroundcolor\":\"#E5ECF6\",\"gridcolor\":\"white\",\"linecolor\":\"white\",\"showbackground\":true,\"ticks\":\"\",\"zerolinecolor\":\"white\",\"gridwidth\":2},\"zaxis\":{\"backgroundcolor\":\"#E5ECF6\",\"gridcolor\":\"white\",\"linecolor\":\"white\",\"showbackground\":true,\"ticks\":\"\",\"zerolinecolor\":\"white\",\"gridwidth\":2}},\"shapedefaults\":{\"line\":{\"color\":\"#2a3f5f\"}},\"annotationdefaults\":{\"arrowcolor\":\"#2a3f5f\",\"arrowhead\":0,\"arrowwidth\":1},\"geo\":{\"bgcolor\":\"white\",\"landcolor\":\"#E5ECF6\",\"subunitcolor\":\"white\",\"showland\":true,\"showlakes\":true,\"lakecolor\":\"white\"},\"title\":{\"x\":0.05},\"mapbox\":{\"style\":\"light\"}}},\"xaxis\":{\"anchor\":\"y\",\"domain\":[0.0,1.0],\"title\":{\"text\":\"2019\"}},\"yaxis\":{\"anchor\":\"x\",\"domain\":[0.0,1.0],\"title\":{\"text\":\"2023\"}},\"legend\":{\"title\":{\"text\":\"Type\"},\"tracegroupgap\":0,\"itemsizing\":\"constant\"},\"title\":{\"text\":\"2022 vs 2019 Ridership by Station\"},\"hovermode\":\"x\"},                        {\"responsive\": true}                    ).then(function(){\n",
       "                            \n",
       "var gd = document.getElementById('c74b2cb6-44bb-4e2e-84c2-6ca124d3f226');\n",
       "var x = new MutationObserver(function (mutations, observer) {{\n",
       "        var display = window.getComputedStyle(gd).display;\n",
       "        if (!display || display === 'none') {{\n",
       "            console.log([gd, 'removed!']);\n",
       "            Plotly.purge(gd);\n",
       "            observer.disconnect();\n",
       "        }}\n",
       "}});\n",
       "\n",
       "// Listen for the removal of the full notebook cells\n",
       "var notebookContainer = gd.closest('#notebook-container');\n",
       "if (notebookContainer) {{\n",
       "    x.observe(notebookContainer, {childList: true});\n",
       "}}\n",
       "\n",
       "// Listen for the clearing of the current output cell\n",
       "var outputEl = gd.closest('.output');\n",
       "if (outputEl) {{\n",
       "    x.observe(outputEl, {childList: true});\n",
       "}}\n",
       "\n",
       "                        })                };                });            </script>        </div>"
      ]
     },
     "metadata": {},
     "output_type": "display_data"
    }
   ],
   "source": [
    "# Bounceback Analysis\n",
    "texts = [''] * 50\n",
    "texts[18] = 'EMBR'\n",
    "texts[28] = 'MONT'\n",
    "texts[37] = 'POWL'\n",
    "texts[10] = 'CIVC'\n",
    "texts[42] = 'SF Air'\n",
    "texts[31] = 'OAK Air'\n",
    "\n",
    "ratio_scat = px.scatter(station_19v23,\n",
    "                         x=\"2019\", \n",
    "                         y=\"2023\",\n",
    "                         labels={\"Trip Count_2019\":\"2019\",\"Trip Count_2022\":\"2022\"},\n",
    "                        color = \"Type\",\n",
    "                         trendline=\"ols\", trendline_scope=\"overall\",\n",
    "                        text = texts,\n",
    "                        hover_data=[\"Station\"],\n",
    "                        size=\"2023\", size_max=20,\n",
    "                         title = \"2022 vs 2019 Ridership by Station\")\n",
    "# ratio_scat.add_trace(\n",
    "#     go.Scatter(x=station_19v23['2019'], y=station_19v23['2019'], name=\"100% Bounceback\", line_shape='linear')\n",
    "# )\n",
    "ratio_scat.update_layout(hovermode=\"x\")\n",
    "# ratio_scat.update_yaxes(range = [0,40000000])\n",
    "ratio_scat.write_image(\"images/ratio_scat.png\")\n",
    "ratio_scat.write_image(\"images/ratio_scat.svg\")\n",
    "ratio_scat.show()"
   ]
  },
  {
   "cell_type": "markdown",
   "id": "7de696ad-e709-4c95-8593-f904526aa282",
   "metadata": {},
   "source": [
    "Station Performance:\n",
    "- SF Downtown are the busiest stations. \n",
    "- POWL is the hub of shopping and retail.\n",
    "- MONT underperforms. MONT is the hub of corporate offices / Financial District.\n",
    "- EMBR and CIVC are on the trendline. EMBR is a mix of offices and tourism which CIVC is all SF City Jobs and City Hall. \n",
    "\n",
    "Regression line is .35 --> bounceback is 35%\n",
    "\n",
    "Other Data points of note: SF Airport\n"
   ]
  },
  {
   "cell_type": "code",
   "execution_count": 708,
   "id": "f7416e32-8d14-4316-a901-38bed1f4103c",
   "metadata": {},
   "outputs": [
    {
     "data": {
      "text/html": [
       "<div>\n",
       "<style scoped>\n",
       "    .dataframe tbody tr th:only-of-type {\n",
       "        vertical-align: middle;\n",
       "    }\n",
       "\n",
       "    .dataframe tbody tr th {\n",
       "        vertical-align: top;\n",
       "    }\n",
       "\n",
       "    .dataframe thead th {\n",
       "        text-align: right;\n",
       "    }\n",
       "</style>\n",
       "<table border=\"1\" class=\"dataframe\">\n",
       "  <thead>\n",
       "    <tr style=\"text-align: right;\">\n",
       "      <th></th>\n",
       "      <th>Station</th>\n",
       "      <th>2019</th>\n",
       "      <th>2023</th>\n",
       "      <th>Type</th>\n",
       "      <th>Bounceback</th>\n",
       "      <th>2019 Rank</th>\n",
       "      <th>2023 Rank</th>\n",
       "    </tr>\n",
       "  </thead>\n",
       "  <tbody>\n",
       "    <tr>\n",
       "      <th>10</th>\n",
       "      <td>CIVC</td>\n",
       "      <td>13792756</td>\n",
       "      <td>5417672.0</td>\n",
       "      <td>SF Downtown</td>\n",
       "      <td>0.392791</td>\n",
       "      <td>4.0</td>\n",
       "      <td>4.0</td>\n",
       "    </tr>\n",
       "    <tr>\n",
       "      <th>18</th>\n",
       "      <td>EMBR</td>\n",
       "      <td>24836028</td>\n",
       "      <td>9012387.0</td>\n",
       "      <td>SF Downtown</td>\n",
       "      <td>0.362876</td>\n",
       "      <td>1.0</td>\n",
       "      <td>1.0</td>\n",
       "    </tr>\n",
       "    <tr>\n",
       "      <th>28</th>\n",
       "      <td>MONT</td>\n",
       "      <td>23767969</td>\n",
       "      <td>7371293.0</td>\n",
       "      <td>SF Downtown</td>\n",
       "      <td>0.310136</td>\n",
       "      <td>2.0</td>\n",
       "      <td>3.0</td>\n",
       "    </tr>\n",
       "    <tr>\n",
       "      <th>37</th>\n",
       "      <td>POWL</td>\n",
       "      <td>17355760</td>\n",
       "      <td>7507818.0</td>\n",
       "      <td>SF Downtown</td>\n",
       "      <td>0.432584</td>\n",
       "      <td>3.0</td>\n",
       "      <td>2.0</td>\n",
       "    </tr>\n",
       "  </tbody>\n",
       "</table>\n",
       "</div>"
      ],
      "text/plain": [
       "   Station      2019       2023         Type  Bounceback  2019 Rank  2023 Rank\n",
       "10    CIVC  13792756  5417672.0  SF Downtown    0.392791        4.0        4.0\n",
       "18    EMBR  24836028  9012387.0  SF Downtown    0.362876        1.0        1.0\n",
       "28    MONT  23767969  7371293.0  SF Downtown    0.310136        2.0        3.0\n",
       "37    POWL  17355760  7507818.0  SF Downtown    0.432584        3.0        2.0"
      ]
     },
     "execution_count": 708,
     "metadata": {},
     "output_type": "execute_result"
    }
   ],
   "source": [
    "#Downtown Bounceback stats and calculations\n",
    "\n",
    "station_19v23['Bounceback'] = station_19v23['2023']/station_19v23['2019']\n",
    "# station_19v23 = station_19v23.sort_values(by = 'Bounceback',ascending = False).drop([8,27])\n",
    "station_19v23['2019 Rank'] = station_19v23['2019'].rank(ascending = False)\n",
    "station_19v23['2023 Rank'] = station_19v23['2023'].rank(ascending = False)\n",
    "station_19v23[station_19v23['Station'].isin(['MONT','EMBR','CIVC','POWL'])]"
   ]
  },
  {
   "cell_type": "code",
   "execution_count": 685,
   "id": "7d70ab64-1316-482b-8d0d-e62f40f7a92d",
   "metadata": {},
   "outputs": [
    {
     "data": {
      "text/html": [
       "<div>\n",
       "<style scoped>\n",
       "    .dataframe tbody tr th:only-of-type {\n",
       "        vertical-align: middle;\n",
       "    }\n",
       "\n",
       "    .dataframe tbody tr th {\n",
       "        vertical-align: top;\n",
       "    }\n",
       "\n",
       "    .dataframe thead th {\n",
       "        text-align: right;\n",
       "    }\n",
       "</style>\n",
       "<table border=\"1\" class=\"dataframe\">\n",
       "  <thead>\n",
       "    <tr style=\"text-align: right;\">\n",
       "      <th></th>\n",
       "      <th>2019</th>\n",
       "      <th>2023</th>\n",
       "      <th>2019_Vol</th>\n",
       "      <th>2023_Vol</th>\n",
       "    </tr>\n",
       "    <tr>\n",
       "      <th>Type</th>\n",
       "      <th></th>\n",
       "      <th></th>\n",
       "      <th></th>\n",
       "      <th></th>\n",
       "    </tr>\n",
       "  </thead>\n",
       "  <tbody>\n",
       "    <tr>\n",
       "      <th>Airport</th>\n",
       "      <td>4937473</td>\n",
       "      <td>2860337.0</td>\n",
       "      <td>0.020814</td>\n",
       "      <td>0.029367</td>\n",
       "    </tr>\n",
       "    <tr>\n",
       "      <th>Other Stations</th>\n",
       "      <td>152529224</td>\n",
       "      <td>65229870.0</td>\n",
       "      <td>0.642988</td>\n",
       "      <td>0.669715</td>\n",
       "    </tr>\n",
       "    <tr>\n",
       "      <th>SF Downtown</th>\n",
       "      <td>79752513</td>\n",
       "      <td>29309170.0</td>\n",
       "      <td>0.336198</td>\n",
       "      <td>0.300917</td>\n",
       "    </tr>\n",
       "  </tbody>\n",
       "</table>\n",
       "</div>"
      ],
      "text/plain": [
       "                     2019        2023  2019_Vol  2023_Vol\n",
       "Type                                                     \n",
       "Airport           4937473   2860337.0  0.020814  0.029367\n",
       "Other Stations  152529224  65229870.0  0.642988  0.669715\n",
       "SF Downtown      79752513  29309170.0  0.336198  0.300917"
      ]
     },
     "execution_count": 685,
     "metadata": {},
     "output_type": "execute_result"
    }
   ],
   "source": [
    "# Share of total volume for Airport, SF Downtown and Other Stations\n",
    "dt_volume = station_19v23.groupby('Type')[['2019','2023']].agg('sum')\n",
    "dt_volume['2019_Vol'] = dt_volume['2019']/dt_volume['2019'].sum()\n",
    "dt_volume['2023_Vol'] = dt_volume['2023']/dt_volume['2023'].sum()\n",
    "dt_volume"
   ]
  },
  {
   "cell_type": "markdown",
   "id": "b8b381c8-7f67-40d3-9abd-5d31d57afc7c",
   "metadata": {},
   "source": [
    "## Station Route Heat Map"
   ]
  },
  {
   "cell_type": "code",
   "execution_count": 722,
   "id": "0b30fb17-15bc-4e96-9bd7-69274797206c",
   "metadata": {},
   "outputs": [
    {
     "data": {
      "text/html": [
       "<div>\n",
       "<style scoped>\n",
       "    .dataframe tbody tr th:only-of-type {\n",
       "        vertical-align: middle;\n",
       "    }\n",
       "\n",
       "    .dataframe tbody tr th {\n",
       "        vertical-align: top;\n",
       "    }\n",
       "\n",
       "    .dataframe thead th {\n",
       "        text-align: right;\n",
       "    }\n",
       "</style>\n",
       "<table border=\"1\" class=\"dataframe\">\n",
       "  <thead>\n",
       "    <tr style=\"text-align: right;\">\n",
       "      <th></th>\n",
       "      <th>RICH</th>\n",
       "      <th>DELN</th>\n",
       "      <th>PLZA</th>\n",
       "      <th>NBRK</th>\n",
       "      <th>DBRK</th>\n",
       "      <th>ASHB</th>\n",
       "      <th>MCAR</th>\n",
       "      <th>19TH</th>\n",
       "      <th>12TH</th>\n",
       "      <th>LAKE</th>\n",
       "      <th>...</th>\n",
       "      <th>SBRN</th>\n",
       "      <th>SFIA</th>\n",
       "      <th>MLBR</th>\n",
       "      <th>WDUB</th>\n",
       "      <th>OAKL</th>\n",
       "      <th>WARM</th>\n",
       "      <th>MLPT</th>\n",
       "      <th>BERY</th>\n",
       "      <th>PCTR</th>\n",
       "      <th>ANTC</th>\n",
       "    </tr>\n",
       "  </thead>\n",
       "  <tbody>\n",
       "    <tr>\n",
       "      <th>RICH</th>\n",
       "      <td>482</td>\n",
       "      <td>1690</td>\n",
       "      <td>1540</td>\n",
       "      <td>847</td>\n",
       "      <td>5216</td>\n",
       "      <td>1237</td>\n",
       "      <td>1891</td>\n",
       "      <td>1394</td>\n",
       "      <td>1642</td>\n",
       "      <td>484</td>\n",
       "      <td>...</td>\n",
       "      <td>302</td>\n",
       "      <td>1090</td>\n",
       "      <td>315</td>\n",
       "      <td>57</td>\n",
       "      <td>203</td>\n",
       "      <td>256</td>\n",
       "      <td>206</td>\n",
       "      <td>212</td>\n",
       "      <td>103</td>\n",
       "      <td>239</td>\n",
       "    </tr>\n",
       "    <tr>\n",
       "      <th>DELN</th>\n",
       "      <td>1758</td>\n",
       "      <td>523</td>\n",
       "      <td>1465</td>\n",
       "      <td>1100</td>\n",
       "      <td>7445</td>\n",
       "      <td>1400</td>\n",
       "      <td>2554</td>\n",
       "      <td>3062</td>\n",
       "      <td>3994</td>\n",
       "      <td>843</td>\n",
       "      <td>...</td>\n",
       "      <td>403</td>\n",
       "      <td>1775</td>\n",
       "      <td>612</td>\n",
       "      <td>161</td>\n",
       "      <td>582</td>\n",
       "      <td>460</td>\n",
       "      <td>375</td>\n",
       "      <td>510</td>\n",
       "      <td>64</td>\n",
       "      <td>229</td>\n",
       "    </tr>\n",
       "  </tbody>\n",
       "</table>\n",
       "<p>2 rows × 50 columns</p>\n",
       "</div>"
      ],
      "text/plain": [
       "      RICH  DELN  PLZA  NBRK  DBRK  ASHB  MCAR  19TH  12TH  LAKE  ...  SBRN  \\\n",
       "RICH   482  1690  1540   847  5216  1237  1891  1394  1642   484  ...   302   \n",
       "DELN  1758   523  1465  1100  7445  1400  2554  3062  3994   843  ...   403   \n",
       "\n",
       "      SFIA  MLBR  WDUB  OAKL  WARM  MLPT  BERY  PCTR  ANTC  \n",
       "RICH  1090   315    57   203   256   206   212   103   239  \n",
       "DELN  1775   612   161   582   460   375   510    64   229  \n",
       "\n",
       "[2 rows x 50 columns]"
      ]
     },
     "execution_count": 722,
     "metadata": {},
     "output_type": "execute_result"
    }
   ],
   "source": [
    "#Import 2023\n",
    "df202312 = pd.read_excel('ridership_2023/Ridership_202312.xlsx', header = 1,index_col=0,sheet_name = 'Total Trips OD')\n",
    "df202312 = df202312.drop('Entries').drop(columns = 'Exits')\n",
    "df202312.columns = pd.DataFrame(df202312.columns.astype(str)).merge(\n",
    "    station_abr_merge, how ='left', left_on = 0, right_on='Two-Letter Station Code')['Abbr'].to_list()\n",
    "df202312.index = pd.DataFrame(df202312.index.astype(str)).merge(\n",
    "    station_abr_merge, how ='left', left_on = 0, right_on='Two-Letter Station Code')['Abbr'].to_list()\n",
    "df202312.head(2)"
   ]
  },
  {
   "cell_type": "code",
   "execution_count": 716,
   "id": "298e7182-a839-4e5a-b01a-c7da764b324e",
   "metadata": {},
   "outputs": [
    {
     "data": {
      "text/html": [
       "<div>\n",
       "<style scoped>\n",
       "    .dataframe tbody tr th:only-of-type {\n",
       "        vertical-align: middle;\n",
       "    }\n",
       "\n",
       "    .dataframe tbody tr th {\n",
       "        vertical-align: top;\n",
       "    }\n",
       "\n",
       "    .dataframe thead th {\n",
       "        text-align: right;\n",
       "    }\n",
       "</style>\n",
       "<table border=\"1\" class=\"dataframe\">\n",
       "  <thead>\n",
       "    <tr style=\"text-align: right;\">\n",
       "      <th>Origin Station</th>\n",
       "      <th>RICH</th>\n",
       "      <th>DELN</th>\n",
       "      <th>PLZA</th>\n",
       "      <th>NBRK</th>\n",
       "      <th>DBRK</th>\n",
       "      <th>ASHB</th>\n",
       "      <th>MCAR</th>\n",
       "      <th>19TH</th>\n",
       "      <th>12TH</th>\n",
       "      <th>LAKE</th>\n",
       "      <th>...</th>\n",
       "      <th>SBRN</th>\n",
       "      <th>SFIA</th>\n",
       "      <th>MLBR</th>\n",
       "      <th>WDUB</th>\n",
       "      <th>OAKL</th>\n",
       "      <th>WARM</th>\n",
       "      <th>MLPT</th>\n",
       "      <th>BERY</th>\n",
       "      <th>PCTR</th>\n",
       "      <th>ANTC</th>\n",
       "    </tr>\n",
       "    <tr>\n",
       "      <th>Destination Station</th>\n",
       "      <th></th>\n",
       "      <th></th>\n",
       "      <th></th>\n",
       "      <th></th>\n",
       "      <th></th>\n",
       "      <th></th>\n",
       "      <th></th>\n",
       "      <th></th>\n",
       "      <th></th>\n",
       "      <th></th>\n",
       "      <th></th>\n",
       "      <th></th>\n",
       "      <th></th>\n",
       "      <th></th>\n",
       "      <th></th>\n",
       "      <th></th>\n",
       "      <th></th>\n",
       "      <th></th>\n",
       "      <th></th>\n",
       "      <th></th>\n",
       "      <th></th>\n",
       "    </tr>\n",
       "  </thead>\n",
       "  <tbody>\n",
       "    <tr>\n",
       "      <th>RICH</th>\n",
       "      <td>788.250000</td>\n",
       "      <td>2785.916667</td>\n",
       "      <td>2337.083333</td>\n",
       "      <td>1710.25</td>\n",
       "      <td>10177.250000</td>\n",
       "      <td>2361.166667</td>\n",
       "      <td>3334.250000</td>\n",
       "      <td>3816.416667</td>\n",
       "      <td>4113.75</td>\n",
       "      <td>1190.500000</td>\n",
       "      <td>...</td>\n",
       "      <td>537.916667</td>\n",
       "      <td>1611.583333</td>\n",
       "      <td>644.166667</td>\n",
       "      <td>151.750000</td>\n",
       "      <td>366.916667</td>\n",
       "      <td>460.000000</td>\n",
       "      <td>NaN</td>\n",
       "      <td>NaN</td>\n",
       "      <td>249.416667</td>\n",
       "      <td>288.333333</td>\n",
       "    </tr>\n",
       "    <tr>\n",
       "      <th>DELN</th>\n",
       "      <td>2939.333333</td>\n",
       "      <td>776.250000</td>\n",
       "      <td>2115.916667</td>\n",
       "      <td>2084.00</td>\n",
       "      <td>18625.583333</td>\n",
       "      <td>3251.500000</td>\n",
       "      <td>5825.916667</td>\n",
       "      <td>10407.250000</td>\n",
       "      <td>12399.50</td>\n",
       "      <td>2489.916667</td>\n",
       "      <td>...</td>\n",
       "      <td>928.000000</td>\n",
       "      <td>3587.666667</td>\n",
       "      <td>1547.500000</td>\n",
       "      <td>289.416667</td>\n",
       "      <td>1033.333333</td>\n",
       "      <td>1145.833333</td>\n",
       "      <td>NaN</td>\n",
       "      <td>NaN</td>\n",
       "      <td>210.916667</td>\n",
       "      <td>274.500000</td>\n",
       "    </tr>\n",
       "  </tbody>\n",
       "</table>\n",
       "<p>2 rows × 50 columns</p>\n",
       "</div>"
      ],
      "text/plain": [
       "Origin Station              RICH         DELN         PLZA     NBRK  \\\n",
       "Destination Station                                                   \n",
       "RICH                  788.250000  2785.916667  2337.083333  1710.25   \n",
       "DELN                 2939.333333   776.250000  2115.916667  2084.00   \n",
       "\n",
       "Origin Station               DBRK         ASHB         MCAR          19TH  \\\n",
       "Destination Station                                                         \n",
       "RICH                 10177.250000  2361.166667  3334.250000   3816.416667   \n",
       "DELN                 18625.583333  3251.500000  5825.916667  10407.250000   \n",
       "\n",
       "Origin Station           12TH         LAKE  ...        SBRN         SFIA  \\\n",
       "Destination Station                         ...                            \n",
       "RICH                  4113.75  1190.500000  ...  537.916667  1611.583333   \n",
       "DELN                 12399.50  2489.916667  ...  928.000000  3587.666667   \n",
       "\n",
       "Origin Station              MLBR        WDUB         OAKL         WARM  MLPT  \\\n",
       "Destination Station                                                            \n",
       "RICH                  644.166667  151.750000   366.916667   460.000000   NaN   \n",
       "DELN                 1547.500000  289.416667  1033.333333  1145.833333   NaN   \n",
       "\n",
       "Origin Station       BERY        PCTR        ANTC  \n",
       "Destination Station                                \n",
       "RICH                  NaN  249.416667  288.333333  \n",
       "DELN                  NaN  210.916667  274.500000  \n",
       "\n",
       "[2 rows x 50 columns]"
      ]
     },
     "execution_count": 716,
     "metadata": {},
     "output_type": "execute_result"
    }
   ],
   "source": [
    "#Import 2019\n",
    "df2019 = pd.read_csv('date-hour-soo-dest-2019.csv', header = 0)\n",
    "df2019 = df2019.groupby(['Date','Origin Station','Destination Station'])['Trip Count'].sum().reset_index()\n",
    "df2019['Date'] = pd.to_datetime(df2019['Date'], format = '%Y-%m-%d')\n",
    "df2019['Month'] = df2019['Date'].dt.month\n",
    "to_pivot = df2019.groupby(['Month','Origin Station','Destination Station'])['Trip Count'].sum().reset_index().groupby(\n",
    "    ['Origin Station','Destination Station'])['Trip Count'].mean().reset_index()\n",
    "to_pivot = to_pivot.pivot(index='Destination Station', columns='Origin Station', values='Trip Count')\n",
    "to_pivot = to_pivot[df202312.columns.to_list()]\n",
    "to_pivot = to_pivot.reindex(df202312.index.to_list())\n",
    "to_pivot.head(2)"
   ]
  },
  {
   "cell_type": "code",
   "execution_count": 717,
   "id": "4d5925f1-8165-460a-abd7-43f84516fed0",
   "metadata": {},
   "outputs": [
    {
     "data": {
      "image/png": "[encoded data removed]",
      "text/plain": [
       "<Figure size 640x480 with 2 Axes>"
      ]
     },
     "metadata": {},
     "output_type": "display_data"
    }
   ],
   "source": [
    "#2019 Heatmap\n",
    "\n",
    "heatmap_2019 = sns.heatmap(to_pivot.drop(['MLPT','BERY']).drop(columns = ['MLPT','BERY'],))\n",
    "plt.title(\"2019 Heatmap (Station Rides a Month)\")\n",
    "plt.xlabel(\"Origin Station\")\n",
    "plt.ylabel(\"Destination Station\")\n",
    "plt.savefig(\"images/2019_heatmap.svg\")\n",
    "plt.savefig(\"images/2019_heatmap.png\")"
   ]
  },
  {
   "cell_type": "code",
   "execution_count": 723,
   "id": "95a5556b-5c83-492c-b4d1-7971a83ffbbe",
   "metadata": {},
   "outputs": [
    {
     "data": {
      "image/png": "[encoded data removed]",
      "text/plain": [
       "<Figure size 640x480 with 2 Axes>"
      ]
     },
     "metadata": {},
     "output_type": "display_data"
    }
   ],
   "source": [
    "#2023 Route Map\n",
    "sns.heatmap(df202312)\n",
    "plt.title(\"2023 Heatmap (Station Rides a Month)\")\n",
    "plt.savefig(\"images/2023_heatmap.svg\")\n",
    "plt.savefig(\"images/2023_heatmap.png\")"
   ]
  },
  {
   "cell_type": "markdown",
   "id": "c4b14687-2ed0-4b22-aa4e-bdaa843e2f4f",
   "metadata": {},
   "source": [
    "Heatmaps are pretty identical in 2019 v 2023, which different scales. \n",
    "\n",
    "MCAR / 12th (DT Oakland) and DT SF commute patterns are lesser. Cropping of MLBR to SF Downtown."
   ]
  },
  {
   "cell_type": "markdown",
   "id": "7e8246f5-a357-4064-9e88-d280e35e71b2",
   "metadata": {},
   "source": [
    "#### Background Data Station Matching"
   ]
  },
  {
   "cell_type": "code",
   "execution_count": 680,
   "id": "974dd0d0-6fba-4eae-9e79-70fc43d51ab7",
   "metadata": {},
   "outputs": [
    {
     "data": {
      "text/html": [
       "<div>\n",
       "<style scoped>\n",
       "    .dataframe tbody tr th:only-of-type {\n",
       "        vertical-align: middle;\n",
       "    }\n",
       "\n",
       "    .dataframe tbody tr th {\n",
       "        vertical-align: top;\n",
       "    }\n",
       "\n",
       "    .dataframe thead th {\n",
       "        text-align: right;\n",
       "    }\n",
       "</style>\n",
       "<table border=\"1\" class=\"dataframe\">\n",
       "  <thead>\n",
       "    <tr style=\"text-align: right;\">\n",
       "      <th></th>\n",
       "      <th>Station Name</th>\n",
       "      <th>Two-Letter Station Code</th>\n",
       "      <th>Abbr</th>\n",
       "    </tr>\n",
       "  </thead>\n",
       "  <tbody>\n",
       "    <tr>\n",
       "      <th>0</th>\n",
       "      <td>Richmond</td>\n",
       "      <td>RM</td>\n",
       "      <td>RICH</td>\n",
       "    </tr>\n",
       "    <tr>\n",
       "      <th>1</th>\n",
       "      <td>El Cerrito Del Norte</td>\n",
       "      <td>EN</td>\n",
       "      <td>DELN</td>\n",
       "    </tr>\n",
       "    <tr>\n",
       "      <th>2</th>\n",
       "      <td>El Cerrito Plaza</td>\n",
       "      <td>EP</td>\n",
       "      <td>PLZA</td>\n",
       "    </tr>\n",
       "    <tr>\n",
       "      <th>3</th>\n",
       "      <td>North Berkeley</td>\n",
       "      <td>NB</td>\n",
       "      <td>NBRK</td>\n",
       "    </tr>\n",
       "    <tr>\n",
       "      <th>4</th>\n",
       "      <td>Berkeley</td>\n",
       "      <td>BK</td>\n",
       "      <td>DBRK</td>\n",
       "    </tr>\n",
       "    <tr>\n",
       "      <th>5</th>\n",
       "      <td>Ashby</td>\n",
       "      <td>AS</td>\n",
       "      <td>ASHB</td>\n",
       "    </tr>\n",
       "    <tr>\n",
       "      <th>6</th>\n",
       "      <td>MacArthur</td>\n",
       "      <td>MA</td>\n",
       "      <td>MCAR</td>\n",
       "    </tr>\n",
       "    <tr>\n",
       "      <th>7</th>\n",
       "      <td>19th Street Oakland</td>\n",
       "      <td>19</td>\n",
       "      <td>19TH</td>\n",
       "    </tr>\n",
       "    <tr>\n",
       "      <th>8</th>\n",
       "      <td>12th Street / Oakland City Center</td>\n",
       "      <td>12</td>\n",
       "      <td>12TH</td>\n",
       "    </tr>\n",
       "    <tr>\n",
       "      <th>9</th>\n",
       "      <td>Lake Merritt</td>\n",
       "      <td>LM</td>\n",
       "      <td>LAKE</td>\n",
       "    </tr>\n",
       "    <tr>\n",
       "      <th>10</th>\n",
       "      <td>Fruitvale</td>\n",
       "      <td>FV</td>\n",
       "      <td>FTVL</td>\n",
       "    </tr>\n",
       "    <tr>\n",
       "      <th>11</th>\n",
       "      <td>Coliseum</td>\n",
       "      <td>CL</td>\n",
       "      <td>COLS</td>\n",
       "    </tr>\n",
       "    <tr>\n",
       "      <th>12</th>\n",
       "      <td>San Leandro</td>\n",
       "      <td>SL</td>\n",
       "      <td>SANL</td>\n",
       "    </tr>\n",
       "    <tr>\n",
       "      <th>13</th>\n",
       "      <td>Bayfair</td>\n",
       "      <td>BF</td>\n",
       "      <td>BAYF</td>\n",
       "    </tr>\n",
       "    <tr>\n",
       "      <th>14</th>\n",
       "      <td>Hayward</td>\n",
       "      <td>HY</td>\n",
       "      <td>HAYW</td>\n",
       "    </tr>\n",
       "    <tr>\n",
       "      <th>15</th>\n",
       "      <td>South Hayward</td>\n",
       "      <td>SH</td>\n",
       "      <td>SHAY</td>\n",
       "    </tr>\n",
       "    <tr>\n",
       "      <th>16</th>\n",
       "      <td>Union City</td>\n",
       "      <td>UC</td>\n",
       "      <td>UCTY</td>\n",
       "    </tr>\n",
       "    <tr>\n",
       "      <th>17</th>\n",
       "      <td>Fremont</td>\n",
       "      <td>FM</td>\n",
       "      <td>FRMT</td>\n",
       "    </tr>\n",
       "    <tr>\n",
       "      <th>18</th>\n",
       "      <td>Concord</td>\n",
       "      <td>CN</td>\n",
       "      <td>CONC</td>\n",
       "    </tr>\n",
       "    <tr>\n",
       "      <th>19</th>\n",
       "      <td>Pleasant Hill</td>\n",
       "      <td>PH</td>\n",
       "      <td>PHIL</td>\n",
       "    </tr>\n",
       "    <tr>\n",
       "      <th>20</th>\n",
       "      <td>Walnut Creek</td>\n",
       "      <td>WC</td>\n",
       "      <td>WCRK</td>\n",
       "    </tr>\n",
       "    <tr>\n",
       "      <th>21</th>\n",
       "      <td>Lafayette</td>\n",
       "      <td>LF</td>\n",
       "      <td>LAFY</td>\n",
       "    </tr>\n",
       "    <tr>\n",
       "      <th>22</th>\n",
       "      <td>Orinda</td>\n",
       "      <td>OR</td>\n",
       "      <td>ORIN</td>\n",
       "    </tr>\n",
       "    <tr>\n",
       "      <th>23</th>\n",
       "      <td>Rockridge</td>\n",
       "      <td>RR</td>\n",
       "      <td>ROCK</td>\n",
       "    </tr>\n",
       "    <tr>\n",
       "      <th>24</th>\n",
       "      <td>West Oakland</td>\n",
       "      <td>OW</td>\n",
       "      <td>WOAK</td>\n",
       "    </tr>\n",
       "    <tr>\n",
       "      <th>25</th>\n",
       "      <td>Embarcadero</td>\n",
       "      <td>EM</td>\n",
       "      <td>EMBR</td>\n",
       "    </tr>\n",
       "    <tr>\n",
       "      <th>26</th>\n",
       "      <td>Montgomery Street</td>\n",
       "      <td>MT</td>\n",
       "      <td>MONT</td>\n",
       "    </tr>\n",
       "    <tr>\n",
       "      <th>27</th>\n",
       "      <td>Powell Street</td>\n",
       "      <td>PL</td>\n",
       "      <td>POWL</td>\n",
       "    </tr>\n",
       "    <tr>\n",
       "      <th>28</th>\n",
       "      <td>Civic Center</td>\n",
       "      <td>CC</td>\n",
       "      <td>CIVC</td>\n",
       "    </tr>\n",
       "    <tr>\n",
       "      <th>29</th>\n",
       "      <td>16th Street Mission</td>\n",
       "      <td>16</td>\n",
       "      <td>16TH</td>\n",
       "    </tr>\n",
       "    <tr>\n",
       "      <th>30</th>\n",
       "      <td>24th Street Mission</td>\n",
       "      <td>24</td>\n",
       "      <td>24TH</td>\n",
       "    </tr>\n",
       "    <tr>\n",
       "      <th>31</th>\n",
       "      <td>Glen Park</td>\n",
       "      <td>GP</td>\n",
       "      <td>GLEN</td>\n",
       "    </tr>\n",
       "    <tr>\n",
       "      <th>32</th>\n",
       "      <td>Balboa Park</td>\n",
       "      <td>BP</td>\n",
       "      <td>BALB</td>\n",
       "    </tr>\n",
       "    <tr>\n",
       "      <th>33</th>\n",
       "      <td>Daly City</td>\n",
       "      <td>DC</td>\n",
       "      <td>DALY</td>\n",
       "    </tr>\n",
       "    <tr>\n",
       "      <th>34</th>\n",
       "      <td>Colma</td>\n",
       "      <td>CM</td>\n",
       "      <td>COLM</td>\n",
       "    </tr>\n",
       "    <tr>\n",
       "      <th>35</th>\n",
       "      <td>Castro Valley</td>\n",
       "      <td>CV</td>\n",
       "      <td>CAST</td>\n",
       "    </tr>\n",
       "    <tr>\n",
       "      <th>36</th>\n",
       "      <td>Dublin/Pleasanton</td>\n",
       "      <td>ED</td>\n",
       "      <td>DUBL</td>\n",
       "    </tr>\n",
       "    <tr>\n",
       "      <th>37</th>\n",
       "      <td>North Concord</td>\n",
       "      <td>NC</td>\n",
       "      <td>NCON</td>\n",
       "    </tr>\n",
       "    <tr>\n",
       "      <th>38</th>\n",
       "      <td>Pittsburg/Bay Point</td>\n",
       "      <td>WP</td>\n",
       "      <td>PITT</td>\n",
       "    </tr>\n",
       "    <tr>\n",
       "      <th>39</th>\n",
       "      <td>South San Francisco</td>\n",
       "      <td>SS</td>\n",
       "      <td>SSAN</td>\n",
       "    </tr>\n",
       "    <tr>\n",
       "      <th>40</th>\n",
       "      <td>San Bruno</td>\n",
       "      <td>SB</td>\n",
       "      <td>SBRN</td>\n",
       "    </tr>\n",
       "    <tr>\n",
       "      <th>41</th>\n",
       "      <td>San Francisco International Airport</td>\n",
       "      <td>SO</td>\n",
       "      <td>SFIA</td>\n",
       "    </tr>\n",
       "    <tr>\n",
       "      <th>42</th>\n",
       "      <td>Millbrae</td>\n",
       "      <td>MB</td>\n",
       "      <td>MLBR</td>\n",
       "    </tr>\n",
       "    <tr>\n",
       "      <th>43</th>\n",
       "      <td>West Dublin/Pleasanton</td>\n",
       "      <td>WD</td>\n",
       "      <td>WDUB</td>\n",
       "    </tr>\n",
       "    <tr>\n",
       "      <th>44</th>\n",
       "      <td>Oakland International Airport</td>\n",
       "      <td>OA</td>\n",
       "      <td>OAKL</td>\n",
       "    </tr>\n",
       "    <tr>\n",
       "      <th>45</th>\n",
       "      <td>Warm Springs</td>\n",
       "      <td>WS</td>\n",
       "      <td>WARM</td>\n",
       "    </tr>\n",
       "    <tr>\n",
       "      <th>46</th>\n",
       "      <td>Antioch</td>\n",
       "      <td>AN</td>\n",
       "      <td>ANTC</td>\n",
       "    </tr>\n",
       "    <tr>\n",
       "      <th>47</th>\n",
       "      <td>Pittsburg Center</td>\n",
       "      <td>PC</td>\n",
       "      <td>PCTR</td>\n",
       "    </tr>\n",
       "    <tr>\n",
       "      <th>48</th>\n",
       "      <td>Milpitas</td>\n",
       "      <td>ML</td>\n",
       "      <td>MLPT</td>\n",
       "    </tr>\n",
       "    <tr>\n",
       "      <th>49</th>\n",
       "      <td>Berryessa / North San José</td>\n",
       "      <td>BE</td>\n",
       "      <td>BERY</td>\n",
       "    </tr>\n",
       "  </tbody>\n",
       "</table>\n",
       "</div>"
      ],
      "text/plain": [
       "                           Station Name Two-Letter Station Code  Abbr\n",
       "0                              Richmond                      RM  RICH\n",
       "1                  El Cerrito Del Norte                      EN  DELN\n",
       "2                      El Cerrito Plaza                      EP  PLZA\n",
       "3                        North Berkeley                      NB  NBRK\n",
       "4                              Berkeley                      BK  DBRK\n",
       "5                                 Ashby                      AS  ASHB\n",
       "6                             MacArthur                      MA  MCAR\n",
       "7                   19th Street Oakland                      19  19TH\n",
       "8     12th Street / Oakland City Center                      12  12TH\n",
       "9                          Lake Merritt                      LM  LAKE\n",
       "10                            Fruitvale                      FV  FTVL\n",
       "11                             Coliseum                      CL  COLS\n",
       "12                          San Leandro                      SL  SANL\n",
       "13                              Bayfair                      BF  BAYF\n",
       "14                              Hayward                      HY  HAYW\n",
       "15                        South Hayward                      SH  SHAY\n",
       "16                           Union City                      UC  UCTY\n",
       "17                              Fremont                      FM  FRMT\n",
       "18                              Concord                      CN  CONC\n",
       "19                        Pleasant Hill                      PH  PHIL\n",
       "20                         Walnut Creek                      WC  WCRK\n",
       "21                            Lafayette                      LF  LAFY\n",
       "22                               Orinda                      OR  ORIN\n",
       "23                            Rockridge                      RR  ROCK\n",
       "24                         West Oakland                      OW  WOAK\n",
       "25                          Embarcadero                      EM  EMBR\n",
       "26                    Montgomery Street                      MT  MONT\n",
       "27                        Powell Street                      PL  POWL\n",
       "28                         Civic Center                      CC  CIVC\n",
       "29                  16th Street Mission                      16  16TH\n",
       "30                  24th Street Mission                      24  24TH\n",
       "31                            Glen Park                      GP  GLEN\n",
       "32                          Balboa Park                      BP  BALB\n",
       "33                            Daly City                      DC  DALY\n",
       "34                                Colma                      CM  COLM\n",
       "35                        Castro Valley                      CV  CAST\n",
       "36                    Dublin/Pleasanton                      ED  DUBL\n",
       "37                        North Concord                      NC  NCON\n",
       "38                  Pittsburg/Bay Point                      WP  PITT\n",
       "39                  South San Francisco                      SS  SSAN\n",
       "40                            San Bruno                      SB  SBRN\n",
       "41  San Francisco International Airport                      SO  SFIA\n",
       "42                             Millbrae                      MB  MLBR\n",
       "43               West Dublin/Pleasanton                      WD  WDUB\n",
       "44        Oakland International Airport                      OA  OAKL\n",
       "45                         Warm Springs                      WS  WARM\n",
       "46                              Antioch                      AN  ANTC\n",
       "47                     Pittsburg Center                      PC  PCTR\n",
       "48                             Milpitas                      ML  MLPT\n",
       "49           Berryessa / North San José                      BE  BERY"
      ]
     },
     "execution_count": 680,
     "metadata": {},
     "output_type": "execute_result"
    }
   ],
   "source": [
    "station_abr_merge = pd.pandas.read_csv('station_abr_merge_final.csv', header = 0, index_col=0)\n",
    "station_abr_merge['Abbr'] = station_abr_merge['Abbr'].str.upper()\n",
    "station_abr_merge"
   ]
  }
 ],
 "metadata": {
  "kernelspec": {
   "display_name": "Python 3 (ipykernel)",
   "language": "python",
   "name": "python3"
  },
  "language_info": {
   "codemirror_mode": {
    "name": "ipython",
    "version": 3
   },
   "file_extension": ".py",
   "mimetype": "text/x-python",
   "name": "python",
   "nbconvert_exporter": "python",
   "pygments_lexer": "ipython3",
   "version": "3.11.5"
  }
 },
 "nbformat": 4,
 "nbformat_minor": 5
}
