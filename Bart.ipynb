{
 "cells": [
  {
   "cell_type": "markdown",
   "id": "4f76a5f9-1f5d-47ee-9f26-070626bdf33f",
   "metadata": {},
   "source": [
    "### Project Brief"
   ]
  },
  {
   "cell_type": "markdown",
   "id": "315ceb62-05b2-4119-b2f1-6a5ccb5818d8",
   "metadata": {},
   "source": [
    "#### BART Background\n",
    "\n",
    "BART started service in 1972 and has grown to service 50 station across five counties. It joins San Francisco International Airport, Oakland International Airport, with San Francisco Downtown, and Oakland Downtown. Currently, BART operates from 5am-12am. \n",
    "\n",
    "The following analysis is based on a single dataset, procured from Kaggle. Its author is BART. The data tracks the bart ticket scans as a rider travels a trip. The rider scans at their origin station, and once again, at their destination station. The data summarizes the total trips per hour per unique combination of origin and destination station. \n",
    "\n",
    "The data encapsulates all rider data from January 1st, 2011 to May 31st, 2023. \n"
   ]
  },
  {
   "cell_type": "markdown",
   "id": "03275f19",
   "metadata": {},
   "source": [
    "# BART RIDERSHIP in the past twelve years"
   ]
  },
  {
   "cell_type": "code",
   "execution_count": 614,
   "id": "675a9508",
   "metadata": {},
   "outputs": [],
   "source": [
    "import pandas as pd\n",
    "import numpy as np\n",
    "import datetime as dt\n",
    "import plotly.express as px\n",
    "import plotly.graph_objects as go\n",
    "import seaborn as sns\n",
    "import matplotlib\n",
    "import scipy.stats as stats"
   ]
  },
  {
   "cell_type": "code",
   "execution_count": 615,
   "id": "62feef5e-448d-445f-ba92-b1e40ff7d4fe",
   "metadata": {},
   "outputs": [],
   "source": [
    "import os\n",
    "if not os.path.exists(\"images\"):\n",
    "    os.mkdir(\"images\")"
   ]
  },
  {
   "cell_type": "markdown",
   "id": "c5b18db5",
   "metadata": {},
   "source": [
    "#### 2011-2024 Ridership"
   ]
  },
  {
   "cell_type": "code",
   "execution_count": 616,
   "id": "53574729-13f9-4e82-ab47-6b9c6140f4c5",
   "metadata": {},
   "outputs": [
    {
     "data": {
      "text/html": [
       "<div>\n",
       "<style scoped>\n",
       "    .dataframe tbody tr th:only-of-type {\n",
       "        vertical-align: middle;\n",
       "    }\n",
       "\n",
       "    .dataframe tbody tr th {\n",
       "        vertical-align: top;\n",
       "    }\n",
       "\n",
       "    .dataframe thead th {\n",
       "        text-align: right;\n",
       "    }\n",
       "</style>\n",
       "<table border=\"1\" class=\"dataframe\">\n",
       "  <thead>\n",
       "    <tr style=\"text-align: right;\">\n",
       "      <th></th>\n",
       "      <th>Date</th>\n",
       "      <th>Hour</th>\n",
       "      <th>Origin Station</th>\n",
       "      <th>Destination Station</th>\n",
       "      <th>Trip Count</th>\n",
       "    </tr>\n",
       "  </thead>\n",
       "  <tbody>\n",
       "    <tr>\n",
       "      <th>0</th>\n",
       "      <td>2011-01-01</td>\n",
       "      <td>0</td>\n",
       "      <td>12TH</td>\n",
       "      <td>12TH</td>\n",
       "      <td>1</td>\n",
       "    </tr>\n",
       "    <tr>\n",
       "      <th>1</th>\n",
       "      <td>2011-01-01</td>\n",
       "      <td>0</td>\n",
       "      <td>12TH</td>\n",
       "      <td>16TH</td>\n",
       "      <td>1</td>\n",
       "    </tr>\n",
       "  </tbody>\n",
       "</table>\n",
       "</div>"
      ],
      "text/plain": [
       "         Date  Hour Origin Station Destination Station  Trip Count\n",
       "0  2011-01-01     0           12TH                12TH           1\n",
       "1  2011-01-01     0           12TH                16TH           1"
      ]
     },
     "execution_count": 616,
     "metadata": {},
     "output_type": "execute_result"
    }
   ],
   "source": [
    "#example of data\n",
    "csv2011 = pd.read_csv('date-hour-soo-dest-2011.csv')\n",
    "csv2011.head(2)"
   ]
  },
  {
   "cell_type": "code",
   "execution_count": 617,
   "id": "aadea2b5-5b1f-4630-ba09-6683eb3ff07a",
   "metadata": {},
   "outputs": [],
   "source": [
    "#Importing files in a loop, cleaning, and appending them. \n",
    "bart_summary = []\n",
    "for i in list(range(2011,2024,1)):\n",
    "    df = pd.read_csv('date-hour-soo-dest-' + str(i) + '.csv')\n",
    "    df['Date'] = pd.to_datetime(df['Date'], format = '%Y-%m-%d')\n",
    "    df['Month'] = df['Date'].dt.month\n",
    "    df['Month Name'] = df['Date'].dt.month_name()\n",
    "    df['Year'] = df['Date'].dt.year\n",
    "    bart_summary.append(df.groupby(['Year','Month Name','Month'])['Trip Count'].sum().reset_index())"
   ]
  },
  {
   "cell_type": "code",
   "execution_count": 631,
   "id": "683911d7-7065-40c4-945a-dadbb5bfd7ba",
   "metadata": {},
   "outputs": [],
   "source": [
    "#concat files\n",
    "trips_month = pd.concat(bart_summary)[['Year','Month Name','Month','Trip Count']].groupby(\n",
    "    ['Year','Month','Month Name'])['Trip Count'].sum().reset_index().sort_values(by=['Year','Month'])#.reset_index()\n",
    "trips_month['Date'] = trips_month['Month Name'] + \" \" + trips_month['Year'].astype(str)"
   ]
  },
  {
   "cell_type": "code",
   "execution_count": 632,
   "id": "8bc7a40e-a3b6-4125-b8eb-2db6884dca2c",
   "metadata": {},
   "outputs": [
    {
     "data": {
      "text/html": [
       "<div>\n",
       "<style scoped>\n",
       "    .dataframe tbody tr th:only-of-type {\n",
       "        vertical-align: middle;\n",
       "    }\n",
       "\n",
       "    .dataframe tbody tr th {\n",
       "        vertical-align: top;\n",
       "    }\n",
       "\n",
       "    .dataframe thead th {\n",
       "        text-align: right;\n",
       "    }\n",
       "</style>\n",
       "<table border=\"1\" class=\"dataframe\">\n",
       "  <thead>\n",
       "    <tr style=\"text-align: right;\">\n",
       "      <th></th>\n",
       "      <th>Year</th>\n",
       "      <th>Month</th>\n",
       "      <th>Month Name</th>\n",
       "      <th>Trip Count</th>\n",
       "      <th>Date</th>\n",
       "    </tr>\n",
       "  </thead>\n",
       "  <tbody>\n",
       "    <tr>\n",
       "      <th>0</th>\n",
       "      <td>2011</td>\n",
       "      <td>1</td>\n",
       "      <td>January</td>\n",
       "      <td>8203563</td>\n",
       "      <td>January 2011</td>\n",
       "    </tr>\n",
       "    <tr>\n",
       "      <th>1</th>\n",
       "      <td>2011</td>\n",
       "      <td>2</td>\n",
       "      <td>February</td>\n",
       "      <td>7933264</td>\n",
       "      <td>February 2011</td>\n",
       "    </tr>\n",
       "    <tr>\n",
       "      <th>2</th>\n",
       "      <td>2011</td>\n",
       "      <td>3</td>\n",
       "      <td>March</td>\n",
       "      <td>9049039</td>\n",
       "      <td>March 2011</td>\n",
       "    </tr>\n",
       "    <tr>\n",
       "      <th>3</th>\n",
       "      <td>2011</td>\n",
       "      <td>4</td>\n",
       "      <td>April</td>\n",
       "      <td>8824840</td>\n",
       "      <td>April 2011</td>\n",
       "    </tr>\n",
       "    <tr>\n",
       "      <th>4</th>\n",
       "      <td>2011</td>\n",
       "      <td>5</td>\n",
       "      <td>May</td>\n",
       "      <td>8940380</td>\n",
       "      <td>May 2011</td>\n",
       "    </tr>\n",
       "    <tr>\n",
       "      <th>...</th>\n",
       "      <td>...</td>\n",
       "      <td>...</td>\n",
       "      <td>...</td>\n",
       "      <td>...</td>\n",
       "      <td>...</td>\n",
       "    </tr>\n",
       "    <tr>\n",
       "      <th>143</th>\n",
       "      <td>2022</td>\n",
       "      <td>12</td>\n",
       "      <td>December</td>\n",
       "      <td>3403625</td>\n",
       "      <td>December 2022</td>\n",
       "    </tr>\n",
       "    <tr>\n",
       "      <th>144</th>\n",
       "      <td>2023</td>\n",
       "      <td>1</td>\n",
       "      <td>January</td>\n",
       "      <td>3417241</td>\n",
       "      <td>January 2023</td>\n",
       "    </tr>\n",
       "    <tr>\n",
       "      <th>145</th>\n",
       "      <td>2023</td>\n",
       "      <td>2</td>\n",
       "      <td>February</td>\n",
       "      <td>3581426</td>\n",
       "      <td>February 2023</td>\n",
       "    </tr>\n",
       "    <tr>\n",
       "      <th>146</th>\n",
       "      <td>2023</td>\n",
       "      <td>3</td>\n",
       "      <td>March</td>\n",
       "      <td>4116038</td>\n",
       "      <td>March 2023</td>\n",
       "    </tr>\n",
       "    <tr>\n",
       "      <th>147</th>\n",
       "      <td>2023</td>\n",
       "      <td>4</td>\n",
       "      <td>April</td>\n",
       "      <td>4022389</td>\n",
       "      <td>April 2023</td>\n",
       "    </tr>\n",
       "  </tbody>\n",
       "</table>\n",
       "<p>148 rows × 5 columns</p>\n",
       "</div>"
      ],
      "text/plain": [
       "     Year  Month Month Name  Trip Count           Date\n",
       "0    2011      1    January     8203563   January 2011\n",
       "1    2011      2   February     7933264  February 2011\n",
       "2    2011      3      March     9049039     March 2011\n",
       "3    2011      4      April     8824840     April 2011\n",
       "4    2011      5        May     8940380       May 2011\n",
       "..    ...    ...        ...         ...            ...\n",
       "143  2022     12   December     3403625  December 2022\n",
       "144  2023      1    January     3417241   January 2023\n",
       "145  2023      2   February     3581426  February 2023\n",
       "146  2023      3      March     4116038     March 2023\n",
       "147  2023      4      April     4022389     April 2023\n",
       "\n",
       "[148 rows x 5 columns]"
      ]
     },
     "execution_count": 632,
     "metadata": {},
     "output_type": "execute_result"
    }
   ],
   "source": [
    "#Trimmed dataset Total Trips, Month, Year\n",
    "\n",
    "trips_month = trips_month.drop([trips_month.shape[0]-1])\n",
    "trips_month"
   ]
  },
  {
   "cell_type": "code",
   "execution_count": 620,
   "id": "f16f88f0-d71a-42ba-9e34-e50d197bb5ea",
   "metadata": {},
   "outputs": [
    {
     "data": {
      "text/html": [
       "<div>\n",
       "<style scoped>\n",
       "    .dataframe tbody tr th:only-of-type {\n",
       "        vertical-align: middle;\n",
       "    }\n",
       "\n",
       "    .dataframe tbody tr th {\n",
       "        vertical-align: top;\n",
       "    }\n",
       "\n",
       "    .dataframe thead th {\n",
       "        text-align: right;\n",
       "    }\n",
       "</style>\n",
       "<table border=\"1\" class=\"dataframe\">\n",
       "  <thead>\n",
       "    <tr style=\"text-align: right;\">\n",
       "      <th></th>\n",
       "      <th>Year</th>\n",
       "      <th>Month</th>\n",
       "      <th>Month Name</th>\n",
       "      <th>Trip Count</th>\n",
       "      <th>Date</th>\n",
       "    </tr>\n",
       "  </thead>\n",
       "  <tbody>\n",
       "    <tr>\n",
       "      <th>0</th>\n",
       "      <td>2023</td>\n",
       "      <td>5</td>\n",
       "      <td>May</td>\n",
       "      <td>4133709</td>\n",
       "      <td>May 2023</td>\n",
       "    </tr>\n",
       "    <tr>\n",
       "      <th>1</th>\n",
       "      <td>2023</td>\n",
       "      <td>6</td>\n",
       "      <td>June</td>\n",
       "      <td>4159215</td>\n",
       "      <td>June 2023</td>\n",
       "    </tr>\n",
       "    <tr>\n",
       "      <th>2</th>\n",
       "      <td>2023</td>\n",
       "      <td>7</td>\n",
       "      <td>July</td>\n",
       "      <td>3916452</td>\n",
       "      <td>July 2023</td>\n",
       "    </tr>\n",
       "    <tr>\n",
       "      <th>3</th>\n",
       "      <td>2023</td>\n",
       "      <td>8</td>\n",
       "      <td>August</td>\n",
       "      <td>4477455</td>\n",
       "      <td>August 2023</td>\n",
       "    </tr>\n",
       "    <tr>\n",
       "      <th>4</th>\n",
       "      <td>2023</td>\n",
       "      <td>9</td>\n",
       "      <td>September</td>\n",
       "      <td>4202723</td>\n",
       "      <td>September 2023</td>\n",
       "    </tr>\n",
       "    <tr>\n",
       "      <th>5</th>\n",
       "      <td>2023</td>\n",
       "      <td>10</td>\n",
       "      <td>October</td>\n",
       "      <td>4432027</td>\n",
       "      <td>October 2023</td>\n",
       "    </tr>\n",
       "    <tr>\n",
       "      <th>6</th>\n",
       "      <td>2023</td>\n",
       "      <td>11</td>\n",
       "      <td>November</td>\n",
       "      <td>3980362</td>\n",
       "      <td>November 2023</td>\n",
       "    </tr>\n",
       "    <tr>\n",
       "      <th>7</th>\n",
       "      <td>2023</td>\n",
       "      <td>12</td>\n",
       "      <td>December</td>\n",
       "      <td>3625983</td>\n",
       "      <td>December 2023</td>\n",
       "    </tr>\n",
       "    <tr>\n",
       "      <th>8</th>\n",
       "      <td>2024</td>\n",
       "      <td>1</td>\n",
       "      <td>January</td>\n",
       "      <td>3844643</td>\n",
       "      <td>January 2024</td>\n",
       "    </tr>\n",
       "    <tr>\n",
       "      <th>9</th>\n",
       "      <td>2024</td>\n",
       "      <td>2</td>\n",
       "      <td>February</td>\n",
       "      <td>3917031</td>\n",
       "      <td>February 2024</td>\n",
       "    </tr>\n",
       "    <tr>\n",
       "      <th>10</th>\n",
       "      <td>2024</td>\n",
       "      <td>3</td>\n",
       "      <td>March</td>\n",
       "      <td>4169897</td>\n",
       "      <td>March 2024</td>\n",
       "    </tr>\n",
       "    <tr>\n",
       "      <th>11</th>\n",
       "      <td>2024</td>\n",
       "      <td>4</td>\n",
       "      <td>April</td>\n",
       "      <td>4223784</td>\n",
       "      <td>April 2024</td>\n",
       "    </tr>\n",
       "  </tbody>\n",
       "</table>\n",
       "</div>"
      ],
      "text/plain": [
       "    Year  Month Month Name  Trip Count            Date\n",
       "0   2023      5        May     4133709        May 2023\n",
       "1   2023      6       June     4159215       June 2023\n",
       "2   2023      7       July     3916452       July 2023\n",
       "3   2023      8     August     4477455     August 2023\n",
       "4   2023      9  September     4202723  September 2023\n",
       "5   2023     10    October     4432027    October 2023\n",
       "6   2023     11   November     3980362   November 2023\n",
       "7   2023     12   December     3625983   December 2023\n",
       "8   2024      1    January     3844643    January 2024\n",
       "9   2024      2   February     3917031   February 2024\n",
       "10  2024      3      March     4169897      March 2024\n",
       "11  2024      4      April     4223784      April 2024"
      ]
     },
     "execution_count": 620,
     "metadata": {},
     "output_type": "execute_result"
    }
   ],
   "source": [
    "#Import the last of May2023 - April 2024\n",
    "\n",
    "added_months = []\n",
    "for k,v in {'May':'202305','June':'202306','July':'202307','August':'202308','September':'202309','October':'202310','November':'202311','December':'202312'}.items():\n",
    "    tdf = pd.pandas.read_excel('ridership_2023/Ridership_' + v + '.xlsx', header = 1, index_col=0, sheet_name = 'Total Trips OD')\n",
    "    date = dt.datetime.strptime(v, \"%Y%m\")\n",
    "    temp_list = [2023, date.month, k, tdf.loc['Entries','Exits'], k + ' ' + str(date.year)]\n",
    "    added_months.append(temp_list)\n",
    "for k,v in {'January':'202401','February':'202402','March':'202403','April':'202404'}.items():\n",
    "    tdf = pd.pandas.read_excel('ridership_2023/Ridership_' + v + '.xlsx', header = 1, index_col=0, sheet_name = 'Total Trips',skiprows=3)\n",
    "    date = dt.datetime.strptime(v, \"%Y%m\")\n",
    "    temp_list = [2024, date.month, k, tdf.loc['Grand Total','Unnamed: 51'], k + ' ' + str(date.year)]\n",
    "    added_months.append(temp_list)\n",
    "added_months = pd.DataFrame(added_months, columns = ['Year', 'Month', 'Month Name', 'Trip Count', 'Date'])\n",
    "added_months\n"
   ]
  },
  {
   "cell_type": "code",
   "execution_count": 633,
   "id": "55773d01-2d75-4d75-92ce-234fb2d4bb8d",
   "metadata": {},
   "outputs": [
    {
     "data": {
      "text/html": [
       "<div>\n",
       "<style scoped>\n",
       "    .dataframe tbody tr th:only-of-type {\n",
       "        vertical-align: middle;\n",
       "    }\n",
       "\n",
       "    .dataframe tbody tr th {\n",
       "        vertical-align: top;\n",
       "    }\n",
       "\n",
       "    .dataframe thead th {\n",
       "        text-align: right;\n",
       "    }\n",
       "</style>\n",
       "<table border=\"1\" class=\"dataframe\">\n",
       "  <thead>\n",
       "    <tr style=\"text-align: right;\">\n",
       "      <th></th>\n",
       "      <th>Year</th>\n",
       "      <th>Month</th>\n",
       "      <th>Month Name</th>\n",
       "      <th>Trip Count</th>\n",
       "      <th>Date</th>\n",
       "    </tr>\n",
       "  </thead>\n",
       "  <tbody>\n",
       "    <tr>\n",
       "      <th>10</th>\n",
       "      <td>2024</td>\n",
       "      <td>3</td>\n",
       "      <td>March</td>\n",
       "      <td>4169897</td>\n",
       "      <td>March 2024</td>\n",
       "    </tr>\n",
       "    <tr>\n",
       "      <th>11</th>\n",
       "      <td>2024</td>\n",
       "      <td>4</td>\n",
       "      <td>April</td>\n",
       "      <td>4223784</td>\n",
       "      <td>April 2024</td>\n",
       "    </tr>\n",
       "  </tbody>\n",
       "</table>\n",
       "</div>"
      ],
      "text/plain": [
       "    Year  Month Month Name  Trip Count        Date\n",
       "10  2024      3      March     4169897  March 2024\n",
       "11  2024      4      April     4223784  April 2024"
      ]
     },
     "execution_count": 633,
     "metadata": {},
     "output_type": "execute_result"
    }
   ],
   "source": [
    "#Combine all data\n",
    "trips_month = pd.concat([trips_month,added_months])\n",
    "trips_month.tail(2)"
   ]
  },
  {
   "cell_type": "code",
   "execution_count": 622,
   "id": "7e81e851-dce2-48a0-ac62-b627c6c97968",
   "metadata": {},
   "outputs": [
    {
     "name": "stdout",
     "output_type": "stream",
     "text": [
      "False\n",
      "pre2020_mean  120096302.77777778 \n",
      "pre2020_std  6788835.11773612 \n",
      "total_2019  118609605.0 \n",
      "total_2020  31426279.0 \n",
      "total_2021  24964402.0 \n",
      "2021 / pre-2020 mean  20.786986295650838 \n",
      "2021 by 2016(max) 19.471750765728462 \n",
      "total_2016 128208307.0 \n",
      "2019/2016 0.07486801927740923 \n",
      "total_2022 41986747.0 \n",
      "2022/pre-2020 mean  0.3496089890268386\n"
     ]
    }
   ],
   "source": [
    "#Added Stats pre-2020\n",
    "pre2020_mean = trips_month[trips_month['Year']<2020].groupby('Year')['Trip Count'].sum().describe().loc['mean']\n",
    "pre2020_std = trips_month[trips_month['Year']<2020].groupby('Year')['Trip Count'].sum().describe().loc['std']\n",
    "total_2019 = trips_month[trips_month['Year']==2019].groupby('Year')['Trip Count'].sum().describe().loc['mean']\n",
    "total_2020 = trips_month[trips_month['Year']==2020].groupby('Year')['Trip Count'].sum().describe().loc['mean']\n",
    "total_2021 = trips_month[trips_month['Year']==2021].groupby('Year')['Trip Count'].sum().describe().loc['mean']\n",
    "total_2016 = trips_month[trips_month['Year']<2020].groupby('Year')['Trip Count'].sum().describe().loc['max']\n",
    "total_2022 = trips_month[trips_month['Year']==2022].groupby('Year')['Trip Count'].sum().describe().loc['mean']\n",
    "\n",
    "\n",
    "print(bool(pre2020_mean-pre2020_std-total_2019 > 0)) #2019 within 1 std of the 2011-2019 sample. \n",
    "print('pre2020_mean ', str(pre2020_mean), '\\npre2020_std ', str(pre2020_std),'\\ntotal_2019 ',str(total_2019),\n",
    "      '\\ntotal_2020 ', str(total_2020),'\\ntotal_2021 ',str(total_2021), '\\n2021 / pre-2020 mean ', str(total_2021/pre2020_mean*100),\n",
    "     '\\n2021 by 2016(max)',str(total_2021/total_2016*100), '\\ntotal_2016', str(total_2016), \n",
    "      '\\n2019/2016',str((total_2016-total_2019)/total_2016), '\\ntotal_2022', str(total_2022), \n",
    "      '\\n2022/pre-2020 mean ', str(total_2022/pre2020_mean)\n",
    "      )"
   ]
  },
  {
   "cell_type": "code",
   "execution_count": 623,
   "id": "5dab5a65-506b-4ac9-b118-640683a3f6bf",
   "metadata": {},
   "outputs": [
    {
     "data": {
      "application/vnd.plotly.v1+json": {
       "config": {
        "plotlyServerURL": "https://plot.ly"
       },
       "data": [
        {
         "alignmentgroup": "True",
         "hovertemplate": "Year=%{x}<br>Total Trips=%{y}<br>Month=%{marker.color}<extra></extra>",
         "legendgroup": "",
         "marker": {
          "color": [
           1,
           2,
           3,
           4,
           5,
           6,
           7,
           8,
           9,
           10,
           11,
           12,
           1,
           2,
           3,
           4,
           5,
           6,
           7,
           8,
           9,
           10,
           11,
           12,
           1,
           2,
           3,
           4,
           5,
           6,
           7,
           8,
           9,
           10,
           11,
           12,
           1,
           2,
           3,
           4,
           5,
           6,
           7,
           8,
           9,
           10,
           11,
           12,
           1,
           2,
           3,
           4,
           5,
           6,
           7,
           8,
           9,
           10,
           11,
           12,
           1,
           2,
           3,
           4,
           5,
           6,
           7,
           8,
           9,
           10,
           11,
           12,
           1,
           2,
           3,
           4,
           5,
           6,
           7,
           8,
           9,
           10,
           11,
           12,
           1,
           2,
           3,
           4,
           5,
           6,
           7,
           8,
           9,
           10,
           11,
           12,
           1,
           2,
           3,
           4,
           5,
           6,
           7,
           8,
           9,
           10,
           11,
           12,
           1,
           2,
           3,
           4,
           5,
           6,
           7,
           8,
           9,
           10,
           11,
           12,
           1,
           2,
           3,
           4,
           5,
           6,
           7,
           8,
           9,
           10,
           11,
           12,
           1,
           2,
           3,
           4,
           5,
           6,
           7,
           8,
           9,
           10,
           11,
           12,
           1,
           2,
           3,
           4,
           5,
           6,
           7,
           8,
           9,
           10,
           11,
           12,
           1,
           2,
           3,
           4
          ],
          "coloraxis": "coloraxis",
          "pattern": {
           "shape": ""
          }
         },
         "name": "",
         "offsetgroup": "",
         "orientation": "v",
         "showlegend": false,
         "textposition": "auto",
         "type": "bar",
         "x": [
          2011,
          2011,
          2011,
          2011,
          2011,
          2011,
          2011,
          2011,
          2011,
          2011,
          2011,
          2011,
          2012,
          2012,
          2012,
          2012,
          2012,
          2012,
          2012,
          2012,
          2012,
          2012,
          2012,
          2012,
          2013,
          2013,
          2013,
          2013,
          2013,
          2013,
          2013,
          2013,
          2013,
          2013,
          2013,
          2013,
          2014,
          2014,
          2014,
          2014,
          2014,
          2014,
          2014,
          2014,
          2014,
          2014,
          2014,
          2014,
          2015,
          2015,
          2015,
          2015,
          2015,
          2015,
          2015,
          2015,
          2015,
          2015,
          2015,
          2015,
          2016,
          2016,
          2016,
          2016,
          2016,
          2016,
          2016,
          2016,
          2016,
          2016,
          2016,
          2016,
          2017,
          2017,
          2017,
          2017,
          2017,
          2017,
          2017,
          2017,
          2017,
          2017,
          2017,
          2017,
          2018,
          2018,
          2018,
          2018,
          2018,
          2018,
          2018,
          2018,
          2018,
          2018,
          2018,
          2018,
          2019,
          2019,
          2019,
          2019,
          2019,
          2019,
          2019,
          2019,
          2019,
          2019,
          2019,
          2019,
          2020,
          2020,
          2020,
          2020,
          2020,
          2020,
          2020,
          2020,
          2020,
          2020,
          2020,
          2020,
          2021,
          2021,
          2021,
          2021,
          2021,
          2021,
          2021,
          2021,
          2021,
          2021,
          2021,
          2021,
          2022,
          2022,
          2022,
          2022,
          2022,
          2022,
          2022,
          2022,
          2022,
          2022,
          2022,
          2022,
          2023,
          2023,
          2023,
          2023,
          2023,
          2023,
          2023,
          2023,
          2023,
          2023,
          2023,
          2023,
          2024,
          2024,
          2024,
          2024
         ],
         "xaxis": "x",
         "y": [
          8203563,
          7933264,
          9049039,
          8824840,
          8940380,
          9210691,
          8894724,
          9631831,
          9382343,
          8842417,
          8669275,
          8840787,
          8897002,
          9074224,
          9510882,
          9312002,
          9891299,
          9603407,
          9606825,
          10328022,
          9686241,
          11222090,
          9340436,
          8973026,
          9499180,
          9122150,
          10032529,
          10321870,
          10427952,
          9922002,
          8456882,
          10577093,
          10358611,
          9387857,
          9411965,
          9450543,
          9711810,
          9110932,
          10178273,
          10343446,
          10486712,
          10449624,
          10836522,
          10755968,
          10774492,
          11765515,
          9651232,
          9988388,
          10005676,
          9585065,
          10963403,
          10889565,
          10433766,
          11225954,
          11124649,
          10763934,
          10873013,
          11533152,
          10089882,
          10272889,
          10110427,
          10842145,
          11184982,
          10692900,
          10827558,
          11137928,
          10375579,
          11210330,
          10754119,
          10952882,
          10250271,
          9869186,
          9929568,
          9506289,
          10944026,
          9903187,
          10664969,
          10760735,
          10041273,
          11005444,
          10044912,
          10822068,
          9920630,
          9335963,
          9810348,
          9262187,
          10364615,
          10049472,
          10595609,
          10432529,
          10225339,
          10728463,
          9895337,
          11081974,
          9233313,
          8839457,
          9644792,
          9006216,
          9991747,
          10312623,
          10326834,
          9932642,
          10134097,
          10424866,
          10015058,
          10786560,
          9218525,
          8815645,
          9047397,
          8244817,
          4147783,
          622953,
          752902,
          1074640,
          1221838,
          1195699,
          1244202,
          1428414,
          1276647,
          1168987,
          1069678,
          1140865,
          1425588,
          1534665,
          1707831,
          2038091,
          2289408,
          2524267,
          2787280,
          2912064,
          2832666,
          2701999,
          2220863,
          2558265,
          3388485,
          3421101,
          3593434,
          3800420,
          3493579,
          3991651,
          4180197,
          4187488,
          3747639,
          3403625,
          3417241,
          3581426,
          4116038,
          4022389,
          4133709,
          4159215,
          3916452,
          4477455,
          4202723,
          4432027,
          3980362,
          3625983,
          3844643,
          3917031,
          4169897,
          4223784
         ],
         "yaxis": "y"
        }
       ],
       "layout": {
        "autosize": true,
        "barmode": "relative",
        "coloraxis": {
         "colorbar": {
          "title": {
           "text": "Month"
          }
         },
         "colorscale": [
          [
           0,
           "#000004"
          ],
          [
           0.1111111111111111,
           "#180f3d"
          ],
          [
           0.2222222222222222,
           "#440f76"
          ],
          [
           0.3333333333333333,
           "#721f81"
          ],
          [
           0.4444444444444444,
           "#9e2f7f"
          ],
          [
           0.5555555555555556,
           "#cd4071"
          ],
          [
           0.6666666666666666,
           "#f1605d"
          ],
          [
           0.7777777777777778,
           "#fd9668"
          ],
          [
           0.8888888888888888,
           "#feca8d"
          ],
          [
           1,
           "#fcfdbf"
          ]
         ]
        },
        "legend": {
         "tracegroupgap": 0
        },
        "template": {
         "data": {
          "bar": [
           {
            "error_x": {
             "color": "#2a3f5f"
            },
            "error_y": {
             "color": "#2a3f5f"
            },
            "marker": {
             "line": {
              "color": "#E5ECF6",
              "width": 0.5
             },
             "pattern": {
              "fillmode": "overlay",
              "size": 10,
              "solidity": 0.2
             }
            },
            "type": "bar"
           }
          ],
          "barpolar": [
           {
            "marker": {
             "line": {
              "color": "#E5ECF6",
              "width": 0.5
             },
             "pattern": {
              "fillmode": "overlay",
              "size": 10,
              "solidity": 0.2
             }
            },
            "type": "barpolar"
           }
          ],
          "carpet": [
           {
            "aaxis": {
             "endlinecolor": "#2a3f5f",
             "gridcolor": "white",
             "linecolor": "white",
             "minorgridcolor": "white",
             "startlinecolor": "#2a3f5f"
            },
            "baxis": {
             "endlinecolor": "#2a3f5f",
             "gridcolor": "white",
             "linecolor": "white",
             "minorgridcolor": "white",
             "startlinecolor": "#2a3f5f"
            },
            "type": "carpet"
           }
          ],
          "choropleth": [
           {
            "colorbar": {
             "outlinewidth": 0,
             "ticks": ""
            },
            "type": "choropleth"
           }
          ],
          "contour": [
           {
            "colorbar": {
             "outlinewidth": 0,
             "ticks": ""
            },
            "colorscale": [
             [
              0,
              "#0d0887"
             ],
             [
              0.1111111111111111,
              "#46039f"
             ],
             [
              0.2222222222222222,
              "#7201a8"
             ],
             [
              0.3333333333333333,
              "#9c179e"
             ],
             [
              0.4444444444444444,
              "#bd3786"
             ],
             [
              0.5555555555555556,
              "#d8576b"
             ],
             [
              0.6666666666666666,
              "#ed7953"
             ],
             [
              0.7777777777777778,
              "#fb9f3a"
             ],
             [
              0.8888888888888888,
              "#fdca26"
             ],
             [
              1,
              "#f0f921"
             ]
            ],
            "type": "contour"
           }
          ],
          "contourcarpet": [
           {
            "colorbar": {
             "outlinewidth": 0,
             "ticks": ""
            },
            "type": "contourcarpet"
           }
          ],
          "heatmap": [
           {
            "colorbar": {
             "outlinewidth": 0,
             "ticks": ""
            },
            "colorscale": [
             [
              0,
              "#0d0887"
             ],
             [
              0.1111111111111111,
              "#46039f"
             ],
             [
              0.2222222222222222,
              "#7201a8"
             ],
             [
              0.3333333333333333,
              "#9c179e"
             ],
             [
              0.4444444444444444,
              "#bd3786"
             ],
             [
              0.5555555555555556,
              "#d8576b"
             ],
             [
              0.6666666666666666,
              "#ed7953"
             ],
             [
              0.7777777777777778,
              "#fb9f3a"
             ],
             [
              0.8888888888888888,
              "#fdca26"
             ],
             [
              1,
              "#f0f921"
             ]
            ],
            "type": "heatmap"
           }
          ],
          "heatmapgl": [
           {
            "colorbar": {
             "outlinewidth": 0,
             "ticks": ""
            },
            "colorscale": [
             [
              0,
              "#0d0887"
             ],
             [
              0.1111111111111111,
              "#46039f"
             ],
             [
              0.2222222222222222,
              "#7201a8"
             ],
             [
              0.3333333333333333,
              "#9c179e"
             ],
             [
              0.4444444444444444,
              "#bd3786"
             ],
             [
              0.5555555555555556,
              "#d8576b"
             ],
             [
              0.6666666666666666,
              "#ed7953"
             ],
             [
              0.7777777777777778,
              "#fb9f3a"
             ],
             [
              0.8888888888888888,
              "#fdca26"
             ],
             [
              1,
              "#f0f921"
             ]
            ],
            "type": "heatmapgl"
           }
          ],
          "histogram": [
           {
            "marker": {
             "pattern": {
              "fillmode": "overlay",
              "size": 10,
              "solidity": 0.2
             }
            },
            "type": "histogram"
           }
          ],
          "histogram2d": [
           {
            "colorbar": {
             "outlinewidth": 0,
             "ticks": ""
            },
            "colorscale": [
             [
              0,
              "#0d0887"
             ],
             [
              0.1111111111111111,
              "#46039f"
             ],
             [
              0.2222222222222222,
              "#7201a8"
             ],
             [
              0.3333333333333333,
              "#9c179e"
             ],
             [
              0.4444444444444444,
              "#bd3786"
             ],
             [
              0.5555555555555556,
              "#d8576b"
             ],
             [
              0.6666666666666666,
              "#ed7953"
             ],
             [
              0.7777777777777778,
              "#fb9f3a"
             ],
             [
              0.8888888888888888,
              "#fdca26"
             ],
             [
              1,
              "#f0f921"
             ]
            ],
            "type": "histogram2d"
           }
          ],
          "histogram2dcontour": [
           {
            "colorbar": {
             "outlinewidth": 0,
             "ticks": ""
            },
            "colorscale": [
             [
              0,
              "#0d0887"
             ],
             [
              0.1111111111111111,
              "#46039f"
             ],
             [
              0.2222222222222222,
              "#7201a8"
             ],
             [
              0.3333333333333333,
              "#9c179e"
             ],
             [
              0.4444444444444444,
              "#bd3786"
             ],
             [
              0.5555555555555556,
              "#d8576b"
             ],
             [
              0.6666666666666666,
              "#ed7953"
             ],
             [
              0.7777777777777778,
              "#fb9f3a"
             ],
             [
              0.8888888888888888,
              "#fdca26"
             ],
             [
              1,
              "#f0f921"
             ]
            ],
            "type": "histogram2dcontour"
           }
          ],
          "mesh3d": [
           {
            "colorbar": {
             "outlinewidth": 0,
             "ticks": ""
            },
            "type": "mesh3d"
           }
          ],
          "parcoords": [
           {
            "line": {
             "colorbar": {
              "outlinewidth": 0,
              "ticks": ""
             }
            },
            "type": "parcoords"
           }
          ],
          "pie": [
           {
            "automargin": true,
            "type": "pie"
           }
          ],
          "scatter": [
           {
            "fillpattern": {
             "fillmode": "overlay",
             "size": 10,
             "solidity": 0.2
            },
            "type": "scatter"
           }
          ],
          "scatter3d": [
           {
            "line": {
             "colorbar": {
              "outlinewidth": 0,
              "ticks": ""
             }
            },
            "marker": {
             "colorbar": {
              "outlinewidth": 0,
              "ticks": ""
             }
            },
            "type": "scatter3d"
           }
          ],
          "scattercarpet": [
           {
            "marker": {
             "colorbar": {
              "outlinewidth": 0,
              "ticks": ""
             }
            },
            "type": "scattercarpet"
           }
          ],
          "scattergeo": [
           {
            "marker": {
             "colorbar": {
              "outlinewidth": 0,
              "ticks": ""
             }
            },
            "type": "scattergeo"
           }
          ],
          "scattergl": [
           {
            "marker": {
             "colorbar": {
              "outlinewidth": 0,
              "ticks": ""
             }
            },
            "type": "scattergl"
           }
          ],
          "scattermapbox": [
           {
            "marker": {
             "colorbar": {
              "outlinewidth": 0,
              "ticks": ""
             }
            },
            "type": "scattermapbox"
           }
          ],
          "scatterpolar": [
           {
            "marker": {
             "colorbar": {
              "outlinewidth": 0,
              "ticks": ""
             }
            },
            "type": "scatterpolar"
           }
          ],
          "scatterpolargl": [
           {
            "marker": {
             "colorbar": {
              "outlinewidth": 0,
              "ticks": ""
             }
            },
            "type": "scatterpolargl"
           }
          ],
          "scatterternary": [
           {
            "marker": {
             "colorbar": {
              "outlinewidth": 0,
              "ticks": ""
             }
            },
            "type": "scatterternary"
           }
          ],
          "surface": [
           {
            "colorbar": {
             "outlinewidth": 0,
             "ticks": ""
            },
            "colorscale": [
             [
              0,
              "#0d0887"
             ],
             [
              0.1111111111111111,
              "#46039f"
             ],
             [
              0.2222222222222222,
              "#7201a8"
             ],
             [
              0.3333333333333333,
              "#9c179e"
             ],
             [
              0.4444444444444444,
              "#bd3786"
             ],
             [
              0.5555555555555556,
              "#d8576b"
             ],
             [
              0.6666666666666666,
              "#ed7953"
             ],
             [
              0.7777777777777778,
              "#fb9f3a"
             ],
             [
              0.8888888888888888,
              "#fdca26"
             ],
             [
              1,
              "#f0f921"
             ]
            ],
            "type": "surface"
           }
          ],
          "table": [
           {
            "cells": {
             "fill": {
              "color": "#EBF0F8"
             },
             "line": {
              "color": "white"
             }
            },
            "header": {
             "fill": {
              "color": "#C8D4E3"
             },
             "line": {
              "color": "white"
             }
            },
            "type": "table"
           }
          ]
         },
         "layout": {
          "annotationdefaults": {
           "arrowcolor": "#2a3f5f",
           "arrowhead": 0,
           "arrowwidth": 1
          },
          "autotypenumbers": "strict",
          "coloraxis": {
           "colorbar": {
            "outlinewidth": 0,
            "ticks": ""
           }
          },
          "colorscale": {
           "diverging": [
            [
             0,
             "#8e0152"
            ],
            [
             0.1,
             "#c51b7d"
            ],
            [
             0.2,
             "#de77ae"
            ],
            [
             0.3,
             "#f1b6da"
            ],
            [
             0.4,
             "#fde0ef"
            ],
            [
             0.5,
             "#f7f7f7"
            ],
            [
             0.6,
             "#e6f5d0"
            ],
            [
             0.7,
             "#b8e186"
            ],
            [
             0.8,
             "#7fbc41"
            ],
            [
             0.9,
             "#4d9221"
            ],
            [
             1,
             "#276419"
            ]
           ],
           "sequential": [
            [
             0,
             "#0d0887"
            ],
            [
             0.1111111111111111,
             "#46039f"
            ],
            [
             0.2222222222222222,
             "#7201a8"
            ],
            [
             0.3333333333333333,
             "#9c179e"
            ],
            [
             0.4444444444444444,
             "#bd3786"
            ],
            [
             0.5555555555555556,
             "#d8576b"
            ],
            [
             0.6666666666666666,
             "#ed7953"
            ],
            [
             0.7777777777777778,
             "#fb9f3a"
            ],
            [
             0.8888888888888888,
             "#fdca26"
            ],
            [
             1,
             "#f0f921"
            ]
           ],
           "sequentialminus": [
            [
             0,
             "#0d0887"
            ],
            [
             0.1111111111111111,
             "#46039f"
            ],
            [
             0.2222222222222222,
             "#7201a8"
            ],
            [
             0.3333333333333333,
             "#9c179e"
            ],
            [
             0.4444444444444444,
             "#bd3786"
            ],
            [
             0.5555555555555556,
             "#d8576b"
            ],
            [
             0.6666666666666666,
             "#ed7953"
            ],
            [
             0.7777777777777778,
             "#fb9f3a"
            ],
            [
             0.8888888888888888,
             "#fdca26"
            ],
            [
             1,
             "#f0f921"
            ]
           ]
          },
          "colorway": [
           "#636efa",
           "#EF553B",
           "#00cc96",
           "#ab63fa",
           "#FFA15A",
           "#19d3f3",
           "#FF6692",
           "#B6E880",
           "#FF97FF",
           "#FECB52"
          ],
          "font": {
           "color": "#2a3f5f"
          },
          "geo": {
           "bgcolor": "white",
           "lakecolor": "white",
           "landcolor": "#E5ECF6",
           "showlakes": true,
           "showland": true,
           "subunitcolor": "white"
          },
          "hoverlabel": {
           "align": "left"
          },
          "hovermode": "closest",
          "mapbox": {
           "style": "light"
          },
          "paper_bgcolor": "white",
          "plot_bgcolor": "#E5ECF6",
          "polar": {
           "angularaxis": {
            "gridcolor": "white",
            "linecolor": "white",
            "ticks": ""
           },
           "bgcolor": "#E5ECF6",
           "radialaxis": {
            "gridcolor": "white",
            "linecolor": "white",
            "ticks": ""
           }
          },
          "scene": {
           "xaxis": {
            "backgroundcolor": "#E5ECF6",
            "gridcolor": "white",
            "gridwidth": 2,
            "linecolor": "white",
            "showbackground": true,
            "ticks": "",
            "zerolinecolor": "white"
           },
           "yaxis": {
            "backgroundcolor": "#E5ECF6",
            "gridcolor": "white",
            "gridwidth": 2,
            "linecolor": "white",
            "showbackground": true,
            "ticks": "",
            "zerolinecolor": "white"
           },
           "zaxis": {
            "backgroundcolor": "#E5ECF6",
            "gridcolor": "white",
            "gridwidth": 2,
            "linecolor": "white",
            "showbackground": true,
            "ticks": "",
            "zerolinecolor": "white"
           }
          },
          "shapedefaults": {
           "line": {
            "color": "#2a3f5f"
           }
          },
          "ternary": {
           "aaxis": {
            "gridcolor": "white",
            "linecolor": "white",
            "ticks": ""
           },
           "baxis": {
            "gridcolor": "white",
            "linecolor": "white",
            "ticks": ""
           },
           "bgcolor": "#E5ECF6",
           "caxis": {
            "gridcolor": "white",
            "linecolor": "white",
            "ticks": ""
           }
          },
          "title": {
           "x": 0.05
          },
          "xaxis": {
           "automargin": true,
           "gridcolor": "white",
           "linecolor": "white",
           "ticks": "",
           "title": {
            "standoff": 15
           },
           "zerolinecolor": "white",
           "zerolinewidth": 2
          },
          "yaxis": {
           "automargin": true,
           "gridcolor": "white",
           "linecolor": "white",
           "ticks": "",
           "title": {
            "standoff": 15
           },
           "zerolinecolor": "white",
           "zerolinewidth": 2
          }
         }
        },
        "title": {
         "text": "BART Ridership: 2011-2024"
        },
        "xaxis": {
         "anchor": "y",
         "autorange": true,
         "domain": [
          0,
          1
         ],
         "range": [
          -0.5,
          13.5
         ],
         "title": {
          "text": "Year"
         },
         "type": "category"
        },
        "yaxis": {
         "anchor": "x",
         "autorange": true,
         "domain": [
          0,
          1
         ],
         "range": [
          0,
          134956112.63157895
         ],
         "title": {
          "text": "Total Trips"
         },
         "type": "linear"
        }
       }
      },
      "image/png": "[encoded data removed]",
      "text/html": [
       "<div>                            <div id=\"533d505e-74a2-4797-a483-fe1b839454c4\" class=\"plotly-graph-div\" style=\"height:525px; width:100%;\"></div>            <script type=\"text/javascript\">                require([\"plotly\"], function(Plotly) {                    window.PLOTLYENV=window.PLOTLYENV || {};                                    if (document.getElementById(\"533d505e-74a2-4797-a483-fe1b839454c4\")) {                    Plotly.newPlot(                        \"533d505e-74a2-4797-a483-fe1b839454c4\",                        [{\"alignmentgroup\":\"True\",\"hovertemplate\":\"Year=%{x}\\u003cbr\\u003eTotal Trips=%{y}\\u003cbr\\u003eMonth=%{marker.color}\\u003cextra\\u003e\\u003c\\u002fextra\\u003e\",\"legendgroup\":\"\",\"marker\":{\"color\":[1,2,3,4,5,6,7,8,9,10,11,12,1,2,3,4,5,6,7,8,9,10,11,12,1,2,3,4,5,6,7,8,9,10,11,12,1,2,3,4,5,6,7,8,9,10,11,12,1,2,3,4,5,6,7,8,9,10,11,12,1,2,3,4,5,6,7,8,9,10,11,12,1,2,3,4,5,6,7,8,9,10,11,12,1,2,3,4,5,6,7,8,9,10,11,12,1,2,3,4,5,6,7,8,9,10,11,12,1,2,3,4,5,6,7,8,9,10,11,12,1,2,3,4,5,6,7,8,9,10,11,12,1,2,3,4,5,6,7,8,9,10,11,12,1,2,3,4,5,6,7,8,9,10,11,12,1,2,3,4],\"coloraxis\":\"coloraxis\",\"pattern\":{\"shape\":\"\"}},\"name\":\"\",\"offsetgroup\":\"\",\"orientation\":\"v\",\"showlegend\":false,\"textposition\":\"auto\",\"x\":[2011,2011,2011,2011,2011,2011,2011,2011,2011,2011,2011,2011,2012,2012,2012,2012,2012,2012,2012,2012,2012,2012,2012,2012,2013,2013,2013,2013,2013,2013,2013,2013,2013,2013,2013,2013,2014,2014,2014,2014,2014,2014,2014,2014,2014,2014,2014,2014,2015,2015,2015,2015,2015,2015,2015,2015,2015,2015,2015,2015,2016,2016,2016,2016,2016,2016,2016,2016,2016,2016,2016,2016,2017,2017,2017,2017,2017,2017,2017,2017,2017,2017,2017,2017,2018,2018,2018,2018,2018,2018,2018,2018,2018,2018,2018,2018,2019,2019,2019,2019,2019,2019,2019,2019,2019,2019,2019,2019,2020,2020,2020,2020,2020,2020,2020,2020,2020,2020,2020,2020,2021,2021,2021,2021,2021,2021,2021,2021,2021,2021,2021,2021,2022,2022,2022,2022,2022,2022,2022,2022,2022,2022,2022,2022,2023,2023,2023,2023,2023,2023,2023,2023,2023,2023,2023,2023,2024,2024,2024,2024],\"xaxis\":\"x\",\"y\":[8203563,7933264,9049039,8824840,8940380,9210691,8894724,9631831,9382343,8842417,8669275,8840787,8897002,9074224,9510882,9312002,9891299,9603407,9606825,10328022,9686241,11222090,9340436,8973026,9499180,9122150,10032529,10321870,10427952,9922002,8456882,10577093,10358611,9387857,9411965,9450543,9711810,9110932,10178273,10343446,10486712,10449624,10836522,10755968,10774492,11765515,9651232,9988388,10005676,9585065,10963403,10889565,10433766,11225954,11124649,10763934,10873013,11533152,10089882,10272889,10110427,10842145,11184982,10692900,10827558,11137928,10375579,11210330,10754119,10952882,10250271,9869186,9929568,9506289,10944026,9903187,10664969,10760735,10041273,11005444,10044912,10822068,9920630,9335963,9810348,9262187,10364615,10049472,10595609,10432529,10225339,10728463,9895337,11081974,9233313,8839457,9644792,9006216,9991747,10312623,10326834,9932642,10134097,10424866,10015058,10786560,9218525,8815645,9047397,8244817,4147783,622953,752902,1074640,1221838,1195699,1244202,1428414,1276647,1168987,1069678,1140865,1425588,1534665,1707831,2038091,2289408,2524267,2787280,2912064,2832666,2701999,2220863,2558265,3388485,3421101,3593434,3800420,3493579,3991651,4180197,4187488,3747639,3403625,3417241,3581426,4116038,4022389,4133709,4159215,3916452,4477455,4202723,4432027,3980362,3625983,3844643,3917031,4169897,4223784],\"yaxis\":\"y\",\"type\":\"bar\"}],                        {\"template\":{\"data\":{\"histogram2dcontour\":[{\"type\":\"histogram2dcontour\",\"colorbar\":{\"outlinewidth\":0,\"ticks\":\"\"},\"colorscale\":[[0.0,\"#0d0887\"],[0.1111111111111111,\"#46039f\"],[0.2222222222222222,\"#7201a8\"],[0.3333333333333333,\"#9c179e\"],[0.4444444444444444,\"#bd3786\"],[0.5555555555555556,\"#d8576b\"],[0.6666666666666666,\"#ed7953\"],[0.7777777777777778,\"#fb9f3a\"],[0.8888888888888888,\"#fdca26\"],[1.0,\"#f0f921\"]]}],\"choropleth\":[{\"type\":\"choropleth\",\"colorbar\":{\"outlinewidth\":0,\"ticks\":\"\"}}],\"histogram2d\":[{\"type\":\"histogram2d\",\"colorbar\":{\"outlinewidth\":0,\"ticks\":\"\"},\"colorscale\":[[0.0,\"#0d0887\"],[0.1111111111111111,\"#46039f\"],[0.2222222222222222,\"#7201a8\"],[0.3333333333333333,\"#9c179e\"],[0.4444444444444444,\"#bd3786\"],[0.5555555555555556,\"#d8576b\"],[0.6666666666666666,\"#ed7953\"],[0.7777777777777778,\"#fb9f3a\"],[0.8888888888888888,\"#fdca26\"],[1.0,\"#f0f921\"]]}],\"heatmap\":[{\"type\":\"heatmap\",\"colorbar\":{\"outlinewidth\":0,\"ticks\":\"\"},\"colorscale\":[[0.0,\"#0d0887\"],[0.1111111111111111,\"#46039f\"],[0.2222222222222222,\"#7201a8\"],[0.3333333333333333,\"#9c179e\"],[0.4444444444444444,\"#bd3786\"],[0.5555555555555556,\"#d8576b\"],[0.6666666666666666,\"#ed7953\"],[0.7777777777777778,\"#fb9f3a\"],[0.8888888888888888,\"#fdca26\"],[1.0,\"#f0f921\"]]}],\"heatmapgl\":[{\"type\":\"heatmapgl\",\"colorbar\":{\"outlinewidth\":0,\"ticks\":\"\"},\"colorscale\":[[0.0,\"#0d0887\"],[0.1111111111111111,\"#46039f\"],[0.2222222222222222,\"#7201a8\"],[0.3333333333333333,\"#9c179e\"],[0.4444444444444444,\"#bd3786\"],[0.5555555555555556,\"#d8576b\"],[0.6666666666666666,\"#ed7953\"],[0.7777777777777778,\"#fb9f3a\"],[0.8888888888888888,\"#fdca26\"],[1.0,\"#f0f921\"]]}],\"contourcarpet\":[{\"type\":\"contourcarpet\",\"colorbar\":{\"outlinewidth\":0,\"ticks\":\"\"}}],\"contour\":[{\"type\":\"contour\",\"colorbar\":{\"outlinewidth\":0,\"ticks\":\"\"},\"colorscale\":[[0.0,\"#0d0887\"],[0.1111111111111111,\"#46039f\"],[0.2222222222222222,\"#7201a8\"],[0.3333333333333333,\"#9c179e\"],[0.4444444444444444,\"#bd3786\"],[0.5555555555555556,\"#d8576b\"],[0.6666666666666666,\"#ed7953\"],[0.7777777777777778,\"#fb9f3a\"],[0.8888888888888888,\"#fdca26\"],[1.0,\"#f0f921\"]]}],\"surface\":[{\"type\":\"surface\",\"colorbar\":{\"outlinewidth\":0,\"ticks\":\"\"},\"colorscale\":[[0.0,\"#0d0887\"],[0.1111111111111111,\"#46039f\"],[0.2222222222222222,\"#7201a8\"],[0.3333333333333333,\"#9c179e\"],[0.4444444444444444,\"#bd3786\"],[0.5555555555555556,\"#d8576b\"],[0.6666666666666666,\"#ed7953\"],[0.7777777777777778,\"#fb9f3a\"],[0.8888888888888888,\"#fdca26\"],[1.0,\"#f0f921\"]]}],\"mesh3d\":[{\"type\":\"mesh3d\",\"colorbar\":{\"outlinewidth\":0,\"ticks\":\"\"}}],\"scatter\":[{\"fillpattern\":{\"fillmode\":\"overlay\",\"size\":10,\"solidity\":0.2},\"type\":\"scatter\"}],\"parcoords\":[{\"type\":\"parcoords\",\"line\":{\"colorbar\":{\"outlinewidth\":0,\"ticks\":\"\"}}}],\"scatterpolargl\":[{\"type\":\"scatterpolargl\",\"marker\":{\"colorbar\":{\"outlinewidth\":0,\"ticks\":\"\"}}}],\"bar\":[{\"error_x\":{\"color\":\"#2a3f5f\"},\"error_y\":{\"color\":\"#2a3f5f\"},\"marker\":{\"line\":{\"color\":\"#E5ECF6\",\"width\":0.5},\"pattern\":{\"fillmode\":\"overlay\",\"size\":10,\"solidity\":0.2}},\"type\":\"bar\"}],\"scattergeo\":[{\"type\":\"scattergeo\",\"marker\":{\"colorbar\":{\"outlinewidth\":0,\"ticks\":\"\"}}}],\"scatterpolar\":[{\"type\":\"scatterpolar\",\"marker\":{\"colorbar\":{\"outlinewidth\":0,\"ticks\":\"\"}}}],\"histogram\":[{\"marker\":{\"pattern\":{\"fillmode\":\"overlay\",\"size\":10,\"solidity\":0.2}},\"type\":\"histogram\"}],\"scattergl\":[{\"type\":\"scattergl\",\"marker\":{\"colorbar\":{\"outlinewidth\":0,\"ticks\":\"\"}}}],\"scatter3d\":[{\"type\":\"scatter3d\",\"line\":{\"colorbar\":{\"outlinewidth\":0,\"ticks\":\"\"}},\"marker\":{\"colorbar\":{\"outlinewidth\":0,\"ticks\":\"\"}}}],\"scattermapbox\":[{\"type\":\"scattermapbox\",\"marker\":{\"colorbar\":{\"outlinewidth\":0,\"ticks\":\"\"}}}],\"scatterternary\":[{\"type\":\"scatterternary\",\"marker\":{\"colorbar\":{\"outlinewidth\":0,\"ticks\":\"\"}}}],\"scattercarpet\":[{\"type\":\"scattercarpet\",\"marker\":{\"colorbar\":{\"outlinewidth\":0,\"ticks\":\"\"}}}],\"carpet\":[{\"aaxis\":{\"endlinecolor\":\"#2a3f5f\",\"gridcolor\":\"white\",\"linecolor\":\"white\",\"minorgridcolor\":\"white\",\"startlinecolor\":\"#2a3f5f\"},\"baxis\":{\"endlinecolor\":\"#2a3f5f\",\"gridcolor\":\"white\",\"linecolor\":\"white\",\"minorgridcolor\":\"white\",\"startlinecolor\":\"#2a3f5f\"},\"type\":\"carpet\"}],\"table\":[{\"cells\":{\"fill\":{\"color\":\"#EBF0F8\"},\"line\":{\"color\":\"white\"}},\"header\":{\"fill\":{\"color\":\"#C8D4E3\"},\"line\":{\"color\":\"white\"}},\"type\":\"table\"}],\"barpolar\":[{\"marker\":{\"line\":{\"color\":\"#E5ECF6\",\"width\":0.5},\"pattern\":{\"fillmode\":\"overlay\",\"size\":10,\"solidity\":0.2}},\"type\":\"barpolar\"}],\"pie\":[{\"automargin\":true,\"type\":\"pie\"}]},\"layout\":{\"autotypenumbers\":\"strict\",\"colorway\":[\"#636efa\",\"#EF553B\",\"#00cc96\",\"#ab63fa\",\"#FFA15A\",\"#19d3f3\",\"#FF6692\",\"#B6E880\",\"#FF97FF\",\"#FECB52\"],\"font\":{\"color\":\"#2a3f5f\"},\"hovermode\":\"closest\",\"hoverlabel\":{\"align\":\"left\"},\"paper_bgcolor\":\"white\",\"plot_bgcolor\":\"#E5ECF6\",\"polar\":{\"bgcolor\":\"#E5ECF6\",\"angularaxis\":{\"gridcolor\":\"white\",\"linecolor\":\"white\",\"ticks\":\"\"},\"radialaxis\":{\"gridcolor\":\"white\",\"linecolor\":\"white\",\"ticks\":\"\"}},\"ternary\":{\"bgcolor\":\"#E5ECF6\",\"aaxis\":{\"gridcolor\":\"white\",\"linecolor\":\"white\",\"ticks\":\"\"},\"baxis\":{\"gridcolor\":\"white\",\"linecolor\":\"white\",\"ticks\":\"\"},\"caxis\":{\"gridcolor\":\"white\",\"linecolor\":\"white\",\"ticks\":\"\"}},\"coloraxis\":{\"colorbar\":{\"outlinewidth\":0,\"ticks\":\"\"}},\"colorscale\":{\"sequential\":[[0.0,\"#0d0887\"],[0.1111111111111111,\"#46039f\"],[0.2222222222222222,\"#7201a8\"],[0.3333333333333333,\"#9c179e\"],[0.4444444444444444,\"#bd3786\"],[0.5555555555555556,\"#d8576b\"],[0.6666666666666666,\"#ed7953\"],[0.7777777777777778,\"#fb9f3a\"],[0.8888888888888888,\"#fdca26\"],[1.0,\"#f0f921\"]],\"sequentialminus\":[[0.0,\"#0d0887\"],[0.1111111111111111,\"#46039f\"],[0.2222222222222222,\"#7201a8\"],[0.3333333333333333,\"#9c179e\"],[0.4444444444444444,\"#bd3786\"],[0.5555555555555556,\"#d8576b\"],[0.6666666666666666,\"#ed7953\"],[0.7777777777777778,\"#fb9f3a\"],[0.8888888888888888,\"#fdca26\"],[1.0,\"#f0f921\"]],\"diverging\":[[0,\"#8e0152\"],[0.1,\"#c51b7d\"],[0.2,\"#de77ae\"],[0.3,\"#f1b6da\"],[0.4,\"#fde0ef\"],[0.5,\"#f7f7f7\"],[0.6,\"#e6f5d0\"],[0.7,\"#b8e186\"],[0.8,\"#7fbc41\"],[0.9,\"#4d9221\"],[1,\"#276419\"]]},\"xaxis\":{\"gridcolor\":\"white\",\"linecolor\":\"white\",\"ticks\":\"\",\"title\":{\"standoff\":15},\"zerolinecolor\":\"white\",\"automargin\":true,\"zerolinewidth\":2},\"yaxis\":{\"gridcolor\":\"white\",\"linecolor\":\"white\",\"ticks\":\"\",\"title\":{\"standoff\":15},\"zerolinecolor\":\"white\",\"automargin\":true,\"zerolinewidth\":2},\"scene\":{\"xaxis\":{\"backgroundcolor\":\"#E5ECF6\",\"gridcolor\":\"white\",\"linecolor\":\"white\",\"showbackground\":true,\"ticks\":\"\",\"zerolinecolor\":\"white\",\"gridwidth\":2},\"yaxis\":{\"backgroundcolor\":\"#E5ECF6\",\"gridcolor\":\"white\",\"linecolor\":\"white\",\"showbackground\":true,\"ticks\":\"\",\"zerolinecolor\":\"white\",\"gridwidth\":2},\"zaxis\":{\"backgroundcolor\":\"#E5ECF6\",\"gridcolor\":\"white\",\"linecolor\":\"white\",\"showbackground\":true,\"ticks\":\"\",\"zerolinecolor\":\"white\",\"gridwidth\":2}},\"shapedefaults\":{\"line\":{\"color\":\"#2a3f5f\"}},\"annotationdefaults\":{\"arrowcolor\":\"#2a3f5f\",\"arrowhead\":0,\"arrowwidth\":1},\"geo\":{\"bgcolor\":\"white\",\"landcolor\":\"#E5ECF6\",\"subunitcolor\":\"white\",\"showland\":true,\"showlakes\":true,\"lakecolor\":\"white\"},\"title\":{\"x\":0.05},\"mapbox\":{\"style\":\"light\"}}},\"xaxis\":{\"anchor\":\"y\",\"domain\":[0.0,1.0],\"title\":{\"text\":\"Year\"},\"type\":\"category\"},\"yaxis\":{\"anchor\":\"x\",\"domain\":[0.0,1.0],\"title\":{\"text\":\"Total Trips\"}},\"coloraxis\":{\"colorbar\":{\"title\":{\"text\":\"Month\"}},\"colorscale\":[[0.0,\"#000004\"],[0.1111111111111111,\"#180f3d\"],[0.2222222222222222,\"#440f76\"],[0.3333333333333333,\"#721f81\"],[0.4444444444444444,\"#9e2f7f\"],[0.5555555555555556,\"#cd4071\"],[0.6666666666666666,\"#f1605d\"],[0.7777777777777778,\"#fd9668\"],[0.8888888888888888,\"#feca8d\"],[1.0,\"#fcfdbf\"]]},\"legend\":{\"tracegroupgap\":0},\"title\":{\"text\":\"BART Ridership: 2011-2024\"},\"barmode\":\"relative\"},                        {\"responsive\": true}                    ).then(function(){\n",
       "                            \n",
       "var gd = document.getElementById('533d505e-74a2-4797-a483-fe1b839454c4');\n",
       "var x = new MutationObserver(function (mutations, observer) {{\n",
       "        var display = window.getComputedStyle(gd).display;\n",
       "        if (!display || display === 'none') {{\n",
       "            console.log([gd, 'removed!']);\n",
       "            Plotly.purge(gd);\n",
       "            observer.disconnect();\n",
       "        }}\n",
       "}});\n",
       "\n",
       "// Listen for the removal of the full notebook cells\n",
       "var notebookContainer = gd.closest('#notebook-container');\n",
       "if (notebookContainer) {{\n",
       "    x.observe(notebookContainer, {childList: true});\n",
       "}}\n",
       "\n",
       "// Listen for the clearing of the current output cell\n",
       "var outputEl = gd.closest('.output');\n",
       "if (outputEl) {{\n",
       "    x.observe(outputEl, {childList: true});\n",
       "}}\n",
       "\n",
       "                        })                };                });            </script>        </div>"
      ]
     },
     "metadata": {},
     "output_type": "display_data"
    }
   ],
   "source": [
    "#Visualization: Bart 2011-2023 by Year (Months as colors)\n",
    "trend = px.bar(trips_month, x='Year', \n",
    "             y='Trip Count', color = \"Month\", \n",
    "             labels={\"Trip Count\":\"Total Trips\"}, \n",
    "             title = \"BART Ridership: 2011-2024\",\n",
    "             color_continuous_scale=\"Magma\",\n",
    "               \n",
    "            )\n",
    "trend.update_xaxes(type = 'category')\n",
    "trend.show()\n",
    "trend.write_image(\"images/2011_2023.png\")\n",
    "trend.write_image(\"images/2011_2023.svg\")"
   ]
  },
  {
   "cell_type": "code",
   "execution_count": 635,
   "id": "7bbcee3e-cfbc-4ebb-944a-e8b7b68112af",
   "metadata": {},
   "outputs": [
    {
     "data": {
      "text/html": [
       "<div>\n",
       "<style scoped>\n",
       "    .dataframe tbody tr th:only-of-type {\n",
       "        vertical-align: middle;\n",
       "    }\n",
       "\n",
       "    .dataframe tbody tr th {\n",
       "        vertical-align: top;\n",
       "    }\n",
       "\n",
       "    .dataframe thead th {\n",
       "        text-align: right;\n",
       "    }\n",
       "</style>\n",
       "<table border=\"1\" class=\"dataframe\">\n",
       "  <thead>\n",
       "    <tr style=\"text-align: right;\">\n",
       "      <th></th>\n",
       "      <th>p_value</th>\n",
       "      <th>Year_1</th>\n",
       "      <th>Year_2</th>\n",
       "      <th>Month Avg</th>\n",
       "    </tr>\n",
       "  </thead>\n",
       "  <tbody>\n",
       "    <tr>\n",
       "      <th>0</th>\n",
       "      <td>0.00</td>\n",
       "      <td>2011</td>\n",
       "      <td>2012</td>\n",
       "      <td>9620455.0</td>\n",
       "    </tr>\n",
       "    <tr>\n",
       "      <th>1</th>\n",
       "      <td>0.63</td>\n",
       "      <td>2012</td>\n",
       "      <td>2013</td>\n",
       "      <td>9747386.0</td>\n",
       "    </tr>\n",
       "    <tr>\n",
       "      <th>2</th>\n",
       "      <td>0.04</td>\n",
       "      <td>2013</td>\n",
       "      <td>2014</td>\n",
       "      <td>10337743.0</td>\n",
       "    </tr>\n",
       "    <tr>\n",
       "      <th>3</th>\n",
       "      <td>0.24</td>\n",
       "      <td>2014</td>\n",
       "      <td>2015</td>\n",
       "      <td>10646746.0</td>\n",
       "    </tr>\n",
       "    <tr>\n",
       "      <th>4</th>\n",
       "      <td>0.86</td>\n",
       "      <td>2015</td>\n",
       "      <td>2016</td>\n",
       "      <td>10684026.0</td>\n",
       "    </tr>\n",
       "    <tr>\n",
       "      <th>5</th>\n",
       "      <td>0.04</td>\n",
       "      <td>2016</td>\n",
       "      <td>2017</td>\n",
       "      <td>10239922.0</td>\n",
       "    </tr>\n",
       "    <tr>\n",
       "      <th>6</th>\n",
       "      <td>0.45</td>\n",
       "      <td>2017</td>\n",
       "      <td>2018</td>\n",
       "      <td>10043220.0</td>\n",
       "    </tr>\n",
       "    <tr>\n",
       "      <th>7</th>\n",
       "      <td>0.55</td>\n",
       "      <td>2018</td>\n",
       "      <td>2019</td>\n",
       "      <td>9884134.0</td>\n",
       "    </tr>\n",
       "    <tr>\n",
       "      <th>8</th>\n",
       "      <td>0.00</td>\n",
       "      <td>2019</td>\n",
       "      <td>2020</td>\n",
       "      <td>2618857.0</td>\n",
       "    </tr>\n",
       "    <tr>\n",
       "      <th>9</th>\n",
       "      <td>0.55</td>\n",
       "      <td>2020</td>\n",
       "      <td>2021</td>\n",
       "      <td>2080367.0</td>\n",
       "    </tr>\n",
       "    <tr>\n",
       "      <th>10</th>\n",
       "      <td>0.00</td>\n",
       "      <td>2021</td>\n",
       "      <td>2022</td>\n",
       "      <td>3498896.0</td>\n",
       "    </tr>\n",
       "    <tr>\n",
       "      <th>11</th>\n",
       "      <td>0.02</td>\n",
       "      <td>2022</td>\n",
       "      <td>2023</td>\n",
       "      <td>4005418.0</td>\n",
       "    </tr>\n",
       "    <tr>\n",
       "      <th>12</th>\n",
       "      <td>0.85</td>\n",
       "      <td>2023</td>\n",
       "      <td>2024</td>\n",
       "      <td>4038839.0</td>\n",
       "    </tr>\n",
       "  </tbody>\n",
       "</table>\n",
       "</div>"
      ],
      "text/plain": [
       "    p_value  Year_1  Year_2   Month Avg\n",
       "0      0.00    2011    2012   9620455.0\n",
       "1      0.63    2012    2013   9747386.0\n",
       "2      0.04    2013    2014  10337743.0\n",
       "3      0.24    2014    2015  10646746.0\n",
       "4      0.86    2015    2016  10684026.0\n",
       "5      0.04    2016    2017  10239922.0\n",
       "6      0.45    2017    2018  10043220.0\n",
       "7      0.55    2018    2019   9884134.0\n",
       "8      0.00    2019    2020   2618857.0\n",
       "9      0.55    2020    2021   2080367.0\n",
       "10     0.00    2021    2022   3498896.0\n",
       "11     0.02    2022    2023   4005418.0\n",
       "12     0.85    2023    2024   4038839.0"
      ]
     },
     "execution_count": 635,
     "metadata": {},
     "output_type": "execute_result"
    }
   ],
   "source": [
    "#Significant changes to ridership (P Values)\n",
    "p_val = []\n",
    "for i in range(trips_month['Year'].value_counts().index.shape[0]-1):\n",
    "    int_list = [stats.ttest_ind(\n",
    "                    a=trips_month[trips_month['Year'] == trips_month['Year'].value_counts().index[i]]['Trip Count'], \n",
    "                    b=trips_month[trips_month['Year'] == trips_month['Year'].value_counts().index[i+1]]['Trip Count'], \n",
    "                    equal_var=True)[1].round(2),\n",
    "                trips_month['Year'].value_counts().index[i], \n",
    "                trips_month['Year'].value_counts().index[i+1],\n",
    "               trips_month.groupby(['Year','Month'])['Trip Count'].sum().groupby(['Year']).mean().round().iloc[i+1]]\n",
    "    p_val.append(int_list)\n",
    "pd.DataFrame(p_val, columns = ('p_value', 'Year_1','Year_2', 'Month Avg'))"
   ]
  },
  {
   "cell_type": "code",
   "execution_count": 637,
   "id": "f5853d6f-1cc1-49a7-9880-420120c5f49b",
   "metadata": {},
   "outputs": [
    {
     "data": {
      "text/plain": [
       "Year\n",
       "2011    8.868596e+06\n",
       "2012    9.620455e+06\n",
       "2013    9.747386e+06\n",
       "2014    1.033774e+07\n",
       "2015    1.064675e+07\n",
       "2016    1.068403e+07\n",
       "2017    1.023992e+07\n",
       "2018    1.004322e+07\n",
       "2019    9.884134e+06\n",
       "2020    2.618857e+06\n",
       "2021    2.080367e+06\n",
       "2022    3.498896e+06\n",
       "2023    4.005418e+06\n",
       "2024    4.038839e+06\n",
       "Name: Trip Count, dtype: float64"
      ]
     },
     "execution_count": 637,
     "metadata": {},
     "output_type": "execute_result"
    }
   ],
   "source": [
    "# Avg monthly ridership by year\n",
    "trips_month.groupby(['Year','Month'])['Trip Count'].sum().groupby(['Year']).mean()#.round().iloc[0]"
   ]
  },
  {
   "cell_type": "code",
   "execution_count": 639,
   "id": "140a001e-eb97-4cc3-bcba-1794cf513602",
   "metadata": {},
   "outputs": [
    {
     "name": "stdout",
     "output_type": "stream",
     "text": [
      "intercept-23316386074.999992\n",
      "slope11550308.999999996\n"
     ]
    },
    {
     "data": {
      "text/plain": [
       "49889032.0"
      ]
     },
     "execution_count": 639,
     "metadata": {},
     "output_type": "execute_result"
    }
   ],
   "source": [
    "#Post 2020 growth regression\n",
    "\n",
    "from sklearn.linear_model import LinearRegression\n",
    "growth_2020ols = LinearRegression()\n",
    "growth_2020ols.fit(growth_2020[['Year']],growth_2020['Trip Count'])\n",
    "print('intercept' + str(growth_2020ols.intercept_))\n",
    "print('slope' + str(growth_2020ols.coef_[0]))\n",
    "# growth_2020[['Year']]\n",
    "\n",
    "growth_2020ols.intercept_ + growth_2020ols.coef_[0]*2023"
   ]
  },
  {
   "cell_type": "code",
   "execution_count": 641,
   "id": "bdeab042-1c4d-4719-8996-16dad0a6781c",
   "metadata": {},
   "outputs": [
    {
     "name": "stdout",
     "output_type": "stream",
     "text": [
      "-47148403.33077398\n",
      "[3.03425307e-11]\n"
     ]
    },
    {
     "data": {
      "application/vnd.plotly.v1+json": {
       "config": {
        "plotlyServerURL": "https://plot.ly"
       },
       "data": [
        {
         "hovertemplate": "=%{x}<br>Monthly Trip Count=%{marker.size}<extra></extra>",
         "legendgroup": "",
         "marker": {
          "color": "#636efa",
          "size": [
           622953,
           752902,
           1074640,
           1221838,
           1195699,
           1244202,
           1428414,
           1276647,
           1168987,
           1069678,
           1140865,
           1425588,
           1534665,
           1707831,
           2038091,
           2289408,
           2524267,
           2787280,
           2912064,
           2832666,
           2701999,
           2220863,
           2558265,
           3388485,
           3421101,
           3593434,
           3800420,
           3493579,
           3991651,
           4180197,
           4187488,
           3747639,
           3403625,
           3417241,
           3581426,
           4116038,
           4022389,
           4133709,
           4159215,
           3916452,
           4477455,
           4202723,
           4432027,
           3980362,
           3625983,
           3844643,
           3917031,
           4169897,
           4223784
          ],
          "sizemode": "area",
          "sizeref": 11193.6375,
          "symbol": "circle"
         },
         "mode": "markers",
         "name": "",
         "orientation": "v",
         "showlegend": false,
         "type": "scatter",
         "x": [
          "2020-04-01T00:00:00",
          "2020-05-01T00:00:00",
          "2020-06-01T00:00:00",
          "2020-07-01T00:00:00",
          "2020-08-01T00:00:00",
          "2020-09-01T00:00:00",
          "2020-10-01T00:00:00",
          "2020-11-01T00:00:00",
          "2020-12-01T00:00:00",
          "2021-01-01T00:00:00",
          "2021-02-01T00:00:00",
          "2021-03-01T00:00:00",
          "2021-04-01T00:00:00",
          "2021-05-01T00:00:00",
          "2021-06-01T00:00:00",
          "2021-07-01T00:00:00",
          "2021-08-01T00:00:00",
          "2021-09-01T00:00:00",
          "2021-10-01T00:00:00",
          "2021-11-01T00:00:00",
          "2021-12-01T00:00:00",
          "2022-01-01T00:00:00",
          "2022-02-01T00:00:00",
          "2022-03-01T00:00:00",
          "2022-04-01T00:00:00",
          "2022-05-01T00:00:00",
          "2022-06-01T00:00:00",
          "2022-07-01T00:00:00",
          "2022-08-01T00:00:00",
          "2022-09-01T00:00:00",
          "2022-10-01T00:00:00",
          "2022-11-01T00:00:00",
          "2022-12-01T00:00:00",
          "2023-01-01T00:00:00",
          "2023-02-01T00:00:00",
          "2023-03-01T00:00:00",
          "2023-04-01T00:00:00",
          "2023-05-01T00:00:00",
          "2023-06-01T00:00:00",
          "2023-07-01T00:00:00",
          "2023-08-01T00:00:00",
          "2023-09-01T00:00:00",
          "2023-10-01T00:00:00",
          "2023-11-01T00:00:00",
          "2023-12-01T00:00:00",
          "2024-01-01T00:00:00",
          "2024-02-01T00:00:00",
          "2024-03-01T00:00:00",
          "2024-04-01T00:00:00"
         ],
         "xaxis": "x",
         "y": [
          622953,
          752902,
          1074640,
          1221838,
          1195699,
          1244202,
          1428414,
          1276647,
          1168987,
          1069678,
          1140865,
          1425588,
          1534665,
          1707831,
          2038091,
          2289408,
          2524267,
          2787280,
          2912064,
          2832666,
          2701999,
          2220863,
          2558265,
          3388485,
          3421101,
          3593434,
          3800420,
          3493579,
          3991651,
          4180197,
          4187488,
          3747639,
          3403625,
          3417241,
          3581426,
          4116038,
          4022389,
          4133709,
          4159215,
          3916452,
          4477455,
          4202723,
          4432027,
          3980362,
          3625983,
          3844643,
          3917031,
          4169897,
          4223784
         ],
         "yaxis": "y"
        },
        {
         "hovertemplate": "<b>OLS trendline</b><br>Trip Count = 0.0303425 * Datetime + -4.71484e+07<br>R<sup>2</sup>=0.867102<br><br>=%{x}<br>Monthly Trip Count=%{y} <b>(trend)</b><extra></extra>",
         "legendgroup": "Overall Trendline",
         "line": {
          "color": "#EF553B"
         },
         "mode": "lines",
         "name": "Overall Trendline",
         "showlegend": true,
         "type": "scatter",
         "x": [
          "2020-04-01T00:00:00",
          "2020-05-01T00:00:00",
          "2020-06-01T00:00:00",
          "2020-07-01T00:00:00",
          "2020-08-01T00:00:00",
          "2020-09-01T00:00:00",
          "2020-10-01T00:00:00",
          "2020-11-01T00:00:00",
          "2020-12-01T00:00:00",
          "2021-01-01T00:00:00",
          "2021-02-01T00:00:00",
          "2021-03-01T00:00:00",
          "2021-04-01T00:00:00",
          "2021-05-01T00:00:00",
          "2021-06-01T00:00:00",
          "2021-07-01T00:00:00",
          "2021-08-01T00:00:00",
          "2021-09-01T00:00:00",
          "2021-10-01T00:00:00",
          "2021-11-01T00:00:00",
          "2021-12-01T00:00:00",
          "2022-01-01T00:00:00",
          "2022-02-01T00:00:00",
          "2022-03-01T00:00:00",
          "2022-04-01T00:00:00",
          "2022-05-01T00:00:00",
          "2022-06-01T00:00:00",
          "2022-07-01T00:00:00",
          "2022-08-01T00:00:00",
          "2022-09-01T00:00:00",
          "2022-10-01T00:00:00",
          "2022-11-01T00:00:00",
          "2022-12-01T00:00:00",
          "2023-01-01T00:00:00",
          "2023-02-01T00:00:00",
          "2023-03-01T00:00:00",
          "2023-04-01T00:00:00",
          "2023-05-01T00:00:00",
          "2023-06-01T00:00:00",
          "2023-07-01T00:00:00",
          "2023-08-01T00:00:00",
          "2023-09-01T00:00:00",
          "2023-10-01T00:00:00",
          "2023-11-01T00:00:00",
          "2023-12-01T00:00:00",
          "2024-01-01T00:00:00",
          "2024-02-01T00:00:00",
          "2024-03-01T00:00:00",
          "2024-04-01T00:00:00"
         ],
         "xaxis": "x",
         "y": [
          965723.4052047133,
          1044371.2449082732,
          1125640.6792686135,
          1204288.5189721659,
          1285557.9533325136,
          1366827.3876928538,
          1445475.2273964062,
          1526744.6617567465,
          1605392.5014603063,
          1686661.9358206466,
          1767931.3701809868,
          1841336.020570971,
          1922605.4549313113,
          2001253.2946348712,
          2082522.7289952114,
          2161170.568698764,
          2242440.003059104,
          2323709.4374194443,
          2402357.277123004,
          2483626.7114833444,
          2562274.5511869043,
          2643543.9855472445,
          2724813.419907585,
          2798218.070297569,
          2879487.5046579093,
          2958135.3443614617,
          3039404.7787218094,
          3118052.618425362,
          3199322.052785702,
          3280591.4871460423,
          3359239.326849602,
          3440508.7612099424,
          3519156.600913495,
          3600426.035273835,
          3681695.4696341828,
          3755100.120024167,
          3836369.5543845072,
          3915017.3940880597,
          3996286.8284484,
          4074934.66815196,
          4156204.1025123,
          4237473.53687264,
          4316121.3765762,
          4397390.81093654,
          4476038.650640093,
          4557308.085000433,
          4638577.519360773,
          4714603.764407545,
          4795873.198767886
         ],
         "yaxis": "y"
        }
       ],
       "layout": {
        "autosize": true,
        "legend": {
         "itemsizing": "constant",
         "tracegroupgap": 0
        },
        "showlegend": false,
        "template": {
         "data": {
          "bar": [
           {
            "error_x": {
             "color": "#2a3f5f"
            },
            "error_y": {
             "color": "#2a3f5f"
            },
            "marker": {
             "line": {
              "color": "#E5ECF6",
              "width": 0.5
             },
             "pattern": {
              "fillmode": "overlay",
              "size": 10,
              "solidity": 0.2
             }
            },
            "type": "bar"
           }
          ],
          "barpolar": [
           {
            "marker": {
             "line": {
              "color": "#E5ECF6",
              "width": 0.5
             },
             "pattern": {
              "fillmode": "overlay",
              "size": 10,
              "solidity": 0.2
             }
            },
            "type": "barpolar"
           }
          ],
          "carpet": [
           {
            "aaxis": {
             "endlinecolor": "#2a3f5f",
             "gridcolor": "white",
             "linecolor": "white",
             "minorgridcolor": "white",
             "startlinecolor": "#2a3f5f"
            },
            "baxis": {
             "endlinecolor": "#2a3f5f",
             "gridcolor": "white",
             "linecolor": "white",
             "minorgridcolor": "white",
             "startlinecolor": "#2a3f5f"
            },
            "type": "carpet"
           }
          ],
          "choropleth": [
           {
            "colorbar": {
             "outlinewidth": 0,
             "ticks": ""
            },
            "type": "choropleth"
           }
          ],
          "contour": [
           {
            "colorbar": {
             "outlinewidth": 0,
             "ticks": ""
            },
            "colorscale": [
             [
              0,
              "#0d0887"
             ],
             [
              0.1111111111111111,
              "#46039f"
             ],
             [
              0.2222222222222222,
              "#7201a8"
             ],
             [
              0.3333333333333333,
              "#9c179e"
             ],
             [
              0.4444444444444444,
              "#bd3786"
             ],
             [
              0.5555555555555556,
              "#d8576b"
             ],
             [
              0.6666666666666666,
              "#ed7953"
             ],
             [
              0.7777777777777778,
              "#fb9f3a"
             ],
             [
              0.8888888888888888,
              "#fdca26"
             ],
             [
              1,
              "#f0f921"
             ]
            ],
            "type": "contour"
           }
          ],
          "contourcarpet": [
           {
            "colorbar": {
             "outlinewidth": 0,
             "ticks": ""
            },
            "type": "contourcarpet"
           }
          ],
          "heatmap": [
           {
            "colorbar": {
             "outlinewidth": 0,
             "ticks": ""
            },
            "colorscale": [
             [
              0,
              "#0d0887"
             ],
             [
              0.1111111111111111,
              "#46039f"
             ],
             [
              0.2222222222222222,
              "#7201a8"
             ],
             [
              0.3333333333333333,
              "#9c179e"
             ],
             [
              0.4444444444444444,
              "#bd3786"
             ],
             [
              0.5555555555555556,
              "#d8576b"
             ],
             [
              0.6666666666666666,
              "#ed7953"
             ],
             [
              0.7777777777777778,
              "#fb9f3a"
             ],
             [
              0.8888888888888888,
              "#fdca26"
             ],
             [
              1,
              "#f0f921"
             ]
            ],
            "type": "heatmap"
           }
          ],
          "heatmapgl": [
           {
            "colorbar": {
             "outlinewidth": 0,
             "ticks": ""
            },
            "colorscale": [
             [
              0,
              "#0d0887"
             ],
             [
              0.1111111111111111,
              "#46039f"
             ],
             [
              0.2222222222222222,
              "#7201a8"
             ],
             [
              0.3333333333333333,
              "#9c179e"
             ],
             [
              0.4444444444444444,
              "#bd3786"
             ],
             [
              0.5555555555555556,
              "#d8576b"
             ],
             [
              0.6666666666666666,
              "#ed7953"
             ],
             [
              0.7777777777777778,
              "#fb9f3a"
             ],
             [
              0.8888888888888888,
              "#fdca26"
             ],
             [
              1,
              "#f0f921"
             ]
            ],
            "type": "heatmapgl"
           }
          ],
          "histogram": [
           {
            "marker": {
             "pattern": {
              "fillmode": "overlay",
              "size": 10,
              "solidity": 0.2
             }
            },
            "type": "histogram"
           }
          ],
          "histogram2d": [
           {
            "colorbar": {
             "outlinewidth": 0,
             "ticks": ""
            },
            "colorscale": [
             [
              0,
              "#0d0887"
             ],
             [
              0.1111111111111111,
              "#46039f"
             ],
             [
              0.2222222222222222,
              "#7201a8"
             ],
             [
              0.3333333333333333,
              "#9c179e"
             ],
             [
              0.4444444444444444,
              "#bd3786"
             ],
             [
              0.5555555555555556,
              "#d8576b"
             ],
             [
              0.6666666666666666,
              "#ed7953"
             ],
             [
              0.7777777777777778,
              "#fb9f3a"
             ],
             [
              0.8888888888888888,
              "#fdca26"
             ],
             [
              1,
              "#f0f921"
             ]
            ],
            "type": "histogram2d"
           }
          ],
          "histogram2dcontour": [
           {
            "colorbar": {
             "outlinewidth": 0,
             "ticks": ""
            },
            "colorscale": [
             [
              0,
              "#0d0887"
             ],
             [
              0.1111111111111111,
              "#46039f"
             ],
             [
              0.2222222222222222,
              "#7201a8"
             ],
             [
              0.3333333333333333,
              "#9c179e"
             ],
             [
              0.4444444444444444,
              "#bd3786"
             ],
             [
              0.5555555555555556,
              "#d8576b"
             ],
             [
              0.6666666666666666,
              "#ed7953"
             ],
             [
              0.7777777777777778,
              "#fb9f3a"
             ],
             [
              0.8888888888888888,
              "#fdca26"
             ],
             [
              1,
              "#f0f921"
             ]
            ],
            "type": "histogram2dcontour"
           }
          ],
          "mesh3d": [
           {
            "colorbar": {
             "outlinewidth": 0,
             "ticks": ""
            },
            "type": "mesh3d"
           }
          ],
          "parcoords": [
           {
            "line": {
             "colorbar": {
              "outlinewidth": 0,
              "ticks": ""
             }
            },
            "type": "parcoords"
           }
          ],
          "pie": [
           {
            "automargin": true,
            "type": "pie"
           }
          ],
          "scatter": [
           {
            "fillpattern": {
             "fillmode": "overlay",
             "size": 10,
             "solidity": 0.2
            },
            "type": "scatter"
           }
          ],
          "scatter3d": [
           {
            "line": {
             "colorbar": {
              "outlinewidth": 0,
              "ticks": ""
             }
            },
            "marker": {
             "colorbar": {
              "outlinewidth": 0,
              "ticks": ""
             }
            },
            "type": "scatter3d"
           }
          ],
          "scattercarpet": [
           {
            "marker": {
             "colorbar": {
              "outlinewidth": 0,
              "ticks": ""
             }
            },
            "type": "scattercarpet"
           }
          ],
          "scattergeo": [
           {
            "marker": {
             "colorbar": {
              "outlinewidth": 0,
              "ticks": ""
             }
            },
            "type": "scattergeo"
           }
          ],
          "scattergl": [
           {
            "marker": {
             "colorbar": {
              "outlinewidth": 0,
              "ticks": ""
             }
            },
            "type": "scattergl"
           }
          ],
          "scattermapbox": [
           {
            "marker": {
             "colorbar": {
              "outlinewidth": 0,
              "ticks": ""
             }
            },
            "type": "scattermapbox"
           }
          ],
          "scatterpolar": [
           {
            "marker": {
             "colorbar": {
              "outlinewidth": 0,
              "ticks": ""
             }
            },
            "type": "scatterpolar"
           }
          ],
          "scatterpolargl": [
           {
            "marker": {
             "colorbar": {
              "outlinewidth": 0,
              "ticks": ""
             }
            },
            "type": "scatterpolargl"
           }
          ],
          "scatterternary": [
           {
            "marker": {
             "colorbar": {
              "outlinewidth": 0,
              "ticks": ""
             }
            },
            "type": "scatterternary"
           }
          ],
          "surface": [
           {
            "colorbar": {
             "outlinewidth": 0,
             "ticks": ""
            },
            "colorscale": [
             [
              0,
              "#0d0887"
             ],
             [
              0.1111111111111111,
              "#46039f"
             ],
             [
              0.2222222222222222,
              "#7201a8"
             ],
             [
              0.3333333333333333,
              "#9c179e"
             ],
             [
              0.4444444444444444,
              "#bd3786"
             ],
             [
              0.5555555555555556,
              "#d8576b"
             ],
             [
              0.6666666666666666,
              "#ed7953"
             ],
             [
              0.7777777777777778,
              "#fb9f3a"
             ],
             [
              0.8888888888888888,
              "#fdca26"
             ],
             [
              1,
              "#f0f921"
             ]
            ],
            "type": "surface"
           }
          ],
          "table": [
           {
            "cells": {
             "fill": {
              "color": "#EBF0F8"
             },
             "line": {
              "color": "white"
             }
            },
            "header": {
             "fill": {
              "color": "#C8D4E3"
             },
             "line": {
              "color": "white"
             }
            },
            "type": "table"
           }
          ]
         },
         "layout": {
          "annotationdefaults": {
           "arrowcolor": "#2a3f5f",
           "arrowhead": 0,
           "arrowwidth": 1
          },
          "autotypenumbers": "strict",
          "coloraxis": {
           "colorbar": {
            "outlinewidth": 0,
            "ticks": ""
           }
          },
          "colorscale": {
           "diverging": [
            [
             0,
             "#8e0152"
            ],
            [
             0.1,
             "#c51b7d"
            ],
            [
             0.2,
             "#de77ae"
            ],
            [
             0.3,
             "#f1b6da"
            ],
            [
             0.4,
             "#fde0ef"
            ],
            [
             0.5,
             "#f7f7f7"
            ],
            [
             0.6,
             "#e6f5d0"
            ],
            [
             0.7,
             "#b8e186"
            ],
            [
             0.8,
             "#7fbc41"
            ],
            [
             0.9,
             "#4d9221"
            ],
            [
             1,
             "#276419"
            ]
           ],
           "sequential": [
            [
             0,
             "#0d0887"
            ],
            [
             0.1111111111111111,
             "#46039f"
            ],
            [
             0.2222222222222222,
             "#7201a8"
            ],
            [
             0.3333333333333333,
             "#9c179e"
            ],
            [
             0.4444444444444444,
             "#bd3786"
            ],
            [
             0.5555555555555556,
             "#d8576b"
            ],
            [
             0.6666666666666666,
             "#ed7953"
            ],
            [
             0.7777777777777778,
             "#fb9f3a"
            ],
            [
             0.8888888888888888,
             "#fdca26"
            ],
            [
             1,
             "#f0f921"
            ]
           ],
           "sequentialminus": [
            [
             0,
             "#0d0887"
            ],
            [
             0.1111111111111111,
             "#46039f"
            ],
            [
             0.2222222222222222,
             "#7201a8"
            ],
            [
             0.3333333333333333,
             "#9c179e"
            ],
            [
             0.4444444444444444,
             "#bd3786"
            ],
            [
             0.5555555555555556,
             "#d8576b"
            ],
            [
             0.6666666666666666,
             "#ed7953"
            ],
            [
             0.7777777777777778,
             "#fb9f3a"
            ],
            [
             0.8888888888888888,
             "#fdca26"
            ],
            [
             1,
             "#f0f921"
            ]
           ]
          },
          "colorway": [
           "#636efa",
           "#EF553B",
           "#00cc96",
           "#ab63fa",
           "#FFA15A",
           "#19d3f3",
           "#FF6692",
           "#B6E880",
           "#FF97FF",
           "#FECB52"
          ],
          "font": {
           "color": "#2a3f5f"
          },
          "geo": {
           "bgcolor": "white",
           "lakecolor": "white",
           "landcolor": "#E5ECF6",
           "showlakes": true,
           "showland": true,
           "subunitcolor": "white"
          },
          "hoverlabel": {
           "align": "left"
          },
          "hovermode": "closest",
          "mapbox": {
           "style": "light"
          },
          "paper_bgcolor": "white",
          "plot_bgcolor": "#E5ECF6",
          "polar": {
           "angularaxis": {
            "gridcolor": "white",
            "linecolor": "white",
            "ticks": ""
           },
           "bgcolor": "#E5ECF6",
           "radialaxis": {
            "gridcolor": "white",
            "linecolor": "white",
            "ticks": ""
           }
          },
          "scene": {
           "xaxis": {
            "backgroundcolor": "#E5ECF6",
            "gridcolor": "white",
            "gridwidth": 2,
            "linecolor": "white",
            "showbackground": true,
            "ticks": "",
            "zerolinecolor": "white"
           },
           "yaxis": {
            "backgroundcolor": "#E5ECF6",
            "gridcolor": "white",
            "gridwidth": 2,
            "linecolor": "white",
            "showbackground": true,
            "ticks": "",
            "zerolinecolor": "white"
           },
           "zaxis": {
            "backgroundcolor": "#E5ECF6",
            "gridcolor": "white",
            "gridwidth": 2,
            "linecolor": "white",
            "showbackground": true,
            "ticks": "",
            "zerolinecolor": "white"
           }
          },
          "shapedefaults": {
           "line": {
            "color": "#2a3f5f"
           }
          },
          "ternary": {
           "aaxis": {
            "gridcolor": "white",
            "linecolor": "white",
            "ticks": ""
           },
           "baxis": {
            "gridcolor": "white",
            "linecolor": "white",
            "ticks": ""
           },
           "bgcolor": "#E5ECF6",
           "caxis": {
            "gridcolor": "white",
            "linecolor": "white",
            "ticks": ""
           }
          },
          "title": {
           "x": 0.05
          },
          "xaxis": {
           "automargin": true,
           "gridcolor": "white",
           "linecolor": "white",
           "ticks": "",
           "title": {
            "standoff": 15
           },
           "zerolinecolor": "white",
           "zerolinewidth": 2
          },
          "yaxis": {
           "automargin": true,
           "gridcolor": "white",
           "linecolor": "white",
           "ticks": "",
           "title": {
            "standoff": 15
           },
           "zerolinecolor": "white",
           "zerolinewidth": 2
          }
         }
        },
        "title": {
         "text": "Pandemic Rebound: 2020-2024"
        },
        "xaxis": {
         "anchor": "y",
         "autorange": true,
         "domain": [
          0,
          1
         ],
         "range": [
          "2019-12-29 12:51:18.4743",
          "2024-07-19 21:33:28.3528"
         ],
         "title": {
          "text": ""
         },
         "type": "date"
        },
        "yaxis": {
         "anchor": "x",
         "autorange": true,
         "domain": [
          0,
          1
         ],
         "range": [
          213637.9825065632,
          5159149.478135093
         ],
         "title": {
          "text": "Monthly Trip Count"
         },
         "type": "linear"
        }
       }
      },
      "image/png": "[encoded data removed]",
      "text/html": [
       "<div>                            <div id=\"fea82a60-1af4-46d6-9650-073de7c7210b\" class=\"plotly-graph-div\" style=\"height:525px; width:100%;\"></div>            <script type=\"text/javascript\">                require([\"plotly\"], function(Plotly) {                    window.PLOTLYENV=window.PLOTLYENV || {};                                    if (document.getElementById(\"fea82a60-1af4-46d6-9650-073de7c7210b\")) {                    Plotly.newPlot(                        \"fea82a60-1af4-46d6-9650-073de7c7210b\",                        [{\"hovertemplate\":\"=%{x}\\u003cbr\\u003eMonthly Trip Count=%{marker.size}\\u003cextra\\u003e\\u003c\\u002fextra\\u003e\",\"legendgroup\":\"\",\"marker\":{\"color\":\"#636efa\",\"size\":[622953,752902,1074640,1221838,1195699,1244202,1428414,1276647,1168987,1069678,1140865,1425588,1534665,1707831,2038091,2289408,2524267,2787280,2912064,2832666,2701999,2220863,2558265,3388485,3421101,3593434,3800420,3493579,3991651,4180197,4187488,3747639,3403625,3417241,3581426,4116038,4022389,4133709,4159215,3916452,4477455,4202723,4432027,3980362,3625983,3844643,3917031,4169897,4223784],\"sizemode\":\"area\",\"sizeref\":11193.6375,\"symbol\":\"circle\"},\"mode\":\"markers\",\"name\":\"\",\"orientation\":\"v\",\"showlegend\":false,\"x\":[\"2020-04-01T00:00:00\",\"2020-05-01T00:00:00\",\"2020-06-01T00:00:00\",\"2020-07-01T00:00:00\",\"2020-08-01T00:00:00\",\"2020-09-01T00:00:00\",\"2020-10-01T00:00:00\",\"2020-11-01T00:00:00\",\"2020-12-01T00:00:00\",\"2021-01-01T00:00:00\",\"2021-02-01T00:00:00\",\"2021-03-01T00:00:00\",\"2021-04-01T00:00:00\",\"2021-05-01T00:00:00\",\"2021-06-01T00:00:00\",\"2021-07-01T00:00:00\",\"2021-08-01T00:00:00\",\"2021-09-01T00:00:00\",\"2021-10-01T00:00:00\",\"2021-11-01T00:00:00\",\"2021-12-01T00:00:00\",\"2022-01-01T00:00:00\",\"2022-02-01T00:00:00\",\"2022-03-01T00:00:00\",\"2022-04-01T00:00:00\",\"2022-05-01T00:00:00\",\"2022-06-01T00:00:00\",\"2022-07-01T00:00:00\",\"2022-08-01T00:00:00\",\"2022-09-01T00:00:00\",\"2022-10-01T00:00:00\",\"2022-11-01T00:00:00\",\"2022-12-01T00:00:00\",\"2023-01-01T00:00:00\",\"2023-02-01T00:00:00\",\"2023-03-01T00:00:00\",\"2023-04-01T00:00:00\",\"2023-05-01T00:00:00\",\"2023-06-01T00:00:00\",\"2023-07-01T00:00:00\",\"2023-08-01T00:00:00\",\"2023-09-01T00:00:00\",\"2023-10-01T00:00:00\",\"2023-11-01T00:00:00\",\"2023-12-01T00:00:00\",\"2024-01-01T00:00:00\",\"2024-02-01T00:00:00\",\"2024-03-01T00:00:00\",\"2024-04-01T00:00:00\"],\"xaxis\":\"x\",\"y\":[622953,752902,1074640,1221838,1195699,1244202,1428414,1276647,1168987,1069678,1140865,1425588,1534665,1707831,2038091,2289408,2524267,2787280,2912064,2832666,2701999,2220863,2558265,3388485,3421101,3593434,3800420,3493579,3991651,4180197,4187488,3747639,3403625,3417241,3581426,4116038,4022389,4133709,4159215,3916452,4477455,4202723,4432027,3980362,3625983,3844643,3917031,4169897,4223784],\"yaxis\":\"y\",\"type\":\"scatter\"},{\"hovertemplate\":\"\\u003cb\\u003eOLS trendline\\u003c\\u002fb\\u003e\\u003cbr\\u003eTrip Count = 0.0303425 * Datetime + -4.71484e+07\\u003cbr\\u003eR\\u003csup\\u003e2\\u003c\\u002fsup\\u003e=0.867102\\u003cbr\\u003e\\u003cbr\\u003e=%{x}\\u003cbr\\u003eMonthly Trip Count=%{y} \\u003cb\\u003e(trend)\\u003c\\u002fb\\u003e\\u003cextra\\u003e\\u003c\\u002fextra\\u003e\",\"legendgroup\":\"Overall Trendline\",\"line\":{\"color\":\"#EF553B\"},\"mode\":\"lines\",\"name\":\"Overall Trendline\",\"showlegend\":true,\"x\":[\"2020-04-01T00:00:00\",\"2020-05-01T00:00:00\",\"2020-06-01T00:00:00\",\"2020-07-01T00:00:00\",\"2020-08-01T00:00:00\",\"2020-09-01T00:00:00\",\"2020-10-01T00:00:00\",\"2020-11-01T00:00:00\",\"2020-12-01T00:00:00\",\"2021-01-01T00:00:00\",\"2021-02-01T00:00:00\",\"2021-03-01T00:00:00\",\"2021-04-01T00:00:00\",\"2021-05-01T00:00:00\",\"2021-06-01T00:00:00\",\"2021-07-01T00:00:00\",\"2021-08-01T00:00:00\",\"2021-09-01T00:00:00\",\"2021-10-01T00:00:00\",\"2021-11-01T00:00:00\",\"2021-12-01T00:00:00\",\"2022-01-01T00:00:00\",\"2022-02-01T00:00:00\",\"2022-03-01T00:00:00\",\"2022-04-01T00:00:00\",\"2022-05-01T00:00:00\",\"2022-06-01T00:00:00\",\"2022-07-01T00:00:00\",\"2022-08-01T00:00:00\",\"2022-09-01T00:00:00\",\"2022-10-01T00:00:00\",\"2022-11-01T00:00:00\",\"2022-12-01T00:00:00\",\"2023-01-01T00:00:00\",\"2023-02-01T00:00:00\",\"2023-03-01T00:00:00\",\"2023-04-01T00:00:00\",\"2023-05-01T00:00:00\",\"2023-06-01T00:00:00\",\"2023-07-01T00:00:00\",\"2023-08-01T00:00:00\",\"2023-09-01T00:00:00\",\"2023-10-01T00:00:00\",\"2023-11-01T00:00:00\",\"2023-12-01T00:00:00\",\"2024-01-01T00:00:00\",\"2024-02-01T00:00:00\",\"2024-03-01T00:00:00\",\"2024-04-01T00:00:00\"],\"y\":[965723.4052047133,1044371.2449082732,1125640.6792686135,1204288.5189721659,1285557.9533325136,1366827.3876928538,1445475.2273964062,1526744.6617567465,1605392.5014603063,1686661.9358206466,1767931.3701809868,1841336.020570971,1922605.4549313113,2001253.2946348712,2082522.7289952114,2161170.568698764,2242440.003059104,2323709.4374194443,2402357.277123004,2483626.7114833444,2562274.5511869043,2643543.9855472445,2724813.419907585,2798218.070297569,2879487.5046579093,2958135.3443614617,3039404.7787218094,3118052.618425362,3199322.052785702,3280591.4871460423,3359239.326849602,3440508.7612099424,3519156.600913495,3600426.035273835,3681695.4696341828,3755100.120024167,3836369.5543845072,3915017.3940880597,3996286.8284484,4074934.66815196,4156204.1025123,4237473.53687264,4316121.3765762,4397390.81093654,4476038.650640093,4557308.085000433,4638577.519360773,4714603.764407545,4795873.198767886],\"type\":\"scatter\",\"xaxis\":\"x\",\"yaxis\":\"y\"}],                        {\"template\":{\"data\":{\"histogram2dcontour\":[{\"type\":\"histogram2dcontour\",\"colorbar\":{\"outlinewidth\":0,\"ticks\":\"\"},\"colorscale\":[[0.0,\"#0d0887\"],[0.1111111111111111,\"#46039f\"],[0.2222222222222222,\"#7201a8\"],[0.3333333333333333,\"#9c179e\"],[0.4444444444444444,\"#bd3786\"],[0.5555555555555556,\"#d8576b\"],[0.6666666666666666,\"#ed7953\"],[0.7777777777777778,\"#fb9f3a\"],[0.8888888888888888,\"#fdca26\"],[1.0,\"#f0f921\"]]}],\"choropleth\":[{\"type\":\"choropleth\",\"colorbar\":{\"outlinewidth\":0,\"ticks\":\"\"}}],\"histogram2d\":[{\"type\":\"histogram2d\",\"colorbar\":{\"outlinewidth\":0,\"ticks\":\"\"},\"colorscale\":[[0.0,\"#0d0887\"],[0.1111111111111111,\"#46039f\"],[0.2222222222222222,\"#7201a8\"],[0.3333333333333333,\"#9c179e\"],[0.4444444444444444,\"#bd3786\"],[0.5555555555555556,\"#d8576b\"],[0.6666666666666666,\"#ed7953\"],[0.7777777777777778,\"#fb9f3a\"],[0.8888888888888888,\"#fdca26\"],[1.0,\"#f0f921\"]]}],\"heatmap\":[{\"type\":\"heatmap\",\"colorbar\":{\"outlinewidth\":0,\"ticks\":\"\"},\"colorscale\":[[0.0,\"#0d0887\"],[0.1111111111111111,\"#46039f\"],[0.2222222222222222,\"#7201a8\"],[0.3333333333333333,\"#9c179e\"],[0.4444444444444444,\"#bd3786\"],[0.5555555555555556,\"#d8576b\"],[0.6666666666666666,\"#ed7953\"],[0.7777777777777778,\"#fb9f3a\"],[0.8888888888888888,\"#fdca26\"],[1.0,\"#f0f921\"]]}],\"heatmapgl\":[{\"type\":\"heatmapgl\",\"colorbar\":{\"outlinewidth\":0,\"ticks\":\"\"},\"colorscale\":[[0.0,\"#0d0887\"],[0.1111111111111111,\"#46039f\"],[0.2222222222222222,\"#7201a8\"],[0.3333333333333333,\"#9c179e\"],[0.4444444444444444,\"#bd3786\"],[0.5555555555555556,\"#d8576b\"],[0.6666666666666666,\"#ed7953\"],[0.7777777777777778,\"#fb9f3a\"],[0.8888888888888888,\"#fdca26\"],[1.0,\"#f0f921\"]]}],\"contourcarpet\":[{\"type\":\"contourcarpet\",\"colorbar\":{\"outlinewidth\":0,\"ticks\":\"\"}}],\"contour\":[{\"type\":\"contour\",\"colorbar\":{\"outlinewidth\":0,\"ticks\":\"\"},\"colorscale\":[[0.0,\"#0d0887\"],[0.1111111111111111,\"#46039f\"],[0.2222222222222222,\"#7201a8\"],[0.3333333333333333,\"#9c179e\"],[0.4444444444444444,\"#bd3786\"],[0.5555555555555556,\"#d8576b\"],[0.6666666666666666,\"#ed7953\"],[0.7777777777777778,\"#fb9f3a\"],[0.8888888888888888,\"#fdca26\"],[1.0,\"#f0f921\"]]}],\"surface\":[{\"type\":\"surface\",\"colorbar\":{\"outlinewidth\":0,\"ticks\":\"\"},\"colorscale\":[[0.0,\"#0d0887\"],[0.1111111111111111,\"#46039f\"],[0.2222222222222222,\"#7201a8\"],[0.3333333333333333,\"#9c179e\"],[0.4444444444444444,\"#bd3786\"],[0.5555555555555556,\"#d8576b\"],[0.6666666666666666,\"#ed7953\"],[0.7777777777777778,\"#fb9f3a\"],[0.8888888888888888,\"#fdca26\"],[1.0,\"#f0f921\"]]}],\"mesh3d\":[{\"type\":\"mesh3d\",\"colorbar\":{\"outlinewidth\":0,\"ticks\":\"\"}}],\"scatter\":[{\"fillpattern\":{\"fillmode\":\"overlay\",\"size\":10,\"solidity\":0.2},\"type\":\"scatter\"}],\"parcoords\":[{\"type\":\"parcoords\",\"line\":{\"colorbar\":{\"outlinewidth\":0,\"ticks\":\"\"}}}],\"scatterpolargl\":[{\"type\":\"scatterpolargl\",\"marker\":{\"colorbar\":{\"outlinewidth\":0,\"ticks\":\"\"}}}],\"bar\":[{\"error_x\":{\"color\":\"#2a3f5f\"},\"error_y\":{\"color\":\"#2a3f5f\"},\"marker\":{\"line\":{\"color\":\"#E5ECF6\",\"width\":0.5},\"pattern\":{\"fillmode\":\"overlay\",\"size\":10,\"solidity\":0.2}},\"type\":\"bar\"}],\"scattergeo\":[{\"type\":\"scattergeo\",\"marker\":{\"colorbar\":{\"outlinewidth\":0,\"ticks\":\"\"}}}],\"scatterpolar\":[{\"type\":\"scatterpolar\",\"marker\":{\"colorbar\":{\"outlinewidth\":0,\"ticks\":\"\"}}}],\"histogram\":[{\"marker\":{\"pattern\":{\"fillmode\":\"overlay\",\"size\":10,\"solidity\":0.2}},\"type\":\"histogram\"}],\"scattergl\":[{\"type\":\"scattergl\",\"marker\":{\"colorbar\":{\"outlinewidth\":0,\"ticks\":\"\"}}}],\"scatter3d\":[{\"type\":\"scatter3d\",\"line\":{\"colorbar\":{\"outlinewidth\":0,\"ticks\":\"\"}},\"marker\":{\"colorbar\":{\"outlinewidth\":0,\"ticks\":\"\"}}}],\"scattermapbox\":[{\"type\":\"scattermapbox\",\"marker\":{\"colorbar\":{\"outlinewidth\":0,\"ticks\":\"\"}}}],\"scatterternary\":[{\"type\":\"scatterternary\",\"marker\":{\"colorbar\":{\"outlinewidth\":0,\"ticks\":\"\"}}}],\"scattercarpet\":[{\"type\":\"scattercarpet\",\"marker\":{\"colorbar\":{\"outlinewidth\":0,\"ticks\":\"\"}}}],\"carpet\":[{\"aaxis\":{\"endlinecolor\":\"#2a3f5f\",\"gridcolor\":\"white\",\"linecolor\":\"white\",\"minorgridcolor\":\"white\",\"startlinecolor\":\"#2a3f5f\"},\"baxis\":{\"endlinecolor\":\"#2a3f5f\",\"gridcolor\":\"white\",\"linecolor\":\"white\",\"minorgridcolor\":\"white\",\"startlinecolor\":\"#2a3f5f\"},\"type\":\"carpet\"}],\"table\":[{\"cells\":{\"fill\":{\"color\":\"#EBF0F8\"},\"line\":{\"color\":\"white\"}},\"header\":{\"fill\":{\"color\":\"#C8D4E3\"},\"line\":{\"color\":\"white\"}},\"type\":\"table\"}],\"barpolar\":[{\"marker\":{\"line\":{\"color\":\"#E5ECF6\",\"width\":0.5},\"pattern\":{\"fillmode\":\"overlay\",\"size\":10,\"solidity\":0.2}},\"type\":\"barpolar\"}],\"pie\":[{\"automargin\":true,\"type\":\"pie\"}]},\"layout\":{\"autotypenumbers\":\"strict\",\"colorway\":[\"#636efa\",\"#EF553B\",\"#00cc96\",\"#ab63fa\",\"#FFA15A\",\"#19d3f3\",\"#FF6692\",\"#B6E880\",\"#FF97FF\",\"#FECB52\"],\"font\":{\"color\":\"#2a3f5f\"},\"hovermode\":\"closest\",\"hoverlabel\":{\"align\":\"left\"},\"paper_bgcolor\":\"white\",\"plot_bgcolor\":\"#E5ECF6\",\"polar\":{\"bgcolor\":\"#E5ECF6\",\"angularaxis\":{\"gridcolor\":\"white\",\"linecolor\":\"white\",\"ticks\":\"\"},\"radialaxis\":{\"gridcolor\":\"white\",\"linecolor\":\"white\",\"ticks\":\"\"}},\"ternary\":{\"bgcolor\":\"#E5ECF6\",\"aaxis\":{\"gridcolor\":\"white\",\"linecolor\":\"white\",\"ticks\":\"\"},\"baxis\":{\"gridcolor\":\"white\",\"linecolor\":\"white\",\"ticks\":\"\"},\"caxis\":{\"gridcolor\":\"white\",\"linecolor\":\"white\",\"ticks\":\"\"}},\"coloraxis\":{\"colorbar\":{\"outlinewidth\":0,\"ticks\":\"\"}},\"colorscale\":{\"sequential\":[[0.0,\"#0d0887\"],[0.1111111111111111,\"#46039f\"],[0.2222222222222222,\"#7201a8\"],[0.3333333333333333,\"#9c179e\"],[0.4444444444444444,\"#bd3786\"],[0.5555555555555556,\"#d8576b\"],[0.6666666666666666,\"#ed7953\"],[0.7777777777777778,\"#fb9f3a\"],[0.8888888888888888,\"#fdca26\"],[1.0,\"#f0f921\"]],\"sequentialminus\":[[0.0,\"#0d0887\"],[0.1111111111111111,\"#46039f\"],[0.2222222222222222,\"#7201a8\"],[0.3333333333333333,\"#9c179e\"],[0.4444444444444444,\"#bd3786\"],[0.5555555555555556,\"#d8576b\"],[0.6666666666666666,\"#ed7953\"],[0.7777777777777778,\"#fb9f3a\"],[0.8888888888888888,\"#fdca26\"],[1.0,\"#f0f921\"]],\"diverging\":[[0,\"#8e0152\"],[0.1,\"#c51b7d\"],[0.2,\"#de77ae\"],[0.3,\"#f1b6da\"],[0.4,\"#fde0ef\"],[0.5,\"#f7f7f7\"],[0.6,\"#e6f5d0\"],[0.7,\"#b8e186\"],[0.8,\"#7fbc41\"],[0.9,\"#4d9221\"],[1,\"#276419\"]]},\"xaxis\":{\"gridcolor\":\"white\",\"linecolor\":\"white\",\"ticks\":\"\",\"title\":{\"standoff\":15},\"zerolinecolor\":\"white\",\"automargin\":true,\"zerolinewidth\":2},\"yaxis\":{\"gridcolor\":\"white\",\"linecolor\":\"white\",\"ticks\":\"\",\"title\":{\"standoff\":15},\"zerolinecolor\":\"white\",\"automargin\":true,\"zerolinewidth\":2},\"scene\":{\"xaxis\":{\"backgroundcolor\":\"#E5ECF6\",\"gridcolor\":\"white\",\"linecolor\":\"white\",\"showbackground\":true,\"ticks\":\"\",\"zerolinecolor\":\"white\",\"gridwidth\":2},\"yaxis\":{\"backgroundcolor\":\"#E5ECF6\",\"gridcolor\":\"white\",\"linecolor\":\"white\",\"showbackground\":true,\"ticks\":\"\",\"zerolinecolor\":\"white\",\"gridwidth\":2},\"zaxis\":{\"backgroundcolor\":\"#E5ECF6\",\"gridcolor\":\"white\",\"linecolor\":\"white\",\"showbackground\":true,\"ticks\":\"\",\"zerolinecolor\":\"white\",\"gridwidth\":2}},\"shapedefaults\":{\"line\":{\"color\":\"#2a3f5f\"}},\"annotationdefaults\":{\"arrowcolor\":\"#2a3f5f\",\"arrowhead\":0,\"arrowwidth\":1},\"geo\":{\"bgcolor\":\"white\",\"landcolor\":\"#E5ECF6\",\"subunitcolor\":\"white\",\"showland\":true,\"showlakes\":true,\"lakecolor\":\"white\"},\"title\":{\"x\":0.05},\"mapbox\":{\"style\":\"light\"}}},\"xaxis\":{\"anchor\":\"y\",\"domain\":[0.0,1.0],\"title\":{\"text\":\"\"}},\"yaxis\":{\"anchor\":\"x\",\"domain\":[0.0,1.0],\"title\":{\"text\":\"Monthly Trip Count\"}},\"legend\":{\"tracegroupgap\":0,\"itemsizing\":\"constant\"},\"title\":{\"text\":\"Pandemic Rebound: 2020-2024\"},\"showlegend\":false},                        {\"responsive\": true}                    ).then(function(){\n",
       "                            \n",
       "var gd = document.getElementById('fea82a60-1af4-46d6-9650-073de7c7210b');\n",
       "var x = new MutationObserver(function (mutations, observer) {{\n",
       "        var display = window.getComputedStyle(gd).display;\n",
       "        if (!display || display === 'none') {{\n",
       "            console.log([gd, 'removed!']);\n",
       "            Plotly.purge(gd);\n",
       "            observer.disconnect();\n",
       "        }}\n",
       "}});\n",
       "\n",
       "// Listen for the removal of the full notebook cells\n",
       "var notebookContainer = gd.closest('#notebook-container');\n",
       "if (notebookContainer) {{\n",
       "    x.observe(notebookContainer, {childList: true});\n",
       "}}\n",
       "\n",
       "// Listen for the clearing of the current output cell\n",
       "var outputEl = gd.closest('.output');\n",
       "if (outputEl) {{\n",
       "    x.observe(outputEl, {childList: true});\n",
       "}}\n",
       "\n",
       "                        })                };                });            </script>        </div>"
      ]
     },
     "metadata": {},
     "output_type": "display_data"
    }
   ],
   "source": [
    "#Pandemic Rebound \n",
    "trips_month['Datetime']= trips_month['Year'].astype(str) + trips_month['Month'].astype(str)\n",
    "trips_month['Datetime'] = pd.to_datetime(trips_month['Datetime'], format = '%Y%m')\n",
    "trips_month[trips_month['Datetime'] > '2020-03-01'].head(2)\n",
    "reg = trips_month[trips_month['Datetime'] > '2020-03-01']\n",
    "regols = LinearRegression()\n",
    "regols.fit(reg[['Datetime']],reg['Trip Count'])\n",
    "print(regols.intercept_)\n",
    "print(regols.coef_)\n",
    "reg\n",
    "reg_scat = px.scatter(reg,\n",
    "                         x=\"Datetime\", \n",
    "                         y=\"Trip Count\",\n",
    "                         labels={\"Datetime\":\"\",\"Trip Count\":\"Monthly Trip Count\"},\n",
    "                         trendline=\"ols\", trendline_scope=\"overall\",\n",
    "                      size = 'Trip Count',\n",
    "                         title = \"Pandemic Rebound: 2020-2024\")\n",
    "reg_scat.update_layout(showlegend=False)\n",
    "reg_scat.show()\n",
    "reg_scat.write_image(\"images/reg_scat.png\")\n",
    "reg_scat.write_image(\"images/reg_scat.svg\")"
   ]
  },
  {
   "cell_type": "code",
   "execution_count": 477,
   "id": "8199a737-6cec-45a3-be08-c6e70caf631c",
   "metadata": {},
   "outputs": [
    {
     "data": {
      "text/plain": [
       "929018"
      ]
     },
     "execution_count": 477,
     "metadata": {},
     "output_type": "execute_result"
    }
   ],
   "source": [
    "#Avg Monthly Growth per Year regression line\n",
    "(3118053 - 2653544)*2"
   ]
  },
  {
   "cell_type": "code",
   "execution_count": 642,
   "id": "c82d875e-1a99-4b86-a7d0-8c3a5dd5e210",
   "metadata": {},
   "outputs": [
    {
     "data": {
      "application/vnd.plotly.v1+json": {
       "config": {
        "plotlyServerURL": "https://plot.ly"
       },
       "data": [
        {
         "alignmentgroup": "True",
         "hovertemplate": "Datetime=%{x}<br>Total Trips=%{y}<br>Year=%{marker.color}<extra></extra>",
         "legendgroup": "",
         "marker": {
          "color": [
           2019,
           2019,
           2019,
           2019,
           2019,
           2019,
           2019,
           2019,
           2019,
           2019,
           2019,
           2019,
           2020,
           2020,
           2020,
           2020,
           2020,
           2020,
           2020,
           2020,
           2020,
           2020,
           2020,
           2020,
           2021,
           2021,
           2021,
           2021,
           2021,
           2021,
           2021,
           2021,
           2021,
           2021,
           2021,
           2021,
           2022,
           2022,
           2022,
           2022,
           2022,
           2022,
           2022,
           2022,
           2022,
           2022,
           2022,
           2022,
           2023,
           2023,
           2023,
           2023,
           2023,
           2023,
           2023,
           2023,
           2023,
           2023,
           2023,
           2023,
           2024,
           2024,
           2024,
           2024
          ],
          "coloraxis": "coloraxis",
          "pattern": {
           "shape": ""
          }
         },
         "name": "",
         "offsetgroup": "",
         "orientation": "v",
         "showlegend": false,
         "textposition": "auto",
         "type": "bar",
         "x": [
          "2019-01-01T00:00:00",
          "2019-02-01T00:00:00",
          "2019-03-01T00:00:00",
          "2019-04-01T00:00:00",
          "2019-05-01T00:00:00",
          "2019-06-01T00:00:00",
          "2019-07-01T00:00:00",
          "2019-08-01T00:00:00",
          "2019-09-01T00:00:00",
          "2019-10-01T00:00:00",
          "2019-11-01T00:00:00",
          "2019-12-01T00:00:00",
          "2020-01-01T00:00:00",
          "2020-02-01T00:00:00",
          "2020-03-01T00:00:00",
          "2020-04-01T00:00:00",
          "2020-05-01T00:00:00",
          "2020-06-01T00:00:00",
          "2020-07-01T00:00:00",
          "2020-08-01T00:00:00",
          "2020-09-01T00:00:00",
          "2020-10-01T00:00:00",
          "2020-11-01T00:00:00",
          "2020-12-01T00:00:00",
          "2021-01-01T00:00:00",
          "2021-02-01T00:00:00",
          "2021-03-01T00:00:00",
          "2021-04-01T00:00:00",
          "2021-05-01T00:00:00",
          "2021-06-01T00:00:00",
          "2021-07-01T00:00:00",
          "2021-08-01T00:00:00",
          "2021-09-01T00:00:00",
          "2021-10-01T00:00:00",
          "2021-11-01T00:00:00",
          "2021-12-01T00:00:00",
          "2022-01-01T00:00:00",
          "2022-02-01T00:00:00",
          "2022-03-01T00:00:00",
          "2022-04-01T00:00:00",
          "2022-05-01T00:00:00",
          "2022-06-01T00:00:00",
          "2022-07-01T00:00:00",
          "2022-08-01T00:00:00",
          "2022-09-01T00:00:00",
          "2022-10-01T00:00:00",
          "2022-11-01T00:00:00",
          "2022-12-01T00:00:00",
          "2023-01-01T00:00:00",
          "2023-02-01T00:00:00",
          "2023-03-01T00:00:00",
          "2023-04-01T00:00:00",
          "2023-05-01T00:00:00",
          "2023-06-01T00:00:00",
          "2023-07-01T00:00:00",
          "2023-08-01T00:00:00",
          "2023-09-01T00:00:00",
          "2023-10-01T00:00:00",
          "2023-11-01T00:00:00",
          "2023-12-01T00:00:00",
          "2024-01-01T00:00:00",
          "2024-02-01T00:00:00",
          "2024-03-01T00:00:00",
          "2024-04-01T00:00:00"
         ],
         "xaxis": "x",
         "y": [
          9644792,
          9006216,
          9991747,
          10312623,
          10326834,
          9932642,
          10134097,
          10424866,
          10015058,
          10786560,
          9218525,
          8815645,
          9047397,
          8244817,
          4147783,
          622953,
          752902,
          1074640,
          1221838,
          1195699,
          1244202,
          1428414,
          1276647,
          1168987,
          1069678,
          1140865,
          1425588,
          1534665,
          1707831,
          2038091,
          2289408,
          2524267,
          2787280,
          2912064,
          2832666,
          2701999,
          2220863,
          2558265,
          3388485,
          3421101,
          3593434,
          3800420,
          3493579,
          3991651,
          4180197,
          4187488,
          3747639,
          3403625,
          3417241,
          3581426,
          4116038,
          4022389,
          4133709,
          4159215,
          3916452,
          4477455,
          4202723,
          4432027,
          3980362,
          3625983,
          3844643,
          3917031,
          4169897,
          4223784
         ],
         "yaxis": "y"
        }
       ],
       "layout": {
        "annotations": [
         {
          "showarrow": true,
          "text": "March 2020",
          "x": "2020-03-01",
          "xanchor": "left",
          "y": 4000000
         }
        ],
        "autosize": true,
        "barmode": "relative",
        "coloraxis": {
         "colorbar": {
          "title": {
           "text": "Year"
          }
         },
         "colorscale": [
          [
           0,
           "#0d0887"
          ],
          [
           0.1111111111111111,
           "#46039f"
          ],
          [
           0.2222222222222222,
           "#7201a8"
          ],
          [
           0.3333333333333333,
           "#9c179e"
          ],
          [
           0.4444444444444444,
           "#bd3786"
          ],
          [
           0.5555555555555556,
           "#d8576b"
          ],
          [
           0.6666666666666666,
           "#ed7953"
          ],
          [
           0.7777777777777778,
           "#fb9f3a"
          ],
          [
           0.8888888888888888,
           "#fdca26"
          ],
          [
           1,
           "#f0f921"
          ]
         ]
        },
        "legend": {
         "tracegroupgap": 0
        },
        "template": {
         "data": {
          "bar": [
           {
            "error_x": {
             "color": "#2a3f5f"
            },
            "error_y": {
             "color": "#2a3f5f"
            },
            "marker": {
             "line": {
              "color": "#E5ECF6",
              "width": 0.5
             },
             "pattern": {
              "fillmode": "overlay",
              "size": 10,
              "solidity": 0.2
             }
            },
            "type": "bar"
           }
          ],
          "barpolar": [
           {
            "marker": {
             "line": {
              "color": "#E5ECF6",
              "width": 0.5
             },
             "pattern": {
              "fillmode": "overlay",
              "size": 10,
              "solidity": 0.2
             }
            },
            "type": "barpolar"
           }
          ],
          "carpet": [
           {
            "aaxis": {
             "endlinecolor": "#2a3f5f",
             "gridcolor": "white",
             "linecolor": "white",
             "minorgridcolor": "white",
             "startlinecolor": "#2a3f5f"
            },
            "baxis": {
             "endlinecolor": "#2a3f5f",
             "gridcolor": "white",
             "linecolor": "white",
             "minorgridcolor": "white",
             "startlinecolor": "#2a3f5f"
            },
            "type": "carpet"
           }
          ],
          "choropleth": [
           {
            "colorbar": {
             "outlinewidth": 0,
             "ticks": ""
            },
            "type": "choropleth"
           }
          ],
          "contour": [
           {
            "colorbar": {
             "outlinewidth": 0,
             "ticks": ""
            },
            "colorscale": [
             [
              0,
              "#0d0887"
             ],
             [
              0.1111111111111111,
              "#46039f"
             ],
             [
              0.2222222222222222,
              "#7201a8"
             ],
             [
              0.3333333333333333,
              "#9c179e"
             ],
             [
              0.4444444444444444,
              "#bd3786"
             ],
             [
              0.5555555555555556,
              "#d8576b"
             ],
             [
              0.6666666666666666,
              "#ed7953"
             ],
             [
              0.7777777777777778,
              "#fb9f3a"
             ],
             [
              0.8888888888888888,
              "#fdca26"
             ],
             [
              1,
              "#f0f921"
             ]
            ],
            "type": "contour"
           }
          ],
          "contourcarpet": [
           {
            "colorbar": {
             "outlinewidth": 0,
             "ticks": ""
            },
            "type": "contourcarpet"
           }
          ],
          "heatmap": [
           {
            "colorbar": {
             "outlinewidth": 0,
             "ticks": ""
            },
            "colorscale": [
             [
              0,
              "#0d0887"
             ],
             [
              0.1111111111111111,
              "#46039f"
             ],
             [
              0.2222222222222222,
              "#7201a8"
             ],
             [
              0.3333333333333333,
              "#9c179e"
             ],
             [
              0.4444444444444444,
              "#bd3786"
             ],
             [
              0.5555555555555556,
              "#d8576b"
             ],
             [
              0.6666666666666666,
              "#ed7953"
             ],
             [
              0.7777777777777778,
              "#fb9f3a"
             ],
             [
              0.8888888888888888,
              "#fdca26"
             ],
             [
              1,
              "#f0f921"
             ]
            ],
            "type": "heatmap"
           }
          ],
          "heatmapgl": [
           {
            "colorbar": {
             "outlinewidth": 0,
             "ticks": ""
            },
            "colorscale": [
             [
              0,
              "#0d0887"
             ],
             [
              0.1111111111111111,
              "#46039f"
             ],
             [
              0.2222222222222222,
              "#7201a8"
             ],
             [
              0.3333333333333333,
              "#9c179e"
             ],
             [
              0.4444444444444444,
              "#bd3786"
             ],
             [
              0.5555555555555556,
              "#d8576b"
             ],
             [
              0.6666666666666666,
              "#ed7953"
             ],
             [
              0.7777777777777778,
              "#fb9f3a"
             ],
             [
              0.8888888888888888,
              "#fdca26"
             ],
             [
              1,
              "#f0f921"
             ]
            ],
            "type": "heatmapgl"
           }
          ],
          "histogram": [
           {
            "marker": {
             "pattern": {
              "fillmode": "overlay",
              "size": 10,
              "solidity": 0.2
             }
            },
            "type": "histogram"
           }
          ],
          "histogram2d": [
           {
            "colorbar": {
             "outlinewidth": 0,
             "ticks": ""
            },
            "colorscale": [
             [
              0,
              "#0d0887"
             ],
             [
              0.1111111111111111,
              "#46039f"
             ],
             [
              0.2222222222222222,
              "#7201a8"
             ],
             [
              0.3333333333333333,
              "#9c179e"
             ],
             [
              0.4444444444444444,
              "#bd3786"
             ],
             [
              0.5555555555555556,
              "#d8576b"
             ],
             [
              0.6666666666666666,
              "#ed7953"
             ],
             [
              0.7777777777777778,
              "#fb9f3a"
             ],
             [
              0.8888888888888888,
              "#fdca26"
             ],
             [
              1,
              "#f0f921"
             ]
            ],
            "type": "histogram2d"
           }
          ],
          "histogram2dcontour": [
           {
            "colorbar": {
             "outlinewidth": 0,
             "ticks": ""
            },
            "colorscale": [
             [
              0,
              "#0d0887"
             ],
             [
              0.1111111111111111,
              "#46039f"
             ],
             [
              0.2222222222222222,
              "#7201a8"
             ],
             [
              0.3333333333333333,
              "#9c179e"
             ],
             [
              0.4444444444444444,
              "#bd3786"
             ],
             [
              0.5555555555555556,
              "#d8576b"
             ],
             [
              0.6666666666666666,
              "#ed7953"
             ],
             [
              0.7777777777777778,
              "#fb9f3a"
             ],
             [
              0.8888888888888888,
              "#fdca26"
             ],
             [
              1,
              "#f0f921"
             ]
            ],
            "type": "histogram2dcontour"
           }
          ],
          "mesh3d": [
           {
            "colorbar": {
             "outlinewidth": 0,
             "ticks": ""
            },
            "type": "mesh3d"
           }
          ],
          "parcoords": [
           {
            "line": {
             "colorbar": {
              "outlinewidth": 0,
              "ticks": ""
             }
            },
            "type": "parcoords"
           }
          ],
          "pie": [
           {
            "automargin": true,
            "type": "pie"
           }
          ],
          "scatter": [
           {
            "fillpattern": {
             "fillmode": "overlay",
             "size": 10,
             "solidity": 0.2
            },
            "type": "scatter"
           }
          ],
          "scatter3d": [
           {
            "line": {
             "colorbar": {
              "outlinewidth": 0,
              "ticks": ""
             }
            },
            "marker": {
             "colorbar": {
              "outlinewidth": 0,
              "ticks": ""
             }
            },
            "type": "scatter3d"
           }
          ],
          "scattercarpet": [
           {
            "marker": {
             "colorbar": {
              "outlinewidth": 0,
              "ticks": ""
             }
            },
            "type": "scattercarpet"
           }
          ],
          "scattergeo": [
           {
            "marker": {
             "colorbar": {
              "outlinewidth": 0,
              "ticks": ""
             }
            },
            "type": "scattergeo"
           }
          ],
          "scattergl": [
           {
            "marker": {
             "colorbar": {
              "outlinewidth": 0,
              "ticks": ""
             }
            },
            "type": "scattergl"
           }
          ],
          "scattermapbox": [
           {
            "marker": {
             "colorbar": {
              "outlinewidth": 0,
              "ticks": ""
             }
            },
            "type": "scattermapbox"
           }
          ],
          "scatterpolar": [
           {
            "marker": {
             "colorbar": {
              "outlinewidth": 0,
              "ticks": ""
             }
            },
            "type": "scatterpolar"
           }
          ],
          "scatterpolargl": [
           {
            "marker": {
             "colorbar": {
              "outlinewidth": 0,
              "ticks": ""
             }
            },
            "type": "scatterpolargl"
           }
          ],
          "scatterternary": [
           {
            "marker": {
             "colorbar": {
              "outlinewidth": 0,
              "ticks": ""
             }
            },
            "type": "scatterternary"
           }
          ],
          "surface": [
           {
            "colorbar": {
             "outlinewidth": 0,
             "ticks": ""
            },
            "colorscale": [
             [
              0,
              "#0d0887"
             ],
             [
              0.1111111111111111,
              "#46039f"
             ],
             [
              0.2222222222222222,
              "#7201a8"
             ],
             [
              0.3333333333333333,
              "#9c179e"
             ],
             [
              0.4444444444444444,
              "#bd3786"
             ],
             [
              0.5555555555555556,
              "#d8576b"
             ],
             [
              0.6666666666666666,
              "#ed7953"
             ],
             [
              0.7777777777777778,
              "#fb9f3a"
             ],
             [
              0.8888888888888888,
              "#fdca26"
             ],
             [
              1,
              "#f0f921"
             ]
            ],
            "type": "surface"
           }
          ],
          "table": [
           {
            "cells": {
             "fill": {
              "color": "#EBF0F8"
             },
             "line": {
              "color": "white"
             }
            },
            "header": {
             "fill": {
              "color": "#C8D4E3"
             },
             "line": {
              "color": "white"
             }
            },
            "type": "table"
           }
          ]
         },
         "layout": {
          "annotationdefaults": {
           "arrowcolor": "#2a3f5f",
           "arrowhead": 0,
           "arrowwidth": 1
          },
          "autotypenumbers": "strict",
          "coloraxis": {
           "colorbar": {
            "outlinewidth": 0,
            "ticks": ""
           }
          },
          "colorscale": {
           "diverging": [
            [
             0,
             "#8e0152"
            ],
            [
             0.1,
             "#c51b7d"
            ],
            [
             0.2,
             "#de77ae"
            ],
            [
             0.3,
             "#f1b6da"
            ],
            [
             0.4,
             "#fde0ef"
            ],
            [
             0.5,
             "#f7f7f7"
            ],
            [
             0.6,
             "#e6f5d0"
            ],
            [
             0.7,
             "#b8e186"
            ],
            [
             0.8,
             "#7fbc41"
            ],
            [
             0.9,
             "#4d9221"
            ],
            [
             1,
             "#276419"
            ]
           ],
           "sequential": [
            [
             0,
             "#0d0887"
            ],
            [
             0.1111111111111111,
             "#46039f"
            ],
            [
             0.2222222222222222,
             "#7201a8"
            ],
            [
             0.3333333333333333,
             "#9c179e"
            ],
            [
             0.4444444444444444,
             "#bd3786"
            ],
            [
             0.5555555555555556,
             "#d8576b"
            ],
            [
             0.6666666666666666,
             "#ed7953"
            ],
            [
             0.7777777777777778,
             "#fb9f3a"
            ],
            [
             0.8888888888888888,
             "#fdca26"
            ],
            [
             1,
             "#f0f921"
            ]
           ],
           "sequentialminus": [
            [
             0,
             "#0d0887"
            ],
            [
             0.1111111111111111,
             "#46039f"
            ],
            [
             0.2222222222222222,
             "#7201a8"
            ],
            [
             0.3333333333333333,
             "#9c179e"
            ],
            [
             0.4444444444444444,
             "#bd3786"
            ],
            [
             0.5555555555555556,
             "#d8576b"
            ],
            [
             0.6666666666666666,
             "#ed7953"
            ],
            [
             0.7777777777777778,
             "#fb9f3a"
            ],
            [
             0.8888888888888888,
             "#fdca26"
            ],
            [
             1,
             "#f0f921"
            ]
           ]
          },
          "colorway": [
           "#636efa",
           "#EF553B",
           "#00cc96",
           "#ab63fa",
           "#FFA15A",
           "#19d3f3",
           "#FF6692",
           "#B6E880",
           "#FF97FF",
           "#FECB52"
          ],
          "font": {
           "color": "#2a3f5f"
          },
          "geo": {
           "bgcolor": "white",
           "lakecolor": "white",
           "landcolor": "#E5ECF6",
           "showlakes": true,
           "showland": true,
           "subunitcolor": "white"
          },
          "hoverlabel": {
           "align": "left"
          },
          "hovermode": "closest",
          "mapbox": {
           "style": "light"
          },
          "paper_bgcolor": "white",
          "plot_bgcolor": "#E5ECF6",
          "polar": {
           "angularaxis": {
            "gridcolor": "white",
            "linecolor": "white",
            "ticks": ""
           },
           "bgcolor": "#E5ECF6",
           "radialaxis": {
            "gridcolor": "white",
            "linecolor": "white",
            "ticks": ""
           }
          },
          "scene": {
           "xaxis": {
            "backgroundcolor": "#E5ECF6",
            "gridcolor": "white",
            "gridwidth": 2,
            "linecolor": "white",
            "showbackground": true,
            "ticks": "",
            "zerolinecolor": "white"
           },
           "yaxis": {
            "backgroundcolor": "#E5ECF6",
            "gridcolor": "white",
            "gridwidth": 2,
            "linecolor": "white",
            "showbackground": true,
            "ticks": "",
            "zerolinecolor": "white"
           },
           "zaxis": {
            "backgroundcolor": "#E5ECF6",
            "gridcolor": "white",
            "gridwidth": 2,
            "linecolor": "white",
            "showbackground": true,
            "ticks": "",
            "zerolinecolor": "white"
           }
          },
          "shapedefaults": {
           "line": {
            "color": "#2a3f5f"
           }
          },
          "ternary": {
           "aaxis": {
            "gridcolor": "white",
            "linecolor": "white",
            "ticks": ""
           },
           "baxis": {
            "gridcolor": "white",
            "linecolor": "white",
            "ticks": ""
           },
           "bgcolor": "#E5ECF6",
           "caxis": {
            "gridcolor": "white",
            "linecolor": "white",
            "ticks": ""
           }
          },
          "title": {
           "x": 0.05
          },
          "xaxis": {
           "automargin": true,
           "gridcolor": "white",
           "linecolor": "white",
           "ticks": "",
           "title": {
            "standoff": 15
           },
           "zerolinecolor": "white",
           "zerolinewidth": 2
          },
          "yaxis": {
           "automargin": true,
           "gridcolor": "white",
           "linecolor": "white",
           "ticks": "",
           "title": {
            "standoff": 15
           },
           "zerolinecolor": "white",
           "zerolinewidth": 2
          }
         }
        },
        "title": {
         "text": "Drop in Ridership: 2019 to 2023 by Month"
        },
        "xaxis": {
         "anchor": "y",
         "autorange": true,
         "domain": [
          0,
          1
         ],
         "range": [
          "2018-12-18",
          "2024-04-15"
         ],
         "showticklabels": false,
         "title": {
          "text": "Datetime"
         },
         "type": "date"
        },
        "yaxis": {
         "anchor": "x",
         "autorange": true,
         "domain": [
          0,
          1
         ],
         "range": [
          0,
          11354273.684210526
         ],
         "title": {
          "text": "Total Trips"
         },
         "type": "linear"
        }
       }
      },
      "image/png": "[encoded data removed]",
      "text/html": [
       "<div>                            <div id=\"9cc6a920-cee5-48ed-b55c-78b0d204ee3f\" class=\"plotly-graph-div\" style=\"height:525px; width:100%;\"></div>            <script type=\"text/javascript\">                require([\"plotly\"], function(Plotly) {                    window.PLOTLYENV=window.PLOTLYENV || {};                                    if (document.getElementById(\"9cc6a920-cee5-48ed-b55c-78b0d204ee3f\")) {                    Plotly.newPlot(                        \"9cc6a920-cee5-48ed-b55c-78b0d204ee3f\",                        [{\"alignmentgroup\":\"True\",\"hovertemplate\":\"Datetime=%{x}\\u003cbr\\u003eTotal Trips=%{y}\\u003cbr\\u003eYear=%{marker.color}\\u003cextra\\u003e\\u003c\\u002fextra\\u003e\",\"legendgroup\":\"\",\"marker\":{\"color\":[2019,2019,2019,2019,2019,2019,2019,2019,2019,2019,2019,2019,2020,2020,2020,2020,2020,2020,2020,2020,2020,2020,2020,2020,2021,2021,2021,2021,2021,2021,2021,2021,2021,2021,2021,2021,2022,2022,2022,2022,2022,2022,2022,2022,2022,2022,2022,2022,2023,2023,2023,2023,2023,2023,2023,2023,2023,2023,2023,2023,2024,2024,2024,2024],\"coloraxis\":\"coloraxis\",\"pattern\":{\"shape\":\"\"}},\"name\":\"\",\"offsetgroup\":\"\",\"orientation\":\"v\",\"showlegend\":false,\"textposition\":\"auto\",\"x\":[\"2019-01-01T00:00:00\",\"2019-02-01T00:00:00\",\"2019-03-01T00:00:00\",\"2019-04-01T00:00:00\",\"2019-05-01T00:00:00\",\"2019-06-01T00:00:00\",\"2019-07-01T00:00:00\",\"2019-08-01T00:00:00\",\"2019-09-01T00:00:00\",\"2019-10-01T00:00:00\",\"2019-11-01T00:00:00\",\"2019-12-01T00:00:00\",\"2020-01-01T00:00:00\",\"2020-02-01T00:00:00\",\"2020-03-01T00:00:00\",\"2020-04-01T00:00:00\",\"2020-05-01T00:00:00\",\"2020-06-01T00:00:00\",\"2020-07-01T00:00:00\",\"2020-08-01T00:00:00\",\"2020-09-01T00:00:00\",\"2020-10-01T00:00:00\",\"2020-11-01T00:00:00\",\"2020-12-01T00:00:00\",\"2021-01-01T00:00:00\",\"2021-02-01T00:00:00\",\"2021-03-01T00:00:00\",\"2021-04-01T00:00:00\",\"2021-05-01T00:00:00\",\"2021-06-01T00:00:00\",\"2021-07-01T00:00:00\",\"2021-08-01T00:00:00\",\"2021-09-01T00:00:00\",\"2021-10-01T00:00:00\",\"2021-11-01T00:00:00\",\"2021-12-01T00:00:00\",\"2022-01-01T00:00:00\",\"2022-02-01T00:00:00\",\"2022-03-01T00:00:00\",\"2022-04-01T00:00:00\",\"2022-05-01T00:00:00\",\"2022-06-01T00:00:00\",\"2022-07-01T00:00:00\",\"2022-08-01T00:00:00\",\"2022-09-01T00:00:00\",\"2022-10-01T00:00:00\",\"2022-11-01T00:00:00\",\"2022-12-01T00:00:00\",\"2023-01-01T00:00:00\",\"2023-02-01T00:00:00\",\"2023-03-01T00:00:00\",\"2023-04-01T00:00:00\",\"2023-05-01T00:00:00\",\"2023-06-01T00:00:00\",\"2023-07-01T00:00:00\",\"2023-08-01T00:00:00\",\"2023-09-01T00:00:00\",\"2023-10-01T00:00:00\",\"2023-11-01T00:00:00\",\"2023-12-01T00:00:00\",\"2024-01-01T00:00:00\",\"2024-02-01T00:00:00\",\"2024-03-01T00:00:00\",\"2024-04-01T00:00:00\"],\"xaxis\":\"x\",\"y\":[9644792,9006216,9991747,10312623,10326834,9932642,10134097,10424866,10015058,10786560,9218525,8815645,9047397,8244817,4147783,622953,752902,1074640,1221838,1195699,1244202,1428414,1276647,1168987,1069678,1140865,1425588,1534665,1707831,2038091,2289408,2524267,2787280,2912064,2832666,2701999,2220863,2558265,3388485,3421101,3593434,3800420,3493579,3991651,4180197,4187488,3747639,3403625,3417241,3581426,4116038,4022389,4133709,4159215,3916452,4477455,4202723,4432027,3980362,3625983,3844643,3917031,4169897,4223784],\"yaxis\":\"y\",\"type\":\"bar\"}],                        {\"template\":{\"data\":{\"histogram2dcontour\":[{\"type\":\"histogram2dcontour\",\"colorbar\":{\"outlinewidth\":0,\"ticks\":\"\"},\"colorscale\":[[0.0,\"#0d0887\"],[0.1111111111111111,\"#46039f\"],[0.2222222222222222,\"#7201a8\"],[0.3333333333333333,\"#9c179e\"],[0.4444444444444444,\"#bd3786\"],[0.5555555555555556,\"#d8576b\"],[0.6666666666666666,\"#ed7953\"],[0.7777777777777778,\"#fb9f3a\"],[0.8888888888888888,\"#fdca26\"],[1.0,\"#f0f921\"]]}],\"choropleth\":[{\"type\":\"choropleth\",\"colorbar\":{\"outlinewidth\":0,\"ticks\":\"\"}}],\"histogram2d\":[{\"type\":\"histogram2d\",\"colorbar\":{\"outlinewidth\":0,\"ticks\":\"\"},\"colorscale\":[[0.0,\"#0d0887\"],[0.1111111111111111,\"#46039f\"],[0.2222222222222222,\"#7201a8\"],[0.3333333333333333,\"#9c179e\"],[0.4444444444444444,\"#bd3786\"],[0.5555555555555556,\"#d8576b\"],[0.6666666666666666,\"#ed7953\"],[0.7777777777777778,\"#fb9f3a\"],[0.8888888888888888,\"#fdca26\"],[1.0,\"#f0f921\"]]}],\"heatmap\":[{\"type\":\"heatmap\",\"colorbar\":{\"outlinewidth\":0,\"ticks\":\"\"},\"colorscale\":[[0.0,\"#0d0887\"],[0.1111111111111111,\"#46039f\"],[0.2222222222222222,\"#7201a8\"],[0.3333333333333333,\"#9c179e\"],[0.4444444444444444,\"#bd3786\"],[0.5555555555555556,\"#d8576b\"],[0.6666666666666666,\"#ed7953\"],[0.7777777777777778,\"#fb9f3a\"],[0.8888888888888888,\"#fdca26\"],[1.0,\"#f0f921\"]]}],\"heatmapgl\":[{\"type\":\"heatmapgl\",\"colorbar\":{\"outlinewidth\":0,\"ticks\":\"\"},\"colorscale\":[[0.0,\"#0d0887\"],[0.1111111111111111,\"#46039f\"],[0.2222222222222222,\"#7201a8\"],[0.3333333333333333,\"#9c179e\"],[0.4444444444444444,\"#bd3786\"],[0.5555555555555556,\"#d8576b\"],[0.6666666666666666,\"#ed7953\"],[0.7777777777777778,\"#fb9f3a\"],[0.8888888888888888,\"#fdca26\"],[1.0,\"#f0f921\"]]}],\"contourcarpet\":[{\"type\":\"contourcarpet\",\"colorbar\":{\"outlinewidth\":0,\"ticks\":\"\"}}],\"contour\":[{\"type\":\"contour\",\"colorbar\":{\"outlinewidth\":0,\"ticks\":\"\"},\"colorscale\":[[0.0,\"#0d0887\"],[0.1111111111111111,\"#46039f\"],[0.2222222222222222,\"#7201a8\"],[0.3333333333333333,\"#9c179e\"],[0.4444444444444444,\"#bd3786\"],[0.5555555555555556,\"#d8576b\"],[0.6666666666666666,\"#ed7953\"],[0.7777777777777778,\"#fb9f3a\"],[0.8888888888888888,\"#fdca26\"],[1.0,\"#f0f921\"]]}],\"surface\":[{\"type\":\"surface\",\"colorbar\":{\"outlinewidth\":0,\"ticks\":\"\"},\"colorscale\":[[0.0,\"#0d0887\"],[0.1111111111111111,\"#46039f\"],[0.2222222222222222,\"#7201a8\"],[0.3333333333333333,\"#9c179e\"],[0.4444444444444444,\"#bd3786\"],[0.5555555555555556,\"#d8576b\"],[0.6666666666666666,\"#ed7953\"],[0.7777777777777778,\"#fb9f3a\"],[0.8888888888888888,\"#fdca26\"],[1.0,\"#f0f921\"]]}],\"mesh3d\":[{\"type\":\"mesh3d\",\"colorbar\":{\"outlinewidth\":0,\"ticks\":\"\"}}],\"scatter\":[{\"fillpattern\":{\"fillmode\":\"overlay\",\"size\":10,\"solidity\":0.2},\"type\":\"scatter\"}],\"parcoords\":[{\"type\":\"parcoords\",\"line\":{\"colorbar\":{\"outlinewidth\":0,\"ticks\":\"\"}}}],\"scatterpolargl\":[{\"type\":\"scatterpolargl\",\"marker\":{\"colorbar\":{\"outlinewidth\":0,\"ticks\":\"\"}}}],\"bar\":[{\"error_x\":{\"color\":\"#2a3f5f\"},\"error_y\":{\"color\":\"#2a3f5f\"},\"marker\":{\"line\":{\"color\":\"#E5ECF6\",\"width\":0.5},\"pattern\":{\"fillmode\":\"overlay\",\"size\":10,\"solidity\":0.2}},\"type\":\"bar\"}],\"scattergeo\":[{\"type\":\"scattergeo\",\"marker\":{\"colorbar\":{\"outlinewidth\":0,\"ticks\":\"\"}}}],\"scatterpolar\":[{\"type\":\"scatterpolar\",\"marker\":{\"colorbar\":{\"outlinewidth\":0,\"ticks\":\"\"}}}],\"histogram\":[{\"marker\":{\"pattern\":{\"fillmode\":\"overlay\",\"size\":10,\"solidity\":0.2}},\"type\":\"histogram\"}],\"scattergl\":[{\"type\":\"scattergl\",\"marker\":{\"colorbar\":{\"outlinewidth\":0,\"ticks\":\"\"}}}],\"scatter3d\":[{\"type\":\"scatter3d\",\"line\":{\"colorbar\":{\"outlinewidth\":0,\"ticks\":\"\"}},\"marker\":{\"colorbar\":{\"outlinewidth\":0,\"ticks\":\"\"}}}],\"scattermapbox\":[{\"type\":\"scattermapbox\",\"marker\":{\"colorbar\":{\"outlinewidth\":0,\"ticks\":\"\"}}}],\"scatterternary\":[{\"type\":\"scatterternary\",\"marker\":{\"colorbar\":{\"outlinewidth\":0,\"ticks\":\"\"}}}],\"scattercarpet\":[{\"type\":\"scattercarpet\",\"marker\":{\"colorbar\":{\"outlinewidth\":0,\"ticks\":\"\"}}}],\"carpet\":[{\"aaxis\":{\"endlinecolor\":\"#2a3f5f\",\"gridcolor\":\"white\",\"linecolor\":\"white\",\"minorgridcolor\":\"white\",\"startlinecolor\":\"#2a3f5f\"},\"baxis\":{\"endlinecolor\":\"#2a3f5f\",\"gridcolor\":\"white\",\"linecolor\":\"white\",\"minorgridcolor\":\"white\",\"startlinecolor\":\"#2a3f5f\"},\"type\":\"carpet\"}],\"table\":[{\"cells\":{\"fill\":{\"color\":\"#EBF0F8\"},\"line\":{\"color\":\"white\"}},\"header\":{\"fill\":{\"color\":\"#C8D4E3\"},\"line\":{\"color\":\"white\"}},\"type\":\"table\"}],\"barpolar\":[{\"marker\":{\"line\":{\"color\":\"#E5ECF6\",\"width\":0.5},\"pattern\":{\"fillmode\":\"overlay\",\"size\":10,\"solidity\":0.2}},\"type\":\"barpolar\"}],\"pie\":[{\"automargin\":true,\"type\":\"pie\"}]},\"layout\":{\"autotypenumbers\":\"strict\",\"colorway\":[\"#636efa\",\"#EF553B\",\"#00cc96\",\"#ab63fa\",\"#FFA15A\",\"#19d3f3\",\"#FF6692\",\"#B6E880\",\"#FF97FF\",\"#FECB52\"],\"font\":{\"color\":\"#2a3f5f\"},\"hovermode\":\"closest\",\"hoverlabel\":{\"align\":\"left\"},\"paper_bgcolor\":\"white\",\"plot_bgcolor\":\"#E5ECF6\",\"polar\":{\"bgcolor\":\"#E5ECF6\",\"angularaxis\":{\"gridcolor\":\"white\",\"linecolor\":\"white\",\"ticks\":\"\"},\"radialaxis\":{\"gridcolor\":\"white\",\"linecolor\":\"white\",\"ticks\":\"\"}},\"ternary\":{\"bgcolor\":\"#E5ECF6\",\"aaxis\":{\"gridcolor\":\"white\",\"linecolor\":\"white\",\"ticks\":\"\"},\"baxis\":{\"gridcolor\":\"white\",\"linecolor\":\"white\",\"ticks\":\"\"},\"caxis\":{\"gridcolor\":\"white\",\"linecolor\":\"white\",\"ticks\":\"\"}},\"coloraxis\":{\"colorbar\":{\"outlinewidth\":0,\"ticks\":\"\"}},\"colorscale\":{\"sequential\":[[0.0,\"#0d0887\"],[0.1111111111111111,\"#46039f\"],[0.2222222222222222,\"#7201a8\"],[0.3333333333333333,\"#9c179e\"],[0.4444444444444444,\"#bd3786\"],[0.5555555555555556,\"#d8576b\"],[0.6666666666666666,\"#ed7953\"],[0.7777777777777778,\"#fb9f3a\"],[0.8888888888888888,\"#fdca26\"],[1.0,\"#f0f921\"]],\"sequentialminus\":[[0.0,\"#0d0887\"],[0.1111111111111111,\"#46039f\"],[0.2222222222222222,\"#7201a8\"],[0.3333333333333333,\"#9c179e\"],[0.4444444444444444,\"#bd3786\"],[0.5555555555555556,\"#d8576b\"],[0.6666666666666666,\"#ed7953\"],[0.7777777777777778,\"#fb9f3a\"],[0.8888888888888888,\"#fdca26\"],[1.0,\"#f0f921\"]],\"diverging\":[[0,\"#8e0152\"],[0.1,\"#c51b7d\"],[0.2,\"#de77ae\"],[0.3,\"#f1b6da\"],[0.4,\"#fde0ef\"],[0.5,\"#f7f7f7\"],[0.6,\"#e6f5d0\"],[0.7,\"#b8e186\"],[0.8,\"#7fbc41\"],[0.9,\"#4d9221\"],[1,\"#276419\"]]},\"xaxis\":{\"gridcolor\":\"white\",\"linecolor\":\"white\",\"ticks\":\"\",\"title\":{\"standoff\":15},\"zerolinecolor\":\"white\",\"automargin\":true,\"zerolinewidth\":2},\"yaxis\":{\"gridcolor\":\"white\",\"linecolor\":\"white\",\"ticks\":\"\",\"title\":{\"standoff\":15},\"zerolinecolor\":\"white\",\"automargin\":true,\"zerolinewidth\":2},\"scene\":{\"xaxis\":{\"backgroundcolor\":\"#E5ECF6\",\"gridcolor\":\"white\",\"linecolor\":\"white\",\"showbackground\":true,\"ticks\":\"\",\"zerolinecolor\":\"white\",\"gridwidth\":2},\"yaxis\":{\"backgroundcolor\":\"#E5ECF6\",\"gridcolor\":\"white\",\"linecolor\":\"white\",\"showbackground\":true,\"ticks\":\"\",\"zerolinecolor\":\"white\",\"gridwidth\":2},\"zaxis\":{\"backgroundcolor\":\"#E5ECF6\",\"gridcolor\":\"white\",\"linecolor\":\"white\",\"showbackground\":true,\"ticks\":\"\",\"zerolinecolor\":\"white\",\"gridwidth\":2}},\"shapedefaults\":{\"line\":{\"color\":\"#2a3f5f\"}},\"annotationdefaults\":{\"arrowcolor\":\"#2a3f5f\",\"arrowhead\":0,\"arrowwidth\":1},\"geo\":{\"bgcolor\":\"white\",\"landcolor\":\"#E5ECF6\",\"subunitcolor\":\"white\",\"showland\":true,\"showlakes\":true,\"lakecolor\":\"white\"},\"title\":{\"x\":0.05},\"mapbox\":{\"style\":\"light\"}}},\"xaxis\":{\"anchor\":\"y\",\"domain\":[0.0,1.0],\"title\":{\"text\":\"Datetime\"},\"showticklabels\":false},\"yaxis\":{\"anchor\":\"x\",\"domain\":[0.0,1.0],\"title\":{\"text\":\"Total Trips\"}},\"coloraxis\":{\"colorbar\":{\"title\":{\"text\":\"Year\"}},\"colorscale\":[[0.0,\"#0d0887\"],[0.1111111111111111,\"#46039f\"],[0.2222222222222222,\"#7201a8\"],[0.3333333333333333,\"#9c179e\"],[0.4444444444444444,\"#bd3786\"],[0.5555555555555556,\"#d8576b\"],[0.6666666666666666,\"#ed7953\"],[0.7777777777777778,\"#fb9f3a\"],[0.8888888888888888,\"#fdca26\"],[1.0,\"#f0f921\"]]},\"legend\":{\"tracegroupgap\":0},\"title\":{\"text\":\"Drop in Ridership: 2019 to 2023 by Month\"},\"barmode\":\"relative\",\"annotations\":[{\"showarrow\":true,\"text\":\"March 2020\",\"x\":\"2020-03-01\",\"xanchor\":\"left\",\"y\":4000000}]},                        {\"responsive\": true}                    ).then(function(){\n",
       "                            \n",
       "var gd = document.getElementById('9cc6a920-cee5-48ed-b55c-78b0d204ee3f');\n",
       "var x = new MutationObserver(function (mutations, observer) {{\n",
       "        var display = window.getComputedStyle(gd).display;\n",
       "        if (!display || display === 'none') {{\n",
       "            console.log([gd, 'removed!']);\n",
       "            Plotly.purge(gd);\n",
       "            observer.disconnect();\n",
       "        }}\n",
       "}});\n",
       "\n",
       "// Listen for the removal of the full notebook cells\n",
       "var notebookContainer = gd.closest('#notebook-container');\n",
       "if (notebookContainer) {{\n",
       "    x.observe(notebookContainer, {childList: true});\n",
       "}}\n",
       "\n",
       "// Listen for the clearing of the current output cell\n",
       "var outputEl = gd.closest('.output');\n",
       "if (outputEl) {{\n",
       "    x.observe(outputEl, {childList: true});\n",
       "}}\n",
       "\n",
       "                        })                };                });            </script>        </div>"
      ]
     },
     "metadata": {},
     "output_type": "display_data"
    }
   ],
   "source": [
    "# Visualization: Bart 2019-2023 by Month\n",
    "\n",
    "month = px.bar(trips_month[trips_month['Year'] >= 2019], x = \"Datetime\",\n",
    "             y='Trip Count',labels={\"Trip Count\" : \"Total Trips\", \"index\" : \"Month\"}, \n",
    "             title = \"Drop in Ridership: 2019 to 2023 by Month\", color = 'Year',\n",
    "              )\n",
    "\n",
    "month.update_xaxes(showticklabels=False)\n",
    "month.add_annotation(\n",
    "    x=\"2020-03-01\", y = 4000000,\n",
    "    text=\"March 2020\",\n",
    "    showarrow=True,\n",
    "    xanchor=\"left\")\n",
    "month.show()\n",
    "month.write_html(\"images/covid_drop.html\")\n",
    "month.write_image(\"images/covid_drop.png\")\n",
    "month.write_image(\"images/covid_drop.svg\")"
   ]
  },
  {
   "cell_type": "markdown",
   "id": "c740c31b-6ad8-4987-958d-612fd788bd55",
   "metadata": {},
   "source": [
    "### Downtown Daily"
   ]
  },
  {
   "cell_type": "code",
   "execution_count": 484,
   "id": "37abb93d-dfcf-4f3b-8308-2fbce4326e50",
   "metadata": {},
   "outputs": [],
   "source": [
    "# SF func def\n",
    "SF_stations = ['EMBR','MONT','POWL','CIVC','16TH','24TH','GLEN','BALB','DALY','COLM','SSAN','SBRN','SFIA','MLBR']\n",
    "\n",
    "def SF(x):\n",
    "    '''\n",
    "    Simple function to seprate stations in SF = 1, and Not in SF = 0\n",
    "    '''\n",
    "    if x in SF_stations:\n",
    "        return 1\n",
    "    else:\n",
    "        return 0"
   ]
  },
  {
   "cell_type": "code",
   "execution_count": 485,
   "id": "c407fe8a-ac32-435c-95ca-b0f81473ec97",
   "metadata": {},
   "outputs": [],
   "source": [
    "#Pull data for stations with origin or destination as SF downtown\n",
    "\n",
    "SF_downton = ['EMBR','MONT','POWL','CIVC']\n",
    "downtown_summary = []\n",
    "for i in [2019, 2022, 2023]:\n",
    "    df = pd.read_csv('date-hour-soo-dest-' + str(i) + '.csv')\n",
    "    df['Date'] = pd.to_datetime(df['Date'], format = '%Y-%m-%d')\n",
    "    df['Month'] = df['Date'].dt.month\n",
    "    df['Day'] = df['Date'].dt.day_name()\n",
    "    df['Day Num'] = df['Date'].dt.dayofweek\n",
    "    df['Month Name'] = df['Date'].dt.month_name()\n",
    "    df['Year'] = df['Date'].dt.year\n",
    "    df = df[(df['Origin Station'].isin(SF_downton)) | (df['Destination Station'].isin(SF_downton))]\n",
    "    df['Commute'] = df['Hour'].apply(lambda x: 'AM' if 4 < x <13 else 'PM')\n",
    "    df['Origin_SF'] = df['Origin Station'].apply(SF)\n",
    "    df['Destination_SF'] = df['Destination Station'].apply(SF)\n",
    "    df['Transbay'] = df['Origin_SF'] + df['Destination_SF']\n",
    "    df['Transbay'] = df['Transbay'].apply(lambda x: 'Y' if x == 1 else 'N')\n",
    "    downtown_summary.append(df)"
   ]
  },
  {
   "cell_type": "code",
   "execution_count": 486,
   "id": "cd2ea443-21a3-4788-9adf-e6428988938a",
   "metadata": {},
   "outputs": [
    {
     "name": "stderr",
     "output_type": "stream",
     "text": [
      "/var/folders/xk/t8xh_8wx1pl_j7g1mtmxhnc40000gn/T/ipykernel_62745/2147282835.py:3: FutureWarning:\n",
      "\n",
      "Setting an item of incompatible dtype is deprecated and will raise an error in a future version of pandas. Value '2022' has dtype incompatible with int32, please explicitly cast to a compatible dtype first.\n",
      "\n"
     ]
    },
    {
     "data": {
      "text/html": [
       "<div>\n",
       "<style scoped>\n",
       "    .dataframe tbody tr th:only-of-type {\n",
       "        vertical-align: middle;\n",
       "    }\n",
       "\n",
       "    .dataframe tbody tr th {\n",
       "        vertical-align: top;\n",
       "    }\n",
       "\n",
       "    .dataframe thead th {\n",
       "        text-align: right;\n",
       "    }\n",
       "</style>\n",
       "<table border=\"1\" class=\"dataframe\">\n",
       "  <thead>\n",
       "    <tr style=\"text-align: right;\">\n",
       "      <th></th>\n",
       "      <th>Date</th>\n",
       "      <th>Hour</th>\n",
       "      <th>Origin Station</th>\n",
       "      <th>Destination Station</th>\n",
       "      <th>Trip Count</th>\n",
       "      <th>Month</th>\n",
       "      <th>Day</th>\n",
       "      <th>Day Num</th>\n",
       "      <th>Month Name</th>\n",
       "      <th>Year</th>\n",
       "      <th>Commute</th>\n",
       "      <th>Origin_SF</th>\n",
       "      <th>Destination_SF</th>\n",
       "      <th>Transbay</th>\n",
       "    </tr>\n",
       "  </thead>\n",
       "  <tbody>\n",
       "    <tr>\n",
       "      <th>4</th>\n",
       "      <td>2019-01-01</td>\n",
       "      <td>0</td>\n",
       "      <td>12TH</td>\n",
       "      <td>CIVC</td>\n",
       "      <td>2</td>\n",
       "      <td>1</td>\n",
       "      <td>Tuesday</td>\n",
       "      <td>1</td>\n",
       "      <td>January</td>\n",
       "      <td>2019</td>\n",
       "      <td>PM</td>\n",
       "      <td>0</td>\n",
       "      <td>1</td>\n",
       "      <td>Y</td>\n",
       "    </tr>\n",
       "    <tr>\n",
       "      <th>10</th>\n",
       "      <td>2019-01-01</td>\n",
       "      <td>0</td>\n",
       "      <td>12TH</td>\n",
       "      <td>EMBR</td>\n",
       "      <td>7</td>\n",
       "      <td>1</td>\n",
       "      <td>Tuesday</td>\n",
       "      <td>1</td>\n",
       "      <td>January</td>\n",
       "      <td>2019</td>\n",
       "      <td>PM</td>\n",
       "      <td>0</td>\n",
       "      <td>1</td>\n",
       "      <td>Y</td>\n",
       "    </tr>\n",
       "  </tbody>\n",
       "</table>\n",
       "</div>"
      ],
      "text/plain": [
       "         Date  Hour Origin Station Destination Station  Trip Count  Month  \\\n",
       "4  2019-01-01     0           12TH                CIVC           2      1   \n",
       "10 2019-01-01     0           12TH                EMBR           7      1   \n",
       "\n",
       "        Day  Day Num Month Name  Year Commute  Origin_SF  Destination_SF  \\\n",
       "4   Tuesday        1    January  2019      PM          0               1   \n",
       "10  Tuesday        1    January  2019      PM          0               1   \n",
       "\n",
       "   Transbay  \n",
       "4         Y  \n",
       "10        Y  "
      ]
     },
     "execution_count": 486,
     "metadata": {},
     "output_type": "execute_result"
    }
   ],
   "source": [
    "#concat to create DF: \n",
    "downtown_master = pd.concat([downtown_summary[0],downtown_summary[1][downtown_summary[1]['Month']>4], downtown_summary[2][downtown_summary[2]['Month']<5]])\n",
    "downtown_master.loc[downtown_master['Year'].isin([2022,2023]),'Year']= '2022'\n",
    "downtown_master.loc[downtown_master['Year']== 2019,'Year'] = '2019'\n",
    "downtown_master.head(2)"
   ]
  },
  {
   "cell_type": "code",
   "execution_count": 487,
   "id": "98a4f25b-7773-4a2c-8e57-c0988e4e902b",
   "metadata": {},
   "outputs": [
    {
     "data": {
      "text/html": [
       "<div>\n",
       "<style scoped>\n",
       "    .dataframe tbody tr th:only-of-type {\n",
       "        vertical-align: middle;\n",
       "    }\n",
       "\n",
       "    .dataframe tbody tr th {\n",
       "        vertical-align: top;\n",
       "    }\n",
       "\n",
       "    .dataframe thead th {\n",
       "        text-align: right;\n",
       "    }\n",
       "</style>\n",
       "<table border=\"1\" class=\"dataframe\">\n",
       "  <thead>\n",
       "    <tr style=\"text-align: right;\">\n",
       "      <th></th>\n",
       "      <th>Year</th>\n",
       "      <th>Day</th>\n",
       "      <th>Hour</th>\n",
       "      <th>Trip Count</th>\n",
       "      <th>Station</th>\n",
       "    </tr>\n",
       "  </thead>\n",
       "  <tbody>\n",
       "    <tr>\n",
       "      <th>0</th>\n",
       "      <td>2019</td>\n",
       "      <td>Friday</td>\n",
       "      <td>0</td>\n",
       "      <td>309.826923</td>\n",
       "      <td>MONT</td>\n",
       "    </tr>\n",
       "    <tr>\n",
       "      <th>1</th>\n",
       "      <td>2019</td>\n",
       "      <td>Friday</td>\n",
       "      <td>1</td>\n",
       "      <td>75.250000</td>\n",
       "      <td>MONT</td>\n",
       "    </tr>\n",
       "  </tbody>\n",
       "</table>\n",
       "</div>"
      ],
      "text/plain": [
       "   Year     Day  Hour  Trip Count Station\n",
       "0  2019  Friday     0  309.826923    MONT\n",
       "1  2019  Friday     1   75.250000    MONT"
      ]
     },
     "execution_count": 487,
     "metadata": {},
     "output_type": "execute_result"
    }
   ],
   "source": [
    "# Pivoting data\n",
    "mont2 = downtown_master[((downtown_master['Destination Station']=='MONT') \n",
    "                 | (downtown_master['Origin Station']=='MONT')) \n",
    "               ].groupby(['Year','Day Num','Day','Date','Hour'])['Trip Count'].sum().reset_index().groupby(\n",
    "                   ['Year','Day','Hour'])['Trip Count'].mean().reset_index()\n",
    "mont2['Station'] = 'MONT'\n",
    "pow2 = downtown_master[((downtown_master['Destination Station']=='POWL') \n",
    "                 | (downtown_master['Origin Station']=='POWL')) \n",
    "               ].groupby(['Year','Day Num','Day','Date','Hour'])['Trip Count'].sum().reset_index().groupby(\n",
    "                   ['Year','Day','Hour'])['Trip Count'].mean().reset_index()\n",
    "pow2['Station'] = 'POWL'\n",
    "emb2 = downtown_master[((downtown_master['Destination Station']=='EMBR') \n",
    "                 | (downtown_master['Origin Station']=='EMBR')) \n",
    "               ].groupby(['Year','Day Num','Day','Date','Hour'])['Trip Count'].sum().reset_index().groupby(\n",
    "                   ['Year','Day','Hour'])['Trip Count'].mean().reset_index()\n",
    "emb2['Station'] = 'EMBR'\n",
    "civ2 = downtown_master[((downtown_master['Destination Station']=='CIVC') \n",
    "                 | (downtown_master['Origin Station']=='CIVC')) \n",
    "               ].groupby(['Year','Day Num','Day','Date','Hour'])['Trip Count'].sum().reset_index().groupby(\n",
    "                   ['Year','Day','Hour'])['Trip Count'].mean().reset_index()\n",
    "civ2['Station'] = 'CIVC'\n",
    "all2 = pd.concat([mont2,pow2,emb2,civ2])\n",
    "all2.head(2)"
   ]
  },
  {
   "cell_type": "code",
   "execution_count": 525,
   "id": "7838a9c6-1f99-4cf3-b3d6-655daefb6e7b",
   "metadata": {},
   "outputs": [
    {
     "data": {
      "application/vnd.plotly.v1+json": {
       "config": {
        "plotlyServerURL": "https://plot.ly"
       },
       "data": [
        {
         "hovertemplate": "Day=Friday<br>Station=MONT<br>Hour=%{x}<br>Trip Count=%{y}<extra></extra>",
         "legendgroup": "Friday",
         "line": {
          "color": "#636efa",
          "dash": "solid"
         },
         "marker": {
          "symbol": "circle"
         },
         "mode": "lines",
         "name": "Friday",
         "orientation": "v",
         "showlegend": true,
         "type": "scatter",
         "x": [
          0,
          1,
          2,
          3,
          4,
          5,
          6,
          7,
          8,
          9,
          10,
          11,
          12,
          13,
          14,
          15,
          16,
          17,
          18,
          19,
          20,
          21,
          22,
          23
         ],
         "xaxis": "x",
         "y": [
          309.8269230769231,
          75.25,
          2.142857142857143,
          1.1666666666666667,
          29.464285714285715,
          844,
          2411.7115384615386,
          5565.403846153846,
          10466.134615384615,
          8862.326923076924,
          4112.211538461538,
          2324.8076923076924,
          2114.6346153846152,
          2188.2115384615386,
          2739.346153846154,
          3688.846153846154,
          5830.634615384615,
          9107.615384615385,
          7827.038461538462,
          3750.519230769231,
          1778.2307692307693,
          1124.2884615384614,
          1030.3653846153845,
          817.7115384615385
         ],
         "yaxis": "y"
        },
        {
         "hovertemplate": "Day=Friday<br>Station=POWL<br>Hour=%{x}<br>Trip Count=%{y}<extra></extra>",
         "legendgroup": "Friday",
         "line": {
          "color": "#636efa",
          "dash": "solid"
         },
         "marker": {
          "symbol": "circle"
         },
         "mode": "lines",
         "name": "Friday",
         "orientation": "v",
         "showlegend": false,
         "type": "scatter",
         "x": [
          0,
          1,
          2,
          3,
          4,
          5,
          6,
          7,
          8,
          9,
          10,
          11,
          12,
          13,
          14,
          15,
          16,
          17,
          18,
          19,
          20,
          21,
          22,
          23
         ],
         "xaxis": "x2",
         "y": [
          436.28846153846155,
          78.63461538461539,
          3.5,
          1.1666666666666667,
          13,
          529.1346153846154,
          1372.173076923077,
          2637.826923076923,
          4000.7115384615386,
          3739.173076923077,
          2563.1923076923076,
          2310.3653846153848,
          2373.673076923077,
          2512.1923076923076,
          2867.1153846153848,
          3469.096153846154,
          4634.461538461538,
          5964.7692307692305,
          5726.115384615385,
          3768.9615384615386,
          2353.9423076923076,
          1877.673076923077,
          1666.7115384615386,
          1322.7307692307693
         ],
         "yaxis": "y2"
        },
        {
         "hovertemplate": "Day=Friday<br>Station=EMBR<br>Hour=%{x}<br>Trip Count=%{y}<extra></extra>",
         "legendgroup": "Friday",
         "line": {
          "color": "#636efa",
          "dash": "solid"
         },
         "marker": {
          "symbol": "circle"
         },
         "mode": "lines",
         "name": "Friday",
         "orientation": "v",
         "showlegend": false,
         "type": "scatter",
         "x": [
          0,
          1,
          2,
          3,
          4,
          5,
          6,
          7,
          8,
          9,
          10,
          11,
          12,
          13,
          14,
          15,
          16,
          17,
          18,
          19,
          20,
          21,
          22,
          23
         ],
         "xaxis": "x3",
         "y": [
          329.46153846153845,
          67.11538461538461,
          2.5714285714285716,
          1.7777777777777777,
          25.826923076923077,
          1078.5384615384614,
          3048.8846153846152,
          6383.2307692307695,
          10780.26923076923,
          8437.903846153846,
          3822.076923076923,
          2334.826923076923,
          2143.0384615384614,
          2305.480769230769,
          3039.096153846154,
          4044.230769230769,
          6517.9807692307695,
          9266.865384615385,
          7419.807692307692,
          3530.0576923076924,
          1708.076923076923,
          1103.423076923077,
          1052.8076923076924,
          972.5769230769231
         ],
         "yaxis": "y3"
        },
        {
         "hovertemplate": "Day=Friday<br>Station=CIVC<br>Hour=%{x}<br>Trip Count=%{y}<extra></extra>",
         "legendgroup": "Friday",
         "line": {
          "color": "#636efa",
          "dash": "solid"
         },
         "marker": {
          "symbol": "circle"
         },
         "mode": "lines",
         "name": "Friday",
         "orientation": "v",
         "showlegend": false,
         "type": "scatter",
         "x": [
          0,
          1,
          2,
          3,
          4,
          5,
          6,
          7,
          8,
          9,
          10,
          11,
          12,
          13,
          14,
          15,
          16,
          17,
          18,
          19,
          20,
          21,
          22,
          23
         ],
         "xaxis": "x4",
         "y": [
          282.28846153846155,
          38.67307692307692,
          2,
          2.1,
          8.97872340425532,
          420.90384615384613,
          1547.7115384615386,
          3431.3076923076924,
          4929.538461538462,
          3724.8076923076924,
          1905.5961538461538,
          1355.8461538461538,
          1389.7307692307693,
          1462.3846153846155,
          1656.423076923077,
          2223.25,
          3607.019230769231,
          5645.7307692307695,
          4674.384615384615,
          2372.3076923076924,
          1222.4423076923076,
          865.4038461538462,
          1165.5961538461538,
          917.4038461538462
         ],
         "yaxis": "y4"
        },
        {
         "hovertemplate": "Day=Monday<br>Station=MONT<br>Hour=%{x}<br>Trip Count=%{y}<extra></extra>",
         "legendgroup": "Monday",
         "line": {
          "color": "#EF553B",
          "dash": "solid"
         },
         "marker": {
          "symbol": "circle"
         },
         "mode": "lines",
         "name": "Monday",
         "orientation": "v",
         "showlegend": true,
         "type": "scatter",
         "x": [
          0,
          1,
          2,
          3,
          4,
          5,
          6,
          7,
          8,
          9,
          10,
          11,
          12,
          13,
          14,
          15,
          16,
          17,
          18,
          19,
          20,
          21,
          22,
          23
         ],
         "xaxis": "x",
         "y": [
          107.63461538461539,
          16.51923076923077,
          1.2857142857142858,
          1,
          21.833333333333332,
          858.86,
          2635.470588235294,
          6344.392156862745,
          12109.788461538461,
          10115.211538461539,
          4261.846153846154,
          2102.576923076923,
          1728.9038461538462,
          1679.4423076923076,
          2117,
          3003.826923076923,
          5377.057692307692,
          10524.5,
          10177.846153846154,
          4748.442307692308,
          1957.9615384615386,
          1087.7884615384614,
          776.9230769230769,
          517.8076923076923
         ],
         "yaxis": "y"
        },
        {
         "hovertemplate": "Day=Monday<br>Station=POWL<br>Hour=%{x}<br>Trip Count=%{y}<extra></extra>",
         "legendgroup": "Monday",
         "line": {
          "color": "#EF553B",
          "dash": "solid"
         },
         "marker": {
          "symbol": "circle"
         },
         "mode": "lines",
         "name": "Monday",
         "orientation": "v",
         "showlegend": false,
         "type": "scatter",
         "x": [
          0,
          1,
          2,
          3,
          4,
          5,
          6,
          7,
          8,
          9,
          10,
          11,
          12,
          13,
          14,
          15,
          16,
          17,
          18,
          19,
          20,
          21,
          22,
          23
         ],
         "xaxis": "x2",
         "y": [
          259.34615384615387,
          35.90384615384615,
          2,
          1,
          9.926829268292684,
          518.26,
          1347.5,
          2567.5576923076924,
          4137.7307692307695,
          3750.730769230769,
          2283.6923076923076,
          1918.9615384615386,
          1936.8076923076924,
          2044.1153846153845,
          2290.0576923076924,
          2784.3653846153848,
          3775.2115384615386,
          5506.153846153846,
          5521.711538461538,
          3292.596153846154,
          1966.1153846153845,
          1496.5,
          1065.076923076923,
          755.4807692307693
         ],
         "yaxis": "y2"
        },
        {
         "hovertemplate": "Day=Monday<br>Station=EMBR<br>Hour=%{x}<br>Trip Count=%{y}<extra></extra>",
         "legendgroup": "Monday",
         "line": {
          "color": "#EF553B",
          "dash": "solid"
         },
         "marker": {
          "symbol": "circle"
         },
         "mode": "lines",
         "name": "Monday",
         "orientation": "v",
         "showlegend": false,
         "type": "scatter",
         "x": [
          0,
          1,
          2,
          3,
          4,
          5,
          6,
          7,
          8,
          9,
          10,
          11,
          12,
          13,
          14,
          15,
          16,
          17,
          18,
          19,
          20,
          21,
          22,
          23
         ],
         "xaxis": "x3",
         "y": [
          152.19230769230768,
          21.365384615384617,
          2.588235294117647,
          1.7142857142857142,
          21.4375,
          1089.7,
          3442.54,
          7406.313725490196,
          12593.057692307691,
          9974.653846153846,
          3931.5576923076924,
          2027.423076923077,
          1693.5192307692307,
          1662.5576923076924,
          2168.6153846153848,
          3217.5,
          6087.923076923077,
          10692.384615384615,
          9455.903846153846,
          4302.711538461538,
          1832.7307692307693,
          1083.923076923077,
          847.0576923076923,
          586.9230769230769
         ],
         "yaxis": "y3"
        },
        {
         "hovertemplate": "Day=Monday<br>Station=CIVC<br>Hour=%{x}<br>Trip Count=%{y}<extra></extra>",
         "legendgroup": "Monday",
         "line": {
          "color": "#EF553B",
          "dash": "solid"
         },
         "marker": {
          "symbol": "circle"
         },
         "mode": "lines",
         "name": "Monday",
         "orientation": "v",
         "showlegend": false,
         "type": "scatter",
         "x": [
          0,
          1,
          2,
          3,
          4,
          5,
          6,
          7,
          8,
          9,
          10,
          11,
          12,
          13,
          14,
          15,
          16,
          17,
          18,
          19,
          20,
          21,
          22,
          23
         ],
         "xaxis": "x4",
         "y": [
          155.8846153846154,
          19.692307692307693,
          1.6470588235294117,
          2,
          7.2682926829268295,
          411.1372549019608,
          1619.86,
          3660.5686274509803,
          5204.403846153846,
          3893,
          1788.923076923077,
          1163.3461538461538,
          1119.423076923077,
          1110.9615384615386,
          1232.173076923077,
          1843.326923076923,
          3167.2884615384614,
          5546.673076923077,
          4848.653846153846,
          2274.519230769231,
          1042.0961538461538,
          667.0961538461538,
          501.2692307692308,
          391.6730769230769
         ],
         "yaxis": "y4"
        },
        {
         "hovertemplate": "Day=Saturday<br>Station=MONT<br>Hour=%{x}<br>Trip Count=%{y}<extra></extra>",
         "legendgroup": "Saturday",
         "line": {
          "color": "#00cc96",
          "dash": "solid"
         },
         "marker": {
          "symbol": "circle"
         },
         "mode": "lines",
         "name": "Saturday",
         "orientation": "v",
         "showlegend": true,
         "type": "scatter",
         "x": [
          0,
          1,
          2,
          3,
          5,
          6,
          7,
          8,
          9,
          10,
          11,
          12,
          13,
          14,
          15,
          16,
          17,
          18,
          19,
          20,
          21,
          22,
          23
         ],
         "xaxis": "x",
         "y": [
          445.09615384615387,
          105.71153846153847,
          2.8,
          1,
          1.8461538461538463,
          248.54901960784315,
          504.94117647058823,
          893.7450980392157,
          1086.4807692307693,
          1161.5576923076924,
          1231.8653846153845,
          1241.8076923076924,
          1223.0192307692307,
          1239.5384615384614,
          1298.3461538461538,
          1313.3461538461538,
          1467.6538461538462,
          1265.9038461538462,
          941.6346153846154,
          738.6538461538462,
          643.4615384615385,
          615.1153846153846,
          510.4230769230769
         ],
         "yaxis": "y"
        },
        {
         "hovertemplate": "Day=Saturday<br>Station=POWL<br>Hour=%{x}<br>Trip Count=%{y}<extra></extra>",
         "legendgroup": "Saturday",
         "line": {
          "color": "#00cc96",
          "dash": "solid"
         },
         "marker": {
          "symbol": "circle"
         },
         "mode": "lines",
         "name": "Saturday",
         "orientation": "v",
         "showlegend": false,
         "type": "scatter",
         "x": [
          0,
          1,
          2,
          3,
          4,
          5,
          6,
          7,
          8,
          9,
          10,
          11,
          12,
          13,
          14,
          15,
          16,
          17,
          18,
          19,
          20,
          21,
          22,
          23
         ],
         "xaxis": "x2",
         "y": [
          645.9038461538462,
          132.67307692307693,
          2.727272727272727,
          1,
          1.5,
          2.5853658536585367,
          424.6666666666667,
          857.8039215686274,
          1232.2745098039215,
          1589.4313725490197,
          1899.923076923077,
          2328.519230769231,
          2537.5384615384614,
          2772.6923076923076,
          2729.5384615384614,
          2909.576923076923,
          3162.8653846153848,
          3433,
          3055.7115384615386,
          2418.019230769231,
          1876.5192307692307,
          1660.1538461538462,
          1374.4807692307693,
          1152.5576923076924
         ],
         "yaxis": "y2"
        },
        {
         "hovertemplate": "Day=Saturday<br>Station=EMBR<br>Hour=%{x}<br>Trip Count=%{y}<extra></extra>",
         "legendgroup": "Saturday",
         "line": {
          "color": "#00cc96",
          "dash": "solid"
         },
         "marker": {
          "symbol": "circle"
         },
         "mode": "lines",
         "name": "Saturday",
         "orientation": "v",
         "showlegend": false,
         "type": "scatter",
         "x": [
          0,
          1,
          2,
          3,
          4,
          5,
          6,
          7,
          8,
          9,
          10,
          11,
          12,
          13,
          14,
          15,
          16,
          17,
          18,
          19,
          20,
          21,
          22,
          23
         ],
         "xaxis": "x3",
         "y": [
          447.7307692307692,
          101.86538461538461,
          2.5,
          2.3333333333333335,
          1.4,
          3.588235294117647,
          278,
          541.2941176470588,
          825.0392156862745,
          1118.2115384615386,
          1531.9807692307693,
          1799.3076923076924,
          1803.9038461538462,
          1675.4423076923076,
          1637.173076923077,
          1734.9038461538462,
          1903.3653846153845,
          1952.1923076923076,
          1663.3846153846155,
          1200.6153846153845,
          957.7115384615385,
          811.8846153846154,
          748.7884615384615,
          620.4807692307693
         ],
         "yaxis": "y3"
        },
        {
         "hovertemplate": "Day=Saturday<br>Station=CIVC<br>Hour=%{x}<br>Trip Count=%{y}<extra></extra>",
         "legendgroup": "Saturday",
         "line": {
          "color": "#00cc96",
          "dash": "solid"
         },
         "marker": {
          "symbol": "circle"
         },
         "mode": "lines",
         "name": "Saturday",
         "orientation": "v",
         "showlegend": false,
         "type": "scatter",
         "x": [
          0,
          1,
          2,
          3,
          4,
          5,
          6,
          7,
          8,
          9,
          10,
          11,
          12,
          13,
          14,
          15,
          16,
          17,
          18,
          19,
          20,
          21,
          22,
          23
         ],
         "xaxis": "x4",
         "y": [
          462.8269230769231,
          78.96153846153847,
          1.7692307692307692,
          1.5,
          1.5,
          2.953488372093023,
          168.19607843137254,
          364.37254901960785,
          598.7843137254902,
          753.0769230769231,
          905.1923076923077,
          1192.826923076923,
          1491.0192307692307,
          1350.3653846153845,
          1179.3653846153845,
          1202.5192307692307,
          1570.9038461538462,
          1654.3653846153845,
          1573.8461538461538,
          1160.3653846153845,
          799.2692307692307,
          660.4038461538462,
          915.1538461538462,
          785.7884615384615
         ],
         "yaxis": "y4"
        },
        {
         "hovertemplate": "Day=Sunday<br>Station=MONT<br>Hour=%{x}<br>Trip Count=%{y}<extra></extra>",
         "legendgroup": "Sunday",
         "line": {
          "color": "#ab63fa",
          "dash": "solid"
         },
         "marker": {
          "symbol": "circle"
         },
         "mode": "lines",
         "name": "Sunday",
         "orientation": "v",
         "showlegend": true,
         "type": "scatter",
         "x": [
          0,
          1,
          2,
          6,
          7,
          8,
          9,
          10,
          11,
          12,
          13,
          14,
          15,
          16,
          17,
          18,
          19,
          20,
          21,
          22,
          23
         ],
         "xaxis": "x",
         "y": [
          304.88461538461536,
          49.82692307692308,
          1.5454545454545454,
          35.5,
          11.5,
          401.90384615384613,
          664.2307692307693,
          809.8846153846154,
          876.3653846153846,
          871.3269230769231,
          803.9230769230769,
          766.8846153846154,
          738.2307692307693,
          750.1538461538462,
          887.3653846153846,
          786.75,
          595.7307692307693,
          478.8269230769231,
          378.84615384615387,
          318.0192307692308,
          235.51923076923077
         ],
         "yaxis": "y"
        },
        {
         "hovertemplate": "Day=Sunday<br>Station=POWL<br>Hour=%{x}<br>Trip Count=%{y}<extra></extra>",
         "legendgroup": "Sunday",
         "line": {
          "color": "#ab63fa",
          "dash": "solid"
         },
         "marker": {
          "symbol": "circle"
         },
         "mode": "lines",
         "name": "Sunday",
         "orientation": "v",
         "showlegend": false,
         "type": "scatter",
         "x": [
          0,
          1,
          2,
          3,
          4,
          5,
          6,
          7,
          8,
          9,
          10,
          11,
          12,
          13,
          14,
          15,
          16,
          17,
          18,
          19,
          20,
          21,
          22,
          23
         ],
         "xaxis": "x2",
         "y": [
          579.4230769230769,
          98.6923076923077,
          2.9,
          1,
          1.25,
          1.9090909090909092,
          5.409090909090909,
          9.311111111111112,
          746.0961538461538,
          1081.423076923077,
          1488.9615384615386,
          1750.7692307692307,
          1854.8076923076924,
          1908.5384615384614,
          1933.3846153846155,
          1924.0961538461538,
          2101.5384615384614,
          2347.519230769231,
          2126.2884615384614,
          1759.4038461538462,
          1356.1538461538462,
          965.9807692307693,
          747.2307692307693,
          574.9807692307693
         ],
         "yaxis": "y2"
        },
        {
         "hovertemplate": "Day=Sunday<br>Station=EMBR<br>Hour=%{x}<br>Trip Count=%{y}<extra></extra>",
         "legendgroup": "Sunday",
         "line": {
          "color": "#ab63fa",
          "dash": "solid"
         },
         "marker": {
          "symbol": "circle"
         },
         "mode": "lines",
         "name": "Sunday",
         "orientation": "v",
         "showlegend": false,
         "type": "scatter",
         "x": [
          0,
          1,
          2,
          3,
          4,
          5,
          6,
          7,
          8,
          9,
          10,
          11,
          12,
          13,
          14,
          15,
          16,
          17,
          18,
          19,
          20,
          21,
          22,
          23
         ],
         "xaxis": "x3",
         "y": [
          342.61538461538464,
          55.82692307692308,
          2.391304347826087,
          1.5,
          1.5,
          1.5,
          138.5,
          56.17307692307692,
          498.11538461538464,
          828.1538461538462,
          1176.423076923077,
          1475.9615384615386,
          1536.25,
          1298.3653846153845,
          1225.6923076923076,
          1192.5961538461538,
          1285.673076923077,
          1468.1923076923076,
          1252.5576923076924,
          855.4807692307693,
          695.7307692307693,
          517.1923076923077,
          386.0576923076923,
          284.7307692307692
         ],
         "yaxis": "y3"
        },
        {
         "hovertemplate": "Day=Sunday<br>Station=CIVC<br>Hour=%{x}<br>Trip Count=%{y}<extra></extra>",
         "legendgroup": "Sunday",
         "line": {
          "color": "#ab63fa",
          "dash": "solid"
         },
         "marker": {
          "symbol": "circle"
         },
         "mode": "lines",
         "name": "Sunday",
         "orientation": "v",
         "showlegend": false,
         "type": "scatter",
         "x": [
          0,
          1,
          2,
          3,
          4,
          5,
          6,
          7,
          8,
          9,
          10,
          11,
          12,
          13,
          14,
          15,
          16,
          17,
          18,
          19,
          20,
          21,
          22,
          23
         ],
         "xaxis": "x4",
         "y": [
          443.2307692307692,
          71.5,
          2.789473684210526,
          1,
          2,
          1.3333333333333333,
          5.5,
          6.511627906976744,
          287.03846153846155,
          561.2115384615385,
          749.0192307692307,
          949.5192307692307,
          1266.25,
          1100.826923076923,
          986.9038461538462,
          924.0769230769231,
          1157.4038461538462,
          1251.2692307692307,
          1074.0961538461538,
          751.7692307692307,
          552.2307692307693,
          471.2307692307692,
          433.0576923076923,
          327.38461538461536
         ],
         "yaxis": "y4"
        },
        {
         "hovertemplate": "Day=Thursday<br>Station=MONT<br>Hour=%{x}<br>Trip Count=%{y}<extra></extra>",
         "legendgroup": "Thursday",
         "line": {
          "color": "#FFA15A",
          "dash": "solid"
         },
         "marker": {
          "symbol": "circle"
         },
         "mode": "lines",
         "name": "Thursday",
         "orientation": "v",
         "showlegend": true,
         "type": "scatter",
         "x": [
          0,
          1,
          2,
          3,
          4,
          5,
          6,
          7,
          8,
          9,
          10,
          11,
          12,
          13,
          14,
          15,
          16,
          17,
          18,
          19,
          20,
          21,
          22,
          23
         ],
         "xaxis": "x",
         "y": [
          258.53846153846155,
          67.53846153846153,
          1.2222222222222223,
          1.25,
          29,
          937.54,
          2862.08,
          6728.529411764706,
          12371.653846153846,
          10469.865384615385,
          4639.115384615385,
          2436.8076923076924,
          2017.5384615384614,
          1951.1538461538462,
          2422.2884615384614,
          3341.1346153846152,
          5877.923076923077,
          10705.288461538461,
          10216.634615384615,
          5104.942307692308,
          2512.8846153846152,
          1647.7692307692307,
          1180.1538461538462,
          699.3461538461538
         ],
         "yaxis": "y"
        },
        {
         "hovertemplate": "Day=Thursday<br>Station=POWL<br>Hour=%{x}<br>Trip Count=%{y}<extra></extra>",
         "legendgroup": "Thursday",
         "line": {
          "color": "#FFA15A",
          "dash": "solid"
         },
         "marker": {
          "symbol": "circle"
         },
         "mode": "lines",
         "name": "Thursday",
         "orientation": "v",
         "showlegend": false,
         "type": "scatter",
         "x": [
          0,
          1,
          2,
          3,
          4,
          5,
          6,
          7,
          8,
          9,
          10,
          11,
          12,
          13,
          14,
          15,
          16,
          17,
          18,
          19,
          20,
          21,
          22,
          23
         ],
         "xaxis": "x2",
         "y": [
          372.1923076923077,
          67.46153846153847,
          1.4545454545454546,
          1,
          14.394736842105264,
          589.22,
          1481.326923076923,
          2855.923076923077,
          4445.846153846154,
          4041.8846153846152,
          2497.153846153846,
          2110.653846153846,
          2102.923076923077,
          2205.673076923077,
          2470.9423076923076,
          2939.7115384615386,
          4187.576923076923,
          5962.096153846154,
          5994.788461538462,
          3647.4615384615386,
          2333.0576923076924,
          1932.1923076923076,
          1567.4615384615386,
          1068.1923076923076
         ],
         "yaxis": "y2"
        },
        {
         "hovertemplate": "Day=Thursday<br>Station=EMBR<br>Hour=%{x}<br>Trip Count=%{y}<extra></extra>",
         "legendgroup": "Thursday",
         "line": {
          "color": "#FFA15A",
          "dash": "solid"
         },
         "marker": {
          "symbol": "circle"
         },
         "mode": "lines",
         "name": "Thursday",
         "orientation": "v",
         "showlegend": false,
         "type": "scatter",
         "x": [
          0,
          1,
          2,
          3,
          4,
          5,
          6,
          7,
          8,
          9,
          10,
          11,
          12,
          13,
          14,
          15,
          16,
          17,
          18,
          19,
          20,
          21,
          22,
          23
         ],
         "xaxis": "x3",
         "y": [
          271.63461538461536,
          56.71153846153846,
          1.5384615384615385,
          2,
          30.26530612244898,
          1203.84,
          3580.3333333333335,
          7575,
          12891.038461538461,
          9979.403846153846,
          4187.557692307692,
          2306.019230769231,
          1929.0576923076924,
          1938.9615384615386,
          2573.1923076923076,
          3583.153846153846,
          6558.75,
          10715.711538461539,
          9417.942307692309,
          4593.288461538462,
          2268.173076923077,
          1492.3461538461538,
          1267.5384615384614,
          845.5576923076923
         ],
         "yaxis": "y3"
        },
        {
         "hovertemplate": "Day=Thursday<br>Station=CIVC<br>Hour=%{x}<br>Trip Count=%{y}<extra></extra>",
         "legendgroup": "Thursday",
         "line": {
          "color": "#FFA15A",
          "dash": "solid"
         },
         "marker": {
          "symbol": "circle"
         },
         "mode": "lines",
         "name": "Thursday",
         "orientation": "v",
         "showlegend": false,
         "type": "scatter",
         "x": [
          0,
          1,
          2,
          3,
          4,
          5,
          6,
          7,
          8,
          9,
          10,
          11,
          12,
          13,
          14,
          15,
          16,
          17,
          18,
          19,
          20,
          21,
          22,
          23
         ],
         "xaxis": "x4",
         "y": [
          230.21153846153845,
          30.826923076923077,
          1.6666666666666667,
          1,
          8.204545454545455,
          456.28846153846155,
          1806.42,
          3956.3846153846152,
          5605.057692307692,
          4151.384615384615,
          1973.7884615384614,
          1336.4807692307693,
          1352.0961538461538,
          1319.173076923077,
          1475.9423076923076,
          2102.75,
          3641.480769230769,
          6228.673076923077,
          5408.326923076923,
          2627.423076923077,
          1368.7307692307693,
          956.1153846153846,
          1091.826923076923,
          693.0961538461538
         ],
         "yaxis": "y4"
        },
        {
         "hovertemplate": "Day=Tuesday<br>Station=MONT<br>Hour=%{x}<br>Trip Count=%{y}<extra></extra>",
         "legendgroup": "Tuesday",
         "line": {
          "color": "#19d3f3",
          "dash": "solid"
         },
         "marker": {
          "symbol": "circle"
         },
         "mode": "lines",
         "name": "Tuesday",
         "orientation": "v",
         "showlegend": true,
         "type": "scatter",
         "x": [
          0,
          1,
          2,
          3,
          4,
          5,
          6,
          7,
          8,
          9,
          10,
          11,
          12,
          13,
          14,
          15,
          16,
          17,
          18,
          19,
          20,
          21,
          22,
          23
         ],
         "xaxis": "x",
         "y": [
          211.22641509433961,
          116.26415094339623,
          276.1666666666667,
          67.71428571428571,
          25,
          930.3584905660377,
          2933.403846153846,
          6811.377358490566,
          12801.490566037735,
          10822.188679245282,
          4575.056603773585,
          2296.3207547169814,
          1874.301886792453,
          1833.566037735849,
          2341.6415094339623,
          3320.056603773585,
          5744.301886792453,
          10937.207547169812,
          10752.075471698114,
          5289.905660377359,
          2401.735849056604,
          1401.1132075471698,
          1062.2075471698113,
          641.8679245283018
         ],
         "yaxis": "y"
        },
        {
         "hovertemplate": "Day=Tuesday<br>Station=POWL<br>Hour=%{x}<br>Trip Count=%{y}<extra></extra>",
         "legendgroup": "Tuesday",
         "line": {
          "color": "#19d3f3",
          "dash": "solid"
         },
         "marker": {
          "symbol": "circle"
         },
         "mode": "lines",
         "name": "Tuesday",
         "orientation": "v",
         "showlegend": false,
         "type": "scatter",
         "x": [
          0,
          1,
          2,
          3,
          4,
          5,
          6,
          7,
          8,
          9,
          10,
          11,
          12,
          13,
          14,
          15,
          16,
          17,
          18,
          19,
          20,
          21,
          22,
          23
         ],
         "xaxis": "x2",
         "y": [
          317.92452830188677,
          74.16981132075472,
          124.66666666666667,
          39.357142857142854,
          13.3,
          593.1509433962265,
          1576.6923076923076,
          2892.622641509434,
          4570.735849056604,
          4119.415094339623,
          2425.2264150943397,
          1967.9622641509434,
          1941.867924528302,
          2109.5471698113206,
          2367.5849056603774,
          2909.1132075471696,
          4028.5283018867926,
          5829.679245283019,
          6008.66037735849,
          3637.622641509434,
          2208.3207547169814,
          1711.132075471698,
          1364.301886792453,
          897.6792452830189
         ],
         "yaxis": "y2"
        },
        {
         "hovertemplate": "Day=Tuesday<br>Station=EMBR<br>Hour=%{x}<br>Trip Count=%{y}<extra></extra>",
         "legendgroup": "Tuesday",
         "line": {
          "color": "#19d3f3",
          "dash": "solid"
         },
         "marker": {
          "symbol": "circle"
         },
         "mode": "lines",
         "name": "Tuesday",
         "orientation": "v",
         "showlegend": false,
         "type": "scatter",
         "x": [
          0,
          1,
          2,
          3,
          4,
          5,
          6,
          7,
          8,
          9,
          10,
          11,
          12,
          13,
          14,
          15,
          16,
          17,
          18,
          19,
          20,
          21,
          22,
          23
         ],
         "xaxis": "x3",
         "y": [
          221.47169811320754,
          122.43396226415095,
          185.8,
          19.681818181818183,
          28.020408163265305,
          1210.6538461538462,
          3759.673076923077,
          7937.679245283019,
          13524.811320754718,
          10586.943396226416,
          4203.830188679245,
          2133.7169811320755,
          1759.9811320754718,
          1850.4905660377358,
          2445.811320754717,
          3543.7169811320755,
          6440.66037735849,
          11023.11320754717,
          10031.169811320755,
          4812.320754716981,
          2169.9622641509436,
          1315.7735849056603,
          1117.5471698113208,
          694.6603773584906
         ],
         "yaxis": "y3"
        },
        {
         "hovertemplate": "Day=Tuesday<br>Station=CIVC<br>Hour=%{x}<br>Trip Count=%{y}<extra></extra>",
         "legendgroup": "Tuesday",
         "line": {
          "color": "#19d3f3",
          "dash": "solid"
         },
         "marker": {
          "symbol": "circle"
         },
         "mode": "lines",
         "name": "Tuesday",
         "orientation": "v",
         "showlegend": false,
         "type": "scatter",
         "x": [
          0,
          1,
          2,
          3,
          4,
          5,
          6,
          7,
          8,
          9,
          10,
          11,
          12,
          13,
          14,
          15,
          16,
          17,
          18,
          19,
          20,
          21,
          22,
          23
         ],
         "xaxis": "x4",
         "y": [
          184.49056603773585,
          37.81132075471698,
          169,
          44.07142857142857,
          8.51063829787234,
          476.0576923076923,
          1836.8461538461538,
          4105.264150943396,
          5783.490566037736,
          4302.490566037736,
          1946.2075471698113,
          1272.9245283018868,
          1233.7358490566037,
          1247.5471698113208,
          1398.811320754717,
          2097.566037735849,
          3588.433962264151,
          6301.056603773585,
          5588.679245283019,
          2657.245283018868,
          1317.9245283018868,
          849.6037735849056,
          907.377358490566,
          598.1509433962265
         ],
         "yaxis": "y4"
        },
        {
         "hovertemplate": "Day=Wednesday<br>Station=MONT<br>Hour=%{x}<br>Trip Count=%{y}<extra></extra>",
         "legendgroup": "Wednesday",
         "line": {
          "color": "#FF6692",
          "dash": "solid"
         },
         "marker": {
          "symbol": "circle"
         },
         "mode": "lines",
         "name": "Wednesday",
         "orientation": "v",
         "showlegend": true,
         "type": "scatter",
         "x": [
          0,
          1,
          2,
          3,
          4,
          5,
          6,
          7,
          8,
          9,
          10,
          11,
          12,
          13,
          14,
          15,
          16,
          17,
          18,
          19,
          20,
          21,
          22,
          23
         ],
         "xaxis": "x",
         "y": [
          250.94230769230768,
          67.48076923076923,
          1.2,
          1.25,
          25.0625,
          953.8039215686274,
          2932.529411764706,
          6871.117647058823,
          12719.711538461539,
          10618.423076923076,
          4534.403846153846,
          2391.2884615384614,
          2004.1923076923076,
          1922.326923076923,
          2410.326923076923,
          3412.9423076923076,
          5860.307692307692,
          10942.711538461539,
          10348.942307692309,
          5256.423076923077,
          2454.173076923077,
          1499.1153846153845,
          1056.4807692307693,
          640.4807692307693
         ],
         "yaxis": "y"
        },
        {
         "hovertemplate": "Day=Wednesday<br>Station=POWL<br>Hour=%{x}<br>Trip Count=%{y}<extra></extra>",
         "legendgroup": "Wednesday",
         "line": {
          "color": "#FF6692",
          "dash": "solid"
         },
         "marker": {
          "symbol": "circle"
         },
         "mode": "lines",
         "name": "Wednesday",
         "orientation": "v",
         "showlegend": false,
         "type": "scatter",
         "x": [
          0,
          1,
          2,
          3,
          4,
          5,
          6,
          7,
          8,
          9,
          10,
          11,
          12,
          13,
          14,
          15,
          16,
          17,
          18,
          19,
          20,
          21,
          22,
          23
         ],
         "xaxis": "x2",
         "y": [
          368.9230769230769,
          67.96153846153847,
          1.25,
          1.2222222222222223,
          14.942857142857143,
          615.0588235294117,
          1544.6470588235295,
          2896.9615384615386,
          4553.403846153846,
          4032.3076923076924,
          2449.75,
          2047.1923076923076,
          2031.1923076923076,
          2167.2884615384614,
          2372.769230769231,
          2960.3653846153848,
          4155.076923076923,
          5993.211538461538,
          5899.461538461538,
          3668.2115384615386,
          2254.596153846154,
          1761.8846153846155,
          1408.1346153846155,
          990.9230769230769
         ],
         "yaxis": "y2"
        },
        {
         "hovertemplate": "Day=Wednesday<br>Station=EMBR<br>Hour=%{x}<br>Trip Count=%{y}<extra></extra>",
         "legendgroup": "Wednesday",
         "line": {
          "color": "#FF6692",
          "dash": "solid"
         },
         "marker": {
          "symbol": "circle"
         },
         "mode": "lines",
         "name": "Wednesday",
         "orientation": "v",
         "showlegend": false,
         "type": "scatter",
         "x": [
          0,
          1,
          2,
          3,
          4,
          5,
          6,
          7,
          8,
          9,
          10,
          11,
          12,
          13,
          14,
          15,
          16,
          17,
          18,
          19,
          20,
          21,
          22,
          23
         ],
         "xaxis": "x3",
         "y": [
          260.11538461538464,
          55.15384615384615,
          2.8333333333333335,
          1.6,
          24.274509803921568,
          1212.549019607843,
          3762.6862745098038,
          7875.557692307692,
          13399.846153846154,
          10483.346153846154,
          4236.846153846154,
          2333.326923076923,
          1943.9807692307693,
          1906.673076923077,
          2477.5,
          3636.826923076923,
          6649.538461538462,
          11146.384615384615,
          9643.961538461539,
          4814.538461538462,
          2239.0576923076924,
          1363,
          1065.1923076923076,
          677.7692307692307
         ],
         "yaxis": "y3"
        },
        {
         "hovertemplate": "Day=Wednesday<br>Station=CIVC<br>Hour=%{x}<br>Trip Count=%{y}<extra></extra>",
         "legendgroup": "Wednesday",
         "line": {
          "color": "#FF6692",
          "dash": "solid"
         },
         "marker": {
          "symbol": "circle"
         },
         "mode": "lines",
         "name": "Wednesday",
         "orientation": "v",
         "showlegend": false,
         "type": "scatter",
         "x": [
          0,
          1,
          2,
          3,
          4,
          5,
          6,
          7,
          8,
          9,
          10,
          11,
          12,
          13,
          14,
          15,
          16,
          17,
          18,
          19,
          20,
          21,
          22,
          23
         ],
         "xaxis": "x4",
         "y": [
          229.42307692307693,
          28.807692307692307,
          1.7777777777777777,
          1.5,
          7.622222222222222,
          499.45098039215685,
          1840.137254901961,
          4150.211538461538,
          5787.903846153846,
          4318.134615384615,
          2049.1923076923076,
          1488.8846153846155,
          1559.9807692307693,
          1331.8846153846155,
          1486.8461538461538,
          2184.2884615384614,
          3900.480769230769,
          6469.7692307692305,
          5514.423076923077,
          2650.8846153846152,
          1357.9807692307693,
          902.9038461538462,
          991.9807692307693,
          612.6730769230769
         ],
         "yaxis": "y4"
        }
       ],
       "layout": {
        "annotations": [
         {
          "font": {},
          "showarrow": false,
          "text": "MONT",
          "x": 0.1175,
          "xanchor": "center",
          "xref": "paper",
          "y": 1,
          "yanchor": "bottom",
          "yref": "paper"
         },
         {
          "font": {},
          "showarrow": false,
          "text": "POWL",
          "x": 0.3725,
          "xanchor": "center",
          "xref": "paper",
          "y": 1,
          "yanchor": "bottom",
          "yref": "paper"
         },
         {
          "font": {},
          "showarrow": false,
          "text": "EMBR",
          "x": 0.6275,
          "xanchor": "center",
          "xref": "paper",
          "y": 1,
          "yanchor": "bottom",
          "yref": "paper"
         },
         {
          "font": {},
          "showarrow": false,
          "text": "CIVC",
          "x": 0.8824999999999998,
          "xanchor": "center",
          "xref": "paper",
          "y": 1,
          "yanchor": "bottom",
          "yref": "paper"
         }
        ],
        "height": 350,
        "legend": {
         "title": {
          "text": "Day"
         },
         "tracegroupgap": 0
        },
        "showlegend": false,
        "template": {
         "data": {
          "bar": [
           {
            "error_x": {
             "color": "#2a3f5f"
            },
            "error_y": {
             "color": "#2a3f5f"
            },
            "marker": {
             "line": {
              "color": "#E5ECF6",
              "width": 0.5
             },
             "pattern": {
              "fillmode": "overlay",
              "size": 10,
              "solidity": 0.2
             }
            },
            "type": "bar"
           }
          ],
          "barpolar": [
           {
            "marker": {
             "line": {
              "color": "#E5ECF6",
              "width": 0.5
             },
             "pattern": {
              "fillmode": "overlay",
              "size": 10,
              "solidity": 0.2
             }
            },
            "type": "barpolar"
           }
          ],
          "carpet": [
           {
            "aaxis": {
             "endlinecolor": "#2a3f5f",
             "gridcolor": "white",
             "linecolor": "white",
             "minorgridcolor": "white",
             "startlinecolor": "#2a3f5f"
            },
            "baxis": {
             "endlinecolor": "#2a3f5f",
             "gridcolor": "white",
             "linecolor": "white",
             "minorgridcolor": "white",
             "startlinecolor": "#2a3f5f"
            },
            "type": "carpet"
           }
          ],
          "choropleth": [
           {
            "colorbar": {
             "outlinewidth": 0,
             "ticks": ""
            },
            "type": "choropleth"
           }
          ],
          "contour": [
           {
            "colorbar": {
             "outlinewidth": 0,
             "ticks": ""
            },
            "colorscale": [
             [
              0,
              "#0d0887"
             ],
             [
              0.1111111111111111,
              "#46039f"
             ],
             [
              0.2222222222222222,
              "#7201a8"
             ],
             [
              0.3333333333333333,
              "#9c179e"
             ],
             [
              0.4444444444444444,
              "#bd3786"
             ],
             [
              0.5555555555555556,
              "#d8576b"
             ],
             [
              0.6666666666666666,
              "#ed7953"
             ],
             [
              0.7777777777777778,
              "#fb9f3a"
             ],
             [
              0.8888888888888888,
              "#fdca26"
             ],
             [
              1,
              "#f0f921"
             ]
            ],
            "type": "contour"
           }
          ],
          "contourcarpet": [
           {
            "colorbar": {
             "outlinewidth": 0,
             "ticks": ""
            },
            "type": "contourcarpet"
           }
          ],
          "heatmap": [
           {
            "colorbar": {
             "outlinewidth": 0,
             "ticks": ""
            },
            "colorscale": [
             [
              0,
              "#0d0887"
             ],
             [
              0.1111111111111111,
              "#46039f"
             ],
             [
              0.2222222222222222,
              "#7201a8"
             ],
             [
              0.3333333333333333,
              "#9c179e"
             ],
             [
              0.4444444444444444,
              "#bd3786"
             ],
             [
              0.5555555555555556,
              "#d8576b"
             ],
             [
              0.6666666666666666,
              "#ed7953"
             ],
             [
              0.7777777777777778,
              "#fb9f3a"
             ],
             [
              0.8888888888888888,
              "#fdca26"
             ],
             [
              1,
              "#f0f921"
             ]
            ],
            "type": "heatmap"
           }
          ],
          "heatmapgl": [
           {
            "colorbar": {
             "outlinewidth": 0,
             "ticks": ""
            },
            "colorscale": [
             [
              0,
              "#0d0887"
             ],
             [
              0.1111111111111111,
              "#46039f"
             ],
             [
              0.2222222222222222,
              "#7201a8"
             ],
             [
              0.3333333333333333,
              "#9c179e"
             ],
             [
              0.4444444444444444,
              "#bd3786"
             ],
             [
              0.5555555555555556,
              "#d8576b"
             ],
             [
              0.6666666666666666,
              "#ed7953"
             ],
             [
              0.7777777777777778,
              "#fb9f3a"
             ],
             [
              0.8888888888888888,
              "#fdca26"
             ],
             [
              1,
              "#f0f921"
             ]
            ],
            "type": "heatmapgl"
           }
          ],
          "histogram": [
           {
            "marker": {
             "pattern": {
              "fillmode": "overlay",
              "size": 10,
              "solidity": 0.2
             }
            },
            "type": "histogram"
           }
          ],
          "histogram2d": [
           {
            "colorbar": {
             "outlinewidth": 0,
             "ticks": ""
            },
            "colorscale": [
             [
              0,
              "#0d0887"
             ],
             [
              0.1111111111111111,
              "#46039f"
             ],
             [
              0.2222222222222222,
              "#7201a8"
             ],
             [
              0.3333333333333333,
              "#9c179e"
             ],
             [
              0.4444444444444444,
              "#bd3786"
             ],
             [
              0.5555555555555556,
              "#d8576b"
             ],
             [
              0.6666666666666666,
              "#ed7953"
             ],
             [
              0.7777777777777778,
              "#fb9f3a"
             ],
             [
              0.8888888888888888,
              "#fdca26"
             ],
             [
              1,
              "#f0f921"
             ]
            ],
            "type": "histogram2d"
           }
          ],
          "histogram2dcontour": [
           {
            "colorbar": {
             "outlinewidth": 0,
             "ticks": ""
            },
            "colorscale": [
             [
              0,
              "#0d0887"
             ],
             [
              0.1111111111111111,
              "#46039f"
             ],
             [
              0.2222222222222222,
              "#7201a8"
             ],
             [
              0.3333333333333333,
              "#9c179e"
             ],
             [
              0.4444444444444444,
              "#bd3786"
             ],
             [
              0.5555555555555556,
              "#d8576b"
             ],
             [
              0.6666666666666666,
              "#ed7953"
             ],
             [
              0.7777777777777778,
              "#fb9f3a"
             ],
             [
              0.8888888888888888,
              "#fdca26"
             ],
             [
              1,
              "#f0f921"
             ]
            ],
            "type": "histogram2dcontour"
           }
          ],
          "mesh3d": [
           {
            "colorbar": {
             "outlinewidth": 0,
             "ticks": ""
            },
            "type": "mesh3d"
           }
          ],
          "parcoords": [
           {
            "line": {
             "colorbar": {
              "outlinewidth": 0,
              "ticks": ""
             }
            },
            "type": "parcoords"
           }
          ],
          "pie": [
           {
            "automargin": true,
            "type": "pie"
           }
          ],
          "scatter": [
           {
            "fillpattern": {
             "fillmode": "overlay",
             "size": 10,
             "solidity": 0.2
            },
            "type": "scatter"
           }
          ],
          "scatter3d": [
           {
            "line": {
             "colorbar": {
              "outlinewidth": 0,
              "ticks": ""
             }
            },
            "marker": {
             "colorbar": {
              "outlinewidth": 0,
              "ticks": ""
             }
            },
            "type": "scatter3d"
           }
          ],
          "scattercarpet": [
           {
            "marker": {
             "colorbar": {
              "outlinewidth": 0,
              "ticks": ""
             }
            },
            "type": "scattercarpet"
           }
          ],
          "scattergeo": [
           {
            "marker": {
             "colorbar": {
              "outlinewidth": 0,
              "ticks": ""
             }
            },
            "type": "scattergeo"
           }
          ],
          "scattergl": [
           {
            "marker": {
             "colorbar": {
              "outlinewidth": 0,
              "ticks": ""
             }
            },
            "type": "scattergl"
           }
          ],
          "scattermapbox": [
           {
            "marker": {
             "colorbar": {
              "outlinewidth": 0,
              "ticks": ""
             }
            },
            "type": "scattermapbox"
           }
          ],
          "scatterpolar": [
           {
            "marker": {
             "colorbar": {
              "outlinewidth": 0,
              "ticks": ""
             }
            },
            "type": "scatterpolar"
           }
          ],
          "scatterpolargl": [
           {
            "marker": {
             "colorbar": {
              "outlinewidth": 0,
              "ticks": ""
             }
            },
            "type": "scatterpolargl"
           }
          ],
          "scatterternary": [
           {
            "marker": {
             "colorbar": {
              "outlinewidth": 0,
              "ticks": ""
             }
            },
            "type": "scatterternary"
           }
          ],
          "surface": [
           {
            "colorbar": {
             "outlinewidth": 0,
             "ticks": ""
            },
            "colorscale": [
             [
              0,
              "#0d0887"
             ],
             [
              0.1111111111111111,
              "#46039f"
             ],
             [
              0.2222222222222222,
              "#7201a8"
             ],
             [
              0.3333333333333333,
              "#9c179e"
             ],
             [
              0.4444444444444444,
              "#bd3786"
             ],
             [
              0.5555555555555556,
              "#d8576b"
             ],
             [
              0.6666666666666666,
              "#ed7953"
             ],
             [
              0.7777777777777778,
              "#fb9f3a"
             ],
             [
              0.8888888888888888,
              "#fdca26"
             ],
             [
              1,
              "#f0f921"
             ]
            ],
            "type": "surface"
           }
          ],
          "table": [
           {
            "cells": {
             "fill": {
              "color": "#EBF0F8"
             },
             "line": {
              "color": "white"
             }
            },
            "header": {
             "fill": {
              "color": "#C8D4E3"
             },
             "line": {
              "color": "white"
             }
            },
            "type": "table"
           }
          ]
         },
         "layout": {
          "annotationdefaults": {
           "arrowcolor": "#2a3f5f",
           "arrowhead": 0,
           "arrowwidth": 1
          },
          "autotypenumbers": "strict",
          "coloraxis": {
           "colorbar": {
            "outlinewidth": 0,
            "ticks": ""
           }
          },
          "colorscale": {
           "diverging": [
            [
             0,
             "#8e0152"
            ],
            [
             0.1,
             "#c51b7d"
            ],
            [
             0.2,
             "#de77ae"
            ],
            [
             0.3,
             "#f1b6da"
            ],
            [
             0.4,
             "#fde0ef"
            ],
            [
             0.5,
             "#f7f7f7"
            ],
            [
             0.6,
             "#e6f5d0"
            ],
            [
             0.7,
             "#b8e186"
            ],
            [
             0.8,
             "#7fbc41"
            ],
            [
             0.9,
             "#4d9221"
            ],
            [
             1,
             "#276419"
            ]
           ],
           "sequential": [
            [
             0,
             "#0d0887"
            ],
            [
             0.1111111111111111,
             "#46039f"
            ],
            [
             0.2222222222222222,
             "#7201a8"
            ],
            [
             0.3333333333333333,
             "#9c179e"
            ],
            [
             0.4444444444444444,
             "#bd3786"
            ],
            [
             0.5555555555555556,
             "#d8576b"
            ],
            [
             0.6666666666666666,
             "#ed7953"
            ],
            [
             0.7777777777777778,
             "#fb9f3a"
            ],
            [
             0.8888888888888888,
             "#fdca26"
            ],
            [
             1,
             "#f0f921"
            ]
           ],
           "sequentialminus": [
            [
             0,
             "#0d0887"
            ],
            [
             0.1111111111111111,
             "#46039f"
            ],
            [
             0.2222222222222222,
             "#7201a8"
            ],
            [
             0.3333333333333333,
             "#9c179e"
            ],
            [
             0.4444444444444444,
             "#bd3786"
            ],
            [
             0.5555555555555556,
             "#d8576b"
            ],
            [
             0.6666666666666666,
             "#ed7953"
            ],
            [
             0.7777777777777778,
             "#fb9f3a"
            ],
            [
             0.8888888888888888,
             "#fdca26"
            ],
            [
             1,
             "#f0f921"
            ]
           ]
          },
          "colorway": [
           "#636efa",
           "#EF553B",
           "#00cc96",
           "#ab63fa",
           "#FFA15A",
           "#19d3f3",
           "#FF6692",
           "#B6E880",
           "#FF97FF",
           "#FECB52"
          ],
          "font": {
           "color": "#2a3f5f"
          },
          "geo": {
           "bgcolor": "white",
           "lakecolor": "white",
           "landcolor": "#E5ECF6",
           "showlakes": true,
           "showland": true,
           "subunitcolor": "white"
          },
          "hoverlabel": {
           "align": "left"
          },
          "hovermode": "closest",
          "mapbox": {
           "style": "light"
          },
          "paper_bgcolor": "white",
          "plot_bgcolor": "#E5ECF6",
          "polar": {
           "angularaxis": {
            "gridcolor": "white",
            "linecolor": "white",
            "ticks": ""
           },
           "bgcolor": "#E5ECF6",
           "radialaxis": {
            "gridcolor": "white",
            "linecolor": "white",
            "ticks": ""
           }
          },
          "scene": {
           "xaxis": {
            "backgroundcolor": "#E5ECF6",
            "gridcolor": "white",
            "gridwidth": 2,
            "linecolor": "white",
            "showbackground": true,
            "ticks": "",
            "zerolinecolor": "white"
           },
           "yaxis": {
            "backgroundcolor": "#E5ECF6",
            "gridcolor": "white",
            "gridwidth": 2,
            "linecolor": "white",
            "showbackground": true,
            "ticks": "",
            "zerolinecolor": "white"
           },
           "zaxis": {
            "backgroundcolor": "#E5ECF6",
            "gridcolor": "white",
            "gridwidth": 2,
            "linecolor": "white",
            "showbackground": true,
            "ticks": "",
            "zerolinecolor": "white"
           }
          },
          "shapedefaults": {
           "line": {
            "color": "#2a3f5f"
           }
          },
          "ternary": {
           "aaxis": {
            "gridcolor": "white",
            "linecolor": "white",
            "ticks": ""
           },
           "baxis": {
            "gridcolor": "white",
            "linecolor": "white",
            "ticks": ""
           },
           "bgcolor": "#E5ECF6",
           "caxis": {
            "gridcolor": "white",
            "linecolor": "white",
            "ticks": ""
           }
          },
          "title": {
           "x": 0.05
          },
          "xaxis": {
           "automargin": true,
           "gridcolor": "white",
           "linecolor": "white",
           "ticks": "",
           "title": {
            "standoff": 15
           },
           "zerolinecolor": "white",
           "zerolinewidth": 2
          },
          "yaxis": {
           "automargin": true,
           "gridcolor": "white",
           "linecolor": "white",
           "ticks": "",
           "title": {
            "standoff": 15
           },
           "zerolinecolor": "white",
           "zerolinewidth": 2
          }
         }
        },
        "title": {
         "text": "2019 SF Downtown Hourly Ridership"
        },
        "width": 900,
        "xaxis": {
         "anchor": "y",
         "autorange": true,
         "domain": [
          0,
          0.235
         ],
         "range": [
          0,
          23
         ],
         "title": {
          "text": "Hour"
         },
         "type": "linear"
        },
        "xaxis2": {
         "anchor": "y2",
         "autorange": true,
         "domain": [
          0.255,
          0.49
         ],
         "matches": "x",
         "range": [
          0,
          23
         ],
         "title": {
          "text": "Hour"
         },
         "type": "linear"
        },
        "xaxis3": {
         "anchor": "y3",
         "autorange": true,
         "domain": [
          0.51,
          0.745
         ],
         "matches": "x",
         "range": [
          0,
          23
         ],
         "title": {
          "text": "Hour"
         },
         "type": "linear"
        },
        "xaxis4": {
         "anchor": "y4",
         "autorange": true,
         "domain": [
          0.7649999999999999,
          0.9999999999999999
         ],
         "matches": "x",
         "range": [
          0,
          23
         ],
         "title": {
          "text": "Hour"
         },
         "type": "linear"
        },
        "yaxis": {
         "anchor": "x",
         "autorange": true,
         "domain": [
          0,
          1
         ],
         "range": [
          -750.3228511530399,
          14276.134171907757
         ],
         "title": {
          "text": "Trip Count"
         },
         "type": "linear"
        },
        "yaxis2": {
         "anchor": "x2",
         "autorange": true,
         "domain": [
          0,
          1
         ],
         "matches": "y",
         "range": [
          -750.3228511530399,
          14276.134171907757
         ],
         "showticklabels": false,
         "type": "linear"
        },
        "yaxis3": {
         "anchor": "x3",
         "autorange": true,
         "domain": [
          0,
          1
         ],
         "matches": "y",
         "range": [
          -750.3228511530399,
          14276.134171907757
         ],
         "showticklabels": false,
         "type": "linear"
        },
        "yaxis4": {
         "anchor": "x4",
         "autorange": true,
         "domain": [
          0,
          1
         ],
         "matches": "y",
         "range": [
          -750.3228511530399,
          14276.134171907757
         ],
         "showticklabels": false,
         "type": "linear"
        }
       }
      },
      "image/png": "[encoded data removed]",
      "text/html": [
       "<div>                            <div id=\"df57d7ef-bfa7-4a91-8104-de8958507e18\" class=\"plotly-graph-div\" style=\"height:350px; width:900px;\"></div>            <script type=\"text/javascript\">                require([\"plotly\"], function(Plotly) {                    window.PLOTLYENV=window.PLOTLYENV || {};                                    if (document.getElementById(\"df57d7ef-bfa7-4a91-8104-de8958507e18\")) {                    Plotly.newPlot(                        \"df57d7ef-bfa7-4a91-8104-de8958507e18\",                        [{\"hovertemplate\":\"Day=Friday\\u003cbr\\u003eStation=MONT\\u003cbr\\u003eHour=%{x}\\u003cbr\\u003eTrip Count=%{y}\\u003cextra\\u003e\\u003c\\u002fextra\\u003e\",\"legendgroup\":\"Friday\",\"line\":{\"color\":\"#636efa\",\"dash\":\"solid\"},\"marker\":{\"symbol\":\"circle\"},\"mode\":\"lines\",\"name\":\"Friday\",\"orientation\":\"v\",\"showlegend\":true,\"x\":[0,1,2,3,4,5,6,7,8,9,10,11,12,13,14,15,16,17,18,19,20,21,22,23],\"xaxis\":\"x\",\"y\":[309.8269230769231,75.25,2.142857142857143,1.1666666666666667,29.464285714285715,844.0,2411.7115384615386,5565.403846153846,10466.134615384615,8862.326923076924,4112.211538461538,2324.8076923076924,2114.6346153846152,2188.2115384615386,2739.346153846154,3688.846153846154,5830.634615384615,9107.615384615385,7827.038461538462,3750.519230769231,1778.2307692307693,1124.2884615384614,1030.3653846153845,817.7115384615385],\"yaxis\":\"y\",\"type\":\"scatter\"},{\"hovertemplate\":\"Day=Friday\\u003cbr\\u003eStation=POWL\\u003cbr\\u003eHour=%{x}\\u003cbr\\u003eTrip Count=%{y}\\u003cextra\\u003e\\u003c\\u002fextra\\u003e\",\"legendgroup\":\"Friday\",\"line\":{\"color\":\"#636efa\",\"dash\":\"solid\"},\"marker\":{\"symbol\":\"circle\"},\"mode\":\"lines\",\"name\":\"Friday\",\"orientation\":\"v\",\"showlegend\":false,\"x\":[0,1,2,3,4,5,6,7,8,9,10,11,12,13,14,15,16,17,18,19,20,21,22,23],\"xaxis\":\"x2\",\"y\":[436.28846153846155,78.63461538461539,3.5,1.1666666666666667,13.0,529.1346153846154,1372.173076923077,2637.826923076923,4000.7115384615386,3739.173076923077,2563.1923076923076,2310.3653846153848,2373.673076923077,2512.1923076923076,2867.1153846153848,3469.096153846154,4634.461538461538,5964.7692307692305,5726.115384615385,3768.9615384615386,2353.9423076923076,1877.673076923077,1666.7115384615386,1322.7307692307693],\"yaxis\":\"y2\",\"type\":\"scatter\"},{\"hovertemplate\":\"Day=Friday\\u003cbr\\u003eStation=EMBR\\u003cbr\\u003eHour=%{x}\\u003cbr\\u003eTrip Count=%{y}\\u003cextra\\u003e\\u003c\\u002fextra\\u003e\",\"legendgroup\":\"Friday\",\"line\":{\"color\":\"#636efa\",\"dash\":\"solid\"},\"marker\":{\"symbol\":\"circle\"},\"mode\":\"lines\",\"name\":\"Friday\",\"orientation\":\"v\",\"showlegend\":false,\"x\":[0,1,2,3,4,5,6,7,8,9,10,11,12,13,14,15,16,17,18,19,20,21,22,23],\"xaxis\":\"x3\",\"y\":[329.46153846153845,67.11538461538461,2.5714285714285716,1.7777777777777777,25.826923076923077,1078.5384615384614,3048.8846153846152,6383.2307692307695,10780.26923076923,8437.903846153846,3822.076923076923,2334.826923076923,2143.0384615384614,2305.480769230769,3039.096153846154,4044.230769230769,6517.9807692307695,9266.865384615385,7419.807692307692,3530.0576923076924,1708.076923076923,1103.423076923077,1052.8076923076924,972.5769230769231],\"yaxis\":\"y3\",\"type\":\"scatter\"},{\"hovertemplate\":\"Day=Friday\\u003cbr\\u003eStation=CIVC\\u003cbr\\u003eHour=%{x}\\u003cbr\\u003eTrip Count=%{y}\\u003cextra\\u003e\\u003c\\u002fextra\\u003e\",\"legendgroup\":\"Friday\",\"line\":{\"color\":\"#636efa\",\"dash\":\"solid\"},\"marker\":{\"symbol\":\"circle\"},\"mode\":\"lines\",\"name\":\"Friday\",\"orientation\":\"v\",\"showlegend\":false,\"x\":[0,1,2,3,4,5,6,7,8,9,10,11,12,13,14,15,16,17,18,19,20,21,22,23],\"xaxis\":\"x4\",\"y\":[282.28846153846155,38.67307692307692,2.0,2.1,8.97872340425532,420.90384615384613,1547.7115384615386,3431.3076923076924,4929.538461538462,3724.8076923076924,1905.5961538461538,1355.8461538461538,1389.7307692307693,1462.3846153846155,1656.423076923077,2223.25,3607.019230769231,5645.7307692307695,4674.384615384615,2372.3076923076924,1222.4423076923076,865.4038461538462,1165.5961538461538,917.4038461538462],\"yaxis\":\"y4\",\"type\":\"scatter\"},{\"hovertemplate\":\"Day=Monday\\u003cbr\\u003eStation=MONT\\u003cbr\\u003eHour=%{x}\\u003cbr\\u003eTrip Count=%{y}\\u003cextra\\u003e\\u003c\\u002fextra\\u003e\",\"legendgroup\":\"Monday\",\"line\":{\"color\":\"#EF553B\",\"dash\":\"solid\"},\"marker\":{\"symbol\":\"circle\"},\"mode\":\"lines\",\"name\":\"Monday\",\"orientation\":\"v\",\"showlegend\":true,\"x\":[0,1,2,3,4,5,6,7,8,9,10,11,12,13,14,15,16,17,18,19,20,21,22,23],\"xaxis\":\"x\",\"y\":[107.63461538461539,16.51923076923077,1.2857142857142858,1.0,21.833333333333332,858.86,2635.470588235294,6344.392156862745,12109.788461538461,10115.211538461539,4261.846153846154,2102.576923076923,1728.9038461538462,1679.4423076923076,2117.0,3003.826923076923,5377.057692307692,10524.5,10177.846153846154,4748.442307692308,1957.9615384615386,1087.7884615384614,776.9230769230769,517.8076923076923],\"yaxis\":\"y\",\"type\":\"scatter\"},{\"hovertemplate\":\"Day=Monday\\u003cbr\\u003eStation=POWL\\u003cbr\\u003eHour=%{x}\\u003cbr\\u003eTrip Count=%{y}\\u003cextra\\u003e\\u003c\\u002fextra\\u003e\",\"legendgroup\":\"Monday\",\"line\":{\"color\":\"#EF553B\",\"dash\":\"solid\"},\"marker\":{\"symbol\":\"circle\"},\"mode\":\"lines\",\"name\":\"Monday\",\"orientation\":\"v\",\"showlegend\":false,\"x\":[0,1,2,3,4,5,6,7,8,9,10,11,12,13,14,15,16,17,18,19,20,21,22,23],\"xaxis\":\"x2\",\"y\":[259.34615384615387,35.90384615384615,2.0,1.0,9.926829268292684,518.26,1347.5,2567.5576923076924,4137.7307692307695,3750.730769230769,2283.6923076923076,1918.9615384615386,1936.8076923076924,2044.1153846153845,2290.0576923076924,2784.3653846153848,3775.2115384615386,5506.153846153846,5521.711538461538,3292.596153846154,1966.1153846153845,1496.5,1065.076923076923,755.4807692307693],\"yaxis\":\"y2\",\"type\":\"scatter\"},{\"hovertemplate\":\"Day=Monday\\u003cbr\\u003eStation=EMBR\\u003cbr\\u003eHour=%{x}\\u003cbr\\u003eTrip Count=%{y}\\u003cextra\\u003e\\u003c\\u002fextra\\u003e\",\"legendgroup\":\"Monday\",\"line\":{\"color\":\"#EF553B\",\"dash\":\"solid\"},\"marker\":{\"symbol\":\"circle\"},\"mode\":\"lines\",\"name\":\"Monday\",\"orientation\":\"v\",\"showlegend\":false,\"x\":[0,1,2,3,4,5,6,7,8,9,10,11,12,13,14,15,16,17,18,19,20,21,22,23],\"xaxis\":\"x3\",\"y\":[152.19230769230768,21.365384615384617,2.588235294117647,1.7142857142857142,21.4375,1089.7,3442.54,7406.313725490196,12593.057692307691,9974.653846153846,3931.5576923076924,2027.423076923077,1693.5192307692307,1662.5576923076924,2168.6153846153848,3217.5,6087.923076923077,10692.384615384615,9455.903846153846,4302.711538461538,1832.7307692307693,1083.923076923077,847.0576923076923,586.9230769230769],\"yaxis\":\"y3\",\"type\":\"scatter\"},{\"hovertemplate\":\"Day=Monday\\u003cbr\\u003eStation=CIVC\\u003cbr\\u003eHour=%{x}\\u003cbr\\u003eTrip Count=%{y}\\u003cextra\\u003e\\u003c\\u002fextra\\u003e\",\"legendgroup\":\"Monday\",\"line\":{\"color\":\"#EF553B\",\"dash\":\"solid\"},\"marker\":{\"symbol\":\"circle\"},\"mode\":\"lines\",\"name\":\"Monday\",\"orientation\":\"v\",\"showlegend\":false,\"x\":[0,1,2,3,4,5,6,7,8,9,10,11,12,13,14,15,16,17,18,19,20,21,22,23],\"xaxis\":\"x4\",\"y\":[155.8846153846154,19.692307692307693,1.6470588235294117,2.0,7.2682926829268295,411.1372549019608,1619.86,3660.5686274509803,5204.403846153846,3893.0,1788.923076923077,1163.3461538461538,1119.423076923077,1110.9615384615386,1232.173076923077,1843.326923076923,3167.2884615384614,5546.673076923077,4848.653846153846,2274.519230769231,1042.0961538461538,667.0961538461538,501.2692307692308,391.6730769230769],\"yaxis\":\"y4\",\"type\":\"scatter\"},{\"hovertemplate\":\"Day=Saturday\\u003cbr\\u003eStation=MONT\\u003cbr\\u003eHour=%{x}\\u003cbr\\u003eTrip Count=%{y}\\u003cextra\\u003e\\u003c\\u002fextra\\u003e\",\"legendgroup\":\"Saturday\",\"line\":{\"color\":\"#00cc96\",\"dash\":\"solid\"},\"marker\":{\"symbol\":\"circle\"},\"mode\":\"lines\",\"name\":\"Saturday\",\"orientation\":\"v\",\"showlegend\":true,\"x\":[0,1,2,3,5,6,7,8,9,10,11,12,13,14,15,16,17,18,19,20,21,22,23],\"xaxis\":\"x\",\"y\":[445.09615384615387,105.71153846153847,2.8,1.0,1.8461538461538463,248.54901960784315,504.94117647058823,893.7450980392157,1086.4807692307693,1161.5576923076924,1231.8653846153845,1241.8076923076924,1223.0192307692307,1239.5384615384614,1298.3461538461538,1313.3461538461538,1467.6538461538462,1265.9038461538462,941.6346153846154,738.6538461538462,643.4615384615385,615.1153846153846,510.4230769230769],\"yaxis\":\"y\",\"type\":\"scatter\"},{\"hovertemplate\":\"Day=Saturday\\u003cbr\\u003eStation=POWL\\u003cbr\\u003eHour=%{x}\\u003cbr\\u003eTrip Count=%{y}\\u003cextra\\u003e\\u003c\\u002fextra\\u003e\",\"legendgroup\":\"Saturday\",\"line\":{\"color\":\"#00cc96\",\"dash\":\"solid\"},\"marker\":{\"symbol\":\"circle\"},\"mode\":\"lines\",\"name\":\"Saturday\",\"orientation\":\"v\",\"showlegend\":false,\"x\":[0,1,2,3,4,5,6,7,8,9,10,11,12,13,14,15,16,17,18,19,20,21,22,23],\"xaxis\":\"x2\",\"y\":[645.9038461538462,132.67307692307693,2.727272727272727,1.0,1.5,2.5853658536585367,424.6666666666667,857.8039215686274,1232.2745098039215,1589.4313725490197,1899.923076923077,2328.519230769231,2537.5384615384614,2772.6923076923076,2729.5384615384614,2909.576923076923,3162.8653846153848,3433.0,3055.7115384615386,2418.019230769231,1876.5192307692307,1660.1538461538462,1374.4807692307693,1152.5576923076924],\"yaxis\":\"y2\",\"type\":\"scatter\"},{\"hovertemplate\":\"Day=Saturday\\u003cbr\\u003eStation=EMBR\\u003cbr\\u003eHour=%{x}\\u003cbr\\u003eTrip Count=%{y}\\u003cextra\\u003e\\u003c\\u002fextra\\u003e\",\"legendgroup\":\"Saturday\",\"line\":{\"color\":\"#00cc96\",\"dash\":\"solid\"},\"marker\":{\"symbol\":\"circle\"},\"mode\":\"lines\",\"name\":\"Saturday\",\"orientation\":\"v\",\"showlegend\":false,\"x\":[0,1,2,3,4,5,6,7,8,9,10,11,12,13,14,15,16,17,18,19,20,21,22,23],\"xaxis\":\"x3\",\"y\":[447.7307692307692,101.86538461538461,2.5,2.3333333333333335,1.4,3.588235294117647,278.0,541.2941176470588,825.0392156862745,1118.2115384615386,1531.9807692307693,1799.3076923076924,1803.9038461538462,1675.4423076923076,1637.173076923077,1734.9038461538462,1903.3653846153845,1952.1923076923076,1663.3846153846155,1200.6153846153845,957.7115384615385,811.8846153846154,748.7884615384615,620.4807692307693],\"yaxis\":\"y3\",\"type\":\"scatter\"},{\"hovertemplate\":\"Day=Saturday\\u003cbr\\u003eStation=CIVC\\u003cbr\\u003eHour=%{x}\\u003cbr\\u003eTrip Count=%{y}\\u003cextra\\u003e\\u003c\\u002fextra\\u003e\",\"legendgroup\":\"Saturday\",\"line\":{\"color\":\"#00cc96\",\"dash\":\"solid\"},\"marker\":{\"symbol\":\"circle\"},\"mode\":\"lines\",\"name\":\"Saturday\",\"orientation\":\"v\",\"showlegend\":false,\"x\":[0,1,2,3,4,5,6,7,8,9,10,11,12,13,14,15,16,17,18,19,20,21,22,23],\"xaxis\":\"x4\",\"y\":[462.8269230769231,78.96153846153847,1.7692307692307692,1.5,1.5,2.953488372093023,168.19607843137254,364.37254901960785,598.7843137254902,753.0769230769231,905.1923076923077,1192.826923076923,1491.0192307692307,1350.3653846153845,1179.3653846153845,1202.5192307692307,1570.9038461538462,1654.3653846153845,1573.8461538461538,1160.3653846153845,799.2692307692307,660.4038461538462,915.1538461538462,785.7884615384615],\"yaxis\":\"y4\",\"type\":\"scatter\"},{\"hovertemplate\":\"Day=Sunday\\u003cbr\\u003eStation=MONT\\u003cbr\\u003eHour=%{x}\\u003cbr\\u003eTrip Count=%{y}\\u003cextra\\u003e\\u003c\\u002fextra\\u003e\",\"legendgroup\":\"Sunday\",\"line\":{\"color\":\"#ab63fa\",\"dash\":\"solid\"},\"marker\":{\"symbol\":\"circle\"},\"mode\":\"lines\",\"name\":\"Sunday\",\"orientation\":\"v\",\"showlegend\":true,\"x\":[0,1,2,6,7,8,9,10,11,12,13,14,15,16,17,18,19,20,21,22,23],\"xaxis\":\"x\",\"y\":[304.88461538461536,49.82692307692308,1.5454545454545454,35.5,11.5,401.90384615384613,664.2307692307693,809.8846153846154,876.3653846153846,871.3269230769231,803.9230769230769,766.8846153846154,738.2307692307693,750.1538461538462,887.3653846153846,786.75,595.7307692307693,478.8269230769231,378.84615384615387,318.0192307692308,235.51923076923077],\"yaxis\":\"y\",\"type\":\"scatter\"},{\"hovertemplate\":\"Day=Sunday\\u003cbr\\u003eStation=POWL\\u003cbr\\u003eHour=%{x}\\u003cbr\\u003eTrip Count=%{y}\\u003cextra\\u003e\\u003c\\u002fextra\\u003e\",\"legendgroup\":\"Sunday\",\"line\":{\"color\":\"#ab63fa\",\"dash\":\"solid\"},\"marker\":{\"symbol\":\"circle\"},\"mode\":\"lines\",\"name\":\"Sunday\",\"orientation\":\"v\",\"showlegend\":false,\"x\":[0,1,2,3,4,5,6,7,8,9,10,11,12,13,14,15,16,17,18,19,20,21,22,23],\"xaxis\":\"x2\",\"y\":[579.4230769230769,98.6923076923077,2.9,1.0,1.25,1.9090909090909092,5.409090909090909,9.311111111111112,746.0961538461538,1081.423076923077,1488.9615384615386,1750.7692307692307,1854.8076923076924,1908.5384615384614,1933.3846153846155,1924.0961538461538,2101.5384615384614,2347.519230769231,2126.2884615384614,1759.4038461538462,1356.1538461538462,965.9807692307693,747.2307692307693,574.9807692307693],\"yaxis\":\"y2\",\"type\":\"scatter\"},{\"hovertemplate\":\"Day=Sunday\\u003cbr\\u003eStation=EMBR\\u003cbr\\u003eHour=%{x}\\u003cbr\\u003eTrip Count=%{y}\\u003cextra\\u003e\\u003c\\u002fextra\\u003e\",\"legendgroup\":\"Sunday\",\"line\":{\"color\":\"#ab63fa\",\"dash\":\"solid\"},\"marker\":{\"symbol\":\"circle\"},\"mode\":\"lines\",\"name\":\"Sunday\",\"orientation\":\"v\",\"showlegend\":false,\"x\":[0,1,2,3,4,5,6,7,8,9,10,11,12,13,14,15,16,17,18,19,20,21,22,23],\"xaxis\":\"x3\",\"y\":[342.61538461538464,55.82692307692308,2.391304347826087,1.5,1.5,1.5,138.5,56.17307692307692,498.11538461538464,828.1538461538462,1176.423076923077,1475.9615384615386,1536.25,1298.3653846153845,1225.6923076923076,1192.5961538461538,1285.673076923077,1468.1923076923076,1252.5576923076924,855.4807692307693,695.7307692307693,517.1923076923077,386.0576923076923,284.7307692307692],\"yaxis\":\"y3\",\"type\":\"scatter\"},{\"hovertemplate\":\"Day=Sunday\\u003cbr\\u003eStation=CIVC\\u003cbr\\u003eHour=%{x}\\u003cbr\\u003eTrip Count=%{y}\\u003cextra\\u003e\\u003c\\u002fextra\\u003e\",\"legendgroup\":\"Sunday\",\"line\":{\"color\":\"#ab63fa\",\"dash\":\"solid\"},\"marker\":{\"symbol\":\"circle\"},\"mode\":\"lines\",\"name\":\"Sunday\",\"orientation\":\"v\",\"showlegend\":false,\"x\":[0,1,2,3,4,5,6,7,8,9,10,11,12,13,14,15,16,17,18,19,20,21,22,23],\"xaxis\":\"x4\",\"y\":[443.2307692307692,71.5,2.789473684210526,1.0,2.0,1.3333333333333333,5.5,6.511627906976744,287.03846153846155,561.2115384615385,749.0192307692307,949.5192307692307,1266.25,1100.826923076923,986.9038461538462,924.0769230769231,1157.4038461538462,1251.2692307692307,1074.0961538461538,751.7692307692307,552.2307692307693,471.2307692307692,433.0576923076923,327.38461538461536],\"yaxis\":\"y4\",\"type\":\"scatter\"},{\"hovertemplate\":\"Day=Thursday\\u003cbr\\u003eStation=MONT\\u003cbr\\u003eHour=%{x}\\u003cbr\\u003eTrip Count=%{y}\\u003cextra\\u003e\\u003c\\u002fextra\\u003e\",\"legendgroup\":\"Thursday\",\"line\":{\"color\":\"#FFA15A\",\"dash\":\"solid\"},\"marker\":{\"symbol\":\"circle\"},\"mode\":\"lines\",\"name\":\"Thursday\",\"orientation\":\"v\",\"showlegend\":true,\"x\":[0,1,2,3,4,5,6,7,8,9,10,11,12,13,14,15,16,17,18,19,20,21,22,23],\"xaxis\":\"x\",\"y\":[258.53846153846155,67.53846153846153,1.2222222222222223,1.25,29.0,937.54,2862.08,6728.529411764706,12371.653846153846,10469.865384615385,4639.115384615385,2436.8076923076924,2017.5384615384614,1951.1538461538462,2422.2884615384614,3341.1346153846152,5877.923076923077,10705.288461538461,10216.634615384615,5104.942307692308,2512.8846153846152,1647.7692307692307,1180.1538461538462,699.3461538461538],\"yaxis\":\"y\",\"type\":\"scatter\"},{\"hovertemplate\":\"Day=Thursday\\u003cbr\\u003eStation=POWL\\u003cbr\\u003eHour=%{x}\\u003cbr\\u003eTrip Count=%{y}\\u003cextra\\u003e\\u003c\\u002fextra\\u003e\",\"legendgroup\":\"Thursday\",\"line\":{\"color\":\"#FFA15A\",\"dash\":\"solid\"},\"marker\":{\"symbol\":\"circle\"},\"mode\":\"lines\",\"name\":\"Thursday\",\"orientation\":\"v\",\"showlegend\":false,\"x\":[0,1,2,3,4,5,6,7,8,9,10,11,12,13,14,15,16,17,18,19,20,21,22,23],\"xaxis\":\"x2\",\"y\":[372.1923076923077,67.46153846153847,1.4545454545454546,1.0,14.394736842105264,589.22,1481.326923076923,2855.923076923077,4445.846153846154,4041.8846153846152,2497.153846153846,2110.653846153846,2102.923076923077,2205.673076923077,2470.9423076923076,2939.7115384615386,4187.576923076923,5962.096153846154,5994.788461538462,3647.4615384615386,2333.0576923076924,1932.1923076923076,1567.4615384615386,1068.1923076923076],\"yaxis\":\"y2\",\"type\":\"scatter\"},{\"hovertemplate\":\"Day=Thursday\\u003cbr\\u003eStation=EMBR\\u003cbr\\u003eHour=%{x}\\u003cbr\\u003eTrip Count=%{y}\\u003cextra\\u003e\\u003c\\u002fextra\\u003e\",\"legendgroup\":\"Thursday\",\"line\":{\"color\":\"#FFA15A\",\"dash\":\"solid\"},\"marker\":{\"symbol\":\"circle\"},\"mode\":\"lines\",\"name\":\"Thursday\",\"orientation\":\"v\",\"showlegend\":false,\"x\":[0,1,2,3,4,5,6,7,8,9,10,11,12,13,14,15,16,17,18,19,20,21,22,23],\"xaxis\":\"x3\",\"y\":[271.63461538461536,56.71153846153846,1.5384615384615385,2.0,30.26530612244898,1203.84,3580.3333333333335,7575.0,12891.038461538461,9979.403846153846,4187.557692307692,2306.019230769231,1929.0576923076924,1938.9615384615386,2573.1923076923076,3583.153846153846,6558.75,10715.711538461539,9417.942307692309,4593.288461538462,2268.173076923077,1492.3461538461538,1267.5384615384614,845.5576923076923],\"yaxis\":\"y3\",\"type\":\"scatter\"},{\"hovertemplate\":\"Day=Thursday\\u003cbr\\u003eStation=CIVC\\u003cbr\\u003eHour=%{x}\\u003cbr\\u003eTrip Count=%{y}\\u003cextra\\u003e\\u003c\\u002fextra\\u003e\",\"legendgroup\":\"Thursday\",\"line\":{\"color\":\"#FFA15A\",\"dash\":\"solid\"},\"marker\":{\"symbol\":\"circle\"},\"mode\":\"lines\",\"name\":\"Thursday\",\"orientation\":\"v\",\"showlegend\":false,\"x\":[0,1,2,3,4,5,6,7,8,9,10,11,12,13,14,15,16,17,18,19,20,21,22,23],\"xaxis\":\"x4\",\"y\":[230.21153846153845,30.826923076923077,1.6666666666666667,1.0,8.204545454545455,456.28846153846155,1806.42,3956.3846153846152,5605.057692307692,4151.384615384615,1973.7884615384614,1336.4807692307693,1352.0961538461538,1319.173076923077,1475.9423076923076,2102.75,3641.480769230769,6228.673076923077,5408.326923076923,2627.423076923077,1368.7307692307693,956.1153846153846,1091.826923076923,693.0961538461538],\"yaxis\":\"y4\",\"type\":\"scatter\"},{\"hovertemplate\":\"Day=Tuesday\\u003cbr\\u003eStation=MONT\\u003cbr\\u003eHour=%{x}\\u003cbr\\u003eTrip Count=%{y}\\u003cextra\\u003e\\u003c\\u002fextra\\u003e\",\"legendgroup\":\"Tuesday\",\"line\":{\"color\":\"#19d3f3\",\"dash\":\"solid\"},\"marker\":{\"symbol\":\"circle\"},\"mode\":\"lines\",\"name\":\"Tuesday\",\"orientation\":\"v\",\"showlegend\":true,\"x\":[0,1,2,3,4,5,6,7,8,9,10,11,12,13,14,15,16,17,18,19,20,21,22,23],\"xaxis\":\"x\",\"y\":[211.22641509433961,116.26415094339623,276.1666666666667,67.71428571428571,25.0,930.3584905660377,2933.403846153846,6811.377358490566,12801.490566037735,10822.188679245282,4575.056603773585,2296.3207547169814,1874.301886792453,1833.566037735849,2341.6415094339623,3320.056603773585,5744.301886792453,10937.207547169812,10752.075471698114,5289.905660377359,2401.735849056604,1401.1132075471698,1062.2075471698113,641.8679245283018],\"yaxis\":\"y\",\"type\":\"scatter\"},{\"hovertemplate\":\"Day=Tuesday\\u003cbr\\u003eStation=POWL\\u003cbr\\u003eHour=%{x}\\u003cbr\\u003eTrip Count=%{y}\\u003cextra\\u003e\\u003c\\u002fextra\\u003e\",\"legendgroup\":\"Tuesday\",\"line\":{\"color\":\"#19d3f3\",\"dash\":\"solid\"},\"marker\":{\"symbol\":\"circle\"},\"mode\":\"lines\",\"name\":\"Tuesday\",\"orientation\":\"v\",\"showlegend\":false,\"x\":[0,1,2,3,4,5,6,7,8,9,10,11,12,13,14,15,16,17,18,19,20,21,22,23],\"xaxis\":\"x2\",\"y\":[317.92452830188677,74.16981132075472,124.66666666666667,39.357142857142854,13.3,593.1509433962265,1576.6923076923076,2892.622641509434,4570.735849056604,4119.415094339623,2425.2264150943397,1967.9622641509434,1941.867924528302,2109.5471698113206,2367.5849056603774,2909.1132075471696,4028.5283018867926,5829.679245283019,6008.66037735849,3637.622641509434,2208.3207547169814,1711.132075471698,1364.301886792453,897.6792452830189],\"yaxis\":\"y2\",\"type\":\"scatter\"},{\"hovertemplate\":\"Day=Tuesday\\u003cbr\\u003eStation=EMBR\\u003cbr\\u003eHour=%{x}\\u003cbr\\u003eTrip Count=%{y}\\u003cextra\\u003e\\u003c\\u002fextra\\u003e\",\"legendgroup\":\"Tuesday\",\"line\":{\"color\":\"#19d3f3\",\"dash\":\"solid\"},\"marker\":{\"symbol\":\"circle\"},\"mode\":\"lines\",\"name\":\"Tuesday\",\"orientation\":\"v\",\"showlegend\":false,\"x\":[0,1,2,3,4,5,6,7,8,9,10,11,12,13,14,15,16,17,18,19,20,21,22,23],\"xaxis\":\"x3\",\"y\":[221.47169811320754,122.43396226415095,185.8,19.681818181818183,28.020408163265305,1210.6538461538462,3759.673076923077,7937.679245283019,13524.811320754718,10586.943396226416,4203.830188679245,2133.7169811320755,1759.9811320754718,1850.4905660377358,2445.811320754717,3543.7169811320755,6440.66037735849,11023.11320754717,10031.169811320755,4812.320754716981,2169.9622641509436,1315.7735849056603,1117.5471698113208,694.6603773584906],\"yaxis\":\"y3\",\"type\":\"scatter\"},{\"hovertemplate\":\"Day=Tuesday\\u003cbr\\u003eStation=CIVC\\u003cbr\\u003eHour=%{x}\\u003cbr\\u003eTrip Count=%{y}\\u003cextra\\u003e\\u003c\\u002fextra\\u003e\",\"legendgroup\":\"Tuesday\",\"line\":{\"color\":\"#19d3f3\",\"dash\":\"solid\"},\"marker\":{\"symbol\":\"circle\"},\"mode\":\"lines\",\"name\":\"Tuesday\",\"orientation\":\"v\",\"showlegend\":false,\"x\":[0,1,2,3,4,5,6,7,8,9,10,11,12,13,14,15,16,17,18,19,20,21,22,23],\"xaxis\":\"x4\",\"y\":[184.49056603773585,37.81132075471698,169.0,44.07142857142857,8.51063829787234,476.0576923076923,1836.8461538461538,4105.264150943396,5783.490566037736,4302.490566037736,1946.2075471698113,1272.9245283018868,1233.7358490566037,1247.5471698113208,1398.811320754717,2097.566037735849,3588.433962264151,6301.056603773585,5588.679245283019,2657.245283018868,1317.9245283018868,849.6037735849056,907.377358490566,598.1509433962265],\"yaxis\":\"y4\",\"type\":\"scatter\"},{\"hovertemplate\":\"Day=Wednesday\\u003cbr\\u003eStation=MONT\\u003cbr\\u003eHour=%{x}\\u003cbr\\u003eTrip Count=%{y}\\u003cextra\\u003e\\u003c\\u002fextra\\u003e\",\"legendgroup\":\"Wednesday\",\"line\":{\"color\":\"#FF6692\",\"dash\":\"solid\"},\"marker\":{\"symbol\":\"circle\"},\"mode\":\"lines\",\"name\":\"Wednesday\",\"orientation\":\"v\",\"showlegend\":true,\"x\":[0,1,2,3,4,5,6,7,8,9,10,11,12,13,14,15,16,17,18,19,20,21,22,23],\"xaxis\":\"x\",\"y\":[250.94230769230768,67.48076923076923,1.2,1.25,25.0625,953.8039215686274,2932.529411764706,6871.117647058823,12719.711538461539,10618.423076923076,4534.403846153846,2391.2884615384614,2004.1923076923076,1922.326923076923,2410.326923076923,3412.9423076923076,5860.307692307692,10942.711538461539,10348.942307692309,5256.423076923077,2454.173076923077,1499.1153846153845,1056.4807692307693,640.4807692307693],\"yaxis\":\"y\",\"type\":\"scatter\"},{\"hovertemplate\":\"Day=Wednesday\\u003cbr\\u003eStation=POWL\\u003cbr\\u003eHour=%{x}\\u003cbr\\u003eTrip Count=%{y}\\u003cextra\\u003e\\u003c\\u002fextra\\u003e\",\"legendgroup\":\"Wednesday\",\"line\":{\"color\":\"#FF6692\",\"dash\":\"solid\"},\"marker\":{\"symbol\":\"circle\"},\"mode\":\"lines\",\"name\":\"Wednesday\",\"orientation\":\"v\",\"showlegend\":false,\"x\":[0,1,2,3,4,5,6,7,8,9,10,11,12,13,14,15,16,17,18,19,20,21,22,23],\"xaxis\":\"x2\",\"y\":[368.9230769230769,67.96153846153847,1.25,1.2222222222222223,14.942857142857143,615.0588235294117,1544.6470588235295,2896.9615384615386,4553.403846153846,4032.3076923076924,2449.75,2047.1923076923076,2031.1923076923076,2167.2884615384614,2372.769230769231,2960.3653846153848,4155.076923076923,5993.211538461538,5899.461538461538,3668.2115384615386,2254.596153846154,1761.8846153846155,1408.1346153846155,990.9230769230769],\"yaxis\":\"y2\",\"type\":\"scatter\"},{\"hovertemplate\":\"Day=Wednesday\\u003cbr\\u003eStation=EMBR\\u003cbr\\u003eHour=%{x}\\u003cbr\\u003eTrip Count=%{y}\\u003cextra\\u003e\\u003c\\u002fextra\\u003e\",\"legendgroup\":\"Wednesday\",\"line\":{\"color\":\"#FF6692\",\"dash\":\"solid\"},\"marker\":{\"symbol\":\"circle\"},\"mode\":\"lines\",\"name\":\"Wednesday\",\"orientation\":\"v\",\"showlegend\":false,\"x\":[0,1,2,3,4,5,6,7,8,9,10,11,12,13,14,15,16,17,18,19,20,21,22,23],\"xaxis\":\"x3\",\"y\":[260.11538461538464,55.15384615384615,2.8333333333333335,1.6,24.274509803921568,1212.549019607843,3762.6862745098038,7875.557692307692,13399.846153846154,10483.346153846154,4236.846153846154,2333.326923076923,1943.9807692307693,1906.673076923077,2477.5,3636.826923076923,6649.538461538462,11146.384615384615,9643.961538461539,4814.538461538462,2239.0576923076924,1363.0,1065.1923076923076,677.7692307692307],\"yaxis\":\"y3\",\"type\":\"scatter\"},{\"hovertemplate\":\"Day=Wednesday\\u003cbr\\u003eStation=CIVC\\u003cbr\\u003eHour=%{x}\\u003cbr\\u003eTrip Count=%{y}\\u003cextra\\u003e\\u003c\\u002fextra\\u003e\",\"legendgroup\":\"Wednesday\",\"line\":{\"color\":\"#FF6692\",\"dash\":\"solid\"},\"marker\":{\"symbol\":\"circle\"},\"mode\":\"lines\",\"name\":\"Wednesday\",\"orientation\":\"v\",\"showlegend\":false,\"x\":[0,1,2,3,4,5,6,7,8,9,10,11,12,13,14,15,16,17,18,19,20,21,22,23],\"xaxis\":\"x4\",\"y\":[229.42307692307693,28.807692307692307,1.7777777777777777,1.5,7.622222222222222,499.45098039215685,1840.137254901961,4150.211538461538,5787.903846153846,4318.134615384615,2049.1923076923076,1488.8846153846155,1559.9807692307693,1331.8846153846155,1486.8461538461538,2184.2884615384614,3900.480769230769,6469.7692307692305,5514.423076923077,2650.8846153846152,1357.9807692307693,902.9038461538462,991.9807692307693,612.6730769230769],\"yaxis\":\"y4\",\"type\":\"scatter\"}],                        {\"template\":{\"data\":{\"histogram2dcontour\":[{\"type\":\"histogram2dcontour\",\"colorbar\":{\"outlinewidth\":0,\"ticks\":\"\"},\"colorscale\":[[0.0,\"#0d0887\"],[0.1111111111111111,\"#46039f\"],[0.2222222222222222,\"#7201a8\"],[0.3333333333333333,\"#9c179e\"],[0.4444444444444444,\"#bd3786\"],[0.5555555555555556,\"#d8576b\"],[0.6666666666666666,\"#ed7953\"],[0.7777777777777778,\"#fb9f3a\"],[0.8888888888888888,\"#fdca26\"],[1.0,\"#f0f921\"]]}],\"choropleth\":[{\"type\":\"choropleth\",\"colorbar\":{\"outlinewidth\":0,\"ticks\":\"\"}}],\"histogram2d\":[{\"type\":\"histogram2d\",\"colorbar\":{\"outlinewidth\":0,\"ticks\":\"\"},\"colorscale\":[[0.0,\"#0d0887\"],[0.1111111111111111,\"#46039f\"],[0.2222222222222222,\"#7201a8\"],[0.3333333333333333,\"#9c179e\"],[0.4444444444444444,\"#bd3786\"],[0.5555555555555556,\"#d8576b\"],[0.6666666666666666,\"#ed7953\"],[0.7777777777777778,\"#fb9f3a\"],[0.8888888888888888,\"#fdca26\"],[1.0,\"#f0f921\"]]}],\"heatmap\":[{\"type\":\"heatmap\",\"colorbar\":{\"outlinewidth\":0,\"ticks\":\"\"},\"colorscale\":[[0.0,\"#0d0887\"],[0.1111111111111111,\"#46039f\"],[0.2222222222222222,\"#7201a8\"],[0.3333333333333333,\"#9c179e\"],[0.4444444444444444,\"#bd3786\"],[0.5555555555555556,\"#d8576b\"],[0.6666666666666666,\"#ed7953\"],[0.7777777777777778,\"#fb9f3a\"],[0.8888888888888888,\"#fdca26\"],[1.0,\"#f0f921\"]]}],\"heatmapgl\":[{\"type\":\"heatmapgl\",\"colorbar\":{\"outlinewidth\":0,\"ticks\":\"\"},\"colorscale\":[[0.0,\"#0d0887\"],[0.1111111111111111,\"#46039f\"],[0.2222222222222222,\"#7201a8\"],[0.3333333333333333,\"#9c179e\"],[0.4444444444444444,\"#bd3786\"],[0.5555555555555556,\"#d8576b\"],[0.6666666666666666,\"#ed7953\"],[0.7777777777777778,\"#fb9f3a\"],[0.8888888888888888,\"#fdca26\"],[1.0,\"#f0f921\"]]}],\"contourcarpet\":[{\"type\":\"contourcarpet\",\"colorbar\":{\"outlinewidth\":0,\"ticks\":\"\"}}],\"contour\":[{\"type\":\"contour\",\"colorbar\":{\"outlinewidth\":0,\"ticks\":\"\"},\"colorscale\":[[0.0,\"#0d0887\"],[0.1111111111111111,\"#46039f\"],[0.2222222222222222,\"#7201a8\"],[0.3333333333333333,\"#9c179e\"],[0.4444444444444444,\"#bd3786\"],[0.5555555555555556,\"#d8576b\"],[0.6666666666666666,\"#ed7953\"],[0.7777777777777778,\"#fb9f3a\"],[0.8888888888888888,\"#fdca26\"],[1.0,\"#f0f921\"]]}],\"surface\":[{\"type\":\"surface\",\"colorbar\":{\"outlinewidth\":0,\"ticks\":\"\"},\"colorscale\":[[0.0,\"#0d0887\"],[0.1111111111111111,\"#46039f\"],[0.2222222222222222,\"#7201a8\"],[0.3333333333333333,\"#9c179e\"],[0.4444444444444444,\"#bd3786\"],[0.5555555555555556,\"#d8576b\"],[0.6666666666666666,\"#ed7953\"],[0.7777777777777778,\"#fb9f3a\"],[0.8888888888888888,\"#fdca26\"],[1.0,\"#f0f921\"]]}],\"mesh3d\":[{\"type\":\"mesh3d\",\"colorbar\":{\"outlinewidth\":0,\"ticks\":\"\"}}],\"scatter\":[{\"fillpattern\":{\"fillmode\":\"overlay\",\"size\":10,\"solidity\":0.2},\"type\":\"scatter\"}],\"parcoords\":[{\"type\":\"parcoords\",\"line\":{\"colorbar\":{\"outlinewidth\":0,\"ticks\":\"\"}}}],\"scatterpolargl\":[{\"type\":\"scatterpolargl\",\"marker\":{\"colorbar\":{\"outlinewidth\":0,\"ticks\":\"\"}}}],\"bar\":[{\"error_x\":{\"color\":\"#2a3f5f\"},\"error_y\":{\"color\":\"#2a3f5f\"},\"marker\":{\"line\":{\"color\":\"#E5ECF6\",\"width\":0.5},\"pattern\":{\"fillmode\":\"overlay\",\"size\":10,\"solidity\":0.2}},\"type\":\"bar\"}],\"scattergeo\":[{\"type\":\"scattergeo\",\"marker\":{\"colorbar\":{\"outlinewidth\":0,\"ticks\":\"\"}}}],\"scatterpolar\":[{\"type\":\"scatterpolar\",\"marker\":{\"colorbar\":{\"outlinewidth\":0,\"ticks\":\"\"}}}],\"histogram\":[{\"marker\":{\"pattern\":{\"fillmode\":\"overlay\",\"size\":10,\"solidity\":0.2}},\"type\":\"histogram\"}],\"scattergl\":[{\"type\":\"scattergl\",\"marker\":{\"colorbar\":{\"outlinewidth\":0,\"ticks\":\"\"}}}],\"scatter3d\":[{\"type\":\"scatter3d\",\"line\":{\"colorbar\":{\"outlinewidth\":0,\"ticks\":\"\"}},\"marker\":{\"colorbar\":{\"outlinewidth\":0,\"ticks\":\"\"}}}],\"scattermapbox\":[{\"type\":\"scattermapbox\",\"marker\":{\"colorbar\":{\"outlinewidth\":0,\"ticks\":\"\"}}}],\"scatterternary\":[{\"type\":\"scatterternary\",\"marker\":{\"colorbar\":{\"outlinewidth\":0,\"ticks\":\"\"}}}],\"scattercarpet\":[{\"type\":\"scattercarpet\",\"marker\":{\"colorbar\":{\"outlinewidth\":0,\"ticks\":\"\"}}}],\"carpet\":[{\"aaxis\":{\"endlinecolor\":\"#2a3f5f\",\"gridcolor\":\"white\",\"linecolor\":\"white\",\"minorgridcolor\":\"white\",\"startlinecolor\":\"#2a3f5f\"},\"baxis\":{\"endlinecolor\":\"#2a3f5f\",\"gridcolor\":\"white\",\"linecolor\":\"white\",\"minorgridcolor\":\"white\",\"startlinecolor\":\"#2a3f5f\"},\"type\":\"carpet\"}],\"table\":[{\"cells\":{\"fill\":{\"color\":\"#EBF0F8\"},\"line\":{\"color\":\"white\"}},\"header\":{\"fill\":{\"color\":\"#C8D4E3\"},\"line\":{\"color\":\"white\"}},\"type\":\"table\"}],\"barpolar\":[{\"marker\":{\"line\":{\"color\":\"#E5ECF6\",\"width\":0.5},\"pattern\":{\"fillmode\":\"overlay\",\"size\":10,\"solidity\":0.2}},\"type\":\"barpolar\"}],\"pie\":[{\"automargin\":true,\"type\":\"pie\"}]},\"layout\":{\"autotypenumbers\":\"strict\",\"colorway\":[\"#636efa\",\"#EF553B\",\"#00cc96\",\"#ab63fa\",\"#FFA15A\",\"#19d3f3\",\"#FF6692\",\"#B6E880\",\"#FF97FF\",\"#FECB52\"],\"font\":{\"color\":\"#2a3f5f\"},\"hovermode\":\"closest\",\"hoverlabel\":{\"align\":\"left\"},\"paper_bgcolor\":\"white\",\"plot_bgcolor\":\"#E5ECF6\",\"polar\":{\"bgcolor\":\"#E5ECF6\",\"angularaxis\":{\"gridcolor\":\"white\",\"linecolor\":\"white\",\"ticks\":\"\"},\"radialaxis\":{\"gridcolor\":\"white\",\"linecolor\":\"white\",\"ticks\":\"\"}},\"ternary\":{\"bgcolor\":\"#E5ECF6\",\"aaxis\":{\"gridcolor\":\"white\",\"linecolor\":\"white\",\"ticks\":\"\"},\"baxis\":{\"gridcolor\":\"white\",\"linecolor\":\"white\",\"ticks\":\"\"},\"caxis\":{\"gridcolor\":\"white\",\"linecolor\":\"white\",\"ticks\":\"\"}},\"coloraxis\":{\"colorbar\":{\"outlinewidth\":0,\"ticks\":\"\"}},\"colorscale\":{\"sequential\":[[0.0,\"#0d0887\"],[0.1111111111111111,\"#46039f\"],[0.2222222222222222,\"#7201a8\"],[0.3333333333333333,\"#9c179e\"],[0.4444444444444444,\"#bd3786\"],[0.5555555555555556,\"#d8576b\"],[0.6666666666666666,\"#ed7953\"],[0.7777777777777778,\"#fb9f3a\"],[0.8888888888888888,\"#fdca26\"],[1.0,\"#f0f921\"]],\"sequentialminus\":[[0.0,\"#0d0887\"],[0.1111111111111111,\"#46039f\"],[0.2222222222222222,\"#7201a8\"],[0.3333333333333333,\"#9c179e\"],[0.4444444444444444,\"#bd3786\"],[0.5555555555555556,\"#d8576b\"],[0.6666666666666666,\"#ed7953\"],[0.7777777777777778,\"#fb9f3a\"],[0.8888888888888888,\"#fdca26\"],[1.0,\"#f0f921\"]],\"diverging\":[[0,\"#8e0152\"],[0.1,\"#c51b7d\"],[0.2,\"#de77ae\"],[0.3,\"#f1b6da\"],[0.4,\"#fde0ef\"],[0.5,\"#f7f7f7\"],[0.6,\"#e6f5d0\"],[0.7,\"#b8e186\"],[0.8,\"#7fbc41\"],[0.9,\"#4d9221\"],[1,\"#276419\"]]},\"xaxis\":{\"gridcolor\":\"white\",\"linecolor\":\"white\",\"ticks\":\"\",\"title\":{\"standoff\":15},\"zerolinecolor\":\"white\",\"automargin\":true,\"zerolinewidth\":2},\"yaxis\":{\"gridcolor\":\"white\",\"linecolor\":\"white\",\"ticks\":\"\",\"title\":{\"standoff\":15},\"zerolinecolor\":\"white\",\"automargin\":true,\"zerolinewidth\":2},\"scene\":{\"xaxis\":{\"backgroundcolor\":\"#E5ECF6\",\"gridcolor\":\"white\",\"linecolor\":\"white\",\"showbackground\":true,\"ticks\":\"\",\"zerolinecolor\":\"white\",\"gridwidth\":2},\"yaxis\":{\"backgroundcolor\":\"#E5ECF6\",\"gridcolor\":\"white\",\"linecolor\":\"white\",\"showbackground\":true,\"ticks\":\"\",\"zerolinecolor\":\"white\",\"gridwidth\":2},\"zaxis\":{\"backgroundcolor\":\"#E5ECF6\",\"gridcolor\":\"white\",\"linecolor\":\"white\",\"showbackground\":true,\"ticks\":\"\",\"zerolinecolor\":\"white\",\"gridwidth\":2}},\"shapedefaults\":{\"line\":{\"color\":\"#2a3f5f\"}},\"annotationdefaults\":{\"arrowcolor\":\"#2a3f5f\",\"arrowhead\":0,\"arrowwidth\":1},\"geo\":{\"bgcolor\":\"white\",\"landcolor\":\"#E5ECF6\",\"subunitcolor\":\"white\",\"showland\":true,\"showlakes\":true,\"lakecolor\":\"white\"},\"title\":{\"x\":0.05},\"mapbox\":{\"style\":\"light\"}}},\"xaxis\":{\"anchor\":\"y\",\"domain\":[0.0,0.235],\"title\":{\"text\":\"Hour\"}},\"yaxis\":{\"anchor\":\"x\",\"domain\":[0.0,1.0],\"title\":{\"text\":\"Trip Count\"}},\"xaxis2\":{\"anchor\":\"y2\",\"domain\":[0.255,0.49],\"matches\":\"x\",\"title\":{\"text\":\"Hour\"}},\"yaxis2\":{\"anchor\":\"x2\",\"domain\":[0.0,1.0],\"matches\":\"y\",\"showticklabels\":false},\"xaxis3\":{\"anchor\":\"y3\",\"domain\":[0.51,0.745],\"matches\":\"x\",\"title\":{\"text\":\"Hour\"}},\"yaxis3\":{\"anchor\":\"x3\",\"domain\":[0.0,1.0],\"matches\":\"y\",\"showticklabels\":false},\"xaxis4\":{\"anchor\":\"y4\",\"domain\":[0.7649999999999999,0.9999999999999999],\"matches\":\"x\",\"title\":{\"text\":\"Hour\"}},\"yaxis4\":{\"anchor\":\"x4\",\"domain\":[0.0,1.0],\"matches\":\"y\",\"showticklabels\":false},\"annotations\":[{\"font\":{},\"showarrow\":false,\"text\":\"MONT\",\"x\":0.1175,\"xanchor\":\"center\",\"xref\":\"paper\",\"y\":1.0,\"yanchor\":\"bottom\",\"yref\":\"paper\"},{\"font\":{},\"showarrow\":false,\"text\":\"POWL\",\"x\":0.3725,\"xanchor\":\"center\",\"xref\":\"paper\",\"y\":1.0,\"yanchor\":\"bottom\",\"yref\":\"paper\"},{\"font\":{},\"showarrow\":false,\"text\":\"EMBR\",\"x\":0.6275,\"xanchor\":\"center\",\"xref\":\"paper\",\"y\":1.0,\"yanchor\":\"bottom\",\"yref\":\"paper\"},{\"font\":{},\"showarrow\":false,\"text\":\"CIVC\",\"x\":0.8824999999999998,\"xanchor\":\"center\",\"xref\":\"paper\",\"y\":1.0,\"yanchor\":\"bottom\",\"yref\":\"paper\"}],\"legend\":{\"title\":{\"text\":\"Day\"},\"tracegroupgap\":0},\"title\":{\"text\":\"2019 SF Downtown Hourly Ridership\"},\"height\":350,\"width\":900,\"showlegend\":false},                        {\"responsive\": true}                    ).then(function(){\n",
       "                            \n",
       "var gd = document.getElementById('df57d7ef-bfa7-4a91-8104-de8958507e18');\n",
       "var x = new MutationObserver(function (mutations, observer) {{\n",
       "        var display = window.getComputedStyle(gd).display;\n",
       "        if (!display || display === 'none') {{\n",
       "            console.log([gd, 'removed!']);\n",
       "            Plotly.purge(gd);\n",
       "            observer.disconnect();\n",
       "        }}\n",
       "}});\n",
       "\n",
       "// Listen for the removal of the full notebook cells\n",
       "var notebookContainer = gd.closest('#notebook-container');\n",
       "if (notebookContainer) {{\n",
       "    x.observe(notebookContainer, {childList: true});\n",
       "}}\n",
       "\n",
       "// Listen for the clearing of the current output cell\n",
       "var outputEl = gd.closest('.output');\n",
       "if (outputEl) {{\n",
       "    x.observe(outputEl, {childList: true});\n",
       "}}\n",
       "\n",
       "                        })                };                });            </script>        </div>"
      ]
     },
     "metadata": {},
     "output_type": "display_data"
    }
   ],
   "source": [
    "#2019, station, hour, avg trips per hour, SF Downtown\n",
    "all_line2019 = px.line(all2[all2['Year']=='2019'], x=\"Hour\", y=\"Trip Count\", color='Day', \n",
    "                    facet_col = 'Station', title = \"2019 SF Downtown Hourly Ridership\",width=900, height=350)\n",
    "all_line2019.for_each_annotation(lambda a: a.update(text=a.text.split(\"=\")[-1]))\n",
    "all_line2019.update_layout(showlegend = False)\n",
    "all_line2019.show()\n",
    "all_line2019.write_image(\"images/all_line2019.png\")\n",
    "all_line2019.write_html(\"images/all_line2019.html\")\n",
    "all_line2019.write_image(\"images/all_line2019.svg\")"
   ]
  },
  {
   "cell_type": "code",
   "execution_count": 526,
   "id": "1fddc2de-164e-49b8-b939-f92aedd8ad35",
   "metadata": {},
   "outputs": [
    {
     "data": {
      "application/vnd.plotly.v1+json": {
       "config": {
        "plotlyServerURL": "https://plot.ly"
       },
       "data": [
        {
         "hovertemplate": "Day=Friday<br>Station=MONT<br>Hour=%{x}<br>Trip Count=%{y}<extra></extra>",
         "legendgroup": "Friday",
         "line": {
          "color": "#3366CC",
          "dash": "solid"
         },
         "marker": {
          "symbol": "circle"
         },
         "mode": "lines",
         "name": "Friday",
         "orientation": "v",
         "showlegend": true,
         "type": "scatter",
         "x": [
          0,
          1,
          2,
          3,
          4,
          5,
          6,
          7,
          8,
          9,
          10,
          11,
          12,
          13,
          14,
          15,
          16,
          17,
          18,
          19,
          20,
          21,
          22,
          23
         ],
         "xaxis": "x",
         "y": [
          134.05769230769232,
          33.05769230769231,
          2.5357142857142856,
          1.3333333333333333,
          5.2,
          274.03846153846155,
          682.6923076923077,
          1304.4423076923076,
          1902.576923076923,
          1382.923076923077,
          886.2884615384615,
          711.1346153846154,
          679.5576923076923,
          714.7692307692307,
          897.2307692307693,
          1103.0576923076924,
          1422.8846153846155,
          1838,
          1493.7692307692307,
          827.5576923076923,
          450.4230769230769,
          319.15384615384613,
          294.1730769230769,
          297.7692307692308
         ],
         "yaxis": "y"
        },
        {
         "hovertemplate": "Day=Friday<br>Station=POWL<br>Hour=%{x}<br>Trip Count=%{y}<extra></extra>",
         "legendgroup": "Friday",
         "line": {
          "color": "#3366CC",
          "dash": "solid"
         },
         "marker": {
          "symbol": "circle"
         },
         "mode": "lines",
         "name": "Friday",
         "orientation": "v",
         "showlegend": false,
         "type": "scatter",
         "x": [
          0,
          1,
          2,
          3,
          4,
          5,
          6,
          7,
          8,
          9,
          10,
          11,
          12,
          13,
          14,
          15,
          16,
          17,
          18,
          19,
          20,
          21,
          22,
          23
         ],
         "xaxis": "x2",
         "y": [
          187.8846153846154,
          29.28846153846154,
          2.3947368421052633,
          1,
          4.846153846153846,
          235.03846153846155,
          618.4807692307693,
          1142.326923076923,
          1364.1346153846155,
          1196.6153846153845,
          1066.4038461538462,
          1044.0961538461538,
          1058.2115384615386,
          1164.4423076923076,
          1331.4038461538462,
          1542.5576923076924,
          1953.0384615384614,
          2318.173076923077,
          2051.8653846153848,
          1375.5576923076924,
          877.9038461538462,
          578.5384615384615,
          576.0576923076923,
          552.0961538461538
         ],
         "yaxis": "y2"
        },
        {
         "hovertemplate": "Day=Friday<br>Station=EMBR<br>Hour=%{x}<br>Trip Count=%{y}<extra></extra>",
         "legendgroup": "Friday",
         "line": {
          "color": "#3366CC",
          "dash": "solid"
         },
         "marker": {
          "symbol": "circle"
         },
         "mode": "lines",
         "name": "Friday",
         "orientation": "v",
         "showlegend": false,
         "type": "scatter",
         "x": [
          0,
          1,
          2,
          3,
          4,
          5,
          6,
          7,
          8,
          9,
          10,
          11,
          12,
          13,
          14,
          15,
          16,
          17,
          18,
          19,
          20,
          21,
          22,
          23
         ],
         "xaxis": "x3",
         "y": [
          130.78846153846155,
          21.576923076923077,
          1.896551724137931,
          1.7692307692307692,
          6.875,
          376.63461538461536,
          913.2307692307693,
          1530.1538461538462,
          1973.5961538461538,
          1453.75,
          965.9038461538462,
          886.8076923076923,
          834.3461538461538,
          882.9807692307693,
          1141.9615384615386,
          1464.3846153846155,
          1840.5961538461538,
          2217.173076923077,
          1782.0576923076924,
          966.5769230769231,
          543.1346153846154,
          388.96153846153845,
          430.90384615384613,
          437
         ],
         "yaxis": "y3"
        },
        {
         "hovertemplate": "Day=Friday<br>Station=CIVC<br>Hour=%{x}<br>Trip Count=%{y}<extra></extra>",
         "legendgroup": "Friday",
         "line": {
          "color": "#3366CC",
          "dash": "solid"
         },
         "marker": {
          "symbol": "circle"
         },
         "mode": "lines",
         "name": "Friday",
         "orientation": "v",
         "showlegend": false,
         "type": "scatter",
         "x": [
          0,
          1,
          2,
          3,
          4,
          5,
          6,
          7,
          8,
          9,
          10,
          11,
          12,
          13,
          14,
          15,
          16,
          17,
          18,
          19,
          20,
          21,
          22,
          23
         ],
         "xaxis": "x4",
         "y": [
          117.92307692307692,
          21.634615384615383,
          2.1379310344827585,
          2,
          2.9545454545454546,
          167.6346153846154,
          549.5384615384615,
          1137.2115384615386,
          1346.6346153846155,
          847.75,
          588.6923076923077,
          531.0192307692307,
          571.25,
          612,
          679.9038461538462,
          893.4038461538462,
          1303.7115384615386,
          1828.8846153846155,
          1457.75,
          863.6153846153846,
          476.09615384615387,
          337.53846153846155,
          438.5192307692308,
          377.0769230769231
         ],
         "yaxis": "y4"
        },
        {
         "hovertemplate": "Day=Monday<br>Station=MONT<br>Hour=%{x}<br>Trip Count=%{y}<extra></extra>",
         "legendgroup": "Monday",
         "line": {
          "color": "#DC3912",
          "dash": "solid"
         },
         "marker": {
          "symbol": "circle"
         },
         "mode": "lines",
         "name": "Monday",
         "orientation": "v",
         "showlegend": true,
         "type": "scatter",
         "x": [
          0,
          1,
          2,
          3,
          4,
          5,
          6,
          7,
          8,
          9,
          10,
          11,
          12,
          13,
          14,
          15,
          16,
          17,
          18,
          19,
          20,
          21,
          22,
          23
         ],
         "xaxis": "x",
         "y": [
          49.46153846153846,
          9.134615384615385,
          1.75,
          6.428571428571429,
          3.2666666666666666,
          298.7551020408163,
          730.9230769230769,
          1564.2115384615386,
          2411.2115384615386,
          1635.7307692307693,
          893.3076923076923,
          692.1346153846154,
          587.8076923076923,
          623.9615384615385,
          813.7692307692307,
          1011.8269230769231,
          1455.7692307692307,
          2173.076923076923,
          1650.3653846153845,
          786.4615384615385,
          387.15384615384613,
          236.17307692307693,
          232.94230769230768,
          170.42307692307693
         ],
         "yaxis": "y"
        },
        {
         "hovertemplate": "Day=Monday<br>Station=POWL<br>Hour=%{x}<br>Trip Count=%{y}<extra></extra>",
         "legendgroup": "Monday",
         "line": {
          "color": "#DC3912",
          "dash": "solid"
         },
         "marker": {
          "symbol": "circle"
         },
         "mode": "lines",
         "name": "Monday",
         "orientation": "v",
         "showlegend": false,
         "type": "scatter",
         "x": [
          0,
          1,
          2,
          3,
          4,
          5,
          6,
          7,
          8,
          9,
          10,
          11,
          12,
          13,
          14,
          15,
          16,
          17,
          18,
          19,
          20,
          21,
          22,
          23
         ],
         "xaxis": "x2",
         "y": [
          110.92307692307692,
          18.98076923076923,
          1.6923076923076923,
          1,
          4.333333333333333,
          219.9591836734694,
          610.12,
          1107.826923076923,
          1349.8653846153845,
          1171.3653846153845,
          998.1730769230769,
          963.7884615384615,
          942.4615384615385,
          988.5192307692307,
          1142.75,
          1350,
          1663.2115384615386,
          2005.7307692307693,
          1615.4615384615386,
          1011.4038461538462,
          647.1538461538462,
          418.8269230769231,
          357.8076923076923,
          258.1730769230769
         ],
         "yaxis": "y2"
        },
        {
         "hovertemplate": "Day=Monday<br>Station=EMBR<br>Hour=%{x}<br>Trip Count=%{y}<extra></extra>",
         "legendgroup": "Monday",
         "line": {
          "color": "#DC3912",
          "dash": "solid"
         },
         "marker": {
          "symbol": "circle"
         },
         "mode": "lines",
         "name": "Monday",
         "orientation": "v",
         "showlegend": false,
         "type": "scatter",
         "x": [
          0,
          1,
          2,
          3,
          4,
          5,
          6,
          7,
          8,
          9,
          10,
          11,
          12,
          13,
          14,
          15,
          16,
          17,
          18,
          19,
          20,
          21,
          22,
          23
         ],
         "xaxis": "x3",
         "y": [
          66.40384615384616,
          10.25,
          1.8235294117647058,
          8,
          3.6666666666666665,
          382.80392156862746,
          1037.76,
          1869.4807692307693,
          2653.6923076923076,
          1783.5192307692307,
          947.5384615384615,
          753.7692307692307,
          692.0961538461538,
          744.4230769230769,
          963.0192307692307,
          1307.2307692307693,
          1872.1923076923076,
          2593.6153846153848,
          1851.3076923076924,
          910.0192307692307,
          488.59615384615387,
          333.5,
          364.61538461538464,
          274.21153846153845
         ],
         "yaxis": "y3"
        },
        {
         "hovertemplate": "Day=Monday<br>Station=CIVC<br>Hour=%{x}<br>Trip Count=%{y}<extra></extra>",
         "legendgroup": "Monday",
         "line": {
          "color": "#DC3912",
          "dash": "solid"
         },
         "marker": {
          "symbol": "circle"
         },
         "mode": "lines",
         "name": "Monday",
         "orientation": "v",
         "showlegend": false,
         "type": "scatter",
         "x": [
          0,
          1,
          2,
          3,
          4,
          5,
          6,
          7,
          8,
          9,
          10,
          11,
          12,
          13,
          14,
          15,
          16,
          17,
          18,
          19,
          20,
          21,
          22,
          23
         ],
         "xaxis": "x4",
         "y": [
          81.09615384615384,
          14.73076923076923,
          2,
          1.8333333333333333,
          3.5476190476190474,
          161.48979591836735,
          569.58,
          1250.6153846153845,
          1486.8846153846155,
          894.2884615384615,
          555.4615384615385,
          493.3269230769231,
          508.78846153846155,
          494,
          568.3846153846154,
          800.6730769230769,
          1218.1346153846155,
          1808.326923076923,
          1261.076923076923,
          582,
          325.40384615384613,
          216.78846153846155,
          191.01923076923077,
          136.42307692307693
         ],
         "yaxis": "y4"
        },
        {
         "hovertemplate": "Day=Saturday<br>Station=MONT<br>Hour=%{x}<br>Trip Count=%{y}<extra></extra>",
         "legendgroup": "Saturday",
         "line": {
          "color": "#FF9900",
          "dash": "solid"
         },
         "marker": {
          "symbol": "circle"
         },
         "mode": "lines",
         "name": "Saturday",
         "orientation": "v",
         "showlegend": true,
         "type": "scatter",
         "x": [
          0,
          1,
          2,
          3,
          4,
          5,
          6,
          7,
          8,
          9,
          10,
          11,
          12,
          13,
          14,
          15,
          16,
          17,
          18,
          19,
          20,
          21,
          22,
          23
         ],
         "xaxis": "x",
         "y": [
          181.19230769230768,
          45.84615384615385,
          3.0476190476190474,
          1,
          1.25,
          3.2758620689655173,
          109.11538461538461,
          221.1153846153846,
          375.15384615384613,
          496.96153846153845,
          519.75,
          596.8269230769231,
          620.4230769230769,
          611.9615384615385,
          632.5576923076923,
          620.6153846153846,
          621.9615384615385,
          702.1538461538462,
          641.9807692307693,
          489.78846153846155,
          345.21153846153845,
          302.13461538461536,
          269.38461538461536,
          210.05769230769232
         ],
         "yaxis": "y"
        },
        {
         "hovertemplate": "Day=Saturday<br>Station=POWL<br>Hour=%{x}<br>Trip Count=%{y}<extra></extra>",
         "legendgroup": "Saturday",
         "line": {
          "color": "#FF9900",
          "dash": "solid"
         },
         "marker": {
          "symbol": "circle"
         },
         "mode": "lines",
         "name": "Saturday",
         "orientation": "v",
         "showlegend": false,
         "type": "scatter",
         "x": [
          0,
          1,
          2,
          3,
          4,
          5,
          6,
          7,
          8,
          9,
          10,
          11,
          12,
          13,
          14,
          15,
          16,
          17,
          18,
          19,
          20,
          21,
          22,
          23
         ],
         "xaxis": "x2",
         "y": [
          274.5576923076923,
          51.88461538461539,
          3.5625,
          2,
          1.3333333333333333,
          5.560975609756097,
          203.59615384615384,
          456,
          632.9807692307693,
          810.9038461538462,
          1012.5576923076923,
          1244.673076923077,
          1346.5,
          1326.576923076923,
          1398.326923076923,
          1445.6153846153845,
          1628.8076923076924,
          1738.2307692307693,
          1526.25,
          1199.8653846153845,
          852.4807692307693,
          655.0384615384615,
          550.5,
          480.96153846153845
         ],
         "yaxis": "y2"
        },
        {
         "hovertemplate": "Day=Saturday<br>Station=EMBR<br>Hour=%{x}<br>Trip Count=%{y}<extra></extra>",
         "legendgroup": "Saturday",
         "line": {
          "color": "#FF9900",
          "dash": "solid"
         },
         "marker": {
          "symbol": "circle"
         },
         "mode": "lines",
         "name": "Saturday",
         "orientation": "v",
         "showlegend": false,
         "type": "scatter",
         "x": [
          0,
          1,
          2,
          3,
          4,
          5,
          6,
          7,
          8,
          9,
          10,
          11,
          12,
          13,
          14,
          15,
          16,
          17,
          18,
          19,
          20,
          21,
          22,
          23
         ],
         "xaxis": "x3",
         "y": [
          222.05769230769232,
          36.44230769230769,
          2.6296296296296298,
          1.6,
          1.5,
          3.4651162790697674,
          135.46153846153845,
          260.38461538461536,
          404.5576923076923,
          584.6923076923077,
          783.75,
          1007.9807692307693,
          1027.5961538461538,
          947.2115384615385,
          949.6346153846154,
          915.6346153846154,
          983.7307692307693,
          1025.4615384615386,
          874.6538461538462,
          672.6153846153846,
          492.5576923076923,
          457.8076923076923,
          365.5576923076923,
          286.71153846153845
         ],
         "yaxis": "y3"
        },
        {
         "hovertemplate": "Day=Saturday<br>Station=CIVC<br>Hour=%{x}<br>Trip Count=%{y}<extra></extra>",
         "legendgroup": "Saturday",
         "line": {
          "color": "#FF9900",
          "dash": "solid"
         },
         "marker": {
          "symbol": "circle"
         },
         "mode": "lines",
         "name": "Saturday",
         "orientation": "v",
         "showlegend": false,
         "type": "scatter",
         "x": [
          0,
          1,
          2,
          3,
          4,
          5,
          6,
          7,
          8,
          9,
          10,
          11,
          12,
          13,
          14,
          15,
          16,
          17,
          18,
          19,
          20,
          21,
          22,
          23
         ],
         "xaxis": "x4",
         "y": [
          218.8846153846154,
          50.07692307692308,
          3.8974358974358974,
          1,
          1,
          3.5476190476190474,
          90.61538461538461,
          192.67307692307693,
          321.71153846153845,
          377.13461538461536,
          468.9807692307692,
          590.2307692307693,
          740.1923076923077,
          633.9038461538462,
          608.6346153846154,
          654.1730769230769,
          749.5384615384615,
          777.5576923076923,
          750.1730769230769,
          583.0769230769231,
          362.13461538461536,
          329.9230769230769,
          387.0576923076923,
          324.9230769230769
         ],
         "yaxis": "y4"
        },
        {
         "hovertemplate": "Day=Sunday<br>Station=MONT<br>Hour=%{x}<br>Trip Count=%{y}<extra></extra>",
         "legendgroup": "Sunday",
         "line": {
          "color": "#109618",
          "dash": "solid"
         },
         "marker": {
          "symbol": "circle"
         },
         "mode": "lines",
         "name": "Sunday",
         "orientation": "v",
         "showlegend": true,
         "type": "scatter",
         "x": [
          0,
          1,
          2,
          3,
          4,
          5,
          6,
          7,
          8,
          9,
          10,
          11,
          12,
          13,
          14,
          15,
          16,
          17,
          18,
          19,
          20,
          21,
          22,
          23
         ],
         "xaxis": "x",
         "y": [
          124.41509433962264,
          36.094339622641506,
          7.348837209302325,
          10.833333333333334,
          1.25,
          1,
          1.7272727272727273,
          34.0188679245283,
          228.56603773584905,
          333.9433962264151,
          428.811320754717,
          499.79245283018867,
          510.0943396226415,
          458.2830188679245,
          457.8301886792453,
          413.8679245283019,
          426.20754716981133,
          489.0943396226415,
          449.9056603773585,
          310,
          229.66037735849056,
          172.62264150943398,
          147.64150943396226,
          105.39622641509433
         ],
         "yaxis": "y"
        },
        {
         "hovertemplate": "Day=Sunday<br>Station=POWL<br>Hour=%{x}<br>Trip Count=%{y}<extra></extra>",
         "legendgroup": "Sunday",
         "line": {
          "color": "#109618",
          "dash": "solid"
         },
         "marker": {
          "symbol": "circle"
         },
         "mode": "lines",
         "name": "Sunday",
         "orientation": "v",
         "showlegend": false,
         "type": "scatter",
         "x": [
          0,
          1,
          2,
          3,
          4,
          5,
          6,
          7,
          8,
          9,
          10,
          11,
          12,
          13,
          14,
          15,
          16,
          17,
          18,
          19,
          20,
          21,
          22,
          23
         ],
         "xaxis": "x2",
         "y": [
          243.62264150943398,
          54.509433962264154,
          7.790697674418604,
          14,
          1,
          1.4,
          2.3,
          67.79245283018868,
          485.24528301886795,
          602.0188679245283,
          832.5849056603773,
          993.566037735849,
          1065.3396226415093,
          1033.7169811320755,
          1068.3584905660377,
          1048.6792452830189,
          1152.7358490566037,
          1241.0754716981132,
          1145.5849056603774,
          839.6792452830189,
          536.2830188679245,
          399.8679245283019,
          326.0377358490566,
          248.1320754716981
         ],
         "yaxis": "y2"
        },
        {
         "hovertemplate": "Day=Sunday<br>Station=EMBR<br>Hour=%{x}<br>Trip Count=%{y}<extra></extra>",
         "legendgroup": "Sunday",
         "line": {
          "color": "#109618",
          "dash": "solid"
         },
         "marker": {
          "symbol": "circle"
         },
         "mode": "lines",
         "name": "Sunday",
         "orientation": "v",
         "showlegend": false,
         "type": "scatter",
         "x": [
          0,
          1,
          2,
          3,
          4,
          5,
          6,
          7,
          8,
          9,
          10,
          11,
          12,
          13,
          14,
          15,
          16,
          17,
          18,
          19,
          20,
          21,
          22,
          23
         ],
         "xaxis": "x3",
         "y": [
          162.30188679245282,
          51.660377358490564,
          19.852941176470587,
          9.125,
          1.3333333333333333,
          1.4615384615384615,
          2.9722222222222223,
          66.41509433962264,
          316.8490566037736,
          445.37735849056605,
          637.433962264151,
          778.811320754717,
          815.7169811320755,
          683.5283018867924,
          670.0188679245283,
          647.0943396226415,
          701.0943396226415,
          793.4905660377359,
          661.0943396226415,
          484.0566037735849,
          368.1509433962264,
          290.24528301886795,
          200.77358490566039,
          142.0943396226415
         ],
         "yaxis": "y3"
        },
        {
         "hovertemplate": "Day=Sunday<br>Station=CIVC<br>Hour=%{x}<br>Trip Count=%{y}<extra></extra>",
         "legendgroup": "Sunday",
         "line": {
          "color": "#109618",
          "dash": "solid"
         },
         "marker": {
          "symbol": "circle"
         },
         "mode": "lines",
         "name": "Sunday",
         "orientation": "v",
         "showlegend": false,
         "type": "scatter",
         "x": [
          0,
          1,
          2,
          3,
          4,
          5,
          6,
          7,
          8,
          9,
          10,
          11,
          12,
          13,
          14,
          15,
          16,
          17,
          18,
          19,
          20,
          21,
          22,
          23
         ],
         "xaxis": "x4",
         "y": [
          200.71698113207546,
          53.113207547169814,
          7,
          11.4,
          1,
          1,
          1.6428571428571428,
          26.60377358490566,
          226.69811320754718,
          309.188679245283,
          405.54716981132077,
          536.1509433962265,
          691.0377358490566,
          661.4716981132076,
          588.5471698113207,
          582.2264150943396,
          648.9433962264151,
          633.5283018867924,
          543.1132075471698,
          399.0377358490566,
          276.3018867924528,
          230.66037735849056,
          203.24528301886792,
          172.33962264150944
         ],
         "yaxis": "y4"
        },
        {
         "hovertemplate": "Day=Thursday<br>Station=MONT<br>Hour=%{x}<br>Trip Count=%{y}<extra></extra>",
         "legendgroup": "Thursday",
         "line": {
          "color": "#990099",
          "dash": "solid"
         },
         "marker": {
          "symbol": "circle"
         },
         "mode": "lines",
         "name": "Thursday",
         "orientation": "v",
         "showlegend": true,
         "type": "scatter",
         "x": [
          0,
          1,
          2,
          3,
          4,
          5,
          6,
          7,
          8,
          9,
          10,
          11,
          12,
          13,
          14,
          15,
          16,
          17,
          18,
          19,
          20,
          21,
          22,
          23
         ],
         "xaxis": "x",
         "y": [
          112.26923076923077,
          30.5,
          2.4193548387096775,
          1.2857142857142858,
          3.1714285714285713,
          328.6078431372549,
          904.8039215686274,
          1985.3653846153845,
          3346.326923076923,
          2363.3653846153848,
          1138.1538461538462,
          814.3461538461538,
          727.8461538461538,
          719.9038461538462,
          920.1346153846154,
          1230.173076923077,
          1932.1923076923076,
          2985.4615384615386,
          2413.9423076923076,
          1232.4423076923076,
          642.4230769230769,
          393.63461538461536,
          354.03846153846155,
          256.21153846153845
         ],
         "yaxis": "y"
        },
        {
         "hovertemplate": "Day=Thursday<br>Station=POWL<br>Hour=%{x}<br>Trip Count=%{y}<extra></extra>",
         "legendgroup": "Thursday",
         "line": {
          "color": "#990099",
          "dash": "solid"
         },
         "marker": {
          "symbol": "circle"
         },
         "mode": "lines",
         "name": "Thursday",
         "orientation": "v",
         "showlegend": false,
         "type": "scatter",
         "x": [
          0,
          1,
          2,
          3,
          4,
          5,
          6,
          7,
          8,
          9,
          10,
          11,
          12,
          13,
          14,
          15,
          16,
          17,
          18,
          19,
          20,
          21,
          22,
          23
         ],
         "xaxis": "x2",
         "y": [
          159.01923076923077,
          27.98076923076923,
          2.9722222222222223,
          1,
          6.6521739130434785,
          251.66666666666666,
          701.0980392156863,
          1308.7692307692307,
          1647.75,
          1373.7307692307693,
          1033.2307692307693,
          941.5384615384615,
          967.9807692307693,
          1045.2115384615386,
          1186.8653846153845,
          1431.3653846153845,
          1923.7307692307693,
          2434.7884615384614,
          2073.653846153846,
          1328.75,
          822.5192307692307,
          562,
          547.5192307692307,
          464.40384615384613
         ],
         "yaxis": "y2"
        },
        {
         "hovertemplate": "Day=Thursday<br>Station=EMBR<br>Hour=%{x}<br>Trip Count=%{y}<extra></extra>",
         "legendgroup": "Thursday",
         "line": {
          "color": "#990099",
          "dash": "solid"
         },
         "marker": {
          "symbol": "circle"
         },
         "mode": "lines",
         "name": "Thursday",
         "orientation": "v",
         "showlegend": false,
         "type": "scatter",
         "x": [
          0,
          1,
          2,
          3,
          4,
          5,
          6,
          7,
          8,
          9,
          10,
          11,
          12,
          13,
          14,
          15,
          16,
          17,
          18,
          19,
          20,
          21,
          22,
          23
         ],
         "xaxis": "x3",
         "y": [
          116.03846153846153,
          22.96153846153846,
          1.8125,
          2.533333333333333,
          4.204081632653061,
          438.5686274509804,
          1231.0192307692307,
          2435.2115384615386,
          3856.6923076923076,
          2723.8653846153848,
          1314.173076923077,
          979.1538461538462,
          881.8653846153846,
          852.6538461538462,
          1150.6923076923076,
          1664.3076923076924,
          2554.846153846154,
          3567.1346153846152,
          2655.153846153846,
          1356.4423076923076,
          705.6346153846154,
          481.78846153846155,
          485.5192307692308,
          320.13461538461536
         ],
         "yaxis": "y3"
        },
        {
         "hovertemplate": "Day=Thursday<br>Station=CIVC<br>Hour=%{x}<br>Trip Count=%{y}<extra></extra>",
         "legendgroup": "Thursday",
         "line": {
          "color": "#990099",
          "dash": "solid"
         },
         "marker": {
          "symbol": "circle"
         },
         "mode": "lines",
         "name": "Thursday",
         "orientation": "v",
         "showlegend": false,
         "type": "scatter",
         "x": [
          0,
          1,
          2,
          3,
          4,
          5,
          6,
          7,
          8,
          9,
          10,
          11,
          12,
          13,
          14,
          15,
          16,
          17,
          18,
          19,
          20,
          21,
          22,
          23
         ],
         "xaxis": "x4",
         "y": [
          99.78846153846153,
          17.78846153846154,
          1.7037037037037037,
          1.25,
          3.5217391304347827,
          180.5686274509804,
          659.7884615384615,
          1464.2692307692307,
          1824.576923076923,
          1157.8076923076924,
          650.2884615384615,
          526.0384615384615,
          549.4423076923077,
          566.2884615384615,
          637.3846153846154,
          900.7692307692307,
          1452.2115384615386,
          2261.5,
          1708.5961538461538,
          877.4807692307693,
          476.15384615384613,
          315.1730769230769,
          382.21153846153845,
          275.0576923076923
         ],
         "yaxis": "y4"
        },
        {
         "hovertemplate": "Day=Tuesday<br>Station=MONT<br>Hour=%{x}<br>Trip Count=%{y}<extra></extra>",
         "legendgroup": "Tuesday",
         "line": {
          "color": "#0099C6",
          "dash": "solid"
         },
         "marker": {
          "symbol": "circle"
         },
         "mode": "lines",
         "name": "Tuesday",
         "orientation": "v",
         "showlegend": true,
         "type": "scatter",
         "x": [
          0,
          1,
          2,
          3,
          4,
          5,
          6,
          7,
          8,
          9,
          10,
          11,
          12,
          13,
          14,
          15,
          16,
          17,
          18,
          19,
          20,
          21,
          22,
          23
         ],
         "xaxis": "x",
         "y": [
          80.78846153846153,
          23.557692307692307,
          1.875,
          1.3333333333333333,
          3.6470588235294117,
          373.4423076923077,
          957,
          2164.25,
          3665.230769230769,
          2553.8076923076924,
          1119.7884615384614,
          730.25,
          642.9423076923077,
          666.9807692307693,
          884.9807692307693,
          1236.3076923076924,
          2007.5192307692307,
          3229.019230769231,
          2553.673076923077,
          1188.9038461538462,
          562.8653846153846,
          331.11538461538464,
          319.6730769230769,
          231.3653846153846
         ],
         "yaxis": "y"
        },
        {
         "hovertemplate": "Day=Tuesday<br>Station=POWL<br>Hour=%{x}<br>Trip Count=%{y}<extra></extra>",
         "legendgroup": "Tuesday",
         "line": {
          "color": "#0099C6",
          "dash": "solid"
         },
         "marker": {
          "symbol": "circle"
         },
         "mode": "lines",
         "name": "Tuesday",
         "orientation": "v",
         "showlegend": false,
         "type": "scatter",
         "x": [
          0,
          1,
          2,
          3,
          4,
          5,
          6,
          7,
          8,
          9,
          10,
          11,
          12,
          13,
          14,
          15,
          16,
          17,
          18,
          19,
          20,
          21,
          22,
          23
         ],
         "xaxis": "x2",
         "y": [
          111.23076923076923,
          19.23076923076923,
          2,
          1,
          4.1,
          266.5,
          720.2692307692307,
          1342.826923076923,
          1659.5384615384614,
          1378.5384615384614,
          984.9038461538462,
          870.8653846153846,
          875.8461538461538,
          981.0384615384615,
          1103.076923076923,
          1349.3846153846155,
          1808.1153846153845,
          2348.1346153846152,
          2002.0576923076924,
          1212.1538461538462,
          746.5192307692307,
          488.5,
          472.4423076923077,
          374.75
         ],
         "yaxis": "y2"
        },
        {
         "hovertemplate": "Day=Tuesday<br>Station=EMBR<br>Hour=%{x}<br>Trip Count=%{y}<extra></extra>",
         "legendgroup": "Tuesday",
         "line": {
          "color": "#0099C6",
          "dash": "solid"
         },
         "marker": {
          "symbol": "circle"
         },
         "mode": "lines",
         "name": "Tuesday",
         "orientation": "v",
         "showlegend": false,
         "type": "scatter",
         "x": [
          0,
          1,
          2,
          3,
          4,
          5,
          6,
          7,
          8,
          9,
          10,
          11,
          12,
          13,
          14,
          15,
          16,
          17,
          18,
          19,
          20,
          21,
          22,
          23
         ],
         "xaxis": "x3",
         "y": [
          90.5,
          16.115384615384617,
          1.7272727272727273,
          2.142857142857143,
          4.346153846153846,
          483.13461538461536,
          1294.2115384615386,
          2647.230769230769,
          4282.288461538462,
          2920.6923076923076,
          1243,
          846.6538461538462,
          732.8461538461538,
          789.4615384615385,
          1097.4615384615386,
          1633.7115384615386,
          2637.3653846153848,
          3885.7115384615386,
          2790.2884615384614,
          1310.0384615384614,
          640.7692307692307,
          412.25,
          446.40384615384613,
          307.9807692307692
         ],
         "yaxis": "y3"
        },
        {
         "hovertemplate": "Day=Tuesday<br>Station=CIVC<br>Hour=%{x}<br>Trip Count=%{y}<extra></extra>",
         "legendgroup": "Tuesday",
         "line": {
          "color": "#0099C6",
          "dash": "solid"
         },
         "marker": {
          "symbol": "circle"
         },
         "mode": "lines",
         "name": "Tuesday",
         "orientation": "v",
         "showlegend": false,
         "type": "scatter",
         "x": [
          0,
          1,
          2,
          3,
          4,
          5,
          6,
          7,
          8,
          9,
          10,
          11,
          12,
          13,
          14,
          15,
          16,
          17,
          18,
          19,
          20,
          21,
          22,
          23
         ],
         "xaxis": "x4",
         "y": [
          73.13461538461539,
          13.538461538461538,
          1.52,
          2,
          3.5348837209302326,
          190.92307692307693,
          717.0384615384615,
          1610.75,
          2001.2307692307693,
          1162.1923076923076,
          631.8653846153846,
          498.5,
          510.96153846153845,
          523.4423076923077,
          599.6346153846154,
          878.5769230769231,
          1517.923076923077,
          2400.3653846153848,
          1739.2307692307693,
          831.7115384615385,
          444.36538461538464,
          275.13461538461536,
          316.59615384615387,
          256.1923076923077
         ],
         "yaxis": "y4"
        },
        {
         "hovertemplate": "Day=Wednesday<br>Station=MONT<br>Hour=%{x}<br>Trip Count=%{y}<extra></extra>",
         "legendgroup": "Wednesday",
         "line": {
          "color": "#DD4477",
          "dash": "solid"
         },
         "marker": {
          "symbol": "circle"
         },
         "mode": "lines",
         "name": "Wednesday",
         "orientation": "v",
         "showlegend": true,
         "type": "scatter",
         "x": [
          0,
          1,
          2,
          3,
          4,
          5,
          6,
          7,
          8,
          9,
          10,
          11,
          12,
          13,
          14,
          15,
          16,
          17,
          18,
          19,
          20,
          21,
          22,
          23
         ],
         "xaxis": "x",
         "y": [
          107.86538461538461,
          27.51923076923077,
          1.6176470588235294,
          1.625,
          3.2222222222222223,
          362.1923076923077,
          962.4423076923077,
          2097.480769230769,
          3439.1923076923076,
          2385.096153846154,
          1113.826923076923,
          780.1153846153846,
          703.2115384615385,
          687.0961538461538,
          904.9230769230769,
          1237.9423076923076,
          1975.0961538461538,
          3068.423076923077,
          2343.2884615384614,
          1191.0576923076924,
          583.7307692307693,
          352.09615384615387,
          313.6923076923077,
          221.69230769230768
         ],
         "yaxis": "y"
        },
        {
         "hovertemplate": "Day=Wednesday<br>Station=POWL<br>Hour=%{x}<br>Trip Count=%{y}<extra></extra>",
         "legendgroup": "Wednesday",
         "line": {
          "color": "#DD4477",
          "dash": "solid"
         },
         "marker": {
          "symbol": "circle"
         },
         "mode": "lines",
         "name": "Wednesday",
         "orientation": "v",
         "showlegend": false,
         "type": "scatter",
         "x": [
          0,
          1,
          2,
          3,
          4,
          5,
          6,
          7,
          8,
          9,
          10,
          11,
          12,
          13,
          14,
          15,
          16,
          17,
          18,
          19,
          20,
          21,
          22,
          23
         ],
         "xaxis": "x2",
         "y": [
          142.55769230769232,
          23.51923076923077,
          2.6944444444444446,
          1.3333333333333333,
          4.068965517241379,
          260.6730769230769,
          722.9615384615385,
          1350.4807692307693,
          1639,
          1386.3653846153845,
          1057.7692307692307,
          980.6346153846154,
          1012.8461538461538,
          983.8846153846154,
          1162.9615384615386,
          1403.1346153846155,
          1968.5961538461538,
          2427.9615384615386,
          2026.4615384615386,
          1273.7307692307693,
          764.0576923076923,
          508.11538461538464,
          497.90384615384613,
          400.25
         ],
         "yaxis": "y2"
        },
        {
         "hovertemplate": "Day=Wednesday<br>Station=EMBR<br>Hour=%{x}<br>Trip Count=%{y}<extra></extra>",
         "legendgroup": "Wednesday",
         "line": {
          "color": "#DD4477",
          "dash": "solid"
         },
         "marker": {
          "symbol": "circle"
         },
         "mode": "lines",
         "name": "Wednesday",
         "orientation": "v",
         "showlegend": false,
         "type": "scatter",
         "x": [
          0,
          1,
          2,
          3,
          4,
          5,
          6,
          7,
          8,
          9,
          10,
          11,
          12,
          13,
          14,
          15,
          16,
          17,
          18,
          19,
          20,
          21,
          22,
          23
         ],
         "xaxis": "x3",
         "y": [
          109.88461538461539,
          19.634615384615383,
          1.7575757575757576,
          2.769230769230769,
          4.0212765957446805,
          479.1923076923077,
          1317.5,
          2593.8653846153848,
          4106.884615384615,
          2849.25,
          1307.5192307692307,
          1000.4230769230769,
          860.0384615384615,
          823.4615384615385,
          1133.576923076923,
          1707.4615384615386,
          2685.326923076923,
          3831.5,
          2690.923076923077,
          1351.0576923076924,
          696.8461538461538,
          443.9807692307692,
          419.3076923076923,
          291.0769230769231
         ],
         "yaxis": "y3"
        },
        {
         "hovertemplate": "Day=Wednesday<br>Station=CIVC<br>Hour=%{x}<br>Trip Count=%{y}<extra></extra>",
         "legendgroup": "Wednesday",
         "line": {
          "color": "#DD4477",
          "dash": "solid"
         },
         "marker": {
          "symbol": "circle"
         },
         "mode": "lines",
         "name": "Wednesday",
         "orientation": "v",
         "showlegend": false,
         "type": "scatter",
         "x": [
          0,
          1,
          2,
          3,
          4,
          5,
          6,
          7,
          8,
          9,
          10,
          11,
          12,
          13,
          14,
          15,
          16,
          17,
          18,
          19,
          20,
          21,
          22,
          23
         ],
         "xaxis": "x4",
         "y": [
          102.59615384615384,
          15.846153846153847,
          2.2857142857142856,
          2.2,
          3.076923076923077,
          202,
          724.4615384615385,
          1653.1346153846155,
          2003.7115384615386,
          1199.4807692307693,
          704.5961538461538,
          598.7692307692307,
          684.3269230769231,
          569.0192307692307,
          654.2692307692307,
          970.2307692307693,
          1635.076923076923,
          2412.173076923077,
          1670.4807692307693,
          835.5576923076923,
          458.86538461538464,
          291.28846153846155,
          327.46153846153845,
          233.92307692307693
         ],
         "yaxis": "y4"
        }
       ],
       "layout": {
        "annotations": [
         {
          "font": {},
          "showarrow": false,
          "text": "MONT",
          "x": 0.1175,
          "xanchor": "center",
          "xref": "paper",
          "y": 1,
          "yanchor": "bottom",
          "yref": "paper"
         },
         {
          "font": {},
          "showarrow": false,
          "text": "POWL",
          "x": 0.3725,
          "xanchor": "center",
          "xref": "paper",
          "y": 1,
          "yanchor": "bottom",
          "yref": "paper"
         },
         {
          "font": {},
          "showarrow": false,
          "text": "EMBR",
          "x": 0.6275,
          "xanchor": "center",
          "xref": "paper",
          "y": 1,
          "yanchor": "bottom",
          "yref": "paper"
         },
         {
          "font": {},
          "showarrow": false,
          "text": "CIVC",
          "x": 0.8824999999999998,
          "xanchor": "center",
          "xref": "paper",
          "y": 1,
          "yanchor": "bottom",
          "yref": "paper"
         }
        ],
        "height": 350,
        "legend": {
         "title": {
          "text": "Day"
         },
         "tracegroupgap": 0
        },
        "showlegend": false,
        "template": {
         "data": {
          "bar": [
           {
            "error_x": {
             "color": "#2a3f5f"
            },
            "error_y": {
             "color": "#2a3f5f"
            },
            "marker": {
             "line": {
              "color": "#E5ECF6",
              "width": 0.5
             },
             "pattern": {
              "fillmode": "overlay",
              "size": 10,
              "solidity": 0.2
             }
            },
            "type": "bar"
           }
          ],
          "barpolar": [
           {
            "marker": {
             "line": {
              "color": "#E5ECF6",
              "width": 0.5
             },
             "pattern": {
              "fillmode": "overlay",
              "size": 10,
              "solidity": 0.2
             }
            },
            "type": "barpolar"
           }
          ],
          "carpet": [
           {
            "aaxis": {
             "endlinecolor": "#2a3f5f",
             "gridcolor": "white",
             "linecolor": "white",
             "minorgridcolor": "white",
             "startlinecolor": "#2a3f5f"
            },
            "baxis": {
             "endlinecolor": "#2a3f5f",
             "gridcolor": "white",
             "linecolor": "white",
             "minorgridcolor": "white",
             "startlinecolor": "#2a3f5f"
            },
            "type": "carpet"
           }
          ],
          "choropleth": [
           {
            "colorbar": {
             "outlinewidth": 0,
             "ticks": ""
            },
            "type": "choropleth"
           }
          ],
          "contour": [
           {
            "colorbar": {
             "outlinewidth": 0,
             "ticks": ""
            },
            "colorscale": [
             [
              0,
              "#0d0887"
             ],
             [
              0.1111111111111111,
              "#46039f"
             ],
             [
              0.2222222222222222,
              "#7201a8"
             ],
             [
              0.3333333333333333,
              "#9c179e"
             ],
             [
              0.4444444444444444,
              "#bd3786"
             ],
             [
              0.5555555555555556,
              "#d8576b"
             ],
             [
              0.6666666666666666,
              "#ed7953"
             ],
             [
              0.7777777777777778,
              "#fb9f3a"
             ],
             [
              0.8888888888888888,
              "#fdca26"
             ],
             [
              1,
              "#f0f921"
             ]
            ],
            "type": "contour"
           }
          ],
          "contourcarpet": [
           {
            "colorbar": {
             "outlinewidth": 0,
             "ticks": ""
            },
            "type": "contourcarpet"
           }
          ],
          "heatmap": [
           {
            "colorbar": {
             "outlinewidth": 0,
             "ticks": ""
            },
            "colorscale": [
             [
              0,
              "#0d0887"
             ],
             [
              0.1111111111111111,
              "#46039f"
             ],
             [
              0.2222222222222222,
              "#7201a8"
             ],
             [
              0.3333333333333333,
              "#9c179e"
             ],
             [
              0.4444444444444444,
              "#bd3786"
             ],
             [
              0.5555555555555556,
              "#d8576b"
             ],
             [
              0.6666666666666666,
              "#ed7953"
             ],
             [
              0.7777777777777778,
              "#fb9f3a"
             ],
             [
              0.8888888888888888,
              "#fdca26"
             ],
             [
              1,
              "#f0f921"
             ]
            ],
            "type": "heatmap"
           }
          ],
          "heatmapgl": [
           {
            "colorbar": {
             "outlinewidth": 0,
             "ticks": ""
            },
            "colorscale": [
             [
              0,
              "#0d0887"
             ],
             [
              0.1111111111111111,
              "#46039f"
             ],
             [
              0.2222222222222222,
              "#7201a8"
             ],
             [
              0.3333333333333333,
              "#9c179e"
             ],
             [
              0.4444444444444444,
              "#bd3786"
             ],
             [
              0.5555555555555556,
              "#d8576b"
             ],
             [
              0.6666666666666666,
              "#ed7953"
             ],
             [
              0.7777777777777778,
              "#fb9f3a"
             ],
             [
              0.8888888888888888,
              "#fdca26"
             ],
             [
              1,
              "#f0f921"
             ]
            ],
            "type": "heatmapgl"
           }
          ],
          "histogram": [
           {
            "marker": {
             "pattern": {
              "fillmode": "overlay",
              "size": 10,
              "solidity": 0.2
             }
            },
            "type": "histogram"
           }
          ],
          "histogram2d": [
           {
            "colorbar": {
             "outlinewidth": 0,
             "ticks": ""
            },
            "colorscale": [
             [
              0,
              "#0d0887"
             ],
             [
              0.1111111111111111,
              "#46039f"
             ],
             [
              0.2222222222222222,
              "#7201a8"
             ],
             [
              0.3333333333333333,
              "#9c179e"
             ],
             [
              0.4444444444444444,
              "#bd3786"
             ],
             [
              0.5555555555555556,
              "#d8576b"
             ],
             [
              0.6666666666666666,
              "#ed7953"
             ],
             [
              0.7777777777777778,
              "#fb9f3a"
             ],
             [
              0.8888888888888888,
              "#fdca26"
             ],
             [
              1,
              "#f0f921"
             ]
            ],
            "type": "histogram2d"
           }
          ],
          "histogram2dcontour": [
           {
            "colorbar": {
             "outlinewidth": 0,
             "ticks": ""
            },
            "colorscale": [
             [
              0,
              "#0d0887"
             ],
             [
              0.1111111111111111,
              "#46039f"
             ],
             [
              0.2222222222222222,
              "#7201a8"
             ],
             [
              0.3333333333333333,
              "#9c179e"
             ],
             [
              0.4444444444444444,
              "#bd3786"
             ],
             [
              0.5555555555555556,
              "#d8576b"
             ],
             [
              0.6666666666666666,
              "#ed7953"
             ],
             [
              0.7777777777777778,
              "#fb9f3a"
             ],
             [
              0.8888888888888888,
              "#fdca26"
             ],
             [
              1,
              "#f0f921"
             ]
            ],
            "type": "histogram2dcontour"
           }
          ],
          "mesh3d": [
           {
            "colorbar": {
             "outlinewidth": 0,
             "ticks": ""
            },
            "type": "mesh3d"
           }
          ],
          "parcoords": [
           {
            "line": {
             "colorbar": {
              "outlinewidth": 0,
              "ticks": ""
             }
            },
            "type": "parcoords"
           }
          ],
          "pie": [
           {
            "automargin": true,
            "type": "pie"
           }
          ],
          "scatter": [
           {
            "fillpattern": {
             "fillmode": "overlay",
             "size": 10,
             "solidity": 0.2
            },
            "type": "scatter"
           }
          ],
          "scatter3d": [
           {
            "line": {
             "colorbar": {
              "outlinewidth": 0,
              "ticks": ""
             }
            },
            "marker": {
             "colorbar": {
              "outlinewidth": 0,
              "ticks": ""
             }
            },
            "type": "scatter3d"
           }
          ],
          "scattercarpet": [
           {
            "marker": {
             "colorbar": {
              "outlinewidth": 0,
              "ticks": ""
             }
            },
            "type": "scattercarpet"
           }
          ],
          "scattergeo": [
           {
            "marker": {
             "colorbar": {
              "outlinewidth": 0,
              "ticks": ""
             }
            },
            "type": "scattergeo"
           }
          ],
          "scattergl": [
           {
            "marker": {
             "colorbar": {
              "outlinewidth": 0,
              "ticks": ""
             }
            },
            "type": "scattergl"
           }
          ],
          "scattermapbox": [
           {
            "marker": {
             "colorbar": {
              "outlinewidth": 0,
              "ticks": ""
             }
            },
            "type": "scattermapbox"
           }
          ],
          "scatterpolar": [
           {
            "marker": {
             "colorbar": {
              "outlinewidth": 0,
              "ticks": ""
             }
            },
            "type": "scatterpolar"
           }
          ],
          "scatterpolargl": [
           {
            "marker": {
             "colorbar": {
              "outlinewidth": 0,
              "ticks": ""
             }
            },
            "type": "scatterpolargl"
           }
          ],
          "scatterternary": [
           {
            "marker": {
             "colorbar": {
              "outlinewidth": 0,
              "ticks": ""
             }
            },
            "type": "scatterternary"
           }
          ],
          "surface": [
           {
            "colorbar": {
             "outlinewidth": 0,
             "ticks": ""
            },
            "colorscale": [
             [
              0,
              "#0d0887"
             ],
             [
              0.1111111111111111,
              "#46039f"
             ],
             [
              0.2222222222222222,
              "#7201a8"
             ],
             [
              0.3333333333333333,
              "#9c179e"
             ],
             [
              0.4444444444444444,
              "#bd3786"
             ],
             [
              0.5555555555555556,
              "#d8576b"
             ],
             [
              0.6666666666666666,
              "#ed7953"
             ],
             [
              0.7777777777777778,
              "#fb9f3a"
             ],
             [
              0.8888888888888888,
              "#fdca26"
             ],
             [
              1,
              "#f0f921"
             ]
            ],
            "type": "surface"
           }
          ],
          "table": [
           {
            "cells": {
             "fill": {
              "color": "#EBF0F8"
             },
             "line": {
              "color": "white"
             }
            },
            "header": {
             "fill": {
              "color": "#C8D4E3"
             },
             "line": {
              "color": "white"
             }
            },
            "type": "table"
           }
          ]
         },
         "layout": {
          "annotationdefaults": {
           "arrowcolor": "#2a3f5f",
           "arrowhead": 0,
           "arrowwidth": 1
          },
          "autotypenumbers": "strict",
          "coloraxis": {
           "colorbar": {
            "outlinewidth": 0,
            "ticks": ""
           }
          },
          "colorscale": {
           "diverging": [
            [
             0,
             "#8e0152"
            ],
            [
             0.1,
             "#c51b7d"
            ],
            [
             0.2,
             "#de77ae"
            ],
            [
             0.3,
             "#f1b6da"
            ],
            [
             0.4,
             "#fde0ef"
            ],
            [
             0.5,
             "#f7f7f7"
            ],
            [
             0.6,
             "#e6f5d0"
            ],
            [
             0.7,
             "#b8e186"
            ],
            [
             0.8,
             "#7fbc41"
            ],
            [
             0.9,
             "#4d9221"
            ],
            [
             1,
             "#276419"
            ]
           ],
           "sequential": [
            [
             0,
             "#0d0887"
            ],
            [
             0.1111111111111111,
             "#46039f"
            ],
            [
             0.2222222222222222,
             "#7201a8"
            ],
            [
             0.3333333333333333,
             "#9c179e"
            ],
            [
             0.4444444444444444,
             "#bd3786"
            ],
            [
             0.5555555555555556,
             "#d8576b"
            ],
            [
             0.6666666666666666,
             "#ed7953"
            ],
            [
             0.7777777777777778,
             "#fb9f3a"
            ],
            [
             0.8888888888888888,
             "#fdca26"
            ],
            [
             1,
             "#f0f921"
            ]
           ],
           "sequentialminus": [
            [
             0,
             "#0d0887"
            ],
            [
             0.1111111111111111,
             "#46039f"
            ],
            [
             0.2222222222222222,
             "#7201a8"
            ],
            [
             0.3333333333333333,
             "#9c179e"
            ],
            [
             0.4444444444444444,
             "#bd3786"
            ],
            [
             0.5555555555555556,
             "#d8576b"
            ],
            [
             0.6666666666666666,
             "#ed7953"
            ],
            [
             0.7777777777777778,
             "#fb9f3a"
            ],
            [
             0.8888888888888888,
             "#fdca26"
            ],
            [
             1,
             "#f0f921"
            ]
           ]
          },
          "colorway": [
           "#636efa",
           "#EF553B",
           "#00cc96",
           "#ab63fa",
           "#FFA15A",
           "#19d3f3",
           "#FF6692",
           "#B6E880",
           "#FF97FF",
           "#FECB52"
          ],
          "font": {
           "color": "#2a3f5f"
          },
          "geo": {
           "bgcolor": "white",
           "lakecolor": "white",
           "landcolor": "#E5ECF6",
           "showlakes": true,
           "showland": true,
           "subunitcolor": "white"
          },
          "hoverlabel": {
           "align": "left"
          },
          "hovermode": "closest",
          "mapbox": {
           "style": "light"
          },
          "paper_bgcolor": "white",
          "plot_bgcolor": "#E5ECF6",
          "polar": {
           "angularaxis": {
            "gridcolor": "white",
            "linecolor": "white",
            "ticks": ""
           },
           "bgcolor": "#E5ECF6",
           "radialaxis": {
            "gridcolor": "white",
            "linecolor": "white",
            "ticks": ""
           }
          },
          "scene": {
           "xaxis": {
            "backgroundcolor": "#E5ECF6",
            "gridcolor": "white",
            "gridwidth": 2,
            "linecolor": "white",
            "showbackground": true,
            "ticks": "",
            "zerolinecolor": "white"
           },
           "yaxis": {
            "backgroundcolor": "#E5ECF6",
            "gridcolor": "white",
            "gridwidth": 2,
            "linecolor": "white",
            "showbackground": true,
            "ticks": "",
            "zerolinecolor": "white"
           },
           "zaxis": {
            "backgroundcolor": "#E5ECF6",
            "gridcolor": "white",
            "gridwidth": 2,
            "linecolor": "white",
            "showbackground": true,
            "ticks": "",
            "zerolinecolor": "white"
           }
          },
          "shapedefaults": {
           "line": {
            "color": "#2a3f5f"
           }
          },
          "ternary": {
           "aaxis": {
            "gridcolor": "white",
            "linecolor": "white",
            "ticks": ""
           },
           "baxis": {
            "gridcolor": "white",
            "linecolor": "white",
            "ticks": ""
           },
           "bgcolor": "#E5ECF6",
           "caxis": {
            "gridcolor": "white",
            "linecolor": "white",
            "ticks": ""
           }
          },
          "title": {
           "x": 0.05
          },
          "xaxis": {
           "automargin": true,
           "gridcolor": "white",
           "linecolor": "white",
           "ticks": "",
           "title": {
            "standoff": 15
           },
           "zerolinecolor": "white",
           "zerolinewidth": 2
          },
          "yaxis": {
           "automargin": true,
           "gridcolor": "white",
           "linecolor": "white",
           "ticks": "",
           "title": {
            "standoff": 15
           },
           "zerolinecolor": "white",
           "zerolinewidth": 2
          }
         }
        },
        "title": {
         "text": "2022 SF Downtown Hourly Ridership"
        },
        "width": 900,
        "xaxis": {
         "anchor": "y",
         "autorange": true,
         "domain": [
          0,
          0.235
         ],
         "range": [
          0,
          23
         ],
         "title": {
          "text": "Hour"
         },
         "type": "linear"
        },
        "xaxis2": {
         "anchor": "y2",
         "autorange": true,
         "domain": [
          0.255,
          0.49
         ],
         "matches": "x",
         "range": [
          0,
          23
         ],
         "title": {
          "text": "Hour"
         },
         "type": "linear"
        },
        "xaxis3": {
         "anchor": "y3",
         "autorange": true,
         "domain": [
          0.51,
          0.745
         ],
         "matches": "x",
         "range": [
          0,
          23
         ],
         "title": {
          "text": "Hour"
         },
         "type": "linear"
        },
        "xaxis4": {
         "anchor": "y4",
         "autorange": true,
         "domain": [
          0.7649999999999999,
          0.9999999999999999
         ],
         "matches": "x",
         "range": [
          0,
          23
         ],
         "title": {
          "text": "Hour"
         },
         "type": "linear"
        },
        "yaxis": {
         "anchor": "x",
         "autorange": true,
         "domain": [
          0,
          1
         ],
         "range": [
          -236.849358974359,
          4520.137820512821
         ],
         "title": {
          "text": "Trip Count"
         },
         "type": "linear"
        },
        "yaxis2": {
         "anchor": "x2",
         "autorange": true,
         "domain": [
          0,
          1
         ],
         "matches": "y",
         "range": [
          -236.849358974359,
          4520.137820512821
         ],
         "showticklabels": false,
         "type": "linear"
        },
        "yaxis3": {
         "anchor": "x3",
         "autorange": true,
         "domain": [
          0,
          1
         ],
         "matches": "y",
         "range": [
          -236.849358974359,
          4520.137820512821
         ],
         "showticklabels": false,
         "type": "linear"
        },
        "yaxis4": {
         "anchor": "x4",
         "autorange": true,
         "domain": [
          0,
          1
         ],
         "matches": "y",
         "range": [
          -236.849358974359,
          4520.137820512821
         ],
         "showticklabels": false,
         "type": "linear"
        }
       }
      },
      "image/png": "[encoded data removed]",
      "text/html": [
       "<div>                            <div id=\"43cbe573-9e44-4d16-b581-49ecef355daf\" class=\"plotly-graph-div\" style=\"height:350px; width:900px;\"></div>            <script type=\"text/javascript\">                require([\"plotly\"], function(Plotly) {                    window.PLOTLYENV=window.PLOTLYENV || {};                                    if (document.getElementById(\"43cbe573-9e44-4d16-b581-49ecef355daf\")) {                    Plotly.newPlot(                        \"43cbe573-9e44-4d16-b581-49ecef355daf\",                        [{\"hovertemplate\":\"Day=Friday\\u003cbr\\u003eStation=MONT\\u003cbr\\u003eHour=%{x}\\u003cbr\\u003eTrip Count=%{y}\\u003cextra\\u003e\\u003c\\u002fextra\\u003e\",\"legendgroup\":\"Friday\",\"line\":{\"color\":\"#3366CC\",\"dash\":\"solid\"},\"marker\":{\"symbol\":\"circle\"},\"mode\":\"lines\",\"name\":\"Friday\",\"orientation\":\"v\",\"showlegend\":true,\"x\":[0,1,2,3,4,5,6,7,8,9,10,11,12,13,14,15,16,17,18,19,20,21,22,23],\"xaxis\":\"x\",\"y\":[134.05769230769232,33.05769230769231,2.5357142857142856,1.3333333333333333,5.2,274.03846153846155,682.6923076923077,1304.4423076923076,1902.576923076923,1382.923076923077,886.2884615384615,711.1346153846154,679.5576923076923,714.7692307692307,897.2307692307693,1103.0576923076924,1422.8846153846155,1838.0,1493.7692307692307,827.5576923076923,450.4230769230769,319.15384615384613,294.1730769230769,297.7692307692308],\"yaxis\":\"y\",\"type\":\"scatter\"},{\"hovertemplate\":\"Day=Friday\\u003cbr\\u003eStation=POWL\\u003cbr\\u003eHour=%{x}\\u003cbr\\u003eTrip Count=%{y}\\u003cextra\\u003e\\u003c\\u002fextra\\u003e\",\"legendgroup\":\"Friday\",\"line\":{\"color\":\"#3366CC\",\"dash\":\"solid\"},\"marker\":{\"symbol\":\"circle\"},\"mode\":\"lines\",\"name\":\"Friday\",\"orientation\":\"v\",\"showlegend\":false,\"x\":[0,1,2,3,4,5,6,7,8,9,10,11,12,13,14,15,16,17,18,19,20,21,22,23],\"xaxis\":\"x2\",\"y\":[187.8846153846154,29.28846153846154,2.3947368421052633,1.0,4.846153846153846,235.03846153846155,618.4807692307693,1142.326923076923,1364.1346153846155,1196.6153846153845,1066.4038461538462,1044.0961538461538,1058.2115384615386,1164.4423076923076,1331.4038461538462,1542.5576923076924,1953.0384615384614,2318.173076923077,2051.8653846153848,1375.5576923076924,877.9038461538462,578.5384615384615,576.0576923076923,552.0961538461538],\"yaxis\":\"y2\",\"type\":\"scatter\"},{\"hovertemplate\":\"Day=Friday\\u003cbr\\u003eStation=EMBR\\u003cbr\\u003eHour=%{x}\\u003cbr\\u003eTrip Count=%{y}\\u003cextra\\u003e\\u003c\\u002fextra\\u003e\",\"legendgroup\":\"Friday\",\"line\":{\"color\":\"#3366CC\",\"dash\":\"solid\"},\"marker\":{\"symbol\":\"circle\"},\"mode\":\"lines\",\"name\":\"Friday\",\"orientation\":\"v\",\"showlegend\":false,\"x\":[0,1,2,3,4,5,6,7,8,9,10,11,12,13,14,15,16,17,18,19,20,21,22,23],\"xaxis\":\"x3\",\"y\":[130.78846153846155,21.576923076923077,1.896551724137931,1.7692307692307692,6.875,376.63461538461536,913.2307692307693,1530.1538461538462,1973.5961538461538,1453.75,965.9038461538462,886.8076923076923,834.3461538461538,882.9807692307693,1141.9615384615386,1464.3846153846155,1840.5961538461538,2217.173076923077,1782.0576923076924,966.5769230769231,543.1346153846154,388.96153846153845,430.90384615384613,437.0],\"yaxis\":\"y3\",\"type\":\"scatter\"},{\"hovertemplate\":\"Day=Friday\\u003cbr\\u003eStation=CIVC\\u003cbr\\u003eHour=%{x}\\u003cbr\\u003eTrip Count=%{y}\\u003cextra\\u003e\\u003c\\u002fextra\\u003e\",\"legendgroup\":\"Friday\",\"line\":{\"color\":\"#3366CC\",\"dash\":\"solid\"},\"marker\":{\"symbol\":\"circle\"},\"mode\":\"lines\",\"name\":\"Friday\",\"orientation\":\"v\",\"showlegend\":false,\"x\":[0,1,2,3,4,5,6,7,8,9,10,11,12,13,14,15,16,17,18,19,20,21,22,23],\"xaxis\":\"x4\",\"y\":[117.92307692307692,21.634615384615383,2.1379310344827585,2.0,2.9545454545454546,167.6346153846154,549.5384615384615,1137.2115384615386,1346.6346153846155,847.75,588.6923076923077,531.0192307692307,571.25,612.0,679.9038461538462,893.4038461538462,1303.7115384615386,1828.8846153846155,1457.75,863.6153846153846,476.09615384615387,337.53846153846155,438.5192307692308,377.0769230769231],\"yaxis\":\"y4\",\"type\":\"scatter\"},{\"hovertemplate\":\"Day=Monday\\u003cbr\\u003eStation=MONT\\u003cbr\\u003eHour=%{x}\\u003cbr\\u003eTrip Count=%{y}\\u003cextra\\u003e\\u003c\\u002fextra\\u003e\",\"legendgroup\":\"Monday\",\"line\":{\"color\":\"#DC3912\",\"dash\":\"solid\"},\"marker\":{\"symbol\":\"circle\"},\"mode\":\"lines\",\"name\":\"Monday\",\"orientation\":\"v\",\"showlegend\":true,\"x\":[0,1,2,3,4,5,6,7,8,9,10,11,12,13,14,15,16,17,18,19,20,21,22,23],\"xaxis\":\"x\",\"y\":[49.46153846153846,9.134615384615385,1.75,6.428571428571429,3.2666666666666666,298.7551020408163,730.9230769230769,1564.2115384615386,2411.2115384615386,1635.7307692307693,893.3076923076923,692.1346153846154,587.8076923076923,623.9615384615385,813.7692307692307,1011.8269230769231,1455.7692307692307,2173.076923076923,1650.3653846153845,786.4615384615385,387.15384615384613,236.17307692307693,232.94230769230768,170.42307692307693],\"yaxis\":\"y\",\"type\":\"scatter\"},{\"hovertemplate\":\"Day=Monday\\u003cbr\\u003eStation=POWL\\u003cbr\\u003eHour=%{x}\\u003cbr\\u003eTrip Count=%{y}\\u003cextra\\u003e\\u003c\\u002fextra\\u003e\",\"legendgroup\":\"Monday\",\"line\":{\"color\":\"#DC3912\",\"dash\":\"solid\"},\"marker\":{\"symbol\":\"circle\"},\"mode\":\"lines\",\"name\":\"Monday\",\"orientation\":\"v\",\"showlegend\":false,\"x\":[0,1,2,3,4,5,6,7,8,9,10,11,12,13,14,15,16,17,18,19,20,21,22,23],\"xaxis\":\"x2\",\"y\":[110.92307692307692,18.98076923076923,1.6923076923076923,1.0,4.333333333333333,219.9591836734694,610.12,1107.826923076923,1349.8653846153845,1171.3653846153845,998.1730769230769,963.7884615384615,942.4615384615385,988.5192307692307,1142.75,1350.0,1663.2115384615386,2005.7307692307693,1615.4615384615386,1011.4038461538462,647.1538461538462,418.8269230769231,357.8076923076923,258.1730769230769],\"yaxis\":\"y2\",\"type\":\"scatter\"},{\"hovertemplate\":\"Day=Monday\\u003cbr\\u003eStation=EMBR\\u003cbr\\u003eHour=%{x}\\u003cbr\\u003eTrip Count=%{y}\\u003cextra\\u003e\\u003c\\u002fextra\\u003e\",\"legendgroup\":\"Monday\",\"line\":{\"color\":\"#DC3912\",\"dash\":\"solid\"},\"marker\":{\"symbol\":\"circle\"},\"mode\":\"lines\",\"name\":\"Monday\",\"orientation\":\"v\",\"showlegend\":false,\"x\":[0,1,2,3,4,5,6,7,8,9,10,11,12,13,14,15,16,17,18,19,20,21,22,23],\"xaxis\":\"x3\",\"y\":[66.40384615384616,10.25,1.8235294117647058,8.0,3.6666666666666665,382.80392156862746,1037.76,1869.4807692307693,2653.6923076923076,1783.5192307692307,947.5384615384615,753.7692307692307,692.0961538461538,744.4230769230769,963.0192307692307,1307.2307692307693,1872.1923076923076,2593.6153846153848,1851.3076923076924,910.0192307692307,488.59615384615387,333.5,364.61538461538464,274.21153846153845],\"yaxis\":\"y3\",\"type\":\"scatter\"},{\"hovertemplate\":\"Day=Monday\\u003cbr\\u003eStation=CIVC\\u003cbr\\u003eHour=%{x}\\u003cbr\\u003eTrip Count=%{y}\\u003cextra\\u003e\\u003c\\u002fextra\\u003e\",\"legendgroup\":\"Monday\",\"line\":{\"color\":\"#DC3912\",\"dash\":\"solid\"},\"marker\":{\"symbol\":\"circle\"},\"mode\":\"lines\",\"name\":\"Monday\",\"orientation\":\"v\",\"showlegend\":false,\"x\":[0,1,2,3,4,5,6,7,8,9,10,11,12,13,14,15,16,17,18,19,20,21,22,23],\"xaxis\":\"x4\",\"y\":[81.09615384615384,14.73076923076923,2.0,1.8333333333333333,3.5476190476190474,161.48979591836735,569.58,1250.6153846153845,1486.8846153846155,894.2884615384615,555.4615384615385,493.3269230769231,508.78846153846155,494.0,568.3846153846154,800.6730769230769,1218.1346153846155,1808.326923076923,1261.076923076923,582.0,325.40384615384613,216.78846153846155,191.01923076923077,136.42307692307693],\"yaxis\":\"y4\",\"type\":\"scatter\"},{\"hovertemplate\":\"Day=Saturday\\u003cbr\\u003eStation=MONT\\u003cbr\\u003eHour=%{x}\\u003cbr\\u003eTrip Count=%{y}\\u003cextra\\u003e\\u003c\\u002fextra\\u003e\",\"legendgroup\":\"Saturday\",\"line\":{\"color\":\"#FF9900\",\"dash\":\"solid\"},\"marker\":{\"symbol\":\"circle\"},\"mode\":\"lines\",\"name\":\"Saturday\",\"orientation\":\"v\",\"showlegend\":true,\"x\":[0,1,2,3,4,5,6,7,8,9,10,11,12,13,14,15,16,17,18,19,20,21,22,23],\"xaxis\":\"x\",\"y\":[181.19230769230768,45.84615384615385,3.0476190476190474,1.0,1.25,3.2758620689655173,109.11538461538461,221.1153846153846,375.15384615384613,496.96153846153845,519.75,596.8269230769231,620.4230769230769,611.9615384615385,632.5576923076923,620.6153846153846,621.9615384615385,702.1538461538462,641.9807692307693,489.78846153846155,345.21153846153845,302.13461538461536,269.38461538461536,210.05769230769232],\"yaxis\":\"y\",\"type\":\"scatter\"},{\"hovertemplate\":\"Day=Saturday\\u003cbr\\u003eStation=POWL\\u003cbr\\u003eHour=%{x}\\u003cbr\\u003eTrip Count=%{y}\\u003cextra\\u003e\\u003c\\u002fextra\\u003e\",\"legendgroup\":\"Saturday\",\"line\":{\"color\":\"#FF9900\",\"dash\":\"solid\"},\"marker\":{\"symbol\":\"circle\"},\"mode\":\"lines\",\"name\":\"Saturday\",\"orientation\":\"v\",\"showlegend\":false,\"x\":[0,1,2,3,4,5,6,7,8,9,10,11,12,13,14,15,16,17,18,19,20,21,22,23],\"xaxis\":\"x2\",\"y\":[274.5576923076923,51.88461538461539,3.5625,2.0,1.3333333333333333,5.560975609756097,203.59615384615384,456.0,632.9807692307693,810.9038461538462,1012.5576923076923,1244.673076923077,1346.5,1326.576923076923,1398.326923076923,1445.6153846153845,1628.8076923076924,1738.2307692307693,1526.25,1199.8653846153845,852.4807692307693,655.0384615384615,550.5,480.96153846153845],\"yaxis\":\"y2\",\"type\":\"scatter\"},{\"hovertemplate\":\"Day=Saturday\\u003cbr\\u003eStation=EMBR\\u003cbr\\u003eHour=%{x}\\u003cbr\\u003eTrip Count=%{y}\\u003cextra\\u003e\\u003c\\u002fextra\\u003e\",\"legendgroup\":\"Saturday\",\"line\":{\"color\":\"#FF9900\",\"dash\":\"solid\"},\"marker\":{\"symbol\":\"circle\"},\"mode\":\"lines\",\"name\":\"Saturday\",\"orientation\":\"v\",\"showlegend\":false,\"x\":[0,1,2,3,4,5,6,7,8,9,10,11,12,13,14,15,16,17,18,19,20,21,22,23],\"xaxis\":\"x3\",\"y\":[222.05769230769232,36.44230769230769,2.6296296296296298,1.6,1.5,3.4651162790697674,135.46153846153845,260.38461538461536,404.5576923076923,584.6923076923077,783.75,1007.9807692307693,1027.5961538461538,947.2115384615385,949.6346153846154,915.6346153846154,983.7307692307693,1025.4615384615386,874.6538461538462,672.6153846153846,492.5576923076923,457.8076923076923,365.5576923076923,286.71153846153845],\"yaxis\":\"y3\",\"type\":\"scatter\"},{\"hovertemplate\":\"Day=Saturday\\u003cbr\\u003eStation=CIVC\\u003cbr\\u003eHour=%{x}\\u003cbr\\u003eTrip Count=%{y}\\u003cextra\\u003e\\u003c\\u002fextra\\u003e\",\"legendgroup\":\"Saturday\",\"line\":{\"color\":\"#FF9900\",\"dash\":\"solid\"},\"marker\":{\"symbol\":\"circle\"},\"mode\":\"lines\",\"name\":\"Saturday\",\"orientation\":\"v\",\"showlegend\":false,\"x\":[0,1,2,3,4,5,6,7,8,9,10,11,12,13,14,15,16,17,18,19,20,21,22,23],\"xaxis\":\"x4\",\"y\":[218.8846153846154,50.07692307692308,3.8974358974358974,1.0,1.0,3.5476190476190474,90.61538461538461,192.67307692307693,321.71153846153845,377.13461538461536,468.9807692307692,590.2307692307693,740.1923076923077,633.9038461538462,608.6346153846154,654.1730769230769,749.5384615384615,777.5576923076923,750.1730769230769,583.0769230769231,362.13461538461536,329.9230769230769,387.0576923076923,324.9230769230769],\"yaxis\":\"y4\",\"type\":\"scatter\"},{\"hovertemplate\":\"Day=Sunday\\u003cbr\\u003eStation=MONT\\u003cbr\\u003eHour=%{x}\\u003cbr\\u003eTrip Count=%{y}\\u003cextra\\u003e\\u003c\\u002fextra\\u003e\",\"legendgroup\":\"Sunday\",\"line\":{\"color\":\"#109618\",\"dash\":\"solid\"},\"marker\":{\"symbol\":\"circle\"},\"mode\":\"lines\",\"name\":\"Sunday\",\"orientation\":\"v\",\"showlegend\":true,\"x\":[0,1,2,3,4,5,6,7,8,9,10,11,12,13,14,15,16,17,18,19,20,21,22,23],\"xaxis\":\"x\",\"y\":[124.41509433962264,36.094339622641506,7.348837209302325,10.833333333333334,1.25,1.0,1.7272727272727273,34.0188679245283,228.56603773584905,333.9433962264151,428.811320754717,499.79245283018867,510.0943396226415,458.2830188679245,457.8301886792453,413.8679245283019,426.20754716981133,489.0943396226415,449.9056603773585,310.0,229.66037735849056,172.62264150943398,147.64150943396226,105.39622641509433],\"yaxis\":\"y\",\"type\":\"scatter\"},{\"hovertemplate\":\"Day=Sunday\\u003cbr\\u003eStation=POWL\\u003cbr\\u003eHour=%{x}\\u003cbr\\u003eTrip Count=%{y}\\u003cextra\\u003e\\u003c\\u002fextra\\u003e\",\"legendgroup\":\"Sunday\",\"line\":{\"color\":\"#109618\",\"dash\":\"solid\"},\"marker\":{\"symbol\":\"circle\"},\"mode\":\"lines\",\"name\":\"Sunday\",\"orientation\":\"v\",\"showlegend\":false,\"x\":[0,1,2,3,4,5,6,7,8,9,10,11,12,13,14,15,16,17,18,19,20,21,22,23],\"xaxis\":\"x2\",\"y\":[243.62264150943398,54.509433962264154,7.790697674418604,14.0,1.0,1.4,2.3,67.79245283018868,485.24528301886795,602.0188679245283,832.5849056603773,993.566037735849,1065.3396226415093,1033.7169811320755,1068.3584905660377,1048.6792452830189,1152.7358490566037,1241.0754716981132,1145.5849056603774,839.6792452830189,536.2830188679245,399.8679245283019,326.0377358490566,248.1320754716981],\"yaxis\":\"y2\",\"type\":\"scatter\"},{\"hovertemplate\":\"Day=Sunday\\u003cbr\\u003eStation=EMBR\\u003cbr\\u003eHour=%{x}\\u003cbr\\u003eTrip Count=%{y}\\u003cextra\\u003e\\u003c\\u002fextra\\u003e\",\"legendgroup\":\"Sunday\",\"line\":{\"color\":\"#109618\",\"dash\":\"solid\"},\"marker\":{\"symbol\":\"circle\"},\"mode\":\"lines\",\"name\":\"Sunday\",\"orientation\":\"v\",\"showlegend\":false,\"x\":[0,1,2,3,4,5,6,7,8,9,10,11,12,13,14,15,16,17,18,19,20,21,22,23],\"xaxis\":\"x3\",\"y\":[162.30188679245282,51.660377358490564,19.852941176470587,9.125,1.3333333333333333,1.4615384615384615,2.9722222222222223,66.41509433962264,316.8490566037736,445.37735849056605,637.433962264151,778.811320754717,815.7169811320755,683.5283018867924,670.0188679245283,647.0943396226415,701.0943396226415,793.4905660377359,661.0943396226415,484.0566037735849,368.1509433962264,290.24528301886795,200.77358490566039,142.0943396226415],\"yaxis\":\"y3\",\"type\":\"scatter\"},{\"hovertemplate\":\"Day=Sunday\\u003cbr\\u003eStation=CIVC\\u003cbr\\u003eHour=%{x}\\u003cbr\\u003eTrip Count=%{y}\\u003cextra\\u003e\\u003c\\u002fextra\\u003e\",\"legendgroup\":\"Sunday\",\"line\":{\"color\":\"#109618\",\"dash\":\"solid\"},\"marker\":{\"symbol\":\"circle\"},\"mode\":\"lines\",\"name\":\"Sunday\",\"orientation\":\"v\",\"showlegend\":false,\"x\":[0,1,2,3,4,5,6,7,8,9,10,11,12,13,14,15,16,17,18,19,20,21,22,23],\"xaxis\":\"x4\",\"y\":[200.71698113207546,53.113207547169814,7.0,11.4,1.0,1.0,1.6428571428571428,26.60377358490566,226.69811320754718,309.188679245283,405.54716981132077,536.1509433962265,691.0377358490566,661.4716981132076,588.5471698113207,582.2264150943396,648.9433962264151,633.5283018867924,543.1132075471698,399.0377358490566,276.3018867924528,230.66037735849056,203.24528301886792,172.33962264150944],\"yaxis\":\"y4\",\"type\":\"scatter\"},{\"hovertemplate\":\"Day=Thursday\\u003cbr\\u003eStation=MONT\\u003cbr\\u003eHour=%{x}\\u003cbr\\u003eTrip Count=%{y}\\u003cextra\\u003e\\u003c\\u002fextra\\u003e\",\"legendgroup\":\"Thursday\",\"line\":{\"color\":\"#990099\",\"dash\":\"solid\"},\"marker\":{\"symbol\":\"circle\"},\"mode\":\"lines\",\"name\":\"Thursday\",\"orientation\":\"v\",\"showlegend\":true,\"x\":[0,1,2,3,4,5,6,7,8,9,10,11,12,13,14,15,16,17,18,19,20,21,22,23],\"xaxis\":\"x\",\"y\":[112.26923076923077,30.5,2.4193548387096775,1.2857142857142858,3.1714285714285713,328.6078431372549,904.8039215686274,1985.3653846153845,3346.326923076923,2363.3653846153848,1138.1538461538462,814.3461538461538,727.8461538461538,719.9038461538462,920.1346153846154,1230.173076923077,1932.1923076923076,2985.4615384615386,2413.9423076923076,1232.4423076923076,642.4230769230769,393.63461538461536,354.03846153846155,256.21153846153845],\"yaxis\":\"y\",\"type\":\"scatter\"},{\"hovertemplate\":\"Day=Thursday\\u003cbr\\u003eStation=POWL\\u003cbr\\u003eHour=%{x}\\u003cbr\\u003eTrip Count=%{y}\\u003cextra\\u003e\\u003c\\u002fextra\\u003e\",\"legendgroup\":\"Thursday\",\"line\":{\"color\":\"#990099\",\"dash\":\"solid\"},\"marker\":{\"symbol\":\"circle\"},\"mode\":\"lines\",\"name\":\"Thursday\",\"orientation\":\"v\",\"showlegend\":false,\"x\":[0,1,2,3,4,5,6,7,8,9,10,11,12,13,14,15,16,17,18,19,20,21,22,23],\"xaxis\":\"x2\",\"y\":[159.01923076923077,27.98076923076923,2.9722222222222223,1.0,6.6521739130434785,251.66666666666666,701.0980392156863,1308.7692307692307,1647.75,1373.7307692307693,1033.2307692307693,941.5384615384615,967.9807692307693,1045.2115384615386,1186.8653846153845,1431.3653846153845,1923.7307692307693,2434.7884615384614,2073.653846153846,1328.75,822.5192307692307,562.0,547.5192307692307,464.40384615384613],\"yaxis\":\"y2\",\"type\":\"scatter\"},{\"hovertemplate\":\"Day=Thursday\\u003cbr\\u003eStation=EMBR\\u003cbr\\u003eHour=%{x}\\u003cbr\\u003eTrip Count=%{y}\\u003cextra\\u003e\\u003c\\u002fextra\\u003e\",\"legendgroup\":\"Thursday\",\"line\":{\"color\":\"#990099\",\"dash\":\"solid\"},\"marker\":{\"symbol\":\"circle\"},\"mode\":\"lines\",\"name\":\"Thursday\",\"orientation\":\"v\",\"showlegend\":false,\"x\":[0,1,2,3,4,5,6,7,8,9,10,11,12,13,14,15,16,17,18,19,20,21,22,23],\"xaxis\":\"x3\",\"y\":[116.03846153846153,22.96153846153846,1.8125,2.533333333333333,4.204081632653061,438.5686274509804,1231.0192307692307,2435.2115384615386,3856.6923076923076,2723.8653846153848,1314.173076923077,979.1538461538462,881.8653846153846,852.6538461538462,1150.6923076923076,1664.3076923076924,2554.846153846154,3567.1346153846152,2655.153846153846,1356.4423076923076,705.6346153846154,481.78846153846155,485.5192307692308,320.13461538461536],\"yaxis\":\"y3\",\"type\":\"scatter\"},{\"hovertemplate\":\"Day=Thursday\\u003cbr\\u003eStation=CIVC\\u003cbr\\u003eHour=%{x}\\u003cbr\\u003eTrip Count=%{y}\\u003cextra\\u003e\\u003c\\u002fextra\\u003e\",\"legendgroup\":\"Thursday\",\"line\":{\"color\":\"#990099\",\"dash\":\"solid\"},\"marker\":{\"symbol\":\"circle\"},\"mode\":\"lines\",\"name\":\"Thursday\",\"orientation\":\"v\",\"showlegend\":false,\"x\":[0,1,2,3,4,5,6,7,8,9,10,11,12,13,14,15,16,17,18,19,20,21,22,23],\"xaxis\":\"x4\",\"y\":[99.78846153846153,17.78846153846154,1.7037037037037037,1.25,3.5217391304347827,180.5686274509804,659.7884615384615,1464.2692307692307,1824.576923076923,1157.8076923076924,650.2884615384615,526.0384615384615,549.4423076923077,566.2884615384615,637.3846153846154,900.7692307692307,1452.2115384615386,2261.5,1708.5961538461538,877.4807692307693,476.15384615384613,315.1730769230769,382.21153846153845,275.0576923076923],\"yaxis\":\"y4\",\"type\":\"scatter\"},{\"hovertemplate\":\"Day=Tuesday\\u003cbr\\u003eStation=MONT\\u003cbr\\u003eHour=%{x}\\u003cbr\\u003eTrip Count=%{y}\\u003cextra\\u003e\\u003c\\u002fextra\\u003e\",\"legendgroup\":\"Tuesday\",\"line\":{\"color\":\"#0099C6\",\"dash\":\"solid\"},\"marker\":{\"symbol\":\"circle\"},\"mode\":\"lines\",\"name\":\"Tuesday\",\"orientation\":\"v\",\"showlegend\":true,\"x\":[0,1,2,3,4,5,6,7,8,9,10,11,12,13,14,15,16,17,18,19,20,21,22,23],\"xaxis\":\"x\",\"y\":[80.78846153846153,23.557692307692307,1.875,1.3333333333333333,3.6470588235294117,373.4423076923077,957.0,2164.25,3665.230769230769,2553.8076923076924,1119.7884615384614,730.25,642.9423076923077,666.9807692307693,884.9807692307693,1236.3076923076924,2007.5192307692307,3229.019230769231,2553.673076923077,1188.9038461538462,562.8653846153846,331.11538461538464,319.6730769230769,231.3653846153846],\"yaxis\":\"y\",\"type\":\"scatter\"},{\"hovertemplate\":\"Day=Tuesday\\u003cbr\\u003eStation=POWL\\u003cbr\\u003eHour=%{x}\\u003cbr\\u003eTrip Count=%{y}\\u003cextra\\u003e\\u003c\\u002fextra\\u003e\",\"legendgroup\":\"Tuesday\",\"line\":{\"color\":\"#0099C6\",\"dash\":\"solid\"},\"marker\":{\"symbol\":\"circle\"},\"mode\":\"lines\",\"name\":\"Tuesday\",\"orientation\":\"v\",\"showlegend\":false,\"x\":[0,1,2,3,4,5,6,7,8,9,10,11,12,13,14,15,16,17,18,19,20,21,22,23],\"xaxis\":\"x2\",\"y\":[111.23076923076923,19.23076923076923,2.0,1.0,4.1,266.5,720.2692307692307,1342.826923076923,1659.5384615384614,1378.5384615384614,984.9038461538462,870.8653846153846,875.8461538461538,981.0384615384615,1103.076923076923,1349.3846153846155,1808.1153846153845,2348.1346153846152,2002.0576923076924,1212.1538461538462,746.5192307692307,488.5,472.4423076923077,374.75],\"yaxis\":\"y2\",\"type\":\"scatter\"},{\"hovertemplate\":\"Day=Tuesday\\u003cbr\\u003eStation=EMBR\\u003cbr\\u003eHour=%{x}\\u003cbr\\u003eTrip Count=%{y}\\u003cextra\\u003e\\u003c\\u002fextra\\u003e\",\"legendgroup\":\"Tuesday\",\"line\":{\"color\":\"#0099C6\",\"dash\":\"solid\"},\"marker\":{\"symbol\":\"circle\"},\"mode\":\"lines\",\"name\":\"Tuesday\",\"orientation\":\"v\",\"showlegend\":false,\"x\":[0,1,2,3,4,5,6,7,8,9,10,11,12,13,14,15,16,17,18,19,20,21,22,23],\"xaxis\":\"x3\",\"y\":[90.5,16.115384615384617,1.7272727272727273,2.142857142857143,4.346153846153846,483.13461538461536,1294.2115384615386,2647.230769230769,4282.288461538462,2920.6923076923076,1243.0,846.6538461538462,732.8461538461538,789.4615384615385,1097.4615384615386,1633.7115384615386,2637.3653846153848,3885.7115384615386,2790.2884615384614,1310.0384615384614,640.7692307692307,412.25,446.40384615384613,307.9807692307692],\"yaxis\":\"y3\",\"type\":\"scatter\"},{\"hovertemplate\":\"Day=Tuesday\\u003cbr\\u003eStation=CIVC\\u003cbr\\u003eHour=%{x}\\u003cbr\\u003eTrip Count=%{y}\\u003cextra\\u003e\\u003c\\u002fextra\\u003e\",\"legendgroup\":\"Tuesday\",\"line\":{\"color\":\"#0099C6\",\"dash\":\"solid\"},\"marker\":{\"symbol\":\"circle\"},\"mode\":\"lines\",\"name\":\"Tuesday\",\"orientation\":\"v\",\"showlegend\":false,\"x\":[0,1,2,3,4,5,6,7,8,9,10,11,12,13,14,15,16,17,18,19,20,21,22,23],\"xaxis\":\"x4\",\"y\":[73.13461538461539,13.538461538461538,1.52,2.0,3.5348837209302326,190.92307692307693,717.0384615384615,1610.75,2001.2307692307693,1162.1923076923076,631.8653846153846,498.5,510.96153846153845,523.4423076923077,599.6346153846154,878.5769230769231,1517.923076923077,2400.3653846153848,1739.2307692307693,831.7115384615385,444.36538461538464,275.13461538461536,316.59615384615387,256.1923076923077],\"yaxis\":\"y4\",\"type\":\"scatter\"},{\"hovertemplate\":\"Day=Wednesday\\u003cbr\\u003eStation=MONT\\u003cbr\\u003eHour=%{x}\\u003cbr\\u003eTrip Count=%{y}\\u003cextra\\u003e\\u003c\\u002fextra\\u003e\",\"legendgroup\":\"Wednesday\",\"line\":{\"color\":\"#DD4477\",\"dash\":\"solid\"},\"marker\":{\"symbol\":\"circle\"},\"mode\":\"lines\",\"name\":\"Wednesday\",\"orientation\":\"v\",\"showlegend\":true,\"x\":[0,1,2,3,4,5,6,7,8,9,10,11,12,13,14,15,16,17,18,19,20,21,22,23],\"xaxis\":\"x\",\"y\":[107.86538461538461,27.51923076923077,1.6176470588235294,1.625,3.2222222222222223,362.1923076923077,962.4423076923077,2097.480769230769,3439.1923076923076,2385.096153846154,1113.826923076923,780.1153846153846,703.2115384615385,687.0961538461538,904.9230769230769,1237.9423076923076,1975.0961538461538,3068.423076923077,2343.2884615384614,1191.0576923076924,583.7307692307693,352.09615384615387,313.6923076923077,221.69230769230768],\"yaxis\":\"y\",\"type\":\"scatter\"},{\"hovertemplate\":\"Day=Wednesday\\u003cbr\\u003eStation=POWL\\u003cbr\\u003eHour=%{x}\\u003cbr\\u003eTrip Count=%{y}\\u003cextra\\u003e\\u003c\\u002fextra\\u003e\",\"legendgroup\":\"Wednesday\",\"line\":{\"color\":\"#DD4477\",\"dash\":\"solid\"},\"marker\":{\"symbol\":\"circle\"},\"mode\":\"lines\",\"name\":\"Wednesday\",\"orientation\":\"v\",\"showlegend\":false,\"x\":[0,1,2,3,4,5,6,7,8,9,10,11,12,13,14,15,16,17,18,19,20,21,22,23],\"xaxis\":\"x2\",\"y\":[142.55769230769232,23.51923076923077,2.6944444444444446,1.3333333333333333,4.068965517241379,260.6730769230769,722.9615384615385,1350.4807692307693,1639.0,1386.3653846153845,1057.7692307692307,980.6346153846154,1012.8461538461538,983.8846153846154,1162.9615384615386,1403.1346153846155,1968.5961538461538,2427.9615384615386,2026.4615384615386,1273.7307692307693,764.0576923076923,508.11538461538464,497.90384615384613,400.25],\"yaxis\":\"y2\",\"type\":\"scatter\"},{\"hovertemplate\":\"Day=Wednesday\\u003cbr\\u003eStation=EMBR\\u003cbr\\u003eHour=%{x}\\u003cbr\\u003eTrip Count=%{y}\\u003cextra\\u003e\\u003c\\u002fextra\\u003e\",\"legendgroup\":\"Wednesday\",\"line\":{\"color\":\"#DD4477\",\"dash\":\"solid\"},\"marker\":{\"symbol\":\"circle\"},\"mode\":\"lines\",\"name\":\"Wednesday\",\"orientation\":\"v\",\"showlegend\":false,\"x\":[0,1,2,3,4,5,6,7,8,9,10,11,12,13,14,15,16,17,18,19,20,21,22,23],\"xaxis\":\"x3\",\"y\":[109.88461538461539,19.634615384615383,1.7575757575757576,2.769230769230769,4.0212765957446805,479.1923076923077,1317.5,2593.8653846153848,4106.884615384615,2849.25,1307.5192307692307,1000.4230769230769,860.0384615384615,823.4615384615385,1133.576923076923,1707.4615384615386,2685.326923076923,3831.5,2690.923076923077,1351.0576923076924,696.8461538461538,443.9807692307692,419.3076923076923,291.0769230769231],\"yaxis\":\"y3\",\"type\":\"scatter\"},{\"hovertemplate\":\"Day=Wednesday\\u003cbr\\u003eStation=CIVC\\u003cbr\\u003eHour=%{x}\\u003cbr\\u003eTrip Count=%{y}\\u003cextra\\u003e\\u003c\\u002fextra\\u003e\",\"legendgroup\":\"Wednesday\",\"line\":{\"color\":\"#DD4477\",\"dash\":\"solid\"},\"marker\":{\"symbol\":\"circle\"},\"mode\":\"lines\",\"name\":\"Wednesday\",\"orientation\":\"v\",\"showlegend\":false,\"x\":[0,1,2,3,4,5,6,7,8,9,10,11,12,13,14,15,16,17,18,19,20,21,22,23],\"xaxis\":\"x4\",\"y\":[102.59615384615384,15.846153846153847,2.2857142857142856,2.2,3.076923076923077,202.0,724.4615384615385,1653.1346153846155,2003.7115384615386,1199.4807692307693,704.5961538461538,598.7692307692307,684.3269230769231,569.0192307692307,654.2692307692307,970.2307692307693,1635.076923076923,2412.173076923077,1670.4807692307693,835.5576923076923,458.86538461538464,291.28846153846155,327.46153846153845,233.92307692307693],\"yaxis\":\"y4\",\"type\":\"scatter\"}],                        {\"template\":{\"data\":{\"histogram2dcontour\":[{\"type\":\"histogram2dcontour\",\"colorbar\":{\"outlinewidth\":0,\"ticks\":\"\"},\"colorscale\":[[0.0,\"#0d0887\"],[0.1111111111111111,\"#46039f\"],[0.2222222222222222,\"#7201a8\"],[0.3333333333333333,\"#9c179e\"],[0.4444444444444444,\"#bd3786\"],[0.5555555555555556,\"#d8576b\"],[0.6666666666666666,\"#ed7953\"],[0.7777777777777778,\"#fb9f3a\"],[0.8888888888888888,\"#fdca26\"],[1.0,\"#f0f921\"]]}],\"choropleth\":[{\"type\":\"choropleth\",\"colorbar\":{\"outlinewidth\":0,\"ticks\":\"\"}}],\"histogram2d\":[{\"type\":\"histogram2d\",\"colorbar\":{\"outlinewidth\":0,\"ticks\":\"\"},\"colorscale\":[[0.0,\"#0d0887\"],[0.1111111111111111,\"#46039f\"],[0.2222222222222222,\"#7201a8\"],[0.3333333333333333,\"#9c179e\"],[0.4444444444444444,\"#bd3786\"],[0.5555555555555556,\"#d8576b\"],[0.6666666666666666,\"#ed7953\"],[0.7777777777777778,\"#fb9f3a\"],[0.8888888888888888,\"#fdca26\"],[1.0,\"#f0f921\"]]}],\"heatmap\":[{\"type\":\"heatmap\",\"colorbar\":{\"outlinewidth\":0,\"ticks\":\"\"},\"colorscale\":[[0.0,\"#0d0887\"],[0.1111111111111111,\"#46039f\"],[0.2222222222222222,\"#7201a8\"],[0.3333333333333333,\"#9c179e\"],[0.4444444444444444,\"#bd3786\"],[0.5555555555555556,\"#d8576b\"],[0.6666666666666666,\"#ed7953\"],[0.7777777777777778,\"#fb9f3a\"],[0.8888888888888888,\"#fdca26\"],[1.0,\"#f0f921\"]]}],\"heatmapgl\":[{\"type\":\"heatmapgl\",\"colorbar\":{\"outlinewidth\":0,\"ticks\":\"\"},\"colorscale\":[[0.0,\"#0d0887\"],[0.1111111111111111,\"#46039f\"],[0.2222222222222222,\"#7201a8\"],[0.3333333333333333,\"#9c179e\"],[0.4444444444444444,\"#bd3786\"],[0.5555555555555556,\"#d8576b\"],[0.6666666666666666,\"#ed7953\"],[0.7777777777777778,\"#fb9f3a\"],[0.8888888888888888,\"#fdca26\"],[1.0,\"#f0f921\"]]}],\"contourcarpet\":[{\"type\":\"contourcarpet\",\"colorbar\":{\"outlinewidth\":0,\"ticks\":\"\"}}],\"contour\":[{\"type\":\"contour\",\"colorbar\":{\"outlinewidth\":0,\"ticks\":\"\"},\"colorscale\":[[0.0,\"#0d0887\"],[0.1111111111111111,\"#46039f\"],[0.2222222222222222,\"#7201a8\"],[0.3333333333333333,\"#9c179e\"],[0.4444444444444444,\"#bd3786\"],[0.5555555555555556,\"#d8576b\"],[0.6666666666666666,\"#ed7953\"],[0.7777777777777778,\"#fb9f3a\"],[0.8888888888888888,\"#fdca26\"],[1.0,\"#f0f921\"]]}],\"surface\":[{\"type\":\"surface\",\"colorbar\":{\"outlinewidth\":0,\"ticks\":\"\"},\"colorscale\":[[0.0,\"#0d0887\"],[0.1111111111111111,\"#46039f\"],[0.2222222222222222,\"#7201a8\"],[0.3333333333333333,\"#9c179e\"],[0.4444444444444444,\"#bd3786\"],[0.5555555555555556,\"#d8576b\"],[0.6666666666666666,\"#ed7953\"],[0.7777777777777778,\"#fb9f3a\"],[0.8888888888888888,\"#fdca26\"],[1.0,\"#f0f921\"]]}],\"mesh3d\":[{\"type\":\"mesh3d\",\"colorbar\":{\"outlinewidth\":0,\"ticks\":\"\"}}],\"scatter\":[{\"fillpattern\":{\"fillmode\":\"overlay\",\"size\":10,\"solidity\":0.2},\"type\":\"scatter\"}],\"parcoords\":[{\"type\":\"parcoords\",\"line\":{\"colorbar\":{\"outlinewidth\":0,\"ticks\":\"\"}}}],\"scatterpolargl\":[{\"type\":\"scatterpolargl\",\"marker\":{\"colorbar\":{\"outlinewidth\":0,\"ticks\":\"\"}}}],\"bar\":[{\"error_x\":{\"color\":\"#2a3f5f\"},\"error_y\":{\"color\":\"#2a3f5f\"},\"marker\":{\"line\":{\"color\":\"#E5ECF6\",\"width\":0.5},\"pattern\":{\"fillmode\":\"overlay\",\"size\":10,\"solidity\":0.2}},\"type\":\"bar\"}],\"scattergeo\":[{\"type\":\"scattergeo\",\"marker\":{\"colorbar\":{\"outlinewidth\":0,\"ticks\":\"\"}}}],\"scatterpolar\":[{\"type\":\"scatterpolar\",\"marker\":{\"colorbar\":{\"outlinewidth\":0,\"ticks\":\"\"}}}],\"histogram\":[{\"marker\":{\"pattern\":{\"fillmode\":\"overlay\",\"size\":10,\"solidity\":0.2}},\"type\":\"histogram\"}],\"scattergl\":[{\"type\":\"scattergl\",\"marker\":{\"colorbar\":{\"outlinewidth\":0,\"ticks\":\"\"}}}],\"scatter3d\":[{\"type\":\"scatter3d\",\"line\":{\"colorbar\":{\"outlinewidth\":0,\"ticks\":\"\"}},\"marker\":{\"colorbar\":{\"outlinewidth\":0,\"ticks\":\"\"}}}],\"scattermapbox\":[{\"type\":\"scattermapbox\",\"marker\":{\"colorbar\":{\"outlinewidth\":0,\"ticks\":\"\"}}}],\"scatterternary\":[{\"type\":\"scatterternary\",\"marker\":{\"colorbar\":{\"outlinewidth\":0,\"ticks\":\"\"}}}],\"scattercarpet\":[{\"type\":\"scattercarpet\",\"marker\":{\"colorbar\":{\"outlinewidth\":0,\"ticks\":\"\"}}}],\"carpet\":[{\"aaxis\":{\"endlinecolor\":\"#2a3f5f\",\"gridcolor\":\"white\",\"linecolor\":\"white\",\"minorgridcolor\":\"white\",\"startlinecolor\":\"#2a3f5f\"},\"baxis\":{\"endlinecolor\":\"#2a3f5f\",\"gridcolor\":\"white\",\"linecolor\":\"white\",\"minorgridcolor\":\"white\",\"startlinecolor\":\"#2a3f5f\"},\"type\":\"carpet\"}],\"table\":[{\"cells\":{\"fill\":{\"color\":\"#EBF0F8\"},\"line\":{\"color\":\"white\"}},\"header\":{\"fill\":{\"color\":\"#C8D4E3\"},\"line\":{\"color\":\"white\"}},\"type\":\"table\"}],\"barpolar\":[{\"marker\":{\"line\":{\"color\":\"#E5ECF6\",\"width\":0.5},\"pattern\":{\"fillmode\":\"overlay\",\"size\":10,\"solidity\":0.2}},\"type\":\"barpolar\"}],\"pie\":[{\"automargin\":true,\"type\":\"pie\"}]},\"layout\":{\"autotypenumbers\":\"strict\",\"colorway\":[\"#636efa\",\"#EF553B\",\"#00cc96\",\"#ab63fa\",\"#FFA15A\",\"#19d3f3\",\"#FF6692\",\"#B6E880\",\"#FF97FF\",\"#FECB52\"],\"font\":{\"color\":\"#2a3f5f\"},\"hovermode\":\"closest\",\"hoverlabel\":{\"align\":\"left\"},\"paper_bgcolor\":\"white\",\"plot_bgcolor\":\"#E5ECF6\",\"polar\":{\"bgcolor\":\"#E5ECF6\",\"angularaxis\":{\"gridcolor\":\"white\",\"linecolor\":\"white\",\"ticks\":\"\"},\"radialaxis\":{\"gridcolor\":\"white\",\"linecolor\":\"white\",\"ticks\":\"\"}},\"ternary\":{\"bgcolor\":\"#E5ECF6\",\"aaxis\":{\"gridcolor\":\"white\",\"linecolor\":\"white\",\"ticks\":\"\"},\"baxis\":{\"gridcolor\":\"white\",\"linecolor\":\"white\",\"ticks\":\"\"},\"caxis\":{\"gridcolor\":\"white\",\"linecolor\":\"white\",\"ticks\":\"\"}},\"coloraxis\":{\"colorbar\":{\"outlinewidth\":0,\"ticks\":\"\"}},\"colorscale\":{\"sequential\":[[0.0,\"#0d0887\"],[0.1111111111111111,\"#46039f\"],[0.2222222222222222,\"#7201a8\"],[0.3333333333333333,\"#9c179e\"],[0.4444444444444444,\"#bd3786\"],[0.5555555555555556,\"#d8576b\"],[0.6666666666666666,\"#ed7953\"],[0.7777777777777778,\"#fb9f3a\"],[0.8888888888888888,\"#fdca26\"],[1.0,\"#f0f921\"]],\"sequentialminus\":[[0.0,\"#0d0887\"],[0.1111111111111111,\"#46039f\"],[0.2222222222222222,\"#7201a8\"],[0.3333333333333333,\"#9c179e\"],[0.4444444444444444,\"#bd3786\"],[0.5555555555555556,\"#d8576b\"],[0.6666666666666666,\"#ed7953\"],[0.7777777777777778,\"#fb9f3a\"],[0.8888888888888888,\"#fdca26\"],[1.0,\"#f0f921\"]],\"diverging\":[[0,\"#8e0152\"],[0.1,\"#c51b7d\"],[0.2,\"#de77ae\"],[0.3,\"#f1b6da\"],[0.4,\"#fde0ef\"],[0.5,\"#f7f7f7\"],[0.6,\"#e6f5d0\"],[0.7,\"#b8e186\"],[0.8,\"#7fbc41\"],[0.9,\"#4d9221\"],[1,\"#276419\"]]},\"xaxis\":{\"gridcolor\":\"white\",\"linecolor\":\"white\",\"ticks\":\"\",\"title\":{\"standoff\":15},\"zerolinecolor\":\"white\",\"automargin\":true,\"zerolinewidth\":2},\"yaxis\":{\"gridcolor\":\"white\",\"linecolor\":\"white\",\"ticks\":\"\",\"title\":{\"standoff\":15},\"zerolinecolor\":\"white\",\"automargin\":true,\"zerolinewidth\":2},\"scene\":{\"xaxis\":{\"backgroundcolor\":\"#E5ECF6\",\"gridcolor\":\"white\",\"linecolor\":\"white\",\"showbackground\":true,\"ticks\":\"\",\"zerolinecolor\":\"white\",\"gridwidth\":2},\"yaxis\":{\"backgroundcolor\":\"#E5ECF6\",\"gridcolor\":\"white\",\"linecolor\":\"white\",\"showbackground\":true,\"ticks\":\"\",\"zerolinecolor\":\"white\",\"gridwidth\":2},\"zaxis\":{\"backgroundcolor\":\"#E5ECF6\",\"gridcolor\":\"white\",\"linecolor\":\"white\",\"showbackground\":true,\"ticks\":\"\",\"zerolinecolor\":\"white\",\"gridwidth\":2}},\"shapedefaults\":{\"line\":{\"color\":\"#2a3f5f\"}},\"annotationdefaults\":{\"arrowcolor\":\"#2a3f5f\",\"arrowhead\":0,\"arrowwidth\":1},\"geo\":{\"bgcolor\":\"white\",\"landcolor\":\"#E5ECF6\",\"subunitcolor\":\"white\",\"showland\":true,\"showlakes\":true,\"lakecolor\":\"white\"},\"title\":{\"x\":0.05},\"mapbox\":{\"style\":\"light\"}}},\"xaxis\":{\"anchor\":\"y\",\"domain\":[0.0,0.235],\"title\":{\"text\":\"Hour\"}},\"yaxis\":{\"anchor\":\"x\",\"domain\":[0.0,1.0],\"title\":{\"text\":\"Trip Count\"}},\"xaxis2\":{\"anchor\":\"y2\",\"domain\":[0.255,0.49],\"matches\":\"x\",\"title\":{\"text\":\"Hour\"}},\"yaxis2\":{\"anchor\":\"x2\",\"domain\":[0.0,1.0],\"matches\":\"y\",\"showticklabels\":false},\"xaxis3\":{\"anchor\":\"y3\",\"domain\":[0.51,0.745],\"matches\":\"x\",\"title\":{\"text\":\"Hour\"}},\"yaxis3\":{\"anchor\":\"x3\",\"domain\":[0.0,1.0],\"matches\":\"y\",\"showticklabels\":false},\"xaxis4\":{\"anchor\":\"y4\",\"domain\":[0.7649999999999999,0.9999999999999999],\"matches\":\"x\",\"title\":{\"text\":\"Hour\"}},\"yaxis4\":{\"anchor\":\"x4\",\"domain\":[0.0,1.0],\"matches\":\"y\",\"showticklabels\":false},\"annotations\":[{\"font\":{},\"showarrow\":false,\"text\":\"MONT\",\"x\":0.1175,\"xanchor\":\"center\",\"xref\":\"paper\",\"y\":1.0,\"yanchor\":\"bottom\",\"yref\":\"paper\"},{\"font\":{},\"showarrow\":false,\"text\":\"POWL\",\"x\":0.3725,\"xanchor\":\"center\",\"xref\":\"paper\",\"y\":1.0,\"yanchor\":\"bottom\",\"yref\":\"paper\"},{\"font\":{},\"showarrow\":false,\"text\":\"EMBR\",\"x\":0.6275,\"xanchor\":\"center\",\"xref\":\"paper\",\"y\":1.0,\"yanchor\":\"bottom\",\"yref\":\"paper\"},{\"font\":{},\"showarrow\":false,\"text\":\"CIVC\",\"x\":0.8824999999999998,\"xanchor\":\"center\",\"xref\":\"paper\",\"y\":1.0,\"yanchor\":\"bottom\",\"yref\":\"paper\"}],\"legend\":{\"title\":{\"text\":\"Day\"},\"tracegroupgap\":0},\"title\":{\"text\":\"2022 SF Downtown Hourly Ridership\"},\"height\":350,\"width\":900,\"showlegend\":false},                        {\"responsive\": true}                    ).then(function(){\n",
       "                            \n",
       "var gd = document.getElementById('43cbe573-9e44-4d16-b581-49ecef355daf');\n",
       "var x = new MutationObserver(function (mutations, observer) {{\n",
       "        var display = window.getComputedStyle(gd).display;\n",
       "        if (!display || display === 'none') {{\n",
       "            console.log([gd, 'removed!']);\n",
       "            Plotly.purge(gd);\n",
       "            observer.disconnect();\n",
       "        }}\n",
       "}});\n",
       "\n",
       "// Listen for the removal of the full notebook cells\n",
       "var notebookContainer = gd.closest('#notebook-container');\n",
       "if (notebookContainer) {{\n",
       "    x.observe(notebookContainer, {childList: true});\n",
       "}}\n",
       "\n",
       "// Listen for the clearing of the current output cell\n",
       "var outputEl = gd.closest('.output');\n",
       "if (outputEl) {{\n",
       "    x.observe(outputEl, {childList: true});\n",
       "}}\n",
       "\n",
       "                        })                };                });            </script>        </div>"
      ]
     },
     "metadata": {},
     "output_type": "display_data"
    }
   ],
   "source": [
    "#2022, station, hour, avg trips per hour, SF Downtown\n",
    "all_line2022 = px.line(all2[all2['Year']=='2022'], x=\"Hour\", y=\"Trip Count\", \n",
    "                    color='Day', color_discrete_sequence=px.colors.qualitative.G10, facet_col = 'Station', \n",
    "                       title = \"2022 SF Downtown Hourly Ridership\",width=900, height=350)\n",
    "all_line2022.for_each_annotation(lambda a: a.update(text=a.text.split(\"=\")[-1]))\n",
    "all_line2022.update_layout(showlegend = False)\n",
    "all_line2022.show()\n",
    "all_line2022.write_image(\"images/all_line2022.png\")\n",
    "all_line2022.write_html(\"images/all_line2022.html\")\n",
    "all_line2022.write_image(\"images/all_line2022.svg\")"
   ]
  },
  {
   "cell_type": "code",
   "execution_count": 587,
   "id": "ff07a252-a8d2-4120-9826-2f100358f42b",
   "metadata": {},
   "outputs": [
    {
     "data": {
      "text/plain": [
       "Year  Station\n",
       "2019  CIVC       0.122205\n",
       "      EMBR       0.084036\n",
       "      MONT       0.063577\n",
       "      POWL       0.191510\n",
       "2022  CIVC       0.170480\n",
       "      EMBR       0.137544\n",
       "      MONT       0.115254\n",
       "      POWL       0.232319\n",
       "Name: Trip Count, dtype: float64"
      ]
     },
     "execution_count": 587,
     "metadata": {},
     "output_type": "execute_result"
    }
   ],
   "source": [
    "#Weekend percentage of total volume\n",
    "day_2022_2019 = (all2.groupby(['Year','Station','Day'])['Trip Count'].sum()/\\\n",
    "all2.groupby(['Year','Station','Day'])['Trip Count'].sum().reset_index().groupby(['Year','Station'])['Trip Count'].sum()).reset_index()\n",
    "day_2022_2019[day_2022_2019['Day'].isin(['Saturday','Sunday'])].groupby(['Year','Station'])['Trip Count'].sum()"
   ]
  },
  {
   "cell_type": "code",
   "execution_count": 595,
   "id": "8c679282",
   "metadata": {},
   "outputs": [
    {
     "data": {
      "text/plain": [
       "Year  Station\n",
       "2019  CIVC      -0.877795\n",
       "      EMBR      -0.915964\n",
       "      MONT      -0.936423\n",
       "      POWL      -0.808490\n",
       "2022  CIVC      -0.829520\n",
       "      EMBR      -0.862456\n",
       "      MONT      -0.884746\n",
       "      POWL      -0.767681\n",
       "Name: Trip Count, dtype: float64"
      ]
     },
     "execution_count": 595,
     "metadata": {},
     "output_type": "execute_result"
    }
   ],
   "source": [
    "#Weekday percentage of total volume\n",
    "day_2022_2019 = (all2.groupby(['Year','Station','Day'])['Trip Count'].sum()/\\\n",
    "all2.groupby(['Year','Station','Day'])['Trip Count'].sum().reset_index().groupby(['Year','Station'])['Trip Count'].sum()).reset_index()\n",
    "day_2022_2019[day_2022_2019['Day'].isin(['Saturday','Sunday'])].groupby(['Year','Station'])['Trip Count'].sum()-1"
   ]
  },
  {
   "cell_type": "code",
   "execution_count": 610,
   "id": "b5ae23d4-cae9-4dce-9be8-01e1ca11df08",
   "metadata": {},
   "outputs": [
    {
     "data": {
      "text/plain": [
       "0.5074835601996338"
      ]
     },
     "execution_count": 610,
     "metadata": {},
     "output_type": "execute_result"
    }
   ],
   "source": [
    "#Powell weekend bounceback\n",
    "all2.groupby(['Year','Station','Day'])['Trip Count'].sum().reset_index()[(all2.groupby(['Year','Station','Day'])['Trip Count'].sum().reset_index()\\\n",
    "['Station'] == 'POWL') & (all2.groupby(['Year','Station','Day'])['Trip Count'].sum().reset_index()\\\n",
    "['Day'].isin(['Saturday','Sunday']))].groupby(['Year','Station'])['Trip Count'].sum().reset_index().loc[1,'Trip Count']/all2.groupby(['Year','Station','Day'])['Trip Count'].sum().reset_index()[(all2.groupby(['Year','Station','Day'])['Trip Count'].sum().reset_index()\\\n",
    "['Station'] == 'POWL') & (all2.groupby(['Year','Station','Day'])['Trip Count'].sum().reset_index()\\\n",
    "['Day'].isin(['Saturday','Sunday']))].groupby(['Year','Station'])['Trip Count'].sum().reset_index().loc[0,'Trip Count']"
   ]
  }
 ],
 "metadata": {
  "kernelspec": {
   "display_name": "Python 3 (ipykernel)",
   "language": "python",
   "name": "python3"
  },
  "language_info": {
   "codemirror_mode": {
    "name": "ipython",
    "version": 3
   },
   "file_extension": ".py",
   "mimetype": "text/x-python",
   "name": "python",
   "nbconvert_exporter": "python",
   "pygments_lexer": "ipython3",
   "version": "3.11.5"
  }
 },
 "nbformat": 4,
 "nbformat_minor": 5
}
